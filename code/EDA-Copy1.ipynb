{
 "cells": [
  {
   "cell_type": "markdown",
   "metadata": {},
   "source": [
    "# NYC 311 Requests -  Exploratory Data Analysis\n",
    "### Danielle Medellin\n"
   ]
  },
  {
   "cell_type": "markdown",
   "metadata": {},
   "source": [
    "## Problem Statement"
   ]
  },
  {
   "cell_type": "markdown",
   "metadata": {},
   "source": [
    "According to the NYC311 online portal, \"a Service Request is your request for the City to provide you with assistance, perform an inspection, or address a problem. NYC311 can accept Service Requests for a wide range of issues, including over 500 complaint types. Service Requests can help you get a pothole fixed in your neighborhood, the heat turned on in your apartment, or a refund for an overpaid parking ticket.\" Due to the fact that there are so many different reasons for submitting service requests to 311, all with a wide range of urgency and importance, it can be difficult to gauge how long it will take for a request to actually get resolved.\n",
    "\n",
    "\n",
    "The NYC 311 receives millions of requests a year! In fact, in 2018 they received 3,154,013 service requests! [Source](https://www1.nyc.gov/311/311-sets-new-record-in-2018.page)\n",
    "\n",
    "A citizen can submit a 311 request in various ways including by phone, online, or using mobile. If they do so with an email or a phone number, they will get a confirmation message which includes the details of the request. What is not included in this confirmation, is expected wait time until the request will be resolved and closed. Obviously, there are many factors that can affect one's wait time, but given the amount of 311 requests received, it should be possible to find trends in the wait times of these requests and give citizens, at the minimum, an estimate of how long they can expect to wait until their request is resolved. \n",
    "\n",
    "Our goal is to build a regression model that will predict the wait time a citizen can expect given the factors of their request. Our model's success will be measured with root-mean squared error (RMSE). \n",
    "\n",
    "Additionally, we hope to build an applet protoype that mimics what inputting a service request might look like, and in addition to just getting a description of the request, the app will also return an estimated wait time for the request to be closed."
   ]
  },
  {
   "cell_type": "markdown",
   "metadata": {},
   "source": [
    "## Executive Summary"
   ]
  },
  {
   "cell_type": "markdown",
   "metadata": {},
   "source": [
    "## Data Dictionary"
   ]
  },
  {
   "cell_type": "markdown",
   "metadata": {},
   "source": [
    "|Feature|Type|Description|\n",
    "|---|:---:|:---|\n",
    "|unique_key|int|Unique identifier of a Service Request (SR) in the open data set|\n",
    "|created_date|datetime|Date and time when SR was submitted|\n",
    "|closed_date|datetime|Date and time when SR was resolved and closed|\n",
    "|agency|object|Acronym for agency which responds to the SR|\n",
    "|agency_name|object|Which agency responds to the SR|\n",
    "|complaint_type|object|The first level of a hierarchy identifying the topic of the incident or condition. Complaint Type may have a corresponding Descriptor or may stand alone.|\n",
    "|descriptor|object|Associated to the Complaint Type, and provides further detail on the incident or condition. Descriptor values are dependent on the Complaint Type, and are not always required in SR.|\n",
    "|location_type|object|Describes the type of location used in the address information|\n",
    "|status|object|Status of SR at time of data collection. For the purpose of this project, only entries with status 'Closed' were collected|\n",
    "|borough|object|Name of borough|\n",
    "|open_data_channel_type|object|Indicates how the SR was submitted to 311.  i.e. By Phone, Online, Mobile, Other or Unknown|\n",
    "|resolution_description|object|Describes the last action taken on the SR by the responding agency.  May describe next or future steps|\n",
    "|resolution_action_updated_date|datetime|Date when responding agency last updated SR|\n",
    "|latitude|float|Latitude in decimal degrees|\n",
    "|longitude|float|Longitude in decimal degrees|\n",
    "|waittime|float|Time elapsed from created date to closed date in days|"
   ]
  },
  {
   "cell_type": "markdown",
   "metadata": {},
   "source": [
    "Data dictionary adapted from [original dataset](https://data.cityofnewyork.us/Social-Services/311-Service-Requests-from-2010-to-Present/erm2-nwe9).  As explained in the `data_gathering_311` notebook, we collected data from the 311 NYC Open Data API. In order to better serve our purpose and our model, we decided to search specifically for requests that were already closed, and all requests were responded to by the NYPD. Specific details of each column/feature in the data set can be found above. "
   ]
  },
  {
   "cell_type": "markdown",
   "metadata": {},
   "source": [
    "## Table of Contents\n",
    "\n",
    "- [Import Libraries](#Library-Imports)  \n",
    "- [Load Data](#Import-Data)  \n",
    "- [Data Cleaning](#Data-Cleaning)  \n",
    "    - [Null Values](#Checking-for-null-values)  \n",
    "    - [Wait Time](#Checking-waittime)  \n",
    "- [Exploratory Data Analysis](#Exploratory-Data-Analysis)\n",
    "    - [k-Modes](#k-Modes) **FIX THIS**"
   ]
  },
  {
   "cell_type": "markdown",
   "metadata": {},
   "source": [
    "## Library Imports"
   ]
  },
  {
   "cell_type": "code",
   "execution_count": 85,
   "metadata": {},
   "outputs": [
    {
     "name": "stdout",
     "output_type": "stream",
     "text": [
      "Collecting kmodes\n",
      "  Downloading kmodes-0.10.2-py2.py3-none-any.whl (18 kB)\n",
      "Requirement already satisfied: numpy>=1.10.4 in /opt/anaconda3/envs/dsi/lib/python3.7/site-packages (from kmodes) (1.18.2)\n",
      "Requirement already satisfied: scipy>=0.13.3 in /opt/anaconda3/envs/dsi/lib/python3.7/site-packages (from kmodes) (1.4.1)\n",
      "Requirement already satisfied: scikit-learn>=0.19.0 in /opt/anaconda3/envs/dsi/lib/python3.7/site-packages (from kmodes) (0.22.1)\n",
      "Requirement already satisfied: joblib>=0.11 in /opt/anaconda3/envs/dsi/lib/python3.7/site-packages (from kmodes) (0.15.1)\n",
      "Installing collected packages: kmodes\n",
      "Successfully installed kmodes-0.10.2\n"
     ]
    }
   ],
   "source": [
    "# if not already installed\n",
    "# !pip install kmodes"
   ]
  },
  {
   "cell_type": "code",
   "execution_count": 430,
   "metadata": {},
   "outputs": [],
   "source": [
    "import pandas as pd\n",
    "import numpy as np\n",
    "import seaborn as sns\n",
    "import matplotlib.pyplot as plt\n",
    "from sklearn.model_selection import train_test_split, cross_val_score, GridSearchCV\n",
    "from kmodes.kmodes import KModes\n",
    "import statsmodels.api as sm \n",
    "from sklearn.dummy import DummyRegressor\n",
    "from sklearn.metrics import mean_squared_error, make_scorer\n",
    "from sklearn.linear_model import LinearRegression, Lasso, LassoCV\n",
    "import statsmodels.formula.api as smf\n",
    "from sklearn.ensemble import BaggingRegressor, RandomForestRegressor, AdaBoostRegressor\n",
    "from sklearn.tree import DecisionTreeRegressor\n",
    "\n",
    "from statsmodels.tsa.stattools import acf, pacf\n",
    "from statsmodels.graphics.tsaplots import plot_acf, plot_pacf\n",
    "from statsmodels.tsa.arima_model import ARIMA\n",
    "from statsmodels.tsa.stattools import adfuller\n",
    "\n",
    "import pickle\n",
    "\n",
    "# for reproducibility \n",
    "RANDOM_STATE = 11714"
   ]
  },
  {
   "cell_type": "markdown",
   "metadata": {},
   "source": [
    "## Import Data"
   ]
  },
  {
   "cell_type": "code",
   "execution_count": 4,
   "metadata": {},
   "outputs": [],
   "source": [
    "original = pd.read_csv('../data/service_request.csv')"
   ]
  },
  {
   "cell_type": "markdown",
   "metadata": {},
   "source": [
    "### Creating Training and Validation Sets"
   ]
  },
  {
   "cell_type": "code",
   "execution_count": 5,
   "metadata": {},
   "outputs": [],
   "source": [
    "sr, val = train_test_split(original, test_size = .1, random_state = RANDOM_STATE)"
   ]
  },
  {
   "cell_type": "code",
   "execution_count": 4,
   "metadata": {},
   "outputs": [
    {
     "data": {
      "text/plain": [
       "(540000, 32)"
      ]
     },
     "execution_count": 4,
     "metadata": {},
     "output_type": "execute_result"
    }
   ],
   "source": [
    "sr.shape"
   ]
  },
  {
   "cell_type": "code",
   "execution_count": 5,
   "metadata": {},
   "outputs": [
    {
     "data": {
      "text/plain": [
       "(60000, 32)"
      ]
     },
     "execution_count": 5,
     "metadata": {},
     "output_type": "execute_result"
    }
   ],
   "source": [
    "val.shape"
   ]
  },
  {
   "cell_type": "markdown",
   "metadata": {},
   "source": [
    "In an effort to see how our model works on completely new data, we created a validation (or holdout) set of data. We used only 10% of the data for this validation set, as it is an extra step of measuring our model's success. We will clean this data set in the same ways we clean our training data set, but will not perform any EDA on the validation set."
   ]
  },
  {
   "cell_type": "markdown",
   "metadata": {},
   "source": [
    "## Data Cleaning"
   ]
  },
  {
   "cell_type": "code",
   "execution_count": 7,
   "metadata": {},
   "outputs": [
    {
     "data": {
      "text/plain": [
       "(540000, 32)"
      ]
     },
     "execution_count": 7,
     "metadata": {},
     "output_type": "execute_result"
    }
   ],
   "source": [
    "sr.shape"
   ]
  },
  {
   "cell_type": "markdown",
   "metadata": {},
   "source": [
    "After splitting our data into a validation set, we have 540,000 observations and 32 features. "
   ]
  },
  {
   "cell_type": "code",
   "execution_count": 8,
   "metadata": {},
   "outputs": [
    {
     "data": {
      "text/plain": [
       "unique_key                          int64\n",
       "created_date                       object\n",
       "closed_date                        object\n",
       "agency                             object\n",
       "agency_name                        object\n",
       "complaint_type                     object\n",
       "descriptor                         object\n",
       "location_type                      object\n",
       "status                             object\n",
       "community_board                    object\n",
       "borough                            object\n",
       "open_data_channel_type             object\n",
       "park_facility_name                 object\n",
       "park_borough                       object\n",
       "incident_zip                      float64\n",
       "incident_address                   object\n",
       "street_name                        object\n",
       "cross_street_1                     object\n",
       "cross_street_2                     object\n",
       "intersection_street_1              object\n",
       "intersection_street_2              object\n",
       "city                               object\n",
       "landmark                           object\n",
       "bbl                               float64\n",
       "x_coordinate_state_plane          float64\n",
       "y_coordinate_state_plane          float64\n",
       "latitude                          float64\n",
       "longitude                         float64\n",
       "location                           object\n",
       "resolution_description             object\n",
       "resolution_action_updated_date     object\n",
       "waittime                          float64\n",
       "dtype: object"
      ]
     },
     "execution_count": 8,
     "metadata": {},
     "output_type": "execute_result"
    }
   ],
   "source": [
    "sr.dtypes"
   ]
  },
  {
   "cell_type": "markdown",
   "metadata": {},
   "source": [
    "As seen above we have many features, some of which will not be helpful to us or we will not use. For example, anything pertaining to a _specific_ address or location will not be used such as `incident_address` or `incident_zip` as these factors can often be indicators of other features such as race or socioeconomic status. Instead, we will simply keep `borough` as it is a large enough bucket with diverse populations. We will keep `longitude` and `latitude` for visualization purposes, but it will not be included in the model itself. Some of the features listed above are repetitive, such as `x_coordinate_state_plane`, as it will serve the same purpose as `latitude`. Features like `cross_street_1` or `intersection_street_1` are not needed for our purposes, as these featuers are usually used to help the responding agency find the source of the request. Since we aren't focusing on exact locations, we will not need these features. \n",
    "\n",
    "\n",
    "Two features that are important to us are the `created_date` and `closed_date` columns, which are currently being read as objects. We will convert these to datetime.  \n",
    "\n",
    "Many of the remaining columns are categorical ones, such as `location_type`, which we expect to have null values for. We will fill all null values for these types of features with either `unknown` or `none` as it still gives us the same information, but will be able to be used in our visuals and models. "
   ]
  },
  {
   "cell_type": "code",
   "execution_count": 6,
   "metadata": {},
   "outputs": [],
   "source": [
    "def clean_dataframe(train, holdout):\n",
    "    for df in [train, holdout]: # clean both dfs at once\n",
    "        \n",
    "        df.drop_duplicates(inplace=True)\n",
    "        \n",
    "        # convert columns to datetime\n",
    "        for col in ['created_date', 'closed_date', 'resolution_action_updated_date']:\n",
    "            df[col] = pd.to_datetime(df[col])\n",
    "        \n",
    "        \n",
    "        # fill empty descriptions with 'none'\n",
    "        df['descriptor'].fillna('none', inplace=True)\n",
    "        \n",
    "        df['resolution_description'].fillna('none', inplace=True) \n",
    "        \n",
    "        # fill empty location types with unknown\n",
    "        df['location_type'] = df['location_type'].fillna('unknown')\n",
    "        \n",
    "        # drop columns that are repetitive and will not be useful to the model \n",
    "        df.drop(columns=['landmark','intersection_street_1','cross_street_1',\n",
    "                         'cross_street_2','intersection_street_2',\n",
    "                        'community_board','incident_zip','incident_address',\n",
    "                        'street_name','bbl','x_coordinate_state_plane',\n",
    "                        'y_coordinate_state_plane','city','park_borough',\n",
    "                        'park_facility_name','location'], inplace=True)\n",
    "        \n",
    "   \n"
   ]
  },
  {
   "cell_type": "markdown",
   "metadata": {},
   "source": [
    "The above function will take in both the training and validation set and clean them as discussed above, dropping necessary columns and filling in null values where appropriate. "
   ]
  },
  {
   "cell_type": "code",
   "execution_count": 7,
   "metadata": {},
   "outputs": [
    {
     "name": "stderr",
     "output_type": "stream",
     "text": [
      "/opt/anaconda3/envs/dsi/lib/python3.7/site-packages/ipykernel_launcher.py:4: SettingWithCopyWarning: \n",
      "A value is trying to be set on a copy of a slice from a DataFrame\n",
      "\n",
      "See the caveats in the documentation: https://pandas.pydata.org/pandas-docs/stable/user_guide/indexing.html#returning-a-view-versus-a-copy\n",
      "  after removing the cwd from sys.path.\n",
      "/opt/anaconda3/envs/dsi/lib/python3.7/site-packages/ipykernel_launcher.py:8: SettingWithCopyWarning: \n",
      "A value is trying to be set on a copy of a slice from a DataFrame.\n",
      "Try using .loc[row_indexer,col_indexer] = value instead\n",
      "\n",
      "See the caveats in the documentation: https://pandas.pydata.org/pandas-docs/stable/user_guide/indexing.html#returning-a-view-versus-a-copy\n",
      "  \n",
      "/opt/anaconda3/envs/dsi/lib/python3.7/site-packages/pandas/core/generic.py:6245: SettingWithCopyWarning: \n",
      "A value is trying to be set on a copy of a slice from a DataFrame\n",
      "\n",
      "See the caveats in the documentation: https://pandas.pydata.org/pandas-docs/stable/user_guide/indexing.html#returning-a-view-versus-a-copy\n",
      "  self._update_inplace(new_data)\n",
      "/opt/anaconda3/envs/dsi/lib/python3.7/site-packages/ipykernel_launcher.py:17: SettingWithCopyWarning: \n",
      "A value is trying to be set on a copy of a slice from a DataFrame.\n",
      "Try using .loc[row_indexer,col_indexer] = value instead\n",
      "\n",
      "See the caveats in the documentation: https://pandas.pydata.org/pandas-docs/stable/user_guide/indexing.html#returning-a-view-versus-a-copy\n",
      "/opt/anaconda3/envs/dsi/lib/python3.7/site-packages/pandas/core/frame.py:3997: SettingWithCopyWarning: \n",
      "A value is trying to be set on a copy of a slice from a DataFrame\n",
      "\n",
      "See the caveats in the documentation: https://pandas.pydata.org/pandas-docs/stable/user_guide/indexing.html#returning-a-view-versus-a-copy\n",
      "  errors=errors,\n"
     ]
    }
   ],
   "source": [
    "# cleaning both dataframes at once\n",
    "clean_dataframe(sr, val)"
   ]
  },
  {
   "cell_type": "code",
   "execution_count": 11,
   "metadata": {},
   "outputs": [
    {
     "data": {
      "text/plain": [
       "Index(['unique_key', 'created_date', 'closed_date', 'agency', 'agency_name',\n",
       "       'complaint_type', 'descriptor', 'location_type', 'status', 'borough',\n",
       "       'open_data_channel_type', 'latitude', 'longitude',\n",
       "       'resolution_description', 'resolution_action_updated_date', 'waittime'],\n",
       "      dtype='object')"
      ]
     },
     "execution_count": 11,
     "metadata": {},
     "output_type": "execute_result"
    }
   ],
   "source": [
    "# check to see if appropriate columns have been dropped \n",
    "sr.columns"
   ]
  },
  {
   "cell_type": "markdown",
   "metadata": {},
   "source": [
    "### Checking for null values"
   ]
  },
  {
   "cell_type": "code",
   "execution_count": 12,
   "metadata": {},
   "outputs": [
    {
     "data": {
      "text/plain": [
       "unique_key                            0\n",
       "created_date                          0\n",
       "closed_date                           0\n",
       "agency                                0\n",
       "agency_name                           0\n",
       "complaint_type                        0\n",
       "descriptor                            0\n",
       "location_type                         0\n",
       "status                                0\n",
       "borough                               0\n",
       "open_data_channel_type                0\n",
       "resolution_description                0\n",
       "waittime                              0\n",
       "resolution_action_updated_date      178\n",
       "latitude                          10978\n",
       "longitude                         10978\n",
       "dtype: int64"
      ]
     },
     "execution_count": 12,
     "metadata": {},
     "output_type": "execute_result"
    }
   ],
   "source": [
    "sr.isnull().sum().sort_values()"
   ]
  },
  {
   "cell_type": "code",
   "execution_count": 13,
   "metadata": {},
   "outputs": [
    {
     "data": {
      "text/plain": [
       "Your complaint has been forwarded to the New York Police Department for a non-emergency response. Your complaint will take priority over other non-emergency complaints. 311 will have additional information in 8 hours. Please note your service request number for future reference.                                                                                                                                                                                                                               155\n",
       "Your complaint has been forwarded to the New York Police Department for a non-emergency response. If the police determine the vehicle is illegally parked, they will ticket the vehicle and then you may either contact a private towing company to remove the vehicle or ask your local precinct to contact 'rotation tow'. Any fees charged for towing will have to be paid by the vehicle owner. 311 will have additional information in 8 hours. Please note your service request number for future reference.     21\n",
       "none                                                                                                                                                                                                                                                                                                                                                                                                                                                                                                                    2\n",
       "Name: resolution_description, dtype: int64"
      ]
     },
     "execution_count": 13,
     "metadata": {},
     "output_type": "execute_result"
    }
   ],
   "source": [
    "sr[sr['resolution_action_updated_date'].isnull()]['resolution_description'].value_counts()"
   ]
  },
  {
   "cell_type": "markdown",
   "metadata": {},
   "source": [
    "The only columns remaining with null values are `longitude`, `latitude`, and `resolution_action_updated_date`. Because we will not be using `longitude` and `latitude` in our model, but just for visualization purposes, we will keep these null values as is. After some exploration, it was shown that requests with a null value for `resolution_action_updated_date` often had a `resolution_description` that informed the civilian that their request was in fact forwarded to the NYPD, non-emergent, and more information would be available within 8 hours. Unfortunately, these were never updated."
   ]
  },
  {
   "cell_type": "markdown",
   "metadata": {},
   "source": [
    "### Checking `waittime`"
   ]
  },
  {
   "cell_type": "code",
   "execution_count": 139,
   "metadata": {},
   "outputs": [
    {
     "data": {
      "text/html": [
       "<div>\n",
       "<style scoped>\n",
       "    .dataframe tbody tr th:only-of-type {\n",
       "        vertical-align: middle;\n",
       "    }\n",
       "\n",
       "    .dataframe tbody tr th {\n",
       "        vertical-align: top;\n",
       "    }\n",
       "\n",
       "    .dataframe thead th {\n",
       "        text-align: right;\n",
       "    }\n",
       "</style>\n",
       "<table border=\"1\" class=\"dataframe\">\n",
       "  <thead>\n",
       "    <tr style=\"text-align: right;\">\n",
       "      <th></th>\n",
       "      <th>unique_key</th>\n",
       "      <th>created_date</th>\n",
       "      <th>closed_date</th>\n",
       "      <th>agency</th>\n",
       "      <th>agency_name</th>\n",
       "      <th>complaint_type</th>\n",
       "      <th>descriptor</th>\n",
       "      <th>location_type</th>\n",
       "      <th>status</th>\n",
       "      <th>borough</th>\n",
       "      <th>open_data_channel_type</th>\n",
       "      <th>latitude</th>\n",
       "      <th>longitude</th>\n",
       "      <th>resolution_description</th>\n",
       "      <th>resolution_action_updated_date</th>\n",
       "      <th>waittime</th>\n",
       "    </tr>\n",
       "  </thead>\n",
       "  <tbody>\n",
       "  </tbody>\n",
       "</table>\n",
       "</div>"
      ],
      "text/plain": [
       "Empty DataFrame\n",
       "Columns: [unique_key, created_date, closed_date, agency, agency_name, complaint_type, descriptor, location_type, status, borough, open_data_channel_type, latitude, longitude, resolution_description, resolution_action_updated_date, waittime]\n",
       "Index: []"
      ]
     },
     "execution_count": 139,
     "metadata": {},
     "output_type": "execute_result"
    }
   ],
   "source": [
    "sr[sr['waittime'] < 0].head()"
   ]
  },
  {
   "cell_type": "markdown",
   "metadata": {},
   "source": [
    "There were 16 observations that had a negative wait time, which doesn't make any sense. After further investigation, it was found that these particular requests were all made on the same day, 2019-11-03, within the 1 am hour. There were varying boroughs and submission types, so no pattern was found there. All complaints were either a noise complaint or related to a homeless encampment. There were other requests made on this day that did not seem to have this error. Being these entries make up less than .01% of the whole dataset, we will simply drop these rows from the training set. We understand that if this same error occurs in the validation set, we will not be able to drop said rows, but are hoping this was a one time error in data collection and that these errors will make up only a small portion of the whole dataset to not effect it too strongly."
   ]
  },
  {
   "cell_type": "code",
   "execution_count": 8,
   "metadata": {},
   "outputs": [
    {
     "data": {
      "text/plain": [
       "(539984, 16)"
      ]
     },
     "execution_count": 8,
     "metadata": {},
     "output_type": "execute_result"
    }
   ],
   "source": [
    "# drop negative waittimes \n",
    "indices_to_drop = sr[sr['waittime'] < 0].index\n",
    "sr.drop(index=indices_to_drop, inplace=True)\n",
    "sr.shape"
   ]
  },
  {
   "cell_type": "markdown",
   "metadata": {},
   "source": [
    "## Exploratory Data Analysis"
   ]
  },
  {
   "cell_type": "code",
   "execution_count": 16,
   "metadata": {},
   "outputs": [
    {
     "data": {
      "text/plain": [
       "count    539984.000000\n",
       "mean          0.442553\n",
       "std           3.493269\n",
       "min           0.000197\n",
       "25%           0.058032\n",
       "50%           0.133848\n",
       "75%           0.274436\n",
       "max         206.016285\n",
       "Name: waittime, dtype: float64"
      ]
     },
     "execution_count": 16,
     "metadata": {},
     "output_type": "execute_result"
    }
   ],
   "source": [
    "sr['waittime'].describe()"
   ]
  },
  {
   "cell_type": "markdown",
   "metadata": {},
   "source": [
    "The average wait time is 0.4426 days, with a standard deviation of 3.493 days. The maximum wait time in this dataset is over 206 days. The 75th percentile, though, is still less than one day at 0.274, showing that longer wait times are unexpected and rarer. "
   ]
  },
  {
   "cell_type": "code",
   "execution_count": 7,
   "metadata": {},
   "outputs": [
    {
     "data": {
      "image/png": "[encoded data removed]",
      "text/plain": [
       "<Figure size 432x288 with 1 Axes>"
      ]
     },
     "metadata": {
      "needs_background": "light"
     },
     "output_type": "display_data"
    }
   ],
   "source": [
    "plt.hist((sr['waittime']), color = 'cadetblue')\n",
    "plt.title('Distribution of Wait Time')\n",
    "plt.xlabel('Wait Time')\n",
    "plt.ylabel('Frequency');"
   ]
  },
  {
   "cell_type": "code",
   "execution_count": 42,
   "metadata": {},
   "outputs": [
    {
     "data": {
      "text/plain": [
       "<matplotlib.axes._subplots.AxesSubplot at 0x1a3f021c90>"
      ]
     },
     "execution_count": 42,
     "metadata": {},
     "output_type": "execute_result"
    },
    {
     "data": {
      "image/png": "[encoded data removed]",
      "text/plain": [
       "<Figure size 432x288 with 1 Axes>"
      ]
     },
     "metadata": {
      "needs_background": "light"
     },
     "output_type": "display_data"
    }
   ],
   "source": [
    "sr[sr['waittime'] <= 31]['waittime'].hist()"
   ]
  },
  {
   "cell_type": "code",
   "execution_count": 43,
   "metadata": {},
   "outputs": [],
   "source": [
    "low_sr = sr[sr['waittime'] <= 31]"
   ]
  },
  {
   "cell_type": "code",
   "execution_count": 140,
   "metadata": {},
   "outputs": [
    {
     "data": {
      "image/png": "[encoded data removed]",
      "text/plain": [
       "<Figure size 432x288 with 1 Axes>"
      ]
     },
     "metadata": {
      "needs_background": "light"
     },
     "output_type": "display_data"
    }
   ],
   "source": [
    "plt.hist(np.log(low_sr['waittime']), color = 'teal')\n",
    "plt.title('Distribution of Log of Wait Time')\n",
    "plt.xlabel('Log Wait Time')\n",
    "plt.ylabel('Frequency');"
   ]
  },
  {
   "cell_type": "markdown",
   "metadata": {},
   "source": [
    "When looking at the distribution of wait time, the original distribution was very skewed, due to the rare wait times discussed previously. In order to have a target variable that is closer to being normally distributed, we took the log of the wait times. In our model, we will use the log of our target variable. "
   ]
  },
  {
   "cell_type": "code",
   "execution_count": 9,
   "metadata": {},
   "outputs": [],
   "source": [
    "def plot_pct_waittime(y, pct_width, avg_width, colors, y_label):\n",
    "    \"\"\"\n",
    "    Plots 2 horizontal bar charts, the first showing the percentage breakdown of each category in feature. The second showing the average wait time for each category.\n",
    "    \n",
    "    Parameters:\n",
    "    y: labels for y axis\n",
    "    pct_width: values for percentage break down\n",
    "    avg_width: values for wait time averages\n",
    "    colors: takes list of colors (min 2)\n",
    "    y_label: y label for graphs\n",
    "    \"\"\"\n",
    "    \n",
    "    fig, axes = plt.subplots(figsize=(14,5), ncols=2)\n",
    "\n",
    "    axes[0].set_title(f'Percentage of Most Frequent {y_label}s',size=16)\n",
    "    axes[0].barh(y=y, width=pct_width, color=colors[0])\n",
    "    axes[0].set_ylabel(y_label,size=13)\n",
    "    axes[0].set_xlabel('Percentage',size=13)\n",
    "    \n",
    "    axes[1].set_title(f'Average Wait Time (Days) by {y_label}',size=16)\n",
    "    axes[1].barh(y=y, width=avg_width, color=colors[1])\n",
    "    axes[1].set_ylabel(y_label,size=13)\n",
    "    axes[1].set_xlabel('Average Wait Time (Days)',size=13)\n",
    "    \n",
    "    fig.tight_layout();\n",
    "    "
   ]
  },
  {
   "cell_type": "code",
   "execution_count": 10,
   "metadata": {},
   "outputs": [
    {
     "data": {
      "text/plain": [
       "Noise - Residential            0.267063\n",
       "Illegal Parking                0.239711\n",
       "Blocked Driveway               0.158634\n",
       "Noise - Street/Sidewalk        0.128824\n",
       "Noise - Vehicle                0.050526\n",
       "Abandoned Vehicle              0.046461\n",
       "Noise - Commercial             0.042799\n",
       "Non-Emergency Police Matter    0.012447\n",
       "Homeless Encampment            0.010165\n",
       "Animal-Abuse                   0.008204\n",
       "Vending                        0.005991\n",
       "Traffic                        0.005369\n",
       "Noise - Park                   0.004985\n",
       "Panhandling                    0.003817\n",
       "Drug Activity                  0.003635\n",
       "Derelict Vehicle               0.002706\n",
       "Drinking                       0.002206\n",
       "Illegal Fireworks              0.001515\n",
       "Bike/Roller/Skate Chronic      0.000883\n",
       "Graffiti                       0.000880\n",
       "Homeless Street Condition      0.000867\n",
       "Noise - House of Worship       0.000824\n",
       "Urinating in Public            0.000770\n",
       "Animal Abuse                   0.000487\n",
       "Disorderly Youth               0.000117\n",
       "Posting Advertisement          0.000104\n",
       "Squeegee                       0.000011\n",
       "Name: complaint_type, dtype: float64"
      ]
     },
     "execution_count": 10,
     "metadata": {},
     "output_type": "execute_result"
    }
   ],
   "source": [
    "sr['complaint_type'].value_counts(normalize=True)"
   ]
  },
  {
   "cell_type": "markdown",
   "metadata": {},
   "source": [
    "The top two complaint types for these service requests were 'Noise - Residential' (26.7%) and 'Illegal Parking' (23.9%), together making up more than half of the complaints. The next two most frequent complaints were 'Blocked Driveway' (15.9%) and 'Noise - Street/Sidewalk' (12.9%). Each of the remainder of the complaint types make up about 5% or less per complaint type. Of the 27 different complaint types, 6 were associated with some type of noise complaint."
   ]
  },
  {
   "cell_type": "code",
   "execution_count": 11,
   "metadata": {},
   "outputs": [],
   "source": [
    "top_10_complaints = sr['complaint_type'].value_counts(normalize=True)[:10].index\n",
    "complaint_mean_waittimes = sr.groupby('complaint_type')['waittime'].mean()"
   ]
  },
  {
   "cell_type": "code",
   "execution_count": 12,
   "metadata": {},
   "outputs": [
    {
     "data": {
      "image/png": "[encoded data removed]",
      "text/plain": [
       "<Figure size 1008x360 with 2 Axes>"
      ]
     },
     "metadata": {
      "needs_background": "light"
     },
     "output_type": "display_data"
    }
   ],
   "source": [
    "plot_pct_waittime(top_10_complaints,\n",
    "                  sr['complaint_type'].value_counts(normalize=True)[:10],\n",
    "                  complaint_mean_waittimes[top_10_complaints],\n",
    "                  ['firebrick','lightcoral'],\n",
    "                  'Complaint Type')"
   ]
  },
  {
   "cell_type": "markdown",
   "metadata": {},
   "source": [
    "**Note:** the complaint types are listed in ascending order, where _Noise - Residential_ is the most frequent complaint type. The top 3 most frequent complaint types had average wait times between 0.3 and 0.6 days. In fact, out of the top 10 most frequent complaint types, the only one that had an average wait time of more than one day was _abandoned vehicle._ "
   ]
  },
  {
   "cell_type": "code",
   "execution_count": 13,
   "metadata": {},
   "outputs": [
    {
     "data": {
      "text/plain": [
       "BROOKLYN         0.310991\n",
       "QUEENS           0.273669\n",
       "MANHATTAN        0.197991\n",
       "BRONX            0.181142\n",
       "STATEN ISLAND    0.035720\n",
       "Name: borough, dtype: float64"
      ]
     },
     "execution_count": 13,
     "metadata": {},
     "output_type": "execute_result"
    }
   ],
   "source": [
    "borough_counts = sr['borough'].value_counts(normalize=True)[:5]\n",
    "borough_counts"
   ]
  },
  {
   "cell_type": "code",
   "execution_count": 14,
   "metadata": {},
   "outputs": [
    {
     "data": {
      "text/plain": [
       "borough\n",
       "BRONX            0.519340\n",
       "BROOKLYN         0.378689\n",
       "MANHATTAN        0.188548\n",
       "QUEENS           0.600875\n",
       "STATEN ISLAND    0.224443\n",
       "Name: waittime, dtype: float64"
      ]
     },
     "execution_count": 14,
     "metadata": {},
     "output_type": "execute_result"
    }
   ],
   "source": [
    "borough_mean = sr.groupby('borough')['waittime'].mean()[:5]\n",
    "borough_mean"
   ]
  },
  {
   "cell_type": "code",
   "execution_count": 15,
   "metadata": {},
   "outputs": [
    {
     "data": {
      "image/png": "[encoded data removed]",
      "text/plain": [
       "<Figure size 1008x360 with 2 Axes>"
      ]
     },
     "metadata": {
      "needs_background": "light"
     },
     "output_type": "display_data"
    }
   ],
   "source": [
    "plot_pct_waittime(borough_counts.index,\n",
    "                  borough_counts,\n",
    "                  borough_mean[borough_counts.index],\n",
    "                  ['darkmagenta','mediumorchid'],\n",
    "                  'Borough')"
   ]
  },
  {
   "cell_type": "markdown",
   "metadata": {},
   "source": [
    "*Note: Unspecified is another option for `borough` but made up less than 1% of the data so it is not included in this graph.*   \n",
    "Queens had the highest average wait time with roughly 0.6 days, followed by the Bronx with 0.52 days. Manhattan had the lowest average wait time of 0.19 days. All boroughs had an average wait time of 0.6 days or less. "
   ]
  },
  {
   "cell_type": "code",
   "execution_count": 16,
   "metadata": {},
   "outputs": [
    {
     "data": {
      "text/plain": [
       "PHONE     0.424642\n",
       "ONLINE    0.291010\n",
       "MOBILE    0.284255\n",
       "Name: open_data_channel_type, dtype: float64"
      ]
     },
     "execution_count": 16,
     "metadata": {},
     "output_type": "execute_result"
    }
   ],
   "source": [
    "submission_types = sr['open_data_channel_type'].value_counts(normalize=True)[:3]\n",
    "submission_types"
   ]
  },
  {
   "cell_type": "code",
   "execution_count": 17,
   "metadata": {},
   "outputs": [],
   "source": [
    "submission_means = sr.groupby('open_data_channel_type')['waittime'].mean()"
   ]
  },
  {
   "cell_type": "code",
   "execution_count": 18,
   "metadata": {},
   "outputs": [
    {
     "data": {
      "image/png": "[encoded data removed]",
      "text/plain": [
       "<Figure size 1008x360 with 2 Axes>"
      ]
     },
     "metadata": {
      "needs_background": "light"
     },
     "output_type": "display_data"
    }
   ],
   "source": [
    "plot_pct_waittime(submission_types.index,\n",
    "                  submission_types,\n",
    "                  submission_means[submission_types.index],\n",
    "                  ['goldenrod','gold'],\n",
    "                  'Submission Type')"
   ]
  },
  {
   "cell_type": "code",
   "execution_count": 19,
   "metadata": {},
   "outputs": [
    {
     "data": {
      "image/png": "[encoded data removed]",
      "text/plain": [
       "<Figure size 432x288 with 1 Axes>"
      ]
     },
     "metadata": {
      "needs_background": "light"
     },
     "output_type": "display_data"
    }
   ],
   "source": [
    "sns.scatterplot(data = sr, y='latitude', x = 'longitude', s=12,hue = 'waittime')\n",
    "plt.title('Mapped Wait Times')\n",
    "plt.ylabel('Latitude')\n",
    "plt.xlabel('Longitude');"
   ]
  },
  {
   "cell_type": "code",
   "execution_count": 20,
   "metadata": {},
   "outputs": [
    {
     "data": {
      "text/plain": [
       "Loud Music/Party    0.643506\n",
       "Banging/Pounding    0.274530\n",
       "Loud Talking        0.063775\n",
       "Loud Television     0.018189\n",
       "Name: descriptor, dtype: float64"
      ]
     },
     "execution_count": 20,
     "metadata": {},
     "output_type": "execute_result"
    }
   ],
   "source": [
    "sr[sr['complaint_type']=='Noise - Residential']['descriptor'].value_counts(normalize=True)"
   ]
  },
  {
   "cell_type": "code",
   "execution_count": 21,
   "metadata": {},
   "outputs": [
    {
     "data": {
      "text/plain": [
       "descriptor\n",
       "Banging/Pounding    0.365132\n",
       "Loud Music/Party    0.329723\n",
       "Loud Talking        0.276959\n",
       "Loud Television     0.301759\n",
       "Name: waittime, dtype: float64"
      ]
     },
     "execution_count": 21,
     "metadata": {},
     "output_type": "execute_result"
    }
   ],
   "source": [
    "sr[sr['complaint_type']=='Noise - Residential'].groupby('descriptor')['waittime'].mean()"
   ]
  },
  {
   "cell_type": "code",
   "execution_count": 22,
   "metadata": {},
   "outputs": [
    {
     "data": {
      "text/plain": [
       "Posted Parking Sign Violation     0.253708\n",
       "Blocked Hydrant                   0.239030\n",
       "Blocked Sidewalk                  0.141749\n",
       "Commercial Overnight Parking      0.125471\n",
       "Blocked Bike Lane                 0.101252\n",
       "Double Parked Blocking Traffic    0.056683\n",
       "Double Parked Blocking Vehicle    0.033181\n",
       "Parking Permit Improper Use       0.020465\n",
       "Unauthorized Bus Layover          0.013334\n",
       "Overnight Commercial Storage      0.011573\n",
       "Detached Trailer                  0.003554\n",
       "Name: descriptor, dtype: float64"
      ]
     },
     "execution_count": 22,
     "metadata": {},
     "output_type": "execute_result"
    }
   ],
   "source": [
    "sr[sr['complaint_type']=='Illegal Parking']['descriptor'].value_counts(normalize=True)"
   ]
  },
  {
   "cell_type": "code",
   "execution_count": 23,
   "metadata": {},
   "outputs": [
    {
     "data": {
      "text/plain": [
       "descriptor\n",
       "Blocked Bike Lane                 0.275404\n",
       "Blocked Hydrant                   0.404650\n",
       "Blocked Sidewalk                  0.522839\n",
       "Commercial Overnight Parking      0.573481\n",
       "Detached Trailer                  0.652295\n",
       "Double Parked Blocking Traffic    0.384704\n",
       "Double Parked Blocking Vehicle    0.356336\n",
       "Overnight Commercial Storage      0.573419\n",
       "Parking Permit Improper Use       0.556114\n",
       "Posted Parking Sign Violation     0.485996\n",
       "Unauthorized Bus Layover          0.297383\n",
       "Name: waittime, dtype: float64"
      ]
     },
     "execution_count": 23,
     "metadata": {},
     "output_type": "execute_result"
    }
   ],
   "source": [
    "sr[sr['complaint_type']=='Illegal Parking'].groupby('descriptor')['waittime'].mean()"
   ]
  },
  {
   "cell_type": "markdown",
   "metadata": {},
   "source": [
    "Since there is virtually no data for unknown and other we won't graph it. "
   ]
  },
  {
   "cell_type": "code",
   "execution_count": 24,
   "metadata": {},
   "outputs": [
    {
     "data": {
      "text/html": [
       "<div>\n",
       "<style scoped>\n",
       "    .dataframe tbody tr th:only-of-type {\n",
       "        vertical-align: middle;\n",
       "    }\n",
       "\n",
       "    .dataframe tbody tr th {\n",
       "        vertical-align: top;\n",
       "    }\n",
       "\n",
       "    .dataframe thead th {\n",
       "        text-align: right;\n",
       "    }\n",
       "</style>\n",
       "<table border=\"1\" class=\"dataframe\">\n",
       "  <thead>\n",
       "    <tr style=\"text-align: right;\">\n",
       "      <th></th>\n",
       "      <th>count</th>\n",
       "      <th>unique</th>\n",
       "      <th>top</th>\n",
       "      <th>freq</th>\n",
       "    </tr>\n",
       "  </thead>\n",
       "  <tbody>\n",
       "    <tr>\n",
       "      <th>agency</th>\n",
       "      <td>539984</td>\n",
       "      <td>1</td>\n",
       "      <td>NYPD</td>\n",
       "      <td>539984</td>\n",
       "    </tr>\n",
       "    <tr>\n",
       "      <th>agency_name</th>\n",
       "      <td>539984</td>\n",
       "      <td>2</td>\n",
       "      <td>New York City Police Department</td>\n",
       "      <td>539937</td>\n",
       "    </tr>\n",
       "    <tr>\n",
       "      <th>complaint_type</th>\n",
       "      <td>539984</td>\n",
       "      <td>27</td>\n",
       "      <td>Noise - Residential</td>\n",
       "      <td>144210</td>\n",
       "    </tr>\n",
       "    <tr>\n",
       "      <th>descriptor</th>\n",
       "      <td>539984</td>\n",
       "      <td>49</td>\n",
       "      <td>Loud Music/Party</td>\n",
       "      <td>168693</td>\n",
       "    </tr>\n",
       "    <tr>\n",
       "      <th>location_type</th>\n",
       "      <td>539984</td>\n",
       "      <td>22</td>\n",
       "      <td>Street/Sidewalk</td>\n",
       "      <td>305150</td>\n",
       "    </tr>\n",
       "    <tr>\n",
       "      <th>status</th>\n",
       "      <td>539984</td>\n",
       "      <td>1</td>\n",
       "      <td>Closed</td>\n",
       "      <td>539984</td>\n",
       "    </tr>\n",
       "    <tr>\n",
       "      <th>borough</th>\n",
       "      <td>539984</td>\n",
       "      <td>6</td>\n",
       "      <td>BROOKLYN</td>\n",
       "      <td>167930</td>\n",
       "    </tr>\n",
       "    <tr>\n",
       "      <th>open_data_channel_type</th>\n",
       "      <td>539984</td>\n",
       "      <td>5</td>\n",
       "      <td>PHONE</td>\n",
       "      <td>229300</td>\n",
       "    </tr>\n",
       "    <tr>\n",
       "      <th>resolution_description</th>\n",
       "      <td>539984</td>\n",
       "      <td>22</td>\n",
       "      <td>The Police Department responded to the complai...</td>\n",
       "      <td>182488</td>\n",
       "    </tr>\n",
       "  </tbody>\n",
       "</table>\n",
       "</div>"
      ],
      "text/plain": [
       "                         count unique  \\\n",
       "agency                  539984      1   \n",
       "agency_name             539984      2   \n",
       "complaint_type          539984     27   \n",
       "descriptor              539984     49   \n",
       "location_type           539984     22   \n",
       "status                  539984      1   \n",
       "borough                 539984      6   \n",
       "open_data_channel_type  539984      5   \n",
       "resolution_description  539984     22   \n",
       "\n",
       "                                                                      top  \\\n",
       "agency                                                               NYPD   \n",
       "agency_name                               New York City Police Department   \n",
       "complaint_type                                        Noise - Residential   \n",
       "descriptor                                               Loud Music/Party   \n",
       "location_type                                             Street/Sidewalk   \n",
       "status                                                             Closed   \n",
       "borough                                                          BROOKLYN   \n",
       "open_data_channel_type                                              PHONE   \n",
       "resolution_description  The Police Department responded to the complai...   \n",
       "\n",
       "                          freq  \n",
       "agency                  539984  \n",
       "agency_name             539937  \n",
       "complaint_type          144210  \n",
       "descriptor              168693  \n",
       "location_type           305150  \n",
       "status                  539984  \n",
       "borough                 167930  \n",
       "open_data_channel_type  229300  \n",
       "resolution_description  182488  "
      ]
     },
     "execution_count": 24,
     "metadata": {},
     "output_type": "execute_result"
    }
   ],
   "source": [
    "sr.describe(include=np.object).T"
   ]
  },
  {
   "cell_type": "markdown",
   "metadata": {},
   "source": [
    "## $k$-Modes\n",
    "\n",
    "[Source 2](https://shapeofdata.wordpress.com/2014/03/04/k-modes/)"
   ]
  },
  {
   "cell_type": "code",
   "execution_count": 60,
   "metadata": {},
   "outputs": [],
   "source": [
    "# source: https://github.com/nicodv/kmodes/blob/master/examples/soybean.py\n",
    "# set up X, y\n",
    "features=['complaint_type','descriptor','location_type','borough','open_data_channel_type']\n",
    "exog = low_sr[features]\n",
    "endog = low_sr['waittime']"
   ]
  },
  {
   "cell_type": "code",
   "execution_count": 432,
   "metadata": {},
   "outputs": [
    {
     "name": "stdout",
     "output_type": "stream",
     "text": [
      "Init: initializing centroids\n",
      "Init: initializing clusters\n",
      "Starting iterations...\n",
      "Run 1, iteration: 1/100, moves: 47293, cost: 1410607.0\n",
      "Init: initializing centroids\n",
      "Init: initializing clusters\n",
      "Starting iterations...\n",
      "Run 1, iteration: 1/100, moves: 48722, cost: 1252578.0\n",
      "Init: initializing centroids\n",
      "Init: initializing clusters\n",
      "Starting iterations...\n",
      "Run 1, iteration: 1/100, moves: 78133, cost: 1120849.0\n",
      "Run 1, iteration: 2/100, moves: 29073, cost: 1120849.0\n",
      "Init: initializing centroids\n",
      "Init: initializing clusters\n",
      "Starting iterations...\n",
      "Run 1, iteration: 1/100, moves: 78421, cost: 1067315.0\n",
      "Run 1, iteration: 2/100, moves: 27864, cost: 1067315.0\n",
      "Init: initializing centroids\n",
      "Init: initializing clusters\n",
      "Starting iterations...\n",
      "Run 1, iteration: 1/100, moves: 33175, cost: 1072529.0\n",
      "Init: initializing centroids\n",
      "Init: initializing clusters\n",
      "Starting iterations...\n",
      "Run 1, iteration: 1/100, moves: 0, cost: 1020319.0\n",
      "Init: initializing centroids\n",
      "Init: initializing clusters\n",
      "Starting iterations...\n",
      "Run 1, iteration: 1/100, moves: 0, cost: 982573.0\n"
     ]
    }
   ],
   "source": [
    "# source: https://www.kaggle.com/ashydv/bank-customer-clustering-k-modes-clustering\n",
    "\n",
    "cost = [] # empty list for cost values\n",
    "for num_clusters in list(range(2,9)): # testing n_clusters 2 - 8\n",
    "    kmode = KModes(n_clusters=num_clusters, init = \"Cao\", n_init = 1, verbose=1)\n",
    "    kmode.fit_predict(exog)\n",
    "    cost.append(kmode.cost_)"
   ]
  },
  {
   "cell_type": "code",
   "execution_count": 287,
   "metadata": {},
   "outputs": [
    {
     "data": {
      "image/png": "[encoded data removed]",
      "text/plain": [
       "<Figure size 432x288 with 1 Axes>"
      ]
     },
     "metadata": {
      "needs_background": "light"
     },
     "output_type": "display_data"
    }
   ],
   "source": [
    "q = np.array([i for i in range(2,9,1)])\n",
    "plt.plot(q,cost)\n",
    "plt.ylabel('Cost', size=12)\n",
    "plt.xlabel('Number of Clusters',size=12)\n",
    "plt.title('Cost per Number of Clusters',size=16);"
   ]
  },
  {
   "cell_type": "markdown",
   "metadata": {},
   "source": [
    "In order to choose our $k$ value, we will look to minimize the cost function. We tested values of $k$ from 2 - 8 to see which gave us the best cost value. Those results are shown above. Since the cost value does not decrease, but instead almost levels out between 5 and 6 clusters, we will use 5 as our cluster value for our $k$-Modes model.  "
   ]
  },
  {
   "cell_type": "code",
   "execution_count": 61,
   "metadata": {},
   "outputs": [
    {
     "name": "stdout",
     "output_type": "stream",
     "text": [
      "Init: initializing centroids\n",
      "Init: initializing clusters\n",
      "Starting iterations...\n",
      "Run 1, iteration: 1/100, moves: 78421, cost: 1067315.0\n",
      "Run 1, iteration: 2/100, moves: 27864, cost: 1067315.0\n"
     ]
    }
   ],
   "source": [
    "km_cao = KModes(n_clusters=5, init = \"Cao\", verbose=1)\n",
    "fitclusters_cao = km_cao.fit_predict(exog)"
   ]
  },
  {
   "cell_type": "code",
   "execution_count": 22,
   "metadata": {},
   "outputs": [
    {
     "data": {
      "text/plain": [
       "1068774.0"
      ]
     },
     "execution_count": 22,
     "metadata": {},
     "output_type": "execute_result"
    }
   ],
   "source": [
    "km_cao.cost_"
   ]
  },
  {
   "cell_type": "code",
   "execution_count": 62,
   "metadata": {},
   "outputs": [],
   "source": [
    "# setting up data frames to add predicted clusters from k-modes\n",
    "sr_ = low_sr.copy().reset_index()\n",
    "clusters_df = pd.DataFrame(fitclusters_cao)\n",
    "clusters_df.columns = ['cluster_predicted']"
   ]
  },
  {
   "cell_type": "code",
   "execution_count": 63,
   "metadata": {},
   "outputs": [],
   "source": [
    "# creating new data frame with cluster predictions data\n",
    "new_sr = pd.concat([sr_, clusters_df], axis=1).reset_index()\n",
    "new_sr.drop(columns=['level_0'],inplace=True)"
   ]
  },
  {
   "cell_type": "code",
   "execution_count": 64,
   "metadata": {},
   "outputs": [
    {
     "data": {
      "text/plain": [
       "array([['Noise - Street/Sidewalk', 'Loud Music/Party', 'Street/Sidewalk',\n",
       "        'BROOKLYN', 'PHONE'],\n",
       "       ['Noise - Residential', 'Loud Music/Party',\n",
       "        'Residential Building/House', 'QUEENS', 'ONLINE'],\n",
       "       ['Illegal Parking', 'Posted Parking Sign Violation',\n",
       "        'Street/Sidewalk', 'QUEENS', 'MOBILE'],\n",
       "       ['Blocked Driveway', 'No Access', 'Street/Sidewalk', 'QUEENS',\n",
       "        'PHONE'],\n",
       "       ['Illegal Parking', 'Blocked Hydrant', 'Street/Sidewalk',\n",
       "        'MANHATTAN', 'PHONE']], dtype='<U29')"
      ]
     },
     "execution_count": 64,
     "metadata": {},
     "output_type": "execute_result"
    }
   ],
   "source": [
    "km_cao.cluster_centroids_"
   ]
  },
  {
   "cell_type": "markdown",
   "metadata": {},
   "source": [
    "The 5 clusters below were created from our $k$-modes model:  \n",
    "_Features: `complaint_type`, `descriptor`, `location_type`, `borough`, `open_data_channel_type`_\n",
    "\n",
    "0. 'Noise - Street/Sidewalk', 'Loud Music/Party', 'Street/Sidewalk', 'BROOKLYN', 'PHONE',\n",
    "1. 'Noise - Residential', 'Loud Music/Party', 'Residential Building/House', 'QUEENS', 'ONLINE'\n",
    "2. 'Illegal Parking', 'Posted Parking Sign Violation', 'Street/Sidewalk', 'QUEENS', 'MOBILE'\n",
    "3. 'Blocked Driveway', 'No Access', 'Street/Sidewalk', 'QUEENS', 'PHONE'\n",
    "4. 'Illegal Parking', 'Blocked Hydrant', 'Street/Sidewalk','MANHATTAN', 'PHONE'\n",
    "\n",
    "While every observation in each cluster will not match these results exactly, these requests were found to be most similar to one another. \n",
    "\n",
    "Cluster 0 seems to focus on noise complaints made by phone that occur on the sidewalk or street, mainly in Brooklyn. We will rename this cluster `Noise Brooklyn`.\n",
    "\n",
    "Cluster 1 focuses on noise complaints made online that occur in a residential building or house, mostly in Queens. We will rename this cluster `Noise Queens`.\n",
    "\n",
    "Cluster 2 focuses on requests about illegal parking involving parking sign violations mostly in Queens, made via mobile. We will rename this cluster `Parking Queens`. \n",
    "\n",
    "Cluster 3 focuses on blocked driveways mostly in Queens, made via phone. We will rename this cluster `Driveway Queens`. \n",
    "\n",
    "Cluster 4 focuses on requests about illegal parking involving blocked fire hydrants, mostly in Manhattan and made via phone. We will rename this cluster `Parking Manhattan`. \n"
   ]
  },
  {
   "cell_type": "code",
   "execution_count": 65,
   "metadata": {},
   "outputs": [],
   "source": [
    "# renaming 'cluster_predicted' values \n",
    "cluster_names = {\n",
    "    0: 'Noise Brooklyn',\n",
    "    1: 'Noise Queens',\n",
    "    2: 'Parking Queens',\n",
    "    3: 'Driveway Queens',\n",
    "    4: 'Parking Manhattan'\n",
    "}\n",
    "\n",
    "new_sr['cluster_predicted'] = new_sr['cluster_predicted'].map(cluster_names)\n",
    "clusters = new_sr['cluster_predicted'].value_counts(normalize=True)"
   ]
  },
  {
   "cell_type": "code",
   "execution_count": 66,
   "metadata": {},
   "outputs": [
    {
     "data": {
      "text/plain": [
       "cluster_predicted\n",
       "Driveway Queens      0.464547\n",
       "Noise Brooklyn       0.318649\n",
       "Noise Queens         0.307245\n",
       "Parking Manhattan    0.261207\n",
       "Parking Queens       0.400366\n",
       "Name: waittime, dtype: float64"
      ]
     },
     "execution_count": 66,
     "metadata": {},
     "output_type": "execute_result"
    }
   ],
   "source": [
    "# finding average wait time for each cluster \n",
    "cluster_means = new_sr.groupby('cluster_predicted')['waittime'].mean()\n",
    "cluster_means"
   ]
  },
  {
   "cell_type": "code",
   "execution_count": 67,
   "metadata": {},
   "outputs": [
    {
     "data": {
      "image/png": "[encoded data removed]",
      "text/plain": [
       "<Figure size 1008x360 with 2 Axes>"
      ]
     },
     "metadata": {
      "needs_background": "light"
     },
     "output_type": "display_data"
    }
   ],
   "source": [
    "plot_pct_waittime(clusters.index,\n",
    "                  clusters,\n",
    "                  cluster_means[clusters.index],\n",
    "                  ['navy','skyblue'],\n",
    "                  'Cluster')"
   ]
  },
  {
   "cell_type": "markdown",
   "metadata": {},
   "source": [
    "Three of the 5 clusters were focused in Queens, the second most frequent borough overall. The cluster with the most observations was the `Noise Brooklyn` cluster, while the cluster with the least amount of observations  was the `Parking Manhattan` cluster. Both the Bronx and Staten Island were not considered a centroid for any cluster. They were the two least common boroughs in the data set. All three clusters related to _Queens_ had the highest average wait times. The `Driveway Queens` cluster had the highest average wait time of just under 0.6 days. The cluster with the lowest average wait time was the `Parking Manhattan` cluster with just under 0.3 days. "
   ]
  },
  {
   "cell_type": "markdown",
   "metadata": {},
   "source": [
    "## Time Series Prep"
   ]
  },
  {
   "cell_type": "code",
   "execution_count": null,
   "metadata": {},
   "outputs": [],
   "source": [
    "\n"
   ]
  },
  {
   "cell_type": "code",
   "execution_count": 410,
   "metadata": {},
   "outputs": [
    {
     "name": "stderr",
     "output_type": "stream",
     "text": [
      "/opt/anaconda3/envs/dsi/lib/python3.7/site-packages/ipykernel_launcher.py:3: SettingWithCopyWarning: \n",
      "A value is trying to be set on a copy of a slice from a DataFrame.\n",
      "Try using .loc[row_indexer,col_indexer] = value instead\n",
      "\n",
      "See the caveats in the documentation: https://pandas.pydata.org/pandas-docs/stable/user_guide/indexing.html#returning-a-view-versus-a-copy\n",
      "  This is separate from the ipykernel package so we can avoid doing imports until\n",
      "/opt/anaconda3/envs/dsi/lib/python3.7/site-packages/ipykernel_launcher.py:9: SettingWithCopyWarning: \n",
      "A value is trying to be set on a copy of a slice from a DataFrame\n",
      "\n",
      "See the caveats in the documentation: https://pandas.pydata.org/pandas-docs/stable/user_guide/indexing.html#returning-a-view-versus-a-copy\n",
      "  if __name__ == '__main__':\n"
     ]
    },
    {
     "data": {
      "text/html": [
       "<div>\n",
       "<style scoped>\n",
       "    .dataframe tbody tr th:only-of-type {\n",
       "        vertical-align: middle;\n",
       "    }\n",
       "\n",
       "    .dataframe tbody tr th {\n",
       "        vertical-align: top;\n",
       "    }\n",
       "\n",
       "    .dataframe thead th {\n",
       "        text-align: right;\n",
       "    }\n",
       "</style>\n",
       "<table border=\"1\" class=\"dataframe\">\n",
       "  <thead>\n",
       "    <tr style=\"text-align: right;\">\n",
       "      <th></th>\n",
       "      <th>waittime</th>\n",
       "    </tr>\n",
       "    <tr>\n",
       "      <th>created_date</th>\n",
       "      <th></th>\n",
       "    </tr>\n",
       "  </thead>\n",
       "  <tbody>\n",
       "    <tr>\n",
       "      <th>2019-05-28 04:53:17</th>\n",
       "      <td>0.078715</td>\n",
       "    </tr>\n",
       "    <tr>\n",
       "      <th>2019-05-28 04:53:50</th>\n",
       "      <td>0.094618</td>\n",
       "    </tr>\n",
       "    <tr>\n",
       "      <th>2019-05-28 04:54:00</th>\n",
       "      <td>0.135891</td>\n",
       "    </tr>\n",
       "    <tr>\n",
       "      <th>2019-05-28 04:58:44</th>\n",
       "      <td>0.010903</td>\n",
       "    </tr>\n",
       "    <tr>\n",
       "      <th>2019-05-28 05:00:34</th>\n",
       "      <td>0.068704</td>\n",
       "    </tr>\n",
       "  </tbody>\n",
       "</table>\n",
       "</div>"
      ],
      "text/plain": [
       "                     waittime\n",
       "created_date                 \n",
       "2019-05-28 04:53:17  0.078715\n",
       "2019-05-28 04:53:50  0.094618\n",
       "2019-05-28 04:54:00  0.135891\n",
       "2019-05-28 04:58:44  0.010903\n",
       "2019-05-28 05:00:34  0.068704"
      ]
     },
     "execution_count": 410,
     "metadata": {},
     "output_type": "execute_result"
    }
   ],
   "source": [
    "ts_df = original[['created_date','waittime']]\n",
    "\n",
    "ts_df['created_date'] = pd.to_datetime(ts_df['created_date'])\n",
    "\n",
    "# set the date as an index\n",
    "ts_df.set_index('created_date', inplace=True)\n",
    "\n",
    "# sort index\n",
    "ts_df.sort_index(inplace=True, ascending=True)\n",
    "ts_df.head()"
   ]
  },
  {
   "cell_type": "code",
   "execution_count": 411,
   "metadata": {},
   "outputs": [
    {
     "data": {
      "text/html": [
       "<div>\n",
       "<style scoped>\n",
       "    .dataframe tbody tr th:only-of-type {\n",
       "        vertical-align: middle;\n",
       "    }\n",
       "\n",
       "    .dataframe tbody tr th {\n",
       "        vertical-align: top;\n",
       "    }\n",
       "\n",
       "    .dataframe thead th {\n",
       "        text-align: right;\n",
       "    }\n",
       "</style>\n",
       "<table border=\"1\" class=\"dataframe\">\n",
       "  <thead>\n",
       "    <tr style=\"text-align: right;\">\n",
       "      <th></th>\n",
       "      <th>waittime</th>\n",
       "    </tr>\n",
       "    <tr>\n",
       "      <th>created_date</th>\n",
       "      <th></th>\n",
       "    </tr>\n",
       "  </thead>\n",
       "  <tbody>\n",
       "    <tr>\n",
       "      <th>2020-01-27</th>\n",
       "      <td>0.458555</td>\n",
       "    </tr>\n",
       "    <tr>\n",
       "      <th>2020-01-28</th>\n",
       "      <td>0.480302</td>\n",
       "    </tr>\n",
       "    <tr>\n",
       "      <th>2020-01-29</th>\n",
       "      <td>0.222460</td>\n",
       "    </tr>\n",
       "    <tr>\n",
       "      <th>2020-01-30</th>\n",
       "      <td>0.540833</td>\n",
       "    </tr>\n",
       "    <tr>\n",
       "      <th>2020-01-31</th>\n",
       "      <td>0.521663</td>\n",
       "    </tr>\n",
       "  </tbody>\n",
       "</table>\n",
       "</div>"
      ],
      "text/plain": [
       "              waittime\n",
       "created_date          \n",
       "2020-01-27    0.458555\n",
       "2020-01-28    0.480302\n",
       "2020-01-29    0.222460\n",
       "2020-01-30    0.540833\n",
       "2020-01-31    0.521663"
      ]
     },
     "execution_count": 411,
     "metadata": {},
     "output_type": "execute_result"
    }
   ],
   "source": [
    "ts_df = ts_df.resample('D').mean()\n",
    "ts_df.tail()"
   ]
  },
  {
   "cell_type": "code",
   "execution_count": 412,
   "metadata": {},
   "outputs": [],
   "source": [
    "t_train, t_test = train_test_split(ts_df, test_size=.2, shuffle=False)"
   ]
  },
  {
   "cell_type": "code",
   "execution_count": 413,
   "metadata": {},
   "outputs": [
    {
     "data": {
      "image/png": "[encoded data removed]",
      "text/plain": [
       "<Figure size 576x576 with 1 Axes>"
      ]
     },
     "metadata": {
      "needs_background": "light"
     },
     "output_type": "display_data"
    }
   ],
   "source": [
    "# Generate line plot of bus_ridership\n",
    "plt.figure(figsize=(8,8))\n",
    "plt.plot(t_train['waittime']);\n",
    "plt.title(label='Wait Time', fontsize = 16)\n",
    "plt.xlabel(\"Date\")\n",
    "plt.ylabel(\"Wait Time (days)\");"
   ]
  },
  {
   "cell_type": "markdown",
   "metadata": {},
   "source": [
    "Unclear what is going on here but on June 28, 2019 many requests opened that day took weeks to close. There was no evidence."
   ]
  },
  {
   "cell_type": "markdown",
   "metadata": {},
   "source": [
    "\n",
    "## Model Preparation"
   ]
  },
  {
   "cell_type": "markdown",
   "metadata": {},
   "source": [
    "### Dummy Variables"
   ]
  },
  {
   "cell_type": "code",
   "execution_count": 70,
   "metadata": {},
   "outputs": [],
   "source": [
    "new_features = ['complaint_type',\n",
    " 'descriptor',\n",
    " 'location_type',\n",
    " 'borough',\n",
    " 'open_data_channel_type', 'cluster_predicted']"
   ]
  },
  {
   "cell_type": "code",
   "execution_count": 72,
   "metadata": {},
   "outputs": [
    {
     "data": {
      "text/html": [
       "<div>\n",
       "<style scoped>\n",
       "    .dataframe tbody tr th:only-of-type {\n",
       "        vertical-align: middle;\n",
       "    }\n",
       "\n",
       "    .dataframe tbody tr th {\n",
       "        vertical-align: top;\n",
       "    }\n",
       "\n",
       "    .dataframe thead th {\n",
       "        text-align: right;\n",
       "    }\n",
       "</style>\n",
       "<table border=\"1\" class=\"dataframe\">\n",
       "  <thead>\n",
       "    <tr style=\"text-align: right;\">\n",
       "      <th></th>\n",
       "      <th>complaint_type_Animal Abuse</th>\n",
       "      <th>complaint_type_Animal-Abuse</th>\n",
       "      <th>complaint_type_Bike/Roller/Skate Chronic</th>\n",
       "      <th>complaint_type_Blocked Driveway</th>\n",
       "      <th>complaint_type_Derelict Vehicle</th>\n",
       "      <th>complaint_type_Disorderly Youth</th>\n",
       "      <th>complaint_type_Drinking</th>\n",
       "      <th>complaint_type_Drug Activity</th>\n",
       "      <th>complaint_type_Graffiti</th>\n",
       "      <th>complaint_type_Homeless Encampment</th>\n",
       "      <th>...</th>\n",
       "      <th>borough_STATEN ISLAND</th>\n",
       "      <th>borough_Unspecified</th>\n",
       "      <th>open_data_channel_type_ONLINE</th>\n",
       "      <th>open_data_channel_type_OTHER</th>\n",
       "      <th>open_data_channel_type_PHONE</th>\n",
       "      <th>open_data_channel_type_UNKNOWN</th>\n",
       "      <th>cluster_predicted_Noise Brooklyn</th>\n",
       "      <th>cluster_predicted_Noise Queens</th>\n",
       "      <th>cluster_predicted_Parking Manhattan</th>\n",
       "      <th>cluster_predicted_Parking Queens</th>\n",
       "    </tr>\n",
       "  </thead>\n",
       "  <tbody>\n",
       "    <tr>\n",
       "      <th>0</th>\n",
       "      <td>0</td>\n",
       "      <td>0</td>\n",
       "      <td>0</td>\n",
       "      <td>0</td>\n",
       "      <td>0</td>\n",
       "      <td>0</td>\n",
       "      <td>0</td>\n",
       "      <td>0</td>\n",
       "      <td>0</td>\n",
       "      <td>0</td>\n",
       "      <td>...</td>\n",
       "      <td>0</td>\n",
       "      <td>0</td>\n",
       "      <td>1</td>\n",
       "      <td>0</td>\n",
       "      <td>0</td>\n",
       "      <td>0</td>\n",
       "      <td>0</td>\n",
       "      <td>0</td>\n",
       "      <td>0</td>\n",
       "      <td>1</td>\n",
       "    </tr>\n",
       "    <tr>\n",
       "      <th>1</th>\n",
       "      <td>0</td>\n",
       "      <td>0</td>\n",
       "      <td>0</td>\n",
       "      <td>0</td>\n",
       "      <td>0</td>\n",
       "      <td>0</td>\n",
       "      <td>0</td>\n",
       "      <td>0</td>\n",
       "      <td>0</td>\n",
       "      <td>0</td>\n",
       "      <td>...</td>\n",
       "      <td>0</td>\n",
       "      <td>0</td>\n",
       "      <td>0</td>\n",
       "      <td>0</td>\n",
       "      <td>0</td>\n",
       "      <td>0</td>\n",
       "      <td>1</td>\n",
       "      <td>0</td>\n",
       "      <td>0</td>\n",
       "      <td>0</td>\n",
       "    </tr>\n",
       "    <tr>\n",
       "      <th>2</th>\n",
       "      <td>0</td>\n",
       "      <td>0</td>\n",
       "      <td>0</td>\n",
       "      <td>0</td>\n",
       "      <td>0</td>\n",
       "      <td>0</td>\n",
       "      <td>0</td>\n",
       "      <td>0</td>\n",
       "      <td>0</td>\n",
       "      <td>0</td>\n",
       "      <td>...</td>\n",
       "      <td>0</td>\n",
       "      <td>0</td>\n",
       "      <td>1</td>\n",
       "      <td>0</td>\n",
       "      <td>0</td>\n",
       "      <td>0</td>\n",
       "      <td>1</td>\n",
       "      <td>0</td>\n",
       "      <td>0</td>\n",
       "      <td>0</td>\n",
       "    </tr>\n",
       "    <tr>\n",
       "      <th>3</th>\n",
       "      <td>0</td>\n",
       "      <td>0</td>\n",
       "      <td>0</td>\n",
       "      <td>0</td>\n",
       "      <td>0</td>\n",
       "      <td>0</td>\n",
       "      <td>0</td>\n",
       "      <td>0</td>\n",
       "      <td>0</td>\n",
       "      <td>0</td>\n",
       "      <td>...</td>\n",
       "      <td>0</td>\n",
       "      <td>0</td>\n",
       "      <td>1</td>\n",
       "      <td>0</td>\n",
       "      <td>0</td>\n",
       "      <td>0</td>\n",
       "      <td>0</td>\n",
       "      <td>0</td>\n",
       "      <td>0</td>\n",
       "      <td>1</td>\n",
       "    </tr>\n",
       "    <tr>\n",
       "      <th>4</th>\n",
       "      <td>0</td>\n",
       "      <td>0</td>\n",
       "      <td>0</td>\n",
       "      <td>0</td>\n",
       "      <td>0</td>\n",
       "      <td>0</td>\n",
       "      <td>0</td>\n",
       "      <td>0</td>\n",
       "      <td>0</td>\n",
       "      <td>0</td>\n",
       "      <td>...</td>\n",
       "      <td>0</td>\n",
       "      <td>0</td>\n",
       "      <td>0</td>\n",
       "      <td>0</td>\n",
       "      <td>1</td>\n",
       "      <td>0</td>\n",
       "      <td>0</td>\n",
       "      <td>0</td>\n",
       "      <td>1</td>\n",
       "      <td>0</td>\n",
       "    </tr>\n",
       "  </tbody>\n",
       "</table>\n",
       "<p>5 rows × 108 columns</p>\n",
       "</div>"
      ],
      "text/plain": [
       "   complaint_type_Animal Abuse  complaint_type_Animal-Abuse  \\\n",
       "0                            0                            0   \n",
       "1                            0                            0   \n",
       "2                            0                            0   \n",
       "3                            0                            0   \n",
       "4                            0                            0   \n",
       "\n",
       "   complaint_type_Bike/Roller/Skate Chronic  complaint_type_Blocked Driveway  \\\n",
       "0                                         0                                0   \n",
       "1                                         0                                0   \n",
       "2                                         0                                0   \n",
       "3                                         0                                0   \n",
       "4                                         0                                0   \n",
       "\n",
       "   complaint_type_Derelict Vehicle  complaint_type_Disorderly Youth  \\\n",
       "0                                0                                0   \n",
       "1                                0                                0   \n",
       "2                                0                                0   \n",
       "3                                0                                0   \n",
       "4                                0                                0   \n",
       "\n",
       "   complaint_type_Drinking  complaint_type_Drug Activity  \\\n",
       "0                        0                             0   \n",
       "1                        0                             0   \n",
       "2                        0                             0   \n",
       "3                        0                             0   \n",
       "4                        0                             0   \n",
       "\n",
       "   complaint_type_Graffiti  complaint_type_Homeless Encampment  ...  \\\n",
       "0                        0                                   0  ...   \n",
       "1                        0                                   0  ...   \n",
       "2                        0                                   0  ...   \n",
       "3                        0                                   0  ...   \n",
       "4                        0                                   0  ...   \n",
       "\n",
       "   borough_STATEN ISLAND  borough_Unspecified  open_data_channel_type_ONLINE  \\\n",
       "0                      0                    0                              1   \n",
       "1                      0                    0                              0   \n",
       "2                      0                    0                              1   \n",
       "3                      0                    0                              1   \n",
       "4                      0                    0                              0   \n",
       "\n",
       "   open_data_channel_type_OTHER  open_data_channel_type_PHONE  \\\n",
       "0                             0                             0   \n",
       "1                             0                             0   \n",
       "2                             0                             0   \n",
       "3                             0                             0   \n",
       "4                             0                             1   \n",
       "\n",
       "   open_data_channel_type_UNKNOWN  cluster_predicted_Noise Brooklyn  \\\n",
       "0                               0                                 0   \n",
       "1                               0                                 1   \n",
       "2                               0                                 1   \n",
       "3                               0                                 0   \n",
       "4                               0                                 0   \n",
       "\n",
       "   cluster_predicted_Noise Queens  cluster_predicted_Parking Manhattan  \\\n",
       "0                               0                                    0   \n",
       "1                               0                                    0   \n",
       "2                               0                                    0   \n",
       "3                               0                                    0   \n",
       "4                               0                                    1   \n",
       "\n",
       "   cluster_predicted_Parking Queens  \n",
       "0                                 1  \n",
       "1                                 0  \n",
       "2                                 0  \n",
       "3                                 1  \n",
       "4                                 0  \n",
       "\n",
       "[5 rows x 108 columns]"
      ]
     },
     "execution_count": 72,
     "metadata": {},
     "output_type": "execute_result"
    }
   ],
   "source": [
    "dummy_sr = new_sr[new_features]\n",
    "dummy_sr = pd.get_dummies(dummy_sr, columns=new_features, drop_first=True)\n",
    "dummy_sr.head()"
   ]
  },
  {
   "cell_type": "code",
   "execution_count": 73,
   "metadata": {},
   "outputs": [],
   "source": [
    "# set up X and y\n",
    "X = dummy_sr\n",
    "y = new_sr['waittime']\n",
    "\n",
    "# train test split\n",
    "X_train, X_test, y_train, y_test = train_test_split(X, y, random_state=RANDOM_STATE)"
   ]
  },
  {
   "cell_type": "code",
   "execution_count": 332,
   "metadata": {},
   "outputs": [
    {
     "data": {
      "text/plain": [
       "0"
      ]
     },
     "execution_count": 332,
     "metadata": {},
     "output_type": "execute_result"
    }
   ],
   "source": [
    "X.isnull().sum().sum()"
   ]
  },
  {
   "cell_type": "code",
   "execution_count": 333,
   "metadata": {},
   "outputs": [
    {
     "data": {
      "text/plain": [
       "0"
      ]
     },
     "execution_count": 333,
     "metadata": {},
     "output_type": "execute_result"
    }
   ],
   "source": [
    "y.isnull().sum()"
   ]
  },
  {
   "cell_type": "markdown",
   "metadata": {},
   "source": [
    "#### RMSE Function"
   ]
  },
  {
   "cell_type": "code",
   "execution_count": 121,
   "metadata": {},
   "outputs": [],
   "source": [
    "# source: Mahdi Shadkam-Farrokhi, https://git.generalassemb.ly/DSI-US-11/local_faq/blob/master/code/custom_cross_val_score.ipynb\n",
    "\n",
    "# function to find RMSE \n",
    "def rmse(y_true, y_pred): # this signature matters for later use with `make_scorer`\n",
    "    '''Returns the root mean squared error'''\n",
    "    return np.sqrt(mean_squared_error(y_true, y_pred))\n",
    "\n",
    "\n",
    "def rmse_log(y_true, y_pred): # this signature matters for later use with `make_scorer`\n",
    "    '''Returns the root mean squared error'''\n",
    "    return np.sqrt(mean_squared_error(np.exp(y_true), np.exp(y_pred)))"
   ]
  },
  {
   "cell_type": "markdown",
   "metadata": {},
   "source": [
    "## Modeling "
   ]
  },
  {
   "cell_type": "markdown",
   "metadata": {},
   "source": [
    "We will be using root mean sqaured error (RMSE) as our metric to measure the success of our models. Reminder that a smaller RMSE indicates a \"better\" model. "
   ]
  },
  {
   "cell_type": "markdown",
   "metadata": {},
   "source": [
    "### Baseline Model"
   ]
  },
  {
   "cell_type": "code",
   "execution_count": 74,
   "metadata": {},
   "outputs": [],
   "source": [
    "dummy = DummyRegressor(strategy='mean')\n",
    "dummy.fit(X_train, y_train)\n",
    "dummy_tr_preds = dummy.predict(X_train) \n",
    "dummy_te_preds = dummy.predict(X_test)"
   ]
  },
  {
   "cell_type": "code",
   "execution_count": 75,
   "metadata": {},
   "outputs": [
    {
     "name": "stdout",
     "output_type": "stream",
     "text": [
      "Train: 1.4746198199844749\n",
      "Test: 1.4359782004542598\n",
      "Cross Val: 1.464729948471881\n",
      "Difference: -0.038641619530215054\n"
     ]
    }
   ],
   "source": [
    "print(f'Train:', rmse(y_train, dummy_tr_preds))\n",
    "print(f'Test:', rmse(y_test, dummy_te_preds))\n",
    "print(f'Cross Val:', cross_val_score(dummy, X, y, scoring=make_scorer(rmse), cv=5).mean())\n",
    "print(f'Difference: {rmse(y_test, dummy_te_preds) - rmse(y_train, dummy_tr_preds)}')"
   ]
  },
  {
   "cell_type": "markdown",
   "metadata": {},
   "source": [
    "Our most basic model is performing with a testing RMSE of 1.44 days. Being that the overwhelming majority of our data target variable was less than 1 day, this is showing a fairly large margin of error. Additionally, the training score (1.47) is higher than the testing score indicating our model is currently underfit. "
   ]
  },
  {
   "cell_type": "markdown",
   "metadata": {},
   "source": [
    "### Linear Regression"
   ]
  },
  {
   "cell_type": "markdown",
   "metadata": {},
   "source": [
    "Because the distribution of our target variable is so heavily skewed, we will be using the log of the target variable as its distribution is much closer to a normal distribution. "
   ]
  },
  {
   "cell_type": "code",
   "execution_count": 48,
   "metadata": {},
   "outputs": [],
   "source": [
    "lr = LinearRegression()\n",
    "lr.fit(X_train,np.log(y_train))\n",
    "lr_tr_preds = lr.predict(X_train)\n",
    "lr_te_preds = lr.predict(X_test)"
   ]
  },
  {
   "cell_type": "code",
   "execution_count": 122,
   "metadata": {},
   "outputs": [
    {
     "name": "stdout",
     "output_type": "stream",
     "text": [
      "Train: 1.4877216610143758\n",
      "Test: 1.448758512608645\n",
      "Cross Val: 1.4777801265938266\n",
      "Difference: -0.038963148405730674\n"
     ]
    }
   ],
   "source": [
    "print(f'Train:', rmse(y_train, np.exp(lr_tr_preds)))\n",
    "print(f'Test:', rmse(y_test, np.exp(lr_te_preds)))\n",
    "print(f'Cross Val:', cross_val_score(lr, X, np.log(y), scoring=make_scorer(rmse_log), cv=5).mean())\n",
    "print(f'Difference: {rmse(y_test, np.exp(lr_te_preds)) - rmse(y_train, np.exp(lr_tr_preds))}')"
   ]
  },
  {
   "cell_type": "markdown",
   "metadata": {},
   "source": [
    "Our linear regression model is performing at essentially the same level as our baseline model. The training (1.49) and testing (1.45) scores are very close to the baseline scores with a similar difference in the scores (-.039), again showing an underfit model. We will continue with a different model approach. "
   ]
  },
  {
   "cell_type": "markdown",
   "metadata": {},
   "source": [
    "### Decision Tree"
   ]
  },
  {
   "cell_type": "code",
   "execution_count": 82,
   "metadata": {},
   "outputs": [],
   "source": [
    "tree = DecisionTreeRegressor()\n",
    "\n",
    "# construct paramters\n",
    "tree_params = {\n",
    "    'max_depth' : [3],\n",
    "    'max_features' : [7],\n",
    "    'min_samples_leaf' : [3]\n",
    "}\n",
    "\n",
    " # Perform Grid Search\n",
    "gs = GridSearchCV(tree, \n",
    "                 param_grid=tree_params,\n",
    "                 cv = 5,\n",
    "                 scoring = make_scorer(rmse))\n",
    "tree = gs.fit(X_train, y_train)"
   ]
  },
  {
   "cell_type": "code",
   "execution_count": 83,
   "metadata": {},
   "outputs": [
    {
     "data": {
      "text/plain": [
       "{'max_depth': 3, 'max_features': 7, 'min_samples_leaf': 3}"
      ]
     },
     "execution_count": 83,
     "metadata": {},
     "output_type": "execute_result"
    }
   ],
   "source": [
    "tree.best_params_"
   ]
  },
  {
   "cell_type": "code",
   "execution_count": 84,
   "metadata": {},
   "outputs": [],
   "source": [
    "tree_tr_preds = tree.predict(X_train)\n",
    "tree_te_preds = tree.predict(X_test)"
   ]
  },
  {
   "cell_type": "code",
   "execution_count": 85,
   "metadata": {},
   "outputs": [
    {
     "name": "stdout",
     "output_type": "stream",
     "text": [
      "Train: 1.4734682305010258\n",
      "Test: 1.4348725487288598\n",
      "Cross Val: 1.463273847194364\n",
      "Difference: -0.03859568177216599\n"
     ]
    }
   ],
   "source": [
    "print(f'Train:', rmse(y_train, tree_tr_preds))\n",
    "print(f'Test:', rmse(y_test, tree_te_preds))\n",
    "print(f'Cross Val:', cross_val_score(tree.best_estimator_, X, y, scoring=make_scorer(rmse), cv=5).mean())\n",
    "print(f'Difference: {rmse(y_test, tree_te_preds) - rmse(y_train, tree_tr_preds)}')"
   ]
  },
  {
   "cell_type": "markdown",
   "metadata": {},
   "source": [
    "Again, our decision tree model is showing similar results to the previous models. Training RMSE is 1.47, testing RMSE is 1.43, and the difference between the scores is -0.039. Our model continues to be underfit, but we will try using a random forest model in an attempt to add randomness to our model and hopefully improve our RMSE. "
   ]
  },
  {
   "cell_type": "markdown",
   "metadata": {},
   "source": [
    "### Random Forest"
   ]
  },
  {
   "cell_type": "code",
   "execution_count": 104,
   "metadata": {},
   "outputs": [],
   "source": [
    "rf = RandomForestRegressor()\n",
    "\n",
    "# construct paramters\n",
    "rf_params = {\n",
    "    'n_estimators' : [80],\n",
    "    'max_features' : [20],\n",
    "    'max_depth' : [3]\n",
    "}\n",
    "\n",
    " # Perform Grid Search\n",
    "gs = GridSearchCV(rf, \n",
    "                 param_grid=rf_params,\n",
    "                 cv = 5,\n",
    "                 scoring = make_scorer(rmse))\n",
    "rf = gs.fit(X_train, y_train)"
   ]
  },
  {
   "cell_type": "code",
   "execution_count": 105,
   "metadata": {},
   "outputs": [
    {
     "data": {
      "text/plain": [
       "{'max_depth': 3, 'max_features': 20, 'n_estimators': 80}"
      ]
     },
     "execution_count": 105,
     "metadata": {},
     "output_type": "execute_result"
    }
   ],
   "source": [
    "rf.best_params_"
   ]
  },
  {
   "cell_type": "code",
   "execution_count": 106,
   "metadata": {},
   "outputs": [],
   "source": [
    "rf_tr_preds = rf.predict(X_train)\n",
    "rf_te_preds = rf.predict(X_test)"
   ]
  },
  {
   "cell_type": "code",
   "execution_count": 107,
   "metadata": {},
   "outputs": [
    {
     "name": "stdout",
     "output_type": "stream",
     "text": [
      "Train: 1.4696320267085226\n",
      "Test: 1.4310856630732955\n",
      "Cross Val: 1.460245274720122\n",
      "Difference: -0.03854636363522701\n"
     ]
    }
   ],
   "source": [
    "print(f'Train:', rmse(y_train, rf_tr_preds))\n",
    "print(f'Test:', rmse(y_test, rf_te_preds))\n",
    "print(f'Cross Val:', cross_val_score(rf.best_estimator_, X, y, scoring=make_scorer(rmse), cv=5).mean())\n",
    "print(f'Difference: {rmse(y_test, rf_te_preds) - rmse(y_train, rf_tr_preds)}')"
   ]
  },
  {
   "cell_type": "markdown",
   "metadata": {},
   "source": [
    "While the random forest model is showing small differences, our training and testing scores are essentially the same. Training RMSE remains at 1.47, testing RMSE is 1.43 and the difference is still -0.039."
   ]
  },
  {
   "cell_type": "markdown",
   "metadata": {},
   "source": [
    "### Generalized Linear Model - Gamma Regression"
   ]
  },
  {
   "cell_type": "markdown",
   "metadata": {},
   "source": [
    "A generalized linear model using Gamma regression is useful when we are attempting to predict the time until an event occurs. In this instance, the event is the service requet being closed, so we are predicting how long it will take for the request to be closed.  "
   ]
  },
  {
   "cell_type": "code",
   "execution_count": 108,
   "metadata": {},
   "outputs": [],
   "source": [
    "train_index = X_train.index\n",
    "test_index = X_test.index"
   ]
  },
  {
   "cell_type": "code",
   "execution_count": 109,
   "metadata": {},
   "outputs": [],
   "source": [
    "r_sr = new_sr[new_features + ['waittime']]\n",
    "r_train = r_sr.iloc[train_index]\n",
    "r_test = r_sr.iloc[test_index]"
   ]
  },
  {
   "cell_type": "markdown",
   "metadata": {},
   "source": [
    "We use `statsmodels` to run our GLM and will be using a custom formula. Our data needs to be in the same dataframe, not split up into X and y for these models. "
   ]
  },
  {
   "cell_type": "code",
   "execution_count": 115,
   "metadata": {},
   "outputs": [
    {
     "name": "stderr",
     "output_type": "stream",
     "text": [
      "/opt/anaconda3/envs/dsi/lib/python3.7/site-packages/ipykernel_launcher.py:4: DeprecationWarning: Calling Family(..) with a link class as argument is deprecated.\n",
      "Use an instance of a link class instead.\n",
      "  after removing the cwd from sys.path.\n"
     ]
    }
   ],
   "source": [
    "glm_gamma_log = smf.glm(\n",
    "    formula = \"waittime ~ C(complaint_type) + C(descriptor) + C(location_type) + C(borough) + C(open_data_channel_type) + C(cluster_predicted)\",\n",
    "    data = r_train,\n",
    "    family = sm.families.Gamma(link = sm.families.links.log)\n",
    ").fit()"
   ]
  },
  {
   "cell_type": "code",
   "execution_count": 118,
   "metadata": {},
   "outputs": [],
   "source": [
    "gamma_log_tr_preds = glm_gamma_log.predict(r_train)\n",
    "gamma_log_te_preds = glm_gamma_log.predict(r_test)"
   ]
  },
  {
   "cell_type": "code",
   "execution_count": 119,
   "metadata": {},
   "outputs": [
    {
     "name": "stdout",
     "output_type": "stream",
     "text": [
      "Train: 1.4670255226021836\n",
      "Test: 1.4288278081866703\n",
      "Difference: -0.03819771441551323\n"
     ]
    }
   ],
   "source": [
    "print(f'Train:', rmse(y_train, gamma_log_tr_preds))\n",
    "print(f'Test:', rmse(y_test, gamma_log_te_preds))\n",
    "print(f'Difference: {rmse(y_test, gamma_log_te_preds) - rmse(y_train, gamma_log_tr_preds)}')"
   ]
  },
  {
   "cell_type": "markdown",
   "metadata": {},
   "source": [
    "Again we see a small decrease in the scores, but when rounded match the previously recorded scores. Training RMSE remains 1.47, testing RMSE is 1.43, and the difference is -0.038. Due to the fact that our model is still underfit, we will lastly try an AdaBoost model which should help with the increased bias in our current models. "
   ]
  },
  {
   "cell_type": "markdown",
   "metadata": {},
   "source": [
    "## AdaBoost"
   ]
  },
  {
   "cell_type": "code",
   "execution_count": 134,
   "metadata": {},
   "outputs": [],
   "source": [
    "ada = AdaBoostRegressor(base_estimator=DecisionTreeRegressor())\n",
    "ada_params = {\n",
    "    'n_estimators': [100],\n",
    "    'base_estimator__max_depth': [2],\n",
    "    'learning_rate': [1.]\n",
    "}\n",
    "gs = GridSearchCV(ada, param_grid=ada_params, cv=5)\n",
    "ada = gs.fit(X_train, y_train)"
   ]
  },
  {
   "cell_type": "code",
   "execution_count": 135,
   "metadata": {},
   "outputs": [
    {
     "data": {
      "text/plain": [
       "{'base_estimator__max_depth': 2, 'learning_rate': 1.0, 'n_estimators': 100}"
      ]
     },
     "execution_count": 135,
     "metadata": {},
     "output_type": "execute_result"
    }
   ],
   "source": [
    "ada.best_params_"
   ]
  },
  {
   "cell_type": "code",
   "execution_count": 136,
   "metadata": {},
   "outputs": [],
   "source": [
    "ada_tr_preds = ada.predict(X_train)\n",
    "ada_te_preds = ada.predict(X_test)"
   ]
  },
  {
   "cell_type": "code",
   "execution_count": 137,
   "metadata": {},
   "outputs": [
    {
     "name": "stdout",
     "output_type": "stream",
     "text": [
      "Train: 1.4706017425911349\n",
      "Test: 1.4318082632031572\n",
      "Difference: -0.038793479387977614\n"
     ]
    }
   ],
   "source": [
    "print(f'Train:', rmse(y_train, ada_tr_preds))\n",
    "print(f'Test:', rmse(y_test, ada_te_preds))\n",
    "print(f'Difference: {rmse(y_test, ada_te_preds) - rmse(y_train, ada_tr_preds)}')"
   ]
  },
  {
   "cell_type": "markdown",
   "metadata": {},
   "source": [
    "Despite our beliefs that the AdaBoost model would address the underfitting issue, it did not. Our training and testing scores remain the same as stated above. "
   ]
  },
  {
   "cell_type": "markdown",
   "metadata": {},
   "source": [
    "### ARIMA"
   ]
  },
  {
   "cell_type": "code",
   "execution_count": 371,
   "metadata": {},
   "outputs": [],
   "source": [
    "def interpret_dftest(target_column):\n",
    "    '''Returns the Test Statistic and p-value for Augmented Dickey-Fuller test on given target column'''\n",
    "    dftest = adfuller(target_column)\n",
    "    dfoutput = pd.Series(dftest[0:2], index=['Test Statistic','p-value'])\n",
    "    return dfoutput"
   ]
  },
  {
   "cell_type": "code",
   "execution_count": 414,
   "metadata": {},
   "outputs": [
    {
     "data": {
      "text/plain": [
       "Test Statistic   -1.246683e+01\n",
       "p-value           3.311299e-23\n",
       "dtype: float64"
      ]
     },
     "execution_count": 414,
     "metadata": {},
     "output_type": "execute_result"
    }
   ],
   "source": [
    "interpret_dftest(t_train['waittime'])"
   ]
  },
  {
   "cell_type": "markdown",
   "metadata": {},
   "source": [
    "We have stationairty!"
   ]
  },
  {
   "cell_type": "code",
   "execution_count": 415,
   "metadata": {},
   "outputs": [
    {
     "data": {
      "image/png": "[encoded data removed]",
      "text/plain": [
       "<Figure size 432x288 with 1 Axes>"
      ]
     },
     "metadata": {
      "needs_background": "light"
     },
     "output_type": "display_data"
    }
   ],
   "source": [
    "plot_acf(t_train['waittime'], lags = 50);"
   ]
  },
  {
   "cell_type": "code",
   "execution_count": 416,
   "metadata": {},
   "outputs": [
    {
     "data": {
      "image/png": "[encoded data removed]",
      "text/plain": [
       "<Figure size 432x288 with 1 Axes>"
      ]
     },
     "metadata": {
      "needs_background": "light"
     },
     "output_type": "display_data"
    }
   ],
   "source": [
    "plot_pacf(t_train['waittime'], lags = 50);"
   ]
  },
  {
   "cell_type": "code",
   "execution_count": 376,
   "metadata": {},
   "outputs": [],
   "source": [
    "from pmdarima import auto_arima"
   ]
  },
  {
   "cell_type": "code",
   "execution_count": 417,
   "metadata": {},
   "outputs": [
    {
     "name": "stdout",
     "output_type": "stream",
     "text": [
      "Performing stepwise search to minimize aic\n",
      "Fit ARIMA(0,0,0)x(0,0,0,0) [intercept=True]; AIC=285.789, BIC=292.376, Time=0.049 seconds\n",
      "Fit ARIMA(1,0,0)x(0,0,0,0) [intercept=True]; AIC=285.080, BIC=294.960, Time=0.031 seconds\n",
      "Fit ARIMA(0,0,1)x(0,0,0,0) [intercept=True]; AIC=285.074, BIC=294.954, Time=0.049 seconds\n",
      "Fit ARIMA(0,0,0)x(0,0,0,0) [intercept=False]; AIC=419.176, BIC=422.470, Time=0.017 seconds\n",
      "Fit ARIMA(1,0,1)x(0,0,0,0) [intercept=True]; AIC=287.082, BIC=300.255, Time=0.075 seconds\n",
      "Fit ARIMA(0,0,2)x(0,0,0,0) [intercept=True]; AIC=287.074, BIC=300.247, Time=0.102 seconds\n",
      "Fit ARIMA(1,0,2)x(0,0,0,0) [intercept=True]; AIC=287.685, BIC=304.152, Time=0.440 seconds\n",
      "Total fit time: 0.767 seconds\n"
     ]
    }
   ],
   "source": [
    "fitted_arima = auto_arima(\n",
    "    t_train,\n",
    "    start_p = 0,\n",
    "    start_q = 0,\n",
    "    max_p = 2,\n",
    "    max_q = 2,\n",
    "    d = 0,\n",
    "    stationary = True,\n",
    "    seasonal = False,\n",
    "    solver = 'lbfgs',\n",
    "    trace=True,\n",
    "    error_action='ignore',\n",
    "    suppress_warnings = True\n",
    ")"
   ]
  },
  {
   "cell_type": "code",
   "execution_count": 418,
   "metadata": {},
   "outputs": [
    {
     "data": {
      "text/plain": [
       "(0, 0, 1)"
      ]
     },
     "execution_count": 418,
     "metadata": {},
     "output_type": "execute_result"
    }
   ],
   "source": [
    "fitted_arima.order"
   ]
  },
  {
   "cell_type": "code",
   "execution_count": 419,
   "metadata": {},
   "outputs": [],
   "source": [
    "order = (0, 0, 1)\n",
    "# instatiate\n",
    "waittime_arima = ARIMA(t_train, order = order, freq = 'D')\n",
    "\n",
    "#fit\n",
    "fitted_waittime_arima = waittime_arima.fit()"
   ]
  },
  {
   "cell_type": "code",
   "execution_count": 420,
   "metadata": {},
   "outputs": [
    {
     "data": {
      "text/html": [
       "<table class=\"simpletable\">\n",
       "<caption>ARMA Model Results</caption>\n",
       "<tr>\n",
       "  <th>Dep. Variable:</th>     <td>waittime</td>     <th>  No. Observations:  </th>    <td>199</td>  \n",
       "</tr>\n",
       "<tr>\n",
       "  <th>Model:</th>            <td>ARMA(0, 1)</td>    <th>  Log Likelihood     </th> <td>-139.537</td>\n",
       "</tr>\n",
       "<tr>\n",
       "  <th>Method:</th>             <td>css-mle</td>     <th>  S.D. of innovations</th>   <td>0.488</td> \n",
       "</tr>\n",
       "<tr>\n",
       "  <th>Date:</th>          <td>Wed, 03 Jun 2020</td> <th>  AIC                </th>  <td>285.074</td>\n",
       "</tr>\n",
       "<tr>\n",
       "  <th>Time:</th>              <td>20:00:42</td>     <th>  BIC                </th>  <td>294.954</td>\n",
       "</tr>\n",
       "<tr>\n",
       "  <th>Sample:</th>           <td>05-28-2019</td>    <th>  HQIC               </th>  <td>289.073</td>\n",
       "</tr>\n",
       "<tr>\n",
       "  <th></th>                 <td>- 12-12-2019</td>   <th>                     </th>     <td> </td>   \n",
       "</tr>\n",
       "</table>\n",
       "<table class=\"simpletable\">\n",
       "<tr>\n",
       "         <td></td>           <th>coef</th>     <th>std err</th>      <th>z</th>      <th>P>|z|</th>  <th>[0.025</th>    <th>0.975]</th>  \n",
       "</tr>\n",
       "<tr>\n",
       "  <th>const</th>          <td>    0.4847</td> <td>    0.039</td> <td>   12.554</td> <td> 0.000</td> <td>    0.409</td> <td>    0.560</td>\n",
       "</tr>\n",
       "<tr>\n",
       "  <th>ma.L1.waittime</th> <td>    0.1171</td> <td>    0.071</td> <td>    1.655</td> <td> 0.098</td> <td>   -0.022</td> <td>    0.256</td>\n",
       "</tr>\n",
       "</table>\n",
       "<table class=\"simpletable\">\n",
       "<caption>Roots</caption>\n",
       "<tr>\n",
       "    <td></td>   <th>            Real</th>  <th>         Imaginary</th> <th>         Modulus</th>  <th>        Frequency</th>\n",
       "</tr>\n",
       "<tr>\n",
       "  <th>MA.1</th> <td>          -8.5400</td> <td>          +0.0000j</td> <td>           8.5400</td> <td>           0.5000</td>\n",
       "</tr>\n",
       "</table>"
      ],
      "text/plain": [
       "<class 'statsmodels.iolib.summary.Summary'>\n",
       "\"\"\"\n",
       "                              ARMA Model Results                              \n",
       "==============================================================================\n",
       "Dep. Variable:               waittime   No. Observations:                  199\n",
       "Model:                     ARMA(0, 1)   Log Likelihood                -139.537\n",
       "Method:                       css-mle   S.D. of innovations              0.488\n",
       "Date:                Wed, 03 Jun 2020   AIC                            285.074\n",
       "Time:                        20:00:42   BIC                            294.954\n",
       "Sample:                    05-28-2019   HQIC                           289.073\n",
       "                         - 12-12-2019                                         \n",
       "==================================================================================\n",
       "                     coef    std err          z      P>|z|      [0.025      0.975]\n",
       "----------------------------------------------------------------------------------\n",
       "const              0.4847      0.039     12.554      0.000       0.409       0.560\n",
       "ma.L1.waittime     0.1171      0.071      1.655      0.098      -0.022       0.256\n",
       "                                    Roots                                    \n",
       "=============================================================================\n",
       "                  Real          Imaginary           Modulus         Frequency\n",
       "-----------------------------------------------------------------------------\n",
       "MA.1           -8.5400           +0.0000j            8.5400            0.5000\n",
       "-----------------------------------------------------------------------------\n",
       "\"\"\""
      ]
     },
     "execution_count": 420,
     "metadata": {},
     "output_type": "execute_result"
    }
   ],
   "source": [
    "fitted_waittime_arima.summary()"
   ]
  },
  {
   "cell_type": "code",
   "execution_count": 421,
   "metadata": {},
   "outputs": [],
   "source": [
    "arima_tr_preds = fitted_waittime_arima.predict(start=1, end=-1, dynamic=False, typ='levels')"
   ]
  },
  {
   "cell_type": "code",
   "execution_count": null,
   "metadata": {},
   "outputs": [],
   "source": []
  },
  {
   "cell_type": "code",
   "execution_count": 424,
   "metadata": {},
   "outputs": [],
   "source": [
    "order = (0,0,1)\n",
    "\n",
    "temp_test_preds = []\n",
    "history = t_train.values\n",
    "conf_ints = []\n",
    "for value in t_test.values:\n",
    "    # create model\n",
    "    arima = ARIMA(history, order = order)\n",
    "    # fit\n",
    "    fitted_arima = arima.fit()\n",
    "    # make next out-of-sample prediction\n",
    "    pred, _, conf_int = fitted_arima.forecast(steps = 1)\n",
    "    \n",
    "    # add to preds and conf_ints\n",
    "    temp_test_preds.append(pred[0])\n",
    "    conf_ints.append(conf_int[0])\n",
    "    \n",
    "    # add TRUTH to history for next training\n",
    "    history = np.append(history, value)"
   ]
  },
  {
   "cell_type": "code",
   "execution_count": 425,
   "metadata": {},
   "outputs": [],
   "source": [
    "new_test_preds = pd.Series(temp_test_preds, index = t_test.index)"
   ]
  },
  {
   "cell_type": "code",
   "execution_count": 426,
   "metadata": {},
   "outputs": [
    {
     "data": {
      "image/png": "[encoded data removed]",
      "text/plain": [
       "<Figure size 864x360 with 1 Axes>"
      ]
     },
     "metadata": {
      "needs_background": "light"
     },
     "output_type": "display_data"
    }
   ],
   "source": [
    "upper_conf_int = np.array(conf_ints)[:,0]\n",
    "lower_conf_int = np.array(conf_ints)[:,1]\n",
    "\n",
    "plt.figure(figsize=(12,5))\n",
    "plt.title(\"Average Wait Time by Day using multiple out-of-sample predictions\")\n",
    "\n",
    "# train data\n",
    "plt.plot(t_train.index, t_train, lw=1, color='green', ls='solid',label='Train Data')\n",
    "\n",
    "# train prediction\n",
    "plt.plot(arima_tr_preds.index, arima_tr_preds, lw=1, color='orange', ls='dashed',label='Training Predictions')\n",
    "\n",
    "# test data\n",
    "plt.plot(t_test.index, t_test, lw=1, color='blue', ls='solid',label='Test Data')\n",
    "\n",
    "# test predictions\n",
    "plt.plot(new_test_preds.index, new_test_preds, lw=1, color='red', ls='dashed',label='Testing Predictions')\n",
    "\n",
    "#  data\n",
    "plt.xlabel(\"Date\")\n",
    "plt.ylabel(\"Wait Time (Days)\")\n",
    "\n",
    "# conf-int\n",
    "plt.fill_between(t_test.index, lower_conf_int, upper_conf_int, color='k', alpha=0.1);\n",
    "plt.legend(loc = \"upper left\");"
   ]
  },
  {
   "cell_type": "code",
   "execution_count": 427,
   "metadata": {},
   "outputs": [
    {
     "data": {
      "text/plain": [
       "(249, 1)"
      ]
     },
     "execution_count": 427,
     "metadata": {},
     "output_type": "execute_result"
    }
   ],
   "source": [
    "ts_df.shape"
   ]
  },
  {
   "cell_type": "code",
   "execution_count": 428,
   "metadata": {},
   "outputs": [
    {
     "data": {
      "text/plain": [
       "0.48857856896853213"
      ]
     },
     "execution_count": 428,
     "metadata": {},
     "output_type": "execute_result"
    }
   ],
   "source": [
    "rmse(t_train[1:], arima_tr_preds)"
   ]
  },
  {
   "cell_type": "code",
   "execution_count": 429,
   "metadata": {},
   "outputs": [
    {
     "data": {
      "text/plain": [
       "0.14127651355402185"
      ]
     },
     "execution_count": 429,
     "metadata": {},
     "output_type": "execute_result"
    }
   ],
   "source": [
    "rmse(t_test, new_test_preds)"
   ]
  },
  {
   "cell_type": "markdown",
   "metadata": {},
   "source": [
    "## Model Selection"
   ]
  },
  {
   "cell_type": "markdown",
   "metadata": {},
   "source": [
    "The training and testing RMSE for each model are listed below, as well as the difference between those scores. "
   ]
  },
  {
   "cell_type": "markdown",
   "metadata": {},
   "source": [
    "|Model|Training RMSE|Testing RMSE|Difference (Test - Train)|\n",
    "|:---|:---:|:---:|:---:|\n",
    "|Baseline|1.47|1.44|-0.039|\n",
    "|Linear Regression|1.49|1.45|-0.039|\n",
    "|Decision Tree|1.47|1.43|-0.039|\n",
    "|Random Forest|1.47|1.43|-0.039|\n",
    "|GLM - Gamma|1.47|1.43|-0.038|\n",
    "|AdaBoost|1.47|1.43|-0.039|"
   ]
  },
  {
   "cell_type": "markdown",
   "metadata": {},
   "source": [
    "As can be seen above, all of the models we tried to use performed essentially the same. This leads us to believe that the issue lies with the _features_ of our models. Our features are not good predictors of the target variable, wait time for service requests to be closed. "
   ]
  },
  {
   "cell_type": "markdown",
   "metadata": {},
   "source": [
    "For the sake of following this problem through to the end, we will select the GLM Gamma regression model as our \"best\" model. While this model had training and testing scores that were very similar to others, it will allow us to take a deeper dive into how exactly the features we used were affecting the model. It is important to emphasize that the predictions that will come fr om this model are _not_ good predictions.  "
   ]
  },
  {
   "cell_type": "markdown",
   "metadata": {},
   "source": [
    "## Model Evaluation\n",
    "### Training and Testing Predictions and Residuals"
   ]
  },
  {
   "cell_type": "code",
   "execution_count": 161,
   "metadata": {},
   "outputs": [],
   "source": [
    "# create residuals\n",
    "train_resids = y_train - gamma_log_tr_preds\n",
    "test_resids = y_test - gamma_log_te_preds"
   ]
  },
  {
   "cell_type": "code",
   "execution_count": 295,
   "metadata": {},
   "outputs": [
    {
     "data": {
      "image/png": "[encoded data removed]",
      "text/plain": [
       "<Figure size 576x432 with 1 Axes>"
      ]
     },
     "metadata": {
      "needs_background": "light"
     },
     "output_type": "display_data"
    }
   ],
   "source": [
    "plt.figure(figsize=(8,6))\n",
    "sns.scatterplot(y_train, gamma_log_tr_preds, label='Training data',color='blue', alpha=.4)\n",
    "sns.scatterplot(y_test, gamma_log_te_preds, label='Testing data', color='orange',alpha=.4)\n",
    "plt.xlabel('True Values (y)',size=15)\n",
    "plt.ylabel('Predicted Values ($\\hat{y}$)',size=15)\n",
    "plt.title('True Values v Predictions (y)',size=20)\n",
    "plt.legend(loc='upper right',fontsize='x-large')\n",
    "\n",
    "plt.plot((0,6),(0,6), c = \"r\", alpha = .7);"
   ]
  },
  {
   "cell_type": "markdown",
   "metadata": {},
   "source": [
    "If the predictions for the data were accurate or close to accurate, the data would look more _linear_ in nature, similar to the red line show on the graph. The distribution of data we see here shows many observations in the training set that were predicted to be between 1 and 4, while their true value was closer to 0. For both the training and testing data sets, we see that there are many observations with true values spanning from 0 to 30, while their predicted values were from 0 to 1. It is clear that this model is not performing well. The model is overwhelmingly under predicting the actual values, which makes sense given the majority of the data we saw was below 1 day. "
   ]
  },
  {
   "cell_type": "code",
   "execution_count": 190,
   "metadata": {},
   "outputs": [
    {
     "data": {
      "image/png": "[encoded data removed]",
      "text/plain": [
       "<Figure size 576x432 with 1 Axes>"
      ]
     },
     "metadata": {
      "needs_background": "light"
     },
     "output_type": "display_data"
    }
   ],
   "source": [
    "plt.figure(figsize=(8,6))\n",
    "plt.title('Residuals Plot',size=22)\n",
    "plt.xlabel('Predictions',size=16)\n",
    "plt.ylabel('Residuals',size=16)\n",
    "plt.axhline(0, c = \"r\")\n",
    "plt.scatter(gamma_log_tr_preds, train_resids, label='Training data', alpha = .4,color='blue');\n",
    "plt.scatter(gamma_log_te_preds, test_resids, label='Testing data',alpha = .4,color='orange');\n",
    "plt.legend(loc='upper right',fontsize='x-large');"
   ]
  },
  {
   "cell_type": "markdown",
   "metadata": {},
   "source": [
    "Looking at the residuals (errors) of our model, we see a large spike towards the left of the graph with a tail trailing to the right. This is unsurprising, as it resembles a Gamma distribution which is the type of regression that we used. As the values of predictions increased, the residuals were more consistently closer to 0. "
   ]
  },
  {
   "cell_type": "code",
   "execution_count": 264,
   "metadata": {},
   "outputs": [
    {
     "data": {
      "image/png": "[encoded data removed]",
      "text/plain": [
       "<Figure size 648x360 with 2 Axes>"
      ]
     },
     "metadata": {
      "needs_background": "light"
     },
     "output_type": "display_data"
    }
   ],
   "source": [
    "fig, axes = plt.subplots(figsize=(9,5), ncols=2)\n",
    "axes[0].hist(train_resids,color='blue',bins=25)\n",
    "axes[0].set_title('Histogram of Training Residuals',size=16)\n",
    "axes[0].set_xlabel('Residuals', size=14)\n",
    "axes[0].set_ylabel('Frequency',size=14)\n",
    "\n",
    "axes[1].hist(test_resids,color='orange',bins=25)\n",
    "axes[1].set_title('Histogram of Testing Residuals',size=16)\n",
    "axes[1].set_xlabel('Residuals', size=14)\n",
    "axes[1].set_ylabel('Frequency',size=14)\n",
    "\n",
    "plt.tight_layout();"
   ]
  },
  {
   "cell_type": "markdown",
   "metadata": {},
   "source": [
    "Again, the distributions of our residuals are following a Gamma distribution with a large spike on the left hand of the graph and a tail to the right. "
   ]
  },
  {
   "cell_type": "markdown",
   "metadata": {},
   "source": [
    "### Interpreting Coefficients"
   ]
  },
  {
   "cell_type": "code",
   "execution_count": 249,
   "metadata": {},
   "outputs": [],
   "source": [
    "# get p-values for all features\n",
    "p_values = glm_gamma_log.pvalues\n",
    "# get only significant features (p < .05)\n",
    "sig_features = p_values[p_values < .05]\n",
    "# get coefficients for significnat features and exponentiate them \n",
    "coefs = [np.e ** glm_gamma_log.params[feature] for feature in sig_features.index]"
   ]
  },
  {
   "cell_type": "code",
   "execution_count": 250,
   "metadata": {},
   "outputs": [],
   "source": [
    "feature_coefs = pd.DataFrame(index = sig_features.index, data={'Coefficient':coefs})"
   ]
  },
  {
   "cell_type": "code",
   "execution_count": 251,
   "metadata": {},
   "outputs": [],
   "source": [
    "feature_coefs_cols = {\n",
    "    'C(complaint_type)[T.Derelict Vehicle]' : 'Complaint Type: Derelict Vehicle',\n",
    "    'C(borough)[T.BROOKLYN]' : 'Borough: Brooklyn',\n",
    "    'C(borough)[T.MANHATTAN]' : 'Borough: Manhattan',\n",
    "    'C(borough)[T.QUEENS]' : 'Borough: Queens',\n",
    "    'C(borough)[T.STATEN ISLAND]' : 'Borough: Staten Island',\n",
    "    'C(borough)[T.Unspecified]' : 'Borough: Unspecified',\n",
    "    'C(open_data_channel_type)[T.PHONE]' : 'Open Data Channel Type: Phone',\n",
    "    'C(cluster_predicted)[T.Noise Brooklyn]' : 'Cluster: Noise Brooklyn',\n",
    "    'C(cluster_predicted)[T.Noise Queens]' : 'Cluster: Noise Queens',\n",
    "    'C(cluster_predicted)[T.Parking Manhattan]' : 'Cluster: Parking Manhattan',\n",
    "    'C(cluster_predicted)[T.Parking Queens]' : 'Cluster: Parking Queens'\n",
    "}\n",
    "\n",
    "# rename index to be human readable\n",
    "feature_coefs.index = feature_coefs.index.map(feature_coefs_cols)"
   ]
  },
  {
   "cell_type": "code",
   "execution_count": 281,
   "metadata": {},
   "outputs": [
    {
     "data": {
      "image/png": "[encoded data removed]",
      "text/plain": [
       "<Figure size 432x288 with 1 Axes>"
      ]
     },
     "metadata": {
      "needs_background": "light"
     },
     "output_type": "display_data"
    }
   ],
   "source": [
    "plt.barh(width = feature_coefs['Coefficient'], y = feature_coefs.index, color='forestgreen')\n",
    "plt.title('Coefficients for Significant Features',size=15)\n",
    "plt.ylabel('Feature',size=12)\n",
    "plt.xlabel('Coefficient',size=12);"
   ]
  },
  {
   "cell_type": "markdown",
   "metadata": {},
   "source": [
    "When looking at each of the features and their impact on the target variable, just a handful had a significant p-value of less than 0.05 indiciating influence on the target variable. All dummified columns related to the `borough` and  `cluster_predicted` features had significant p-values. Additionally, the `PHONE` option from `open_data_channel_type` and `Derelict Vehicle` from `complaint_type` showed significance as well. \n",
    "\n",
    "In the above graph, you can see the exponentiated coefficient for each of these significant features which can give insight into their impact on the target variable. \n",
    "\n",
    "From above we can see that the feature with the largest impact is 'Borough: Unspecified' which indicated a service request that was not labeled as occuring in any of the 5 borooughs. After further investigation, many of these requests had to do with bridges or highways. It is important to note that less than .1% of the data in the model had 'Unspecified' listed as its borough, which could have led to the inflated coefficient. \n",
    "\n",
    "It appears that each cluster had a similar impact on the target variable as their coefficients are very similar, all just above 1.\n",
    "\n",
    "It is interesting to look at the remaining boroughs and the variation in their coefficient values. Queens had the largest coefficient value of the boroughs, while Manhatatan had the smallest, indicating that it would take more time to complete a request filed in Queens. "
   ]
  },
  {
   "cell_type": "code",
   "execution_count": 278,
   "metadata": {},
   "outputs": [
    {
     "data": {
      "text/plain": [
       "Coefficient    1.112973\n",
       "Name: Open Data Channel Type: Phone, dtype: float64"
      ]
     },
     "execution_count": 278,
     "metadata": {},
     "output_type": "execute_result"
    }
   ],
   "source": [
    "feature_coefs.loc['Open Data Channel Type: Phone']"
   ]
  },
  {
   "cell_type": "markdown",
   "metadata": {},
   "source": [
    "If the service request was made by phone, it will take 1.1 times as much time to complete a 311 service request than those not submitted by phone, all else held constant. "
   ]
  },
  {
   "cell_type": "code",
   "execution_count": 279,
   "metadata": {},
   "outputs": [
    {
     "data": {
      "text/plain": [
       "Coefficient    0.378218\n",
       "Name: Borough: Manhattan, dtype: float64"
      ]
     },
     "execution_count": 279,
     "metadata": {},
     "output_type": "execute_result"
    }
   ],
   "source": [
    "feature_coefs.loc['Borough: Manhattan']"
   ]
  },
  {
   "cell_type": "markdown",
   "metadata": {},
   "source": [
    "If the service request was for Manhattan, it will take .378 times as much time than requests submitted not from Manhattan, all other factors held constant. "
   ]
  },
  {
   "cell_type": "code",
   "execution_count": 280,
   "metadata": {},
   "outputs": [
    {
     "data": {
      "text/plain": [
       "Coefficient    0.821734\n",
       "Name: Borough: Queens, dtype: float64"
      ]
     },
     "execution_count": 280,
     "metadata": {},
     "output_type": "execute_result"
    }
   ],
   "source": [
    "feature_coefs.loc['Borough: Queens']"
   ]
  },
  {
   "cell_type": "markdown",
   "metadata": {},
   "source": [
    "If the service request was for Queens, it will take .822 times as much time than requests submitted not from Queens, all other factors held constant. . "
   ]
  },
  {
   "cell_type": "markdown",
   "metadata": {},
   "source": [
    "### Evaluation Using Holdout Set"
   ]
  },
  {
   "cell_type": "markdown",
   "metadata": {},
   "source": [
    "Using our holdout set, we are see how our model would work on completely new and unseen data that was not used to help evaluate our model. "
   ]
  },
  {
   "cell_type": "code",
   "execution_count": 284,
   "metadata": {},
   "outputs": [],
   "source": [
    "X_holdout = val[features]\n",
    "y_holdout = val['waittime']"
   ]
  },
  {
   "cell_type": "code",
   "execution_count": 285,
   "metadata": {},
   "outputs": [],
   "source": [
    "# predicting k-modes clusters\n",
    "val_clusters = km_cao.predict(X_holdout)"
   ]
  },
  {
   "cell_type": "code",
   "execution_count": 286,
   "metadata": {},
   "outputs": [],
   "source": [
    "# setting up data frames to add predicted clusters from k-modes\n",
    "val_ = val.copy().reset_index()\n",
    "val_clusters_df = pd.DataFrame(val_clusters)\n",
    "val_clusters_df.columns = ['cluster_predicted']"
   ]
  },
  {
   "cell_type": "code",
   "execution_count": 287,
   "metadata": {},
   "outputs": [],
   "source": [
    "# creating new data frame with cluster predictions data\n",
    "new_val = pd.concat([val_, val_clusters_df], axis=1).reset_index()\n",
    "new_val.drop(columns=['level_0'],inplace=True)"
   ]
  },
  {
   "cell_type": "code",
   "execution_count": 288,
   "metadata": {},
   "outputs": [],
   "source": [
    "# renaming 'cluster_predicted' values \n",
    "new_val['cluster_predicted'] = new_val['cluster_predicted'].map(cluster_names)"
   ]
  },
  {
   "cell_type": "code",
   "execution_count": 290,
   "metadata": {},
   "outputs": [],
   "source": [
    "# setting up df for GLM\n",
    "r_val = new_val[new_features + ['waittime']]"
   ]
  },
  {
   "cell_type": "code",
   "execution_count": 293,
   "metadata": {},
   "outputs": [
    {
     "name": "stdout",
     "output_type": "stream",
     "text": [
      "RMSE: 3.665127856974558\n"
     ]
    }
   ],
   "source": [
    "# predicting using Gamma GLM\n",
    "gamma_val_preds = glm_gamma_log.predict(r_val)\n",
    "print(f'RMSE:', rmse(y_holdout,gamma_val_preds))"
   ]
  },
  {
   "cell_type": "markdown",
   "metadata": {},
   "source": [
    "The score for our validation set is much higher than that of our training sets. An RMSE of 3.67 days is more than double most of the training scores we saw earlier. It is important to note that in the training of our model, we limited our `waittime` variable at one month (31 days). That same limitation was not implemented here, so there are data that have wait times of much longer than that which the model has no experience predicting and thus is doing a worse job overall. "
   ]
  },
  {
   "cell_type": "code",
   "execution_count": 299,
   "metadata": {},
   "outputs": [
    {
     "data": {
      "image/png": "[encoded data removed]",
      "text/plain": [
       "<Figure size 576x432 with 1 Axes>"
      ]
     },
     "metadata": {
      "needs_background": "light"
     },
     "output_type": "display_data"
    }
   ],
   "source": [
    "plt.figure(figsize=(8,6))\n",
    "sns.scatterplot(y_holdout, gamma_val_preds, label='Holdout data',color='purple', alpha=.4)\n",
    "plt.xlabel('True Values (y)',size=15)\n",
    "plt.ylabel('Predicted Values ($\\hat{y}$)',size=15)\n",
    "plt.title('True Values v Predictions (y)',size=20)\n",
    "plt.legend(loc='upper right',fontsize='x-large')\n",
    "\n",
    "plt.plot((0,10),(0,10), c = \"r\", alpha = .8);"
   ]
  },
  {
   "cell_type": "markdown",
   "metadata": {},
   "source": [
    "While there is much less data in our holdout set, you can still see that the predictions for this model are not accurate. As the true values increase, the predictions still remain between 0-2. There also is a definite outlier wait time of over 100 days, which is increasing the RMSE of this model."
   ]
  },
  {
   "cell_type": "code",
   "execution_count": 309,
   "metadata": {},
   "outputs": [],
   "source": [
    "val_resids = np.array(y_holdout) - np.array(gamma_val_preds)"
   ]
  },
  {
   "cell_type": "code",
   "execution_count": 312,
   "metadata": {},
   "outputs": [
    {
     "data": {
      "image/png": "[encoded data removed]",
      "text/plain": [
       "<Figure size 576x432 with 1 Axes>"
      ]
     },
     "metadata": {
      "needs_background": "light"
     },
     "output_type": "display_data"
    }
   ],
   "source": [
    "plt.figure(figsize=(8,6))\n",
    "plt.title('Residuals Plot',size=22)\n",
    "plt.xlabel('Predictions',size=16)\n",
    "plt.ylabel('Residuals',size=16)\n",
    "plt.axhline(0, c = \"r\")\n",
    "plt.scatter(gamma_val_preds, val_resids, label='Validation data', alpha = .4,color='purple');\n",
    "plt.legend(loc='upper right',fontsize='x-large');"
   ]
  },
  {
   "cell_type": "markdown",
   "metadata": {},
   "source": [
    "Again, our residuals display a lot of data towards the left end of the graph and a bit of a tail to the right. Additionally, on this residual graph, though, we see data in the upper right corner of the graph as well. These residuals roughly follow a Gamma distribution, but there are more inaccuracies in these predictions than in the original training data. "
   ]
  },
  {
   "cell_type": "code",
   "execution_count": 317,
   "metadata": {},
   "outputs": [
    {
     "data": {
      "image/png": "[encoded data removed]",
      "text/plain": [
       "<Figure size 432x288 with 1 Axes>"
      ]
     },
     "metadata": {
      "needs_background": "light"
     },
     "output_type": "display_data"
    }
   ],
   "source": [
    "plt.hist(val_resids,color='purple',bins=35)\n",
    "plt.title('Histogram of Validation Residuals',size=16)\n",
    "plt.xlabel('Residuals', size=14)\n",
    "plt.ylabel('Frequency',size=14);"
   ]
  },
  {
   "cell_type": "markdown",
   "metadata": {},
   "source": [
    "The histogram of our validation residuals follow a Gamma distribution, similar to what we saw earlier."
   ]
  },
  {
   "cell_type": "markdown",
   "metadata": {},
   "source": [
    "## Pickling"
   ]
  },
  {
   "cell_type": "code",
   "execution_count": 431,
   "metadata": {},
   "outputs": [],
   "source": [
    "pickle.dump(glm_gamma_log, open('model.p', 'wb'))"
   ]
  },
  {
   "cell_type": "markdown",
   "metadata": {},
   "source": [
    "## Conclusions & Recommendations"
   ]
  },
  {
   "cell_type": "markdown",
   "metadata": {},
   "source": [
    "- Better data .."
   ]
  },
  {
   "cell_type": "code",
   "execution_count": null,
   "metadata": {},
   "outputs": [],
   "source": []
  }
 ],
 "metadata": {
  "kernelspec": {
   "display_name": "Python 3",
   "language": "python",
   "name": "python3"
  },
  "language_info": {
   "codemirror_mode": {
    "name": "ipython",
    "version": 3
   },
   "file_extension": ".py",
   "mimetype": "text/x-python",
   "name": "python",
   "nbconvert_exporter": "python",
   "pygments_lexer": "ipython3",
   "version": "3.7.7"
  }
 },
 "nbformat": 4,
 "nbformat_minor": 4
}
