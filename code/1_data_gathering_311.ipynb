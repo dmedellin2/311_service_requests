{
 "cells": [
  {
   "cell_type": "markdown",
   "metadata": {},
   "source": [
    "# NYC 311 Service Requests - Data Gathering\n",
    "### Danielle Medellin [GitHub](https://github.com/dmedellin2)"
   ]
  },
  {
   "cell_type": "markdown",
   "metadata": {},
   "source": [
    "## Problem Statement"
   ]
  },
  {
   "cell_type": "markdown",
   "metadata": {},
   "source": [
    "According to the NYC311 online portal, \"a Service Request is your request for the City to provide you with assistance, perform an inspection, or address a problem. NYC311 can accept Service Requests for a wide range of issues, including over 500 complaint types. Service Requests can help you get a pothole fixed in your neighborhood, the heat turned on in your apartment, or a refund for an overpaid parking ticket.\" Due to the fact that there are so many different reasons for submitting service requests to 311, all with a wide range of urgency and importance, it can be difficult to gauge how long it will take for a request to actually get resolved.\n",
    "\n",
    "\n",
    "The NYC 311 receives millions of requests a year. In fact, in 2018 they received 3,154,013 service requests! [(Source)](https://www1.nyc.gov/311/311-sets-new-record-in-2018.page)\n",
    "\n",
    "A citizen can submit a 311 request in various ways including by phone, online, or using mobile. If they do so with an email or a phone number, they will get a confirmation message which includes the details of the request. What is not included in this confirmation, is expected wait time until the request will be resolved and closed. Obviously, there are many factors that can affect one's wait time, but given the amount of 311 requests received, it should be possible to find trends in the wait times of these requests and give citizens, at the minimum, an estimate of how long they can expect to wait until their request is resolved. \n",
    "\n",
    "Our goal is to build a regression model that will predict the wait time a citizen can expect given the factors of their request. Our model's success will be measured with root-mean squared error (RMSE). \n",
    "\n",
    "Additionally, we hope to build an applet protoype that mimics what inputting a service request might look like, and in addition to just getting a description of the request, the app will also return an estimated wait time for the request to be closed."
   ]
  },
  {
   "cell_type": "markdown",
   "metadata": {},
   "source": [
    "## Executive Summary"
   ]
  },
  {
   "cell_type": "markdown",
   "metadata": {},
   "source": [
    "Data was collected using the [NYC Open Data API](https://data.cityofnewyork.us/Social-Services/311-Service-Requests-from-2010-to-Present/erm2-nwe9). This database is updated daily with service requests from NYC 311. It currently holds 23 million observations each with 41 columns of information. We built a series of functions to collect recent data from this source through the API. \n",
    "\n",
    "After a few test runs of data collection, it was initially observed that there were many factors of what could affect the time it takes to resolve a service request. Looking at the most recent requests submitted, the overwheming majority of requests were sent to the New York City Police Department (NYPD). The NYPD responds to requests regarding noise, parking violations, trespassing, etc. The breadth of requests covered by the NYPD was considered varied enough to explore strictly requests from this one agency. \n",
    "\n",
    "Data was collected starting at Feb 1, 2020 and working backwards. Only observations that were sent to the NYPD and has a status of closed were considered. After discovering that 50,000 observations covered roughly a two week time span, we decided our goal was to collect about 6 months worth of data. This led us to collect the 600,000 most recent observations from our start date (Feb 1, 2020). Within our data collection we feature engineered our target variable of `waittime`, which was the difference in time from the `created_date` of a request to its `closed_date`. \n",
    "\n",
    "This set of 600,000 observations was split into a training and holdout set of 540,000 and 60,000 observations respectively. \n",
    "\n",
    "Once data was collected we performed data cleaning which involved giving each variable its appropriate data type, handling null values, and taking a closer look at our target variable. In our data exploration it was found that there were some negative wait times. This was unexpected, as it does not make sense for a request to take _negative_ time to complete. There were only 16 observations in our training set that had this issue, so they were dropped from the set. It was also found that the majority of requests were resolved in under one day. Despite this, there were some observations that had longer wait times spanning from 8 to 20 to 200 days. We decided that there should be a cut off for \"reasonable\" wait times, expecting that any request that takes over a month to resolve is not the norm. For this reason, we only looked at requests that had a wait time of 31 days or less. After this our training set had 539,312 observations. \n",
    "\n",
    "Further exploratory data analysis was performed as we explored how each of the key features affected wait time. The borough of the request was shown to have an affect on wait time as requests in the Bronx had the highest average wait time and those from Manhattan had the lowest. Of the top 10 most frequent complaint types, most had similar wait time averages. The complaint of _**Abandoned Vehicle**_ had the highest wait time average.\n",
    "\n",
    "Before putting our chosen features into a model, we used $k$-modes clustering to potentially find similarities between the observations. We created 5 clusters and used these cluster categories as an additional feature. \n",
    "\n",
    "We tried many regression models including linear regression, decision trees, random forest, Gamma regression (GLM), and an AdaBoost model. Unfortunately, none of these models performed much better than our baseline model. \n",
    "\n",
    "We also attempted a time series model of order (0, 0, 1), or a MA(1) model using the `created_date` feature. This model looked at the average wait time of each day in our data set which decreased the sample size from almost 540,000 observations to just 249 observations. This model performed much better than the previous regression models stated above, but could not encapsulate the specifics of each observation as we desired. \n",
    "\n",
    "Moving forward, we used the GLM Gamma regression model to make predictions and evaluate our model. When looking at the coefficients of this model, it was found that the borough the request came from had the most variation in affect on wait time. Each cluster had similar affects on the target variable.\n",
    "\n",
    "Finally, an app was created so that a user could simply visit the website, input the details of their request, and immediately receive an estimation of how long it will take for their request to be resolved. "
   ]
  },
  {
   "cell_type": "markdown",
   "metadata": {},
   "source": [
    "### Loading Libraries"
   ]
  },
  {
   "cell_type": "code",
   "execution_count": 1,
   "metadata": {},
   "outputs": [],
   "source": [
    "import pandas as pd\n",
    "import numpy as np\n",
    "import datetime as dt\n",
    "import time\n",
    "import requests\n",
    "from sodapy import Socrata\n",
    "import json\n",
    "import matplotlib.pyplot as plt\n",
    "import seaborn as sns\n",
    "import os"
   ]
  },
  {
   "cell_type": "markdown",
   "metadata": {},
   "source": [
    "In order to replicate the data collection in this notebook, the user needs to acquire an app token by following the steps laid out [here](https://dev.socrata.com/foundry/data.cityofnewyork.us/erm2-nwe9). \n",
    "\n",
    "The user is free to plug their app token directly into this notebook or create an `env.json` file similar to this project. "
   ]
  },
  {
   "cell_type": "code",
   "execution_count": 2,
   "metadata": {},
   "outputs": [],
   "source": [
    "ENV = pd.read_json(\"../env.json\", typ = \"series\")\n",
    "API_KEY = ENV[\"APIKEY\"]\n",
    "API_SECRET = ENV[\"APISECRET\"]\n",
    "APP_TOKEN = ENV[\"APPTOKEN\"]\n",
    "APP_SECRET = ENV[\"APPSECRET\"]"
   ]
  },
  {
   "cell_type": "markdown",
   "metadata": {},
   "source": [
    "### Data Collection"
   ]
  },
  {
   "cell_type": "code",
   "execution_count": 12,
   "metadata": {},
   "outputs": [],
   "source": [
    "# function to convert datetimes to all days\n",
    "def conv_to_days(waittime): # must be a timedelta type \n",
    "    \"\"\"\n",
    "    Converts datetime object in units of days\n",
    "    \"\"\"\n",
    "    try:\n",
    "        days = abs(waittime.components[0])\n",
    "        hours = waittime.components[1] / 24\n",
    "        mins = waittime.components[2] / 60 / 24\n",
    "        secs = waittime.components[3] / 60 / 60 / 24\n",
    "        if waittime.components[0] < 0:\n",
    "            return (days + hours + mins + secs) * -1 # returns waittime in days with original sign\n",
    "        else:\n",
    "            return days + hours + mins + secs\n",
    "    # for NaT types\n",
    "    except:\n",
    "        pass\n",
    "\n",
    "\n",
    "def get_311_data(limit=2000, app_token=None, date_max='2020-02-01T00:00:00'): # takes limit, and app_token, not necessary\n",
    "    \n",
    "    \"\"\"\n",
    "    Collects 311 service request data and returns a data frame. \n",
    "    \n",
    "    Arguments:\n",
    "    - limit: how much data you want to collect in each sweep. Default set to 2000 (MAX). Will collect limit x 25 rows of data.\n",
    "    - app_token: not necessary, but will help with the collection process.\n",
    "    - date_max: set the most recent date you want to collect from in the form 'YYYY-MM-DDTHH:MM:SS'\n",
    "    \"\"\"\n",
    "    \n",
    "    # columns we want to grab from dataframe\n",
    "    SUBFIELDS = ['unique_key', 'created_date','closed_date', 'agency', 'agency_name', 'complaint_type',\n",
    "       'descriptor', 'location_type', 'status', 'community_board', 'borough',\n",
    "       'open_data_channel_type', 'park_facility_name', 'park_borough',\n",
    "       'incident_zip', 'incident_address', 'street_name', 'cross_street_1',\n",
    "       'cross_street_2', 'intersection_street_1', 'intersection_street_2',\n",
    "       'city', 'landmark', 'bbl', 'x_coordinate_state_plane',\n",
    "       'y_coordinate_state_plane', 'latitude', 'longitude', 'location', 'resolution_description',\n",
    "       'resolution_action_updated_date']\n",
    "    \n",
    "    # establish client source\n",
    "    client = Socrata(\"data.cityofnewyork.us\", app_token, timeout=300)\n",
    "    \n",
    "    data = []\n",
    "    \n",
    "    for offs in range(0, 48001, 2000): # will cycle through 50000 entries when limit is 2000\n",
    "        # Collect results offset by 2000, returned as JSON from API / converted to Python list of\n",
    "        # dictionaries by sodapy.\n",
    "        results = client.get(\"erm2-nwe9\",limit=limit,\n",
    "                             offset=offs,\n",
    "                             # looks for only NYPD agencies, closed requests, before Feb 2020\n",
    "                             where=f\"agency = 'NYPD' and status = 'Closed' and created_date < '{date_max}'\",\n",
    "                             order=\"created_date desc\") # takes from most recent\n",
    "\n",
    "        # Convert to pandas DataFrame\n",
    "        results_df = pd.DataFrame.from_records(results, columns = SUBFIELDS)\n",
    "        \n",
    "        # add df to list \n",
    "        data.append(results_df)\n",
    "        time.sleep(3)\n",
    "    \n",
    "    full = pd.concat(data)\n",
    "    full.reset_index(inplace=True)\n",
    "    \n",
    "    # cleaning & engineering features \n",
    "    full['created_date'] = pd.to_datetime(full['created_date']) # change type to datetime\n",
    "    full['closed_date'] = pd.to_datetime(full['closed_date']) # change type to datetime\n",
    "    full['waittime'] = full['closed_date'] - full['created_date'] # find wait time\n",
    "    full['waittime'] = full['waittime'].map(conv_to_days) # convert wait time to days\n",
    "    \n",
    "    return full"
   ]
  },
  {
   "cell_type": "markdown",
   "metadata": {},
   "source": [
    "The above function will use the NYC Open Data API to pull the most recent 50,000 entries of requests that fall under the NYPD agency, are classified as closed, and occurred before Feb 1 2020. The columns of data being pulled are specific in `SUBFIELDS`. The function will return a data frame with appropriate columns including an engineered feature, `waittime`. "
   ]
  },
  {
   "cell_type": "code",
   "execution_count": 5,
   "metadata": {},
   "outputs": [],
   "source": [
    "def get_earliest_date(df): # will get earliest date from data frame so we know where to start for next one\n",
    "    return str(df['created_date'][49999]).replace(\" \", \"T\")"
   ]
  },
  {
   "cell_type": "code",
   "execution_count": 9,
   "metadata": {},
   "outputs": [],
   "source": [
    "def get_all_data(app_token):\n",
    "    \n",
    "    dfs = []\n",
    "    \n",
    "    df1 = get_311_data(app_token = app_token)\n",
    "    df_last = get_earliest_date(df1)\n",
    "    dfs.append(df1)\n",
    "    \n",
    "    for _ in range(2,13): # repeat pull 12 times \n",
    "        df = get_311_data(app_token = app_token, date_max = df_last)\n",
    "        df_last = get_earliest_date(df)\n",
    "        dfs.append(df)\n",
    "    \n",
    "    full_data = pd.concat(dfs, ignore_index = True)\n",
    "    \n",
    "    return full_data"
   ]
  },
  {
   "cell_type": "markdown",
   "metadata": {},
   "source": [
    "The two functions above will allow the user to repeat the process of pulling data starting off where the last pull ended. We are repeating our original data pull function 12 times to acquire 600,000 observations, or roughly 6 months of data. "
   ]
  },
  {
   "cell_type": "code",
   "execution_count": 13,
   "metadata": {},
   "outputs": [],
   "source": [
    "# collecting data\n",
    "sr_df = get_all_data(APP_TOKEN)"
   ]
  },
  {
   "cell_type": "code",
   "execution_count": 15,
   "metadata": {},
   "outputs": [],
   "source": [
    "sr_df.drop(columns='index', inplace = True)"
   ]
  },
  {
   "cell_type": "code",
   "execution_count": 16,
   "metadata": {},
   "outputs": [
    {
     "data": {
      "text/html": [
       "<div>\n",
       "<style scoped>\n",
       "    .dataframe tbody tr th:only-of-type {\n",
       "        vertical-align: middle;\n",
       "    }\n",
       "\n",
       "    .dataframe tbody tr th {\n",
       "        vertical-align: top;\n",
       "    }\n",
       "\n",
       "    .dataframe thead th {\n",
       "        text-align: right;\n",
       "    }\n",
       "</style>\n",
       "<table border=\"1\" class=\"dataframe\">\n",
       "  <thead>\n",
       "    <tr style=\"text-align: right;\">\n",
       "      <th></th>\n",
       "      <th>unique_key</th>\n",
       "      <th>created_date</th>\n",
       "      <th>closed_date</th>\n",
       "      <th>agency</th>\n",
       "      <th>agency_name</th>\n",
       "      <th>complaint_type</th>\n",
       "      <th>descriptor</th>\n",
       "      <th>location_type</th>\n",
       "      <th>status</th>\n",
       "      <th>community_board</th>\n",
       "      <th>...</th>\n",
       "      <th>landmark</th>\n",
       "      <th>bbl</th>\n",
       "      <th>x_coordinate_state_plane</th>\n",
       "      <th>y_coordinate_state_plane</th>\n",
       "      <th>latitude</th>\n",
       "      <th>longitude</th>\n",
       "      <th>location</th>\n",
       "      <th>resolution_description</th>\n",
       "      <th>resolution_action_updated_date</th>\n",
       "      <th>waittime</th>\n",
       "    </tr>\n",
       "  </thead>\n",
       "  <tbody>\n",
       "    <tr>\n",
       "      <th>0</th>\n",
       "      <td>45514479</td>\n",
       "      <td>2020-01-31 23:58:46</td>\n",
       "      <td>2020-02-01 11:05:48</td>\n",
       "      <td>NYPD</td>\n",
       "      <td>New York City Police Department</td>\n",
       "      <td>Noise - Street/Sidewalk</td>\n",
       "      <td>Loud Talking</td>\n",
       "      <td>Street/Sidewalk</td>\n",
       "      <td>Closed</td>\n",
       "      <td>06 BRONX</td>\n",
       "      <td>...</td>\n",
       "      <td>HOFFMAN STREET</td>\n",
       "      <td>2030540026</td>\n",
       "      <td>1015007</td>\n",
       "      <td>251021</td>\n",
       "      <td>40.85561595630976</td>\n",
       "      <td>-73.88881679868403</td>\n",
       "      <td>{'latitude': '40.85561595630976', 'longitude':...</td>\n",
       "      <td>The Police Department responded to the complai...</td>\n",
       "      <td>2020-02-01T16:05:49.000</td>\n",
       "      <td>0.463218</td>\n",
       "    </tr>\n",
       "    <tr>\n",
       "      <th>1</th>\n",
       "      <td>45517361</td>\n",
       "      <td>2020-01-31 23:58:28</td>\n",
       "      <td>2020-02-01 02:57:57</td>\n",
       "      <td>NYPD</td>\n",
       "      <td>New York City Police Department</td>\n",
       "      <td>Noise - Residential</td>\n",
       "      <td>Banging/Pounding</td>\n",
       "      <td>NaN</td>\n",
       "      <td>Closed</td>\n",
       "      <td>11 MANHATTAN</td>\n",
       "      <td>...</td>\n",
       "      <td>EAST  100 STREET</td>\n",
       "      <td>1016280006</td>\n",
       "      <td>998065</td>\n",
       "      <td>226692</td>\n",
       "      <td>40.78888251589769</td>\n",
       "      <td>-73.95011034864612</td>\n",
       "      <td>{'latitude': '40.78888251589769', 'longitude':...</td>\n",
       "      <td>The Police Department responded to the complai...</td>\n",
       "      <td>2020-02-01T07:58:02.000</td>\n",
       "      <td>0.124641</td>\n",
       "    </tr>\n",
       "    <tr>\n",
       "      <th>2</th>\n",
       "      <td>45516851</td>\n",
       "      <td>2020-01-31 23:57:05</td>\n",
       "      <td>2020-02-01 01:36:02</td>\n",
       "      <td>NYPD</td>\n",
       "      <td>New York City Police Department</td>\n",
       "      <td>Noise - Residential</td>\n",
       "      <td>Loud Talking</td>\n",
       "      <td>Residential Building/House</td>\n",
       "      <td>Closed</td>\n",
       "      <td>14 BROOKLYN</td>\n",
       "      <td>...</td>\n",
       "      <td>FOSTER AVENUE</td>\n",
       "      <td>3052200064</td>\n",
       "      <td>995846</td>\n",
       "      <td>171145</td>\n",
       "      <td>40.63642248430778</td>\n",
       "      <td>-73.95821942468432</td>\n",
       "      <td>{'latitude': '40.63642248430778', 'longitude':...</td>\n",
       "      <td>The Police Department responded to the complai...</td>\n",
       "      <td>2020-02-01T06:36:05.000</td>\n",
       "      <td>0.068715</td>\n",
       "    </tr>\n",
       "    <tr>\n",
       "      <th>3</th>\n",
       "      <td>45515360</td>\n",
       "      <td>2020-01-31 23:56:48</td>\n",
       "      <td>2020-02-01 02:16:21</td>\n",
       "      <td>NYPD</td>\n",
       "      <td>New York City Police Department</td>\n",
       "      <td>Noise - Street/Sidewalk</td>\n",
       "      <td>Loud Talking</td>\n",
       "      <td>Street/Sidewalk</td>\n",
       "      <td>Closed</td>\n",
       "      <td>02 MANHATTAN</td>\n",
       "      <td>...</td>\n",
       "      <td>BROOME STREET</td>\n",
       "      <td>1004777502</td>\n",
       "      <td>982629</td>\n",
       "      <td>203186</td>\n",
       "      <td>40.72437519160271</td>\n",
       "      <td>-74.00584819694839</td>\n",
       "      <td>{'latitude': '40.72437519160271', 'longitude':...</td>\n",
       "      <td>The Police Department responded to the complai...</td>\n",
       "      <td>2020-02-01T07:16:25.000</td>\n",
       "      <td>0.096910</td>\n",
       "    </tr>\n",
       "    <tr>\n",
       "      <th>4</th>\n",
       "      <td>45518349</td>\n",
       "      <td>2020-01-31 23:56:42</td>\n",
       "      <td>2020-02-01 08:52:48</td>\n",
       "      <td>NYPD</td>\n",
       "      <td>New York City Police Department</td>\n",
       "      <td>Noise - Residential</td>\n",
       "      <td>Loud Music/Party</td>\n",
       "      <td>Residential Building/House</td>\n",
       "      <td>Closed</td>\n",
       "      <td>09 BRONX</td>\n",
       "      <td>...</td>\n",
       "      <td>TAYLOR AVENUE</td>\n",
       "      <td>2039000033</td>\n",
       "      <td>1021265</td>\n",
       "      <td>244157</td>\n",
       "      <td>40.8367522977154</td>\n",
       "      <td>-73.86623273386101</td>\n",
       "      <td>{'latitude': '40.8367522977154', 'longitude': ...</td>\n",
       "      <td>The Police Department responded to the complai...</td>\n",
       "      <td>2020-02-01T13:52:50.000</td>\n",
       "      <td>0.372292</td>\n",
       "    </tr>\n",
       "  </tbody>\n",
       "</table>\n",
       "<p>5 rows × 32 columns</p>\n",
       "</div>"
      ],
      "text/plain": [
       "  unique_key        created_date         closed_date agency  \\\n",
       "0   45514479 2020-01-31 23:58:46 2020-02-01 11:05:48   NYPD   \n",
       "1   45517361 2020-01-31 23:58:28 2020-02-01 02:57:57   NYPD   \n",
       "2   45516851 2020-01-31 23:57:05 2020-02-01 01:36:02   NYPD   \n",
       "3   45515360 2020-01-31 23:56:48 2020-02-01 02:16:21   NYPD   \n",
       "4   45518349 2020-01-31 23:56:42 2020-02-01 08:52:48   NYPD   \n",
       "\n",
       "                       agency_name           complaint_type        descriptor  \\\n",
       "0  New York City Police Department  Noise - Street/Sidewalk      Loud Talking   \n",
       "1  New York City Police Department      Noise - Residential  Banging/Pounding   \n",
       "2  New York City Police Department      Noise - Residential      Loud Talking   \n",
       "3  New York City Police Department  Noise - Street/Sidewalk      Loud Talking   \n",
       "4  New York City Police Department      Noise - Residential  Loud Music/Party   \n",
       "\n",
       "                location_type  status community_board  ...          landmark  \\\n",
       "0             Street/Sidewalk  Closed        06 BRONX  ...    HOFFMAN STREET   \n",
       "1                         NaN  Closed    11 MANHATTAN  ...  EAST  100 STREET   \n",
       "2  Residential Building/House  Closed     14 BROOKLYN  ...     FOSTER AVENUE   \n",
       "3             Street/Sidewalk  Closed    02 MANHATTAN  ...     BROOME STREET   \n",
       "4  Residential Building/House  Closed        09 BRONX  ...     TAYLOR AVENUE   \n",
       "\n",
       "          bbl x_coordinate_state_plane y_coordinate_state_plane  \\\n",
       "0  2030540026                  1015007                   251021   \n",
       "1  1016280006                   998065                   226692   \n",
       "2  3052200064                   995846                   171145   \n",
       "3  1004777502                   982629                   203186   \n",
       "4  2039000033                  1021265                   244157   \n",
       "\n",
       "            latitude           longitude  \\\n",
       "0  40.85561595630976  -73.88881679868403   \n",
       "1  40.78888251589769  -73.95011034864612   \n",
       "2  40.63642248430778  -73.95821942468432   \n",
       "3  40.72437519160271  -74.00584819694839   \n",
       "4   40.8367522977154  -73.86623273386101   \n",
       "\n",
       "                                            location  \\\n",
       "0  {'latitude': '40.85561595630976', 'longitude':...   \n",
       "1  {'latitude': '40.78888251589769', 'longitude':...   \n",
       "2  {'latitude': '40.63642248430778', 'longitude':...   \n",
       "3  {'latitude': '40.72437519160271', 'longitude':...   \n",
       "4  {'latitude': '40.8367522977154', 'longitude': ...   \n",
       "\n",
       "                              resolution_description  \\\n",
       "0  The Police Department responded to the complai...   \n",
       "1  The Police Department responded to the complai...   \n",
       "2  The Police Department responded to the complai...   \n",
       "3  The Police Department responded to the complai...   \n",
       "4  The Police Department responded to the complai...   \n",
       "\n",
       "  resolution_action_updated_date  waittime  \n",
       "0        2020-02-01T16:05:49.000  0.463218  \n",
       "1        2020-02-01T07:58:02.000  0.124641  \n",
       "2        2020-02-01T06:36:05.000  0.068715  \n",
       "3        2020-02-01T07:16:25.000  0.096910  \n",
       "4        2020-02-01T13:52:50.000  0.372292  \n",
       "\n",
       "[5 rows x 32 columns]"
      ]
     },
     "execution_count": 16,
     "metadata": {},
     "output_type": "execute_result"
    }
   ],
   "source": [
    "# checking data frame\n",
    "sr_df.head()"
   ]
  },
  {
   "cell_type": "code",
   "execution_count": 17,
   "metadata": {},
   "outputs": [
    {
     "data": {
      "text/plain": [
       "(600000, 32)"
      ]
     },
     "execution_count": 17,
     "metadata": {},
     "output_type": "execute_result"
    }
   ],
   "source": [
    "sr_df.shape"
   ]
  },
  {
   "cell_type": "markdown",
   "metadata": {},
   "source": [
    "We successfully pulled 600,000 observations with 32 features."
   ]
  },
  {
   "cell_type": "code",
   "execution_count": 22,
   "metadata": {},
   "outputs": [],
   "source": [
    "# write data to csv \n",
    "if os.path.exists('../data') == True:\n",
    "    pass\n",
    "else:\n",
    "    os.mkdir('../data')\n",
    "\n",
    "\n",
    "sr_df.to_csv('../data/service_request.csv', index = False)"
   ]
  },
  {
   "cell_type": "markdown",
   "metadata": {},
   "source": [
    "### Next Steps"
   ]
  },
  {
   "cell_type": "markdown",
   "metadata": {},
   "source": [
    "Proceed to the [next notebook](./2_service_request_model.ipynb), `2_service_request_model.ipynb`, for the remainder of this project. "
   ]
  },
  {
   "cell_type": "code",
   "execution_count": null,
   "metadata": {},
   "outputs": [],
   "source": []
  }
 ],
 "metadata": {
  "kernelspec": {
   "display_name": "Python [conda env:dsi] *",
   "language": "python",
   "name": "conda-env-dsi-py"
  },
  "language_info": {
   "codemirror_mode": {
    "name": "ipython",
    "version": 3
   },
   "file_extension": ".py",
   "mimetype": "text/x-python",
   "name": "python",
   "nbconvert_exporter": "python",
   "pygments_lexer": "ipython3",
   "version": "3.7.7"
  }
 },
 "nbformat": 4,
 "nbformat_minor": 4
}
