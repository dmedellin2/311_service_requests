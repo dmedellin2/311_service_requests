{
 "cells": [
  {
   "cell_type": "markdown",
   "metadata": {},
   "source": [
    "# NYC 311 Requests -  Exploratory Data Analysis\n",
    "### Danielle Medellin\n"
   ]
  },
  {
   "cell_type": "markdown",
   "metadata": {},
   "source": [
    "## Problem Statement"
   ]
  },
  {
   "cell_type": "markdown",
   "metadata": {},
   "source": [
    "According to the NYC311 online portal, \"a Service Request is your request for the City to provide you with assistance, perform an inspection, or address a problem. NYC311 can accept Service Requests for a wide range of issues, including over 500 complaint types. Service Requests can help you get a pothole fixed in your neighborhood, the heat turned on in your apartment, or a refund for an overpaid parking ticket.\" Due to the fact that there are so many different reasons for submitting service requests to 311, all with a wide range of urgency and importance, it can be difficult to gauge how long it will take for a request to actually get resolved.\n",
    "\n",
    "\n",
    "The NYC 311 receives millions of requests a year! In fact, in 2018 they received 3,154,013 service requests! [Source](https://www1.nyc.gov/311/311-sets-new-record-in-2018.page)\n",
    "\n",
    "A citizen can submit a 311 request in various ways including by phone, online, or using mobile. If they do so with an email or a phone number, they will get a confirmation message which includes the details of the request. What is not included in this confirmation, is expected wait time until the request will be resolved and closed. Obviously, there are many factors that can affect one's wait time, but given the amount of 311 requests received, it should be possible to find trends in the wait times of these requests and give citizens, at the minimum, an estimate of how long they can expect to wait until their request is resolved. \n",
    "\n",
    "Our goal is to build a regression model that will predict the wait time a citizen can expect given the factors of their request. Our model's success will be measured with root-mean squared error (RMSE). \n",
    "\n",
    "Additionally, we hope to build an applet protoype that mimics what inputting a service request might look like, and in addition to just getting a description of the request, the app will also return an estimated wait time for the request to be closed."
   ]
  },
  {
   "cell_type": "markdown",
   "metadata": {},
   "source": [
    "## Executive Summary"
   ]
  },
  {
   "cell_type": "markdown",
   "metadata": {},
   "source": [
    "## Data Dictionary"
   ]
  },
  {
   "cell_type": "markdown",
   "metadata": {},
   "source": [
    "|Feature|Type|Description|\n",
    "|---|:---:|:---|\n",
    "|unique_key|int|Unique identifier of a Service Request (SR) in the open data set|\n",
    "|created_date|datetime|Date and time when SR was submitted|\n",
    "|closed_date|datetime|Date and time when SR was resolved and closed|\n",
    "|agency|object|Acronym for agency which responds to the SR|\n",
    "|agency_name|object|Which agency responds to the SR|\n",
    "|complaint_type|object|The first level of a hierarchy identifying the topic of the incident or condition. Complaint Type may have a corresponding Descriptor or may stand alone.|\n",
    "|descriptor|object|Associated to the Complaint Type, and provides further detail on the incident or condition. Descriptor values are dependent on the Complaint Type, and are not always required in SR.|\n",
    "|location_type|object|Describes the type of location used in the address information|\n",
    "|status|object|Status of SR at time of data collection. For the purpose of this project, only entries with status 'Closed' were collected|\n",
    "|borough|object|Name of borough|\n",
    "|open_data_channel_type|object|Indicates how the SR was submitted to 311.  i.e. By Phone, Online, Mobile, Other or Unknown|\n",
    "|resolution_description|object|Describes the last action taken on the SR by the responding agency.  May describe next or future steps|\n",
    "|resolution_action_updated_date|datetime|Date when responding agency last updated SR|\n",
    "|latitude|float|Latitude in decimal degrees|\n",
    "|longitude|float|Longitude in decimal degrees|\n",
    "|waittime|float|Time elapsed from created date to closed date in days|"
   ]
  },
  {
   "cell_type": "markdown",
   "metadata": {},
   "source": [
    "Data dictionary adapted from [original dataset](https://data.cityofnewyork.us/Social-Services/311-Service-Requests-from-2010-to-Present/erm2-nwe9).  As explained in the `data_gathering_311` notebook, we collected data from the 311 NYC Open Data API. In order to better serve our purpose and our model, we decided to search specifically for requests that were already closed, and all requests were responded to by the NYPD. Specific details of each column/feature in the data set can be found above. "
   ]
  },
  {
   "cell_type": "markdown",
   "metadata": {},
   "source": [
    "## Table of Contents\n",
    "\n",
    "- [Import Libraries](#Library-Imports)  \n",
    "- [Load Data](#Import-Data)  \n",
    "- [Data Cleaning](#Data-Cleaning)  \n",
    "    - [Null Values](#Checking-for-null-values)  \n",
    "    - [Wait Time](#Checking-waittime)  \n",
    "- [Exploratory Data Analysis](#Exploratory-Data-Analysis)\n",
    "    - [k-Modes](#k-Modes) **FIX THIS**"
   ]
  },
  {
   "cell_type": "markdown",
   "metadata": {},
   "source": [
    "## Library Imports"
   ]
  },
  {
   "cell_type": "code",
   "execution_count": 85,
   "metadata": {},
   "outputs": [
    {
     "name": "stdout",
     "output_type": "stream",
     "text": [
      "Collecting kmodes\n",
      "  Downloading kmodes-0.10.2-py2.py3-none-any.whl (18 kB)\n",
      "Requirement already satisfied: numpy>=1.10.4 in /opt/anaconda3/envs/dsi/lib/python3.7/site-packages (from kmodes) (1.18.2)\n",
      "Requirement already satisfied: scipy>=0.13.3 in /opt/anaconda3/envs/dsi/lib/python3.7/site-packages (from kmodes) (1.4.1)\n",
      "Requirement already satisfied: scikit-learn>=0.19.0 in /opt/anaconda3/envs/dsi/lib/python3.7/site-packages (from kmodes) (0.22.1)\n",
      "Requirement already satisfied: joblib>=0.11 in /opt/anaconda3/envs/dsi/lib/python3.7/site-packages (from kmodes) (0.15.1)\n",
      "Installing collected packages: kmodes\n",
      "Successfully installed kmodes-0.10.2\n"
     ]
    }
   ],
   "source": [
    "# if not already installed\n",
    "# !pip install kmodes"
   ]
  },
  {
   "cell_type": "code",
   "execution_count": 133,
   "metadata": {},
   "outputs": [],
   "source": [
    "import pandas as pd\n",
    "import numpy as np\n",
    "import seaborn as sns\n",
    "import matplotlib.pyplot as plt\n",
    "from sklearn.model_selection import train_test_split, cross_val_score, GridSearchCV\n",
    "from kmodes.kmodes import KModes\n",
    "import statsmodels.api as sm \n",
    "from sklearn.dummy import DummyRegressor\n",
    "from sklearn.metrics import mean_squared_error, make_scorer\n",
    "from sklearn.linear_model import LinearRegression, Lasso, LassoCV\n",
    "import statsmodels.formula.api as smf\n",
    "from sklearn.ensemble import BaggingRegressor, RandomForestRegressor\n",
    "from sklearn.tree import DecisionTreeRegressor\n",
    "from sklearn.svm import SVR\n",
    "\n",
    "from statsmodels.tsa.stattools import acf, pacf\n",
    "from statsmodels.graphics.tsaplots import plot_acf, plot_pacf\n",
    "from statsmodels.tsa.arima_model import ARIMA\n",
    "from statsmodels.tsa.stattools import adfuller\n",
    "\n",
    "# for reproducibility \n",
    "RANDOM_STATE = 11714"
   ]
  },
  {
   "cell_type": "markdown",
   "metadata": {},
   "source": [
    "## Import Data"
   ]
  },
  {
   "cell_type": "code",
   "execution_count": 4,
   "metadata": {},
   "outputs": [],
   "source": [
    "original = pd.read_csv('../data/service_request.csv')"
   ]
  },
  {
   "cell_type": "markdown",
   "metadata": {},
   "source": [
    "### Creating Training and Validation Sets"
   ]
  },
  {
   "cell_type": "code",
   "execution_count": 5,
   "metadata": {},
   "outputs": [],
   "source": [
    "sr, val = train_test_split(original, test_size = .1, random_state = RANDOM_STATE)"
   ]
  },
  {
   "cell_type": "code",
   "execution_count": 6,
   "metadata": {},
   "outputs": [
    {
     "data": {
      "text/plain": [
       "(540000, 32)"
      ]
     },
     "execution_count": 6,
     "metadata": {},
     "output_type": "execute_result"
    }
   ],
   "source": [
    "sr.shape"
   ]
  },
  {
   "cell_type": "code",
   "execution_count": 7,
   "metadata": {},
   "outputs": [
    {
     "data": {
      "text/plain": [
       "(60000, 32)"
      ]
     },
     "execution_count": 7,
     "metadata": {},
     "output_type": "execute_result"
    }
   ],
   "source": [
    "val.shape"
   ]
  },
  {
   "cell_type": "markdown",
   "metadata": {},
   "source": [
    "In an effort to see how our model works on completely new data, we created a validation (or holdout) set of data. We used only 10% of the data for this validation set, as it is an extra step of measuring our model's success. We will clean this data set in the same ways we clean our training data set, but will not perform any EDA on the validation set."
   ]
  },
  {
   "cell_type": "markdown",
   "metadata": {},
   "source": [
    "## Data Cleaning"
   ]
  },
  {
   "cell_type": "code",
   "execution_count": 8,
   "metadata": {},
   "outputs": [
    {
     "data": {
      "text/plain": [
       "(540000, 32)"
      ]
     },
     "execution_count": 8,
     "metadata": {},
     "output_type": "execute_result"
    }
   ],
   "source": [
    "sr.shape"
   ]
  },
  {
   "cell_type": "markdown",
   "metadata": {},
   "source": [
    "After splitting our data into a validation set, we have 540,000 observations and 32 features. "
   ]
  },
  {
   "cell_type": "code",
   "execution_count": 9,
   "metadata": {},
   "outputs": [
    {
     "data": {
      "text/plain": [
       "unique_key                          int64\n",
       "created_date                       object\n",
       "closed_date                        object\n",
       "agency                             object\n",
       "agency_name                        object\n",
       "complaint_type                     object\n",
       "descriptor                         object\n",
       "location_type                      object\n",
       "status                             object\n",
       "community_board                    object\n",
       "borough                            object\n",
       "open_data_channel_type             object\n",
       "park_facility_name                 object\n",
       "park_borough                       object\n",
       "incident_zip                      float64\n",
       "incident_address                   object\n",
       "street_name                        object\n",
       "cross_street_1                     object\n",
       "cross_street_2                     object\n",
       "intersection_street_1              object\n",
       "intersection_street_2              object\n",
       "city                               object\n",
       "landmark                           object\n",
       "bbl                               float64\n",
       "x_coordinate_state_plane          float64\n",
       "y_coordinate_state_plane          float64\n",
       "latitude                          float64\n",
       "longitude                         float64\n",
       "location                           object\n",
       "resolution_description             object\n",
       "resolution_action_updated_date     object\n",
       "waittime                          float64\n",
       "dtype: object"
      ]
     },
     "execution_count": 9,
     "metadata": {},
     "output_type": "execute_result"
    }
   ],
   "source": [
    "sr.dtypes"
   ]
  },
  {
   "cell_type": "markdown",
   "metadata": {},
   "source": [
    "As seen above we have many features, some of which will not be helpful to us or we will not use. For example, anything pertaining to a _specific_ address or location will not be used such as `incident_address` or `incident_zip` as these factors can often be indicators of other features such as race or socioeconomic status. Instead, we will simply keep `borough` as it is a large enough bucket with diverse populations. We will keep `longitude` and `latitude` for visualization purposes, but it will not be included in the model itself. Some of the features listed above are repetitive, such as `x_coordinate_state_plane`, as it will serve the same purpose as `latitude`. Features like `cross_street_1` or `intersection_street_1` are not needed for our purposes, as these featuers are usually used to help the responding agency find the source of the request. Since we aren't focusing on exact locations, we will not need these features. \n",
    "\n",
    "\n",
    "Two features that are important to us are the `created_date` and `closed_date` columns, which are currently being read as objects. We will convert these to datetime.  \n",
    "\n",
    "Many of the remaining columns are categorical ones, such as `location_type`, which we expect to have null values for. We will fill all null values for these types of features with either `unknown` or `none` as it still gives us the same information, but will be able to be used in our visuals and models. "
   ]
  },
  {
   "cell_type": "code",
   "execution_count": 10,
   "metadata": {},
   "outputs": [],
   "source": [
    "def clean_dataframe(train, holdout):\n",
    "    for df in [train, holdout]: # clean both dfs at once\n",
    "        \n",
    "        df.drop_duplicates(inplace=True)\n",
    "        \n",
    "        # convert columns to datetime\n",
    "        for col in ['created_date', 'closed_date', 'resolution_action_updated_date']:\n",
    "            df[col] = pd.to_datetime(df[col])\n",
    "        \n",
    "        \n",
    "        # fill empty descriptions with 'none'\n",
    "        df['descriptor'].fillna('none', inplace=True)\n",
    "        \n",
    "        df['resolution_description'].fillna('none', inplace=True) \n",
    "        \n",
    "        # fill empty location types with unknown\n",
    "        df['location_type'] = df['location_type'].fillna('unknown')\n",
    "        \n",
    "        # drop columns that are repetitive and will not be useful to the model \n",
    "        df.drop(columns=['landmark','intersection_street_1','cross_street_1',\n",
    "                         'cross_street_2','intersection_street_2',\n",
    "                        'community_board','incident_zip','incident_address',\n",
    "                        'street_name','bbl','x_coordinate_state_plane',\n",
    "                        'y_coordinate_state_plane','city','park_borough',\n",
    "                        'park_facility_name','location'], inplace=True)\n",
    "        \n",
    "   \n"
   ]
  },
  {
   "cell_type": "markdown",
   "metadata": {},
   "source": [
    "The above function will take in both the training and validation set and clean them as discussed above, dropping necessary columns and filling in null values where appropriate. "
   ]
  },
  {
   "cell_type": "code",
   "execution_count": 11,
   "metadata": {},
   "outputs": [
    {
     "name": "stderr",
     "output_type": "stream",
     "text": [
      "/opt/anaconda3/envs/dsi/lib/python3.7/site-packages/ipykernel_launcher.py:4: SettingWithCopyWarning: \n",
      "A value is trying to be set on a copy of a slice from a DataFrame\n",
      "\n",
      "See the caveats in the documentation: https://pandas.pydata.org/pandas-docs/stable/user_guide/indexing.html#returning-a-view-versus-a-copy\n",
      "  after removing the cwd from sys.path.\n",
      "/opt/anaconda3/envs/dsi/lib/python3.7/site-packages/ipykernel_launcher.py:8: SettingWithCopyWarning: \n",
      "A value is trying to be set on a copy of a slice from a DataFrame.\n",
      "Try using .loc[row_indexer,col_indexer] = value instead\n",
      "\n",
      "See the caveats in the documentation: https://pandas.pydata.org/pandas-docs/stable/user_guide/indexing.html#returning-a-view-versus-a-copy\n",
      "  \n",
      "/opt/anaconda3/envs/dsi/lib/python3.7/site-packages/pandas/core/generic.py:6245: SettingWithCopyWarning: \n",
      "A value is trying to be set on a copy of a slice from a DataFrame\n",
      "\n",
      "See the caveats in the documentation: https://pandas.pydata.org/pandas-docs/stable/user_guide/indexing.html#returning-a-view-versus-a-copy\n",
      "  self._update_inplace(new_data)\n",
      "/opt/anaconda3/envs/dsi/lib/python3.7/site-packages/ipykernel_launcher.py:17: SettingWithCopyWarning: \n",
      "A value is trying to be set on a copy of a slice from a DataFrame.\n",
      "Try using .loc[row_indexer,col_indexer] = value instead\n",
      "\n",
      "See the caveats in the documentation: https://pandas.pydata.org/pandas-docs/stable/user_guide/indexing.html#returning-a-view-versus-a-copy\n",
      "/opt/anaconda3/envs/dsi/lib/python3.7/site-packages/pandas/core/frame.py:3997: SettingWithCopyWarning: \n",
      "A value is trying to be set on a copy of a slice from a DataFrame\n",
      "\n",
      "See the caveats in the documentation: https://pandas.pydata.org/pandas-docs/stable/user_guide/indexing.html#returning-a-view-versus-a-copy\n",
      "  errors=errors,\n"
     ]
    }
   ],
   "source": [
    "# cleaning both dataframes at once\n",
    "clean_dataframe(sr, val)"
   ]
  },
  {
   "cell_type": "code",
   "execution_count": 12,
   "metadata": {},
   "outputs": [
    {
     "data": {
      "text/plain": [
       "Index(['unique_key', 'created_date', 'closed_date', 'agency', 'agency_name',\n",
       "       'complaint_type', 'descriptor', 'location_type', 'status', 'borough',\n",
       "       'open_data_channel_type', 'latitude', 'longitude',\n",
       "       'resolution_description', 'resolution_action_updated_date', 'waittime'],\n",
       "      dtype='object')"
      ]
     },
     "execution_count": 12,
     "metadata": {},
     "output_type": "execute_result"
    }
   ],
   "source": [
    "# check to see if appropriate columns have been dropped \n",
    "sr.columns"
   ]
  },
  {
   "cell_type": "markdown",
   "metadata": {},
   "source": [
    "### Checking for null values"
   ]
  },
  {
   "cell_type": "code",
   "execution_count": 13,
   "metadata": {},
   "outputs": [
    {
     "data": {
      "text/plain": [
       "unique_key                            0\n",
       "created_date                          0\n",
       "closed_date                           0\n",
       "agency                                0\n",
       "agency_name                           0\n",
       "complaint_type                        0\n",
       "descriptor                            0\n",
       "location_type                         0\n",
       "status                                0\n",
       "borough                               0\n",
       "open_data_channel_type                0\n",
       "resolution_description                0\n",
       "waittime                              0\n",
       "resolution_action_updated_date      178\n",
       "latitude                          10978\n",
       "longitude                         10978\n",
       "dtype: int64"
      ]
     },
     "execution_count": 13,
     "metadata": {},
     "output_type": "execute_result"
    }
   ],
   "source": [
    "sr.isnull().sum().sort_values()"
   ]
  },
  {
   "cell_type": "code",
   "execution_count": 14,
   "metadata": {},
   "outputs": [
    {
     "data": {
      "text/plain": [
       "Your complaint has been forwarded to the New York Police Department for a non-emergency response. Your complaint will take priority over other non-emergency complaints. 311 will have additional information in 8 hours. Please note your service request number for future reference.                                                                                                                                                                                                                               155\n",
       "Your complaint has been forwarded to the New York Police Department for a non-emergency response. If the police determine the vehicle is illegally parked, they will ticket the vehicle and then you may either contact a private towing company to remove the vehicle or ask your local precinct to contact 'rotation tow'. Any fees charged for towing will have to be paid by the vehicle owner. 311 will have additional information in 8 hours. Please note your service request number for future reference.     21\n",
       "none                                                                                                                                                                                                                                                                                                                                                                                                                                                                                                                    2\n",
       "Name: resolution_description, dtype: int64"
      ]
     },
     "execution_count": 14,
     "metadata": {},
     "output_type": "execute_result"
    }
   ],
   "source": [
    "sr[sr['resolution_action_updated_date'].isnull()]['resolution_description'].value_counts()"
   ]
  },
  {
   "cell_type": "markdown",
   "metadata": {},
   "source": [
    "The only columns remaining with null values are `longitude`, `latitude`, and `resolution_action_updated_date`. Because we will not be using `longitude` and `latitude` in our model, but just for visualization purposes, we will keep these null values as is. After some exploration, it was shown that requests with a null value for `resolution_action_updated_date` often had a `resolution_description` that informed the civilian that their request was in fact forwarded to the NYPD, non-emergent, and more information would be available within 8 hours. Unfortunately, these were never updated."
   ]
  },
  {
   "cell_type": "markdown",
   "metadata": {},
   "source": [
    "### Checking `waittime`"
   ]
  },
  {
   "cell_type": "code",
   "execution_count": 16,
   "metadata": {},
   "outputs": [
    {
     "data": {
      "text/html": [
       "<div>\n",
       "<style scoped>\n",
       "    .dataframe tbody tr th:only-of-type {\n",
       "        vertical-align: middle;\n",
       "    }\n",
       "\n",
       "    .dataframe tbody tr th {\n",
       "        vertical-align: top;\n",
       "    }\n",
       "\n",
       "    .dataframe thead th {\n",
       "        text-align: right;\n",
       "    }\n",
       "</style>\n",
       "<table border=\"1\" class=\"dataframe\">\n",
       "  <thead>\n",
       "    <tr style=\"text-align: right;\">\n",
       "      <th></th>\n",
       "      <th>unique_key</th>\n",
       "      <th>created_date</th>\n",
       "      <th>closed_date</th>\n",
       "      <th>agency</th>\n",
       "      <th>agency_name</th>\n",
       "      <th>complaint_type</th>\n",
       "      <th>descriptor</th>\n",
       "      <th>location_type</th>\n",
       "      <th>status</th>\n",
       "      <th>borough</th>\n",
       "      <th>open_data_channel_type</th>\n",
       "      <th>latitude</th>\n",
       "      <th>longitude</th>\n",
       "      <th>resolution_description</th>\n",
       "      <th>resolution_action_updated_date</th>\n",
       "      <th>waittime</th>\n",
       "    </tr>\n",
       "  </thead>\n",
       "  <tbody>\n",
       "    <tr>\n",
       "      <th>180229</th>\n",
       "      <td>44212516</td>\n",
       "      <td>2019-11-03 01:16:04</td>\n",
       "      <td>2019-11-03 01:10:20</td>\n",
       "      <td>NYPD</td>\n",
       "      <td>New York City Police Department</td>\n",
       "      <td>Homeless Encampment</td>\n",
       "      <td>none</td>\n",
       "      <td>Store/Commercial</td>\n",
       "      <td>Closed</td>\n",
       "      <td>MANHATTAN</td>\n",
       "      <td>ONLINE</td>\n",
       "      <td>40.709304</td>\n",
       "      <td>-74.005295</td>\n",
       "      <td>The Police Department responded to the complai...</td>\n",
       "      <td>2019-11-03 06:10:25</td>\n",
       "      <td>-1.996019</td>\n",
       "    </tr>\n",
       "    <tr>\n",
       "      <th>180012</th>\n",
       "      <td>44209266</td>\n",
       "      <td>2019-11-03 01:57:58</td>\n",
       "      <td>2019-11-03 01:52:37</td>\n",
       "      <td>NYPD</td>\n",
       "      <td>New York City Police Department</td>\n",
       "      <td>Noise - Commercial</td>\n",
       "      <td>Loud Music/Party</td>\n",
       "      <td>Store/Commercial</td>\n",
       "      <td>Closed</td>\n",
       "      <td>BROOKLYN</td>\n",
       "      <td>MOBILE</td>\n",
       "      <td>40.716626</td>\n",
       "      <td>-73.961798</td>\n",
       "      <td>The Police Department responded to the complai...</td>\n",
       "      <td>2019-11-03 06:52:45</td>\n",
       "      <td>-1.996285</td>\n",
       "    </tr>\n",
       "    <tr>\n",
       "      <th>180151</th>\n",
       "      <td>44210509</td>\n",
       "      <td>2019-11-03 01:30:57</td>\n",
       "      <td>2019-11-03 01:07:57</td>\n",
       "      <td>NYPD</td>\n",
       "      <td>New York City Police Department</td>\n",
       "      <td>Homeless Encampment</td>\n",
       "      <td>none</td>\n",
       "      <td>Store/Commercial</td>\n",
       "      <td>Closed</td>\n",
       "      <td>MANHATTAN</td>\n",
       "      <td>ONLINE</td>\n",
       "      <td>40.709954</td>\n",
       "      <td>-74.008999</td>\n",
       "      <td>The Police Department responded to the complai...</td>\n",
       "      <td>2019-11-03 06:07:58</td>\n",
       "      <td>-1.984028</td>\n",
       "    </tr>\n",
       "    <tr>\n",
       "      <th>180050</th>\n",
       "      <td>44215330</td>\n",
       "      <td>2019-11-03 01:49:02</td>\n",
       "      <td>2019-11-03 01:21:44</td>\n",
       "      <td>NYPD</td>\n",
       "      <td>New York City Police Department</td>\n",
       "      <td>Noise - Residential</td>\n",
       "      <td>Loud Music/Party</td>\n",
       "      <td>Residential Building/House</td>\n",
       "      <td>Closed</td>\n",
       "      <td>QUEENS</td>\n",
       "      <td>PHONE</td>\n",
       "      <td>40.740511</td>\n",
       "      <td>-73.919239</td>\n",
       "      <td>The Police Department responded to the complai...</td>\n",
       "      <td>2019-11-03 06:21:51</td>\n",
       "      <td>-1.981042</td>\n",
       "    </tr>\n",
       "    <tr>\n",
       "      <th>180141</th>\n",
       "      <td>44212550</td>\n",
       "      <td>2019-11-03 01:32:28</td>\n",
       "      <td>2019-11-03 01:21:24</td>\n",
       "      <td>NYPD</td>\n",
       "      <td>New York City Police Department</td>\n",
       "      <td>Noise - Residential</td>\n",
       "      <td>Loud Music/Party</td>\n",
       "      <td>Residential Building/House</td>\n",
       "      <td>Closed</td>\n",
       "      <td>QUEENS</td>\n",
       "      <td>ONLINE</td>\n",
       "      <td>40.740511</td>\n",
       "      <td>-73.919239</td>\n",
       "      <td>The Police Department responded to the complai...</td>\n",
       "      <td>2019-11-03 06:21:32</td>\n",
       "      <td>-1.992315</td>\n",
       "    </tr>\n",
       "  </tbody>\n",
       "</table>\n",
       "</div>"
      ],
      "text/plain": [
       "        unique_key        created_date         closed_date agency  \\\n",
       "180229    44212516 2019-11-03 01:16:04 2019-11-03 01:10:20   NYPD   \n",
       "180012    44209266 2019-11-03 01:57:58 2019-11-03 01:52:37   NYPD   \n",
       "180151    44210509 2019-11-03 01:30:57 2019-11-03 01:07:57   NYPD   \n",
       "180050    44215330 2019-11-03 01:49:02 2019-11-03 01:21:44   NYPD   \n",
       "180141    44212550 2019-11-03 01:32:28 2019-11-03 01:21:24   NYPD   \n",
       "\n",
       "                            agency_name       complaint_type  \\\n",
       "180229  New York City Police Department  Homeless Encampment   \n",
       "180012  New York City Police Department   Noise - Commercial   \n",
       "180151  New York City Police Department  Homeless Encampment   \n",
       "180050  New York City Police Department  Noise - Residential   \n",
       "180141  New York City Police Department  Noise - Residential   \n",
       "\n",
       "              descriptor               location_type  status    borough  \\\n",
       "180229              none            Store/Commercial  Closed  MANHATTAN   \n",
       "180012  Loud Music/Party            Store/Commercial  Closed   BROOKLYN   \n",
       "180151              none            Store/Commercial  Closed  MANHATTAN   \n",
       "180050  Loud Music/Party  Residential Building/House  Closed     QUEENS   \n",
       "180141  Loud Music/Party  Residential Building/House  Closed     QUEENS   \n",
       "\n",
       "       open_data_channel_type   latitude  longitude  \\\n",
       "180229                 ONLINE  40.709304 -74.005295   \n",
       "180012                 MOBILE  40.716626 -73.961798   \n",
       "180151                 ONLINE  40.709954 -74.008999   \n",
       "180050                  PHONE  40.740511 -73.919239   \n",
       "180141                 ONLINE  40.740511 -73.919239   \n",
       "\n",
       "                                   resolution_description  \\\n",
       "180229  The Police Department responded to the complai...   \n",
       "180012  The Police Department responded to the complai...   \n",
       "180151  The Police Department responded to the complai...   \n",
       "180050  The Police Department responded to the complai...   \n",
       "180141  The Police Department responded to the complai...   \n",
       "\n",
       "       resolution_action_updated_date  waittime  \n",
       "180229            2019-11-03 06:10:25 -1.996019  \n",
       "180012            2019-11-03 06:52:45 -1.996285  \n",
       "180151            2019-11-03 06:07:58 -1.984028  \n",
       "180050            2019-11-03 06:21:51 -1.981042  \n",
       "180141            2019-11-03 06:21:32 -1.992315  "
      ]
     },
     "execution_count": 16,
     "metadata": {},
     "output_type": "execute_result"
    }
   ],
   "source": [
    "sr[sr['waittime'] < 0].head()"
   ]
  },
  {
   "cell_type": "markdown",
   "metadata": {},
   "source": [
    "There were 16 observations that had a negative wait time, which doesn't make any sense. After further investigation, it was found that these particular requests were all made on the same day, 2019-11-03, within the 1 am hour. There were varying boroughs and submission types, so no pattern was found there. All complaints were either a noise complaint or related to a homeless encampment. There were other requests made on this day that did not seem to have this error. Being these entries make up less than .01% of the whole dataset, we will simply drop these rows from the training set. We understand that if this same error occurs in the validation set, we will not be able to drop said rows, but are hoping this was a one time error in data collection and that these errors will make up only a small portion of the whole dataset to not effect it too strongly."
   ]
  },
  {
   "cell_type": "code",
   "execution_count": 17,
   "metadata": {},
   "outputs": [
    {
     "name": "stderr",
     "output_type": "stream",
     "text": [
      "/opt/anaconda3/envs/dsi/lib/python3.7/site-packages/pandas/core/frame.py:3997: SettingWithCopyWarning: \n",
      "A value is trying to be set on a copy of a slice from a DataFrame\n",
      "\n",
      "See the caveats in the documentation: https://pandas.pydata.org/pandas-docs/stable/user_guide/indexing.html#returning-a-view-versus-a-copy\n",
      "  errors=errors,\n"
     ]
    },
    {
     "data": {
      "text/plain": [
       "(539984, 16)"
      ]
     },
     "execution_count": 17,
     "metadata": {},
     "output_type": "execute_result"
    }
   ],
   "source": [
    "# drop negative waittimes \n",
    "indices_to_drop = sr[sr['waittime'] < 0].index\n",
    "sr.drop(index=indices_to_drop, inplace=True)\n",
    "sr.shape"
   ]
  },
  {
   "cell_type": "markdown",
   "metadata": {},
   "source": [
    "## Exploratory Data Analysis"
   ]
  },
  {
   "cell_type": "code",
   "execution_count": 18,
   "metadata": {},
   "outputs": [
    {
     "data": {
      "text/plain": [
       "count    539984.000000\n",
       "mean          0.442553\n",
       "std           3.493269\n",
       "min           0.000197\n",
       "25%           0.058032\n",
       "50%           0.133848\n",
       "75%           0.274436\n",
       "max         206.016285\n",
       "Name: waittime, dtype: float64"
      ]
     },
     "execution_count": 18,
     "metadata": {},
     "output_type": "execute_result"
    }
   ],
   "source": [
    "sr['waittime'].describe()"
   ]
  },
  {
   "cell_type": "markdown",
   "metadata": {},
   "source": [
    "The average wait time is 0.4426 days, with a standard deviation of 3.493 days. The maximum wait time in this dataset is over 206 days. The 75th percentile, though, is still less than one day at 0.274, showing that longer wait times are unexpected and rarer. "
   ]
  },
  {
   "cell_type": "code",
   "execution_count": 19,
   "metadata": {},
   "outputs": [
    {
     "data": {
      "image/png": "[encoded data removed]",
      "text/plain": [
       "<Figure size 432x288 with 1 Axes>"
      ]
     },
     "metadata": {
      "needs_background": "light"
     },
     "output_type": "display_data"
    }
   ],
   "source": [
    "plt.hist((sr['waittime']), color = 'cadetblue')\n",
    "plt.title('Distribution of Wait Time')\n",
    "plt.xlabel('Wait Time')\n",
    "plt.ylabel('Frequency');"
   ]
  },
  {
   "cell_type": "code",
   "execution_count": 20,
   "metadata": {},
   "outputs": [
    {
     "data": {
      "image/png": "[encoded data removed]",
      "text/plain": [
       "<Figure size 432x288 with 1 Axes>"
      ]
     },
     "metadata": {
      "needs_background": "light"
     },
     "output_type": "display_data"
    }
   ],
   "source": [
    "plt.hist(np.log(sr['waittime']), color = 'teal')\n",
    "plt.title('Distribution of Log of Wait Time')\n",
    "plt.xlabel('Log Wait Time')\n",
    "plt.ylabel('Frequency');"
   ]
  },
  {
   "cell_type": "markdown",
   "metadata": {},
   "source": [
    "When looking at the distribution of wait time, the original distribution was very skewed, due to the rare wait times discussed previously. In order to have a target variable that is closer to being normally distributed, we took the log of the wait times. In our model, we will use the log of our target variable. "
   ]
  },
  {
   "cell_type": "code",
   "execution_count": 21,
   "metadata": {},
   "outputs": [],
   "source": [
    "def plot_pct_waittime(y, pct_width, avg_width, colors, y_label):\n",
    "    \"\"\"\n",
    "    Plots 2 horizontal bar charts, the first showing the percentage breakdown of each category in feature. The second showing the average wait time for each category.\n",
    "    \n",
    "    Parameters:\n",
    "    y: labels for y axis\n",
    "    pct_width: values for percentage break down\n",
    "    avg_width: values for wait time averages\n",
    "    colors: takes list of colors (min 2)\n",
    "    y_label: y label for graphs\n",
    "    \"\"\"\n",
    "    \n",
    "    fig, axes = plt.subplots(figsize=(14,5), ncols=2)\n",
    "\n",
    "    axes[0].set_title(f'Percentage of Most Frequent {y_label}s',size=16)\n",
    "    axes[0].barh(y=y, width=pct_width, color=colors[0])\n",
    "    axes[0].set_ylabel(y_label,size=13)\n",
    "    axes[0].set_xlabel('Percentage',size=13)\n",
    "    \n",
    "    axes[1].set_title(f'Average Wait Time (Days) by {y_label}',size=16)\n",
    "    axes[1].barh(y=y, width=avg_width, color=colors[1])\n",
    "    axes[1].set_ylabel(y_label,size=13)\n",
    "    axes[1].set_xlabel('Average Wait Time (Days)',size=13)\n",
    "    \n",
    "    fig.tight_layout();\n",
    "    "
   ]
  },
  {
   "cell_type": "code",
   "execution_count": 22,
   "metadata": {},
   "outputs": [
    {
     "data": {
      "text/plain": [
       "Noise - Residential            0.267063\n",
       "Illegal Parking                0.239711\n",
       "Blocked Driveway               0.158634\n",
       "Noise - Street/Sidewalk        0.128824\n",
       "Noise - Vehicle                0.050526\n",
       "Abandoned Vehicle              0.046461\n",
       "Noise - Commercial             0.042799\n",
       "Non-Emergency Police Matter    0.012447\n",
       "Homeless Encampment            0.010165\n",
       "Animal-Abuse                   0.008204\n",
       "Vending                        0.005991\n",
       "Traffic                        0.005369\n",
       "Noise - Park                   0.004985\n",
       "Panhandling                    0.003817\n",
       "Drug Activity                  0.003635\n",
       "Derelict Vehicle               0.002706\n",
       "Drinking                       0.002206\n",
       "Illegal Fireworks              0.001515\n",
       "Bike/Roller/Skate Chronic      0.000883\n",
       "Graffiti                       0.000880\n",
       "Homeless Street Condition      0.000867\n",
       "Noise - House of Worship       0.000824\n",
       "Urinating in Public            0.000770\n",
       "Animal Abuse                   0.000487\n",
       "Disorderly Youth               0.000117\n",
       "Posting Advertisement          0.000104\n",
       "Squeegee                       0.000011\n",
       "Name: complaint_type, dtype: float64"
      ]
     },
     "execution_count": 22,
     "metadata": {},
     "output_type": "execute_result"
    }
   ],
   "source": [
    "sr['complaint_type'].value_counts(normalize=True)"
   ]
  },
  {
   "cell_type": "markdown",
   "metadata": {},
   "source": [
    "The top two complaint types for these service requests were 'Noise - Residential' (26.7%) and 'Illegal Parking' (23.9%), together making up more than half of the complaints. The next two most frequent complaints were 'Blocked Driveway' (15.9%) and 'Noise - Street/Sidewalk' (12.9%). Each of the remainder of the complaint types make up about 5% or less per complaint type. Of the 27 different complaint types, 6 were associated with some type of noise complaint."
   ]
  },
  {
   "cell_type": "code",
   "execution_count": 23,
   "metadata": {},
   "outputs": [],
   "source": [
    "top_10_complaints = sr['complaint_type'].value_counts(normalize=True)[:10].index\n",
    "complaint_mean_waittimes = sr.groupby('complaint_type')['waittime'].mean()"
   ]
  },
  {
   "cell_type": "code",
   "execution_count": 24,
   "metadata": {},
   "outputs": [
    {
     "data": {
      "image/png": "[encoded data removed]",
      "text/plain": [
       "<Figure size 1008x360 with 2 Axes>"
      ]
     },
     "metadata": {
      "needs_background": "light"
     },
     "output_type": "display_data"
    }
   ],
   "source": [
    "plot_pct_waittime(top_10_complaints,\n",
    "                  sr['complaint_type'].value_counts(normalize=True)[:10],\n",
    "                  complaint_mean_waittimes[top_10_complaints],\n",
    "                  ['firebrick','lightcoral'],\n",
    "                  'Complaint Type')"
   ]
  },
  {
   "cell_type": "markdown",
   "metadata": {},
   "source": [
    "**Note:** the complaint types are listed in ascending order, where _Noise - Residential_ is the most frequent complaint type. The top 3 most frequent complaint types had average wait times between 0.3 and 0.6 days. In fact, out of the top 10 most frequent complaint types, the only one that had an average wait time of more than one day was _abandoned vehicle._ "
   ]
  },
  {
   "cell_type": "code",
   "execution_count": 25,
   "metadata": {},
   "outputs": [
    {
     "data": {
      "text/plain": [
       "BROOKLYN         0.310991\n",
       "QUEENS           0.273669\n",
       "MANHATTAN        0.197991\n",
       "BRONX            0.181142\n",
       "STATEN ISLAND    0.035720\n",
       "Name: borough, dtype: float64"
      ]
     },
     "execution_count": 25,
     "metadata": {},
     "output_type": "execute_result"
    }
   ],
   "source": [
    "borough_counts = sr['borough'].value_counts(normalize=True)[:5]\n",
    "borough_counts"
   ]
  },
  {
   "cell_type": "code",
   "execution_count": 26,
   "metadata": {},
   "outputs": [
    {
     "data": {
      "text/plain": [
       "borough\n",
       "BRONX            0.519340\n",
       "BROOKLYN         0.378689\n",
       "MANHATTAN        0.188548\n",
       "QUEENS           0.600875\n",
       "STATEN ISLAND    0.224443\n",
       "Name: waittime, dtype: float64"
      ]
     },
     "execution_count": 26,
     "metadata": {},
     "output_type": "execute_result"
    }
   ],
   "source": [
    "borough_mean = sr.groupby('borough')['waittime'].mean()[:5]\n",
    "borough_mean"
   ]
  },
  {
   "cell_type": "code",
   "execution_count": 27,
   "metadata": {},
   "outputs": [
    {
     "data": {
      "image/png": "[encoded data removed]",
      "text/plain": [
       "<Figure size 1008x360 with 2 Axes>"
      ]
     },
     "metadata": {
      "needs_background": "light"
     },
     "output_type": "display_data"
    }
   ],
   "source": [
    "plot_pct_waittime(borough_counts.index,\n",
    "                  borough_counts,\n",
    "                  borough_mean[borough_counts.index],\n",
    "                  ['darkmagenta','mediumorchid'],\n",
    "                  'Borough')"
   ]
  },
  {
   "cell_type": "markdown",
   "metadata": {},
   "source": [
    "*Note: Unspecified is another option for `borough` but made up less than 1% of the data so it is not included in this graph.*   \n",
    "Queens had the highest average wait time with roughly 0.6 days, followed by the Bronx with 0.52 days. Manhattan had the lowest average wait time of 0.19 days. All boroughs had an average wait time of 0.6 days or less. "
   ]
  },
  {
   "cell_type": "code",
   "execution_count": 28,
   "metadata": {},
   "outputs": [
    {
     "data": {
      "text/plain": [
       "PHONE     0.424642\n",
       "ONLINE    0.291010\n",
       "MOBILE    0.284255\n",
       "Name: open_data_channel_type, dtype: float64"
      ]
     },
     "execution_count": 28,
     "metadata": {},
     "output_type": "execute_result"
    }
   ],
   "source": [
    "submission_types = sr['open_data_channel_type'].value_counts(normalize=True)[:3]\n",
    "submission_types"
   ]
  },
  {
   "cell_type": "code",
   "execution_count": 29,
   "metadata": {},
   "outputs": [],
   "source": [
    "submission_means = sr.groupby('open_data_channel_type')['waittime'].mean()"
   ]
  },
  {
   "cell_type": "code",
   "execution_count": 30,
   "metadata": {},
   "outputs": [
    {
     "data": {
      "image/png": "[encoded data removed]",
      "text/plain": [
       "<Figure size 1008x360 with 2 Axes>"
      ]
     },
     "metadata": {
      "needs_background": "light"
     },
     "output_type": "display_data"
    }
   ],
   "source": [
    "plot_pct_waittime(submission_types.index,\n",
    "                  submission_types,\n",
    "                  submission_means[submission_types.index],\n",
    "                  ['goldenrod','gold'],\n",
    "                  'Submission Type')"
   ]
  },
  {
   "cell_type": "code",
   "execution_count": 31,
   "metadata": {},
   "outputs": [
    {
     "data": {
      "image/png": "[encoded data removed]",
      "text/plain": [
       "<Figure size 432x288 with 1 Axes>"
      ]
     },
     "metadata": {
      "needs_background": "light"
     },
     "output_type": "display_data"
    }
   ],
   "source": [
    "sns.scatterplot(data = sr, y='latitude', x = 'longitude', s=12,hue = 'waittime')\n",
    "plt.title('Mapped Wait Times')\n",
    "plt.ylabel('Latitude')\n",
    "plt.xlabel('Longitude');"
   ]
  },
  {
   "cell_type": "code",
   "execution_count": 32,
   "metadata": {},
   "outputs": [
    {
     "data": {
      "text/plain": [
       "Loud Music/Party    0.643506\n",
       "Banging/Pounding    0.274530\n",
       "Loud Talking        0.063775\n",
       "Loud Television     0.018189\n",
       "Name: descriptor, dtype: float64"
      ]
     },
     "execution_count": 32,
     "metadata": {},
     "output_type": "execute_result"
    }
   ],
   "source": [
    "sr[sr['complaint_type']=='Noise - Residential']['descriptor'].value_counts(normalize=True)"
   ]
  },
  {
   "cell_type": "code",
   "execution_count": 33,
   "metadata": {},
   "outputs": [
    {
     "data": {
      "text/plain": [
       "descriptor\n",
       "Banging/Pounding    0.365132\n",
       "Loud Music/Party    0.329723\n",
       "Loud Talking        0.276959\n",
       "Loud Television     0.301759\n",
       "Name: waittime, dtype: float64"
      ]
     },
     "execution_count": 33,
     "metadata": {},
     "output_type": "execute_result"
    }
   ],
   "source": [
    "sr[sr['complaint_type']=='Noise - Residential'].groupby('descriptor')['waittime'].mean()"
   ]
  },
  {
   "cell_type": "code",
   "execution_count": 34,
   "metadata": {},
   "outputs": [
    {
     "data": {
      "text/plain": [
       "Posted Parking Sign Violation     0.253708\n",
       "Blocked Hydrant                   0.239030\n",
       "Blocked Sidewalk                  0.141749\n",
       "Commercial Overnight Parking      0.125471\n",
       "Blocked Bike Lane                 0.101252\n",
       "Double Parked Blocking Traffic    0.056683\n",
       "Double Parked Blocking Vehicle    0.033181\n",
       "Parking Permit Improper Use       0.020465\n",
       "Unauthorized Bus Layover          0.013334\n",
       "Overnight Commercial Storage      0.011573\n",
       "Detached Trailer                  0.003554\n",
       "Name: descriptor, dtype: float64"
      ]
     },
     "execution_count": 34,
     "metadata": {},
     "output_type": "execute_result"
    }
   ],
   "source": [
    "sr[sr['complaint_type']=='Illegal Parking']['descriptor'].value_counts(normalize=True)"
   ]
  },
  {
   "cell_type": "code",
   "execution_count": 35,
   "metadata": {},
   "outputs": [
    {
     "data": {
      "text/plain": [
       "descriptor\n",
       "Blocked Bike Lane                 0.275404\n",
       "Blocked Hydrant                   0.404650\n",
       "Blocked Sidewalk                  0.522839\n",
       "Commercial Overnight Parking      0.573481\n",
       "Detached Trailer                  0.652295\n",
       "Double Parked Blocking Traffic    0.384704\n",
       "Double Parked Blocking Vehicle    0.356336\n",
       "Overnight Commercial Storage      0.573419\n",
       "Parking Permit Improper Use       0.556114\n",
       "Posted Parking Sign Violation     0.485996\n",
       "Unauthorized Bus Layover          0.297383\n",
       "Name: waittime, dtype: float64"
      ]
     },
     "execution_count": 35,
     "metadata": {},
     "output_type": "execute_result"
    }
   ],
   "source": [
    "sr[sr['complaint_type']=='Illegal Parking'].groupby('descriptor')['waittime'].mean()"
   ]
  },
  {
   "cell_type": "markdown",
   "metadata": {},
   "source": [
    "Since there is virtually no data for unknown and other we won't graph it. "
   ]
  },
  {
   "cell_type": "code",
   "execution_count": 36,
   "metadata": {},
   "outputs": [
    {
     "data": {
      "text/html": [
       "<div>\n",
       "<style scoped>\n",
       "    .dataframe tbody tr th:only-of-type {\n",
       "        vertical-align: middle;\n",
       "    }\n",
       "\n",
       "    .dataframe tbody tr th {\n",
       "        vertical-align: top;\n",
       "    }\n",
       "\n",
       "    .dataframe thead th {\n",
       "        text-align: right;\n",
       "    }\n",
       "</style>\n",
       "<table border=\"1\" class=\"dataframe\">\n",
       "  <thead>\n",
       "    <tr style=\"text-align: right;\">\n",
       "      <th></th>\n",
       "      <th>count</th>\n",
       "      <th>unique</th>\n",
       "      <th>top</th>\n",
       "      <th>freq</th>\n",
       "    </tr>\n",
       "  </thead>\n",
       "  <tbody>\n",
       "    <tr>\n",
       "      <th>agency</th>\n",
       "      <td>539984</td>\n",
       "      <td>1</td>\n",
       "      <td>NYPD</td>\n",
       "      <td>539984</td>\n",
       "    </tr>\n",
       "    <tr>\n",
       "      <th>agency_name</th>\n",
       "      <td>539984</td>\n",
       "      <td>2</td>\n",
       "      <td>New York City Police Department</td>\n",
       "      <td>539937</td>\n",
       "    </tr>\n",
       "    <tr>\n",
       "      <th>complaint_type</th>\n",
       "      <td>539984</td>\n",
       "      <td>27</td>\n",
       "      <td>Noise - Residential</td>\n",
       "      <td>144210</td>\n",
       "    </tr>\n",
       "    <tr>\n",
       "      <th>descriptor</th>\n",
       "      <td>539984</td>\n",
       "      <td>49</td>\n",
       "      <td>Loud Music/Party</td>\n",
       "      <td>168693</td>\n",
       "    </tr>\n",
       "    <tr>\n",
       "      <th>location_type</th>\n",
       "      <td>539984</td>\n",
       "      <td>22</td>\n",
       "      <td>Street/Sidewalk</td>\n",
       "      <td>305150</td>\n",
       "    </tr>\n",
       "    <tr>\n",
       "      <th>status</th>\n",
       "      <td>539984</td>\n",
       "      <td>1</td>\n",
       "      <td>Closed</td>\n",
       "      <td>539984</td>\n",
       "    </tr>\n",
       "    <tr>\n",
       "      <th>borough</th>\n",
       "      <td>539984</td>\n",
       "      <td>6</td>\n",
       "      <td>BROOKLYN</td>\n",
       "      <td>167930</td>\n",
       "    </tr>\n",
       "    <tr>\n",
       "      <th>open_data_channel_type</th>\n",
       "      <td>539984</td>\n",
       "      <td>5</td>\n",
       "      <td>PHONE</td>\n",
       "      <td>229300</td>\n",
       "    </tr>\n",
       "    <tr>\n",
       "      <th>resolution_description</th>\n",
       "      <td>539984</td>\n",
       "      <td>22</td>\n",
       "      <td>The Police Department responded to the complai...</td>\n",
       "      <td>182488</td>\n",
       "    </tr>\n",
       "  </tbody>\n",
       "</table>\n",
       "</div>"
      ],
      "text/plain": [
       "                         count unique  \\\n",
       "agency                  539984      1   \n",
       "agency_name             539984      2   \n",
       "complaint_type          539984     27   \n",
       "descriptor              539984     49   \n",
       "location_type           539984     22   \n",
       "status                  539984      1   \n",
       "borough                 539984      6   \n",
       "open_data_channel_type  539984      5   \n",
       "resolution_description  539984     22   \n",
       "\n",
       "                                                                      top  \\\n",
       "agency                                                               NYPD   \n",
       "agency_name                               New York City Police Department   \n",
       "complaint_type                                        Noise - Residential   \n",
       "descriptor                                               Loud Music/Party   \n",
       "location_type                                             Street/Sidewalk   \n",
       "status                                                             Closed   \n",
       "borough                                                          BROOKLYN   \n",
       "open_data_channel_type                                              PHONE   \n",
       "resolution_description  The Police Department responded to the complai...   \n",
       "\n",
       "                          freq  \n",
       "agency                  539984  \n",
       "agency_name             539937  \n",
       "complaint_type          144210  \n",
       "descriptor              168693  \n",
       "location_type           305150  \n",
       "status                  539984  \n",
       "borough                 167930  \n",
       "open_data_channel_type  229300  \n",
       "resolution_description  182488  "
      ]
     },
     "execution_count": 36,
     "metadata": {},
     "output_type": "execute_result"
    }
   ],
   "source": [
    "sr.describe(include=np.object).T"
   ]
  },
  {
   "cell_type": "code",
   "execution_count": 65,
   "metadata": {},
   "outputs": [],
   "source": [
    "# def change_waittime(df):\n",
    "#     for i in df.index:\n",
    "#         if df.loc[i,'created_date'] <= df.loc[i,'closed_date']:\n",
    "#             difference = df.loc[i,'closed_date'] - df.loc[i,'created_date']\n",
    "#             df.loc[i,'waittime'] = conv_to_days(difference)\n",
    "#         \n",
    "#         else:\n",
    "#             difference = df.loc[i,'created_date'] - df.loc[i,'closed_date']\n",
    "#             df.loc[i,'waittime'] = conv_to_days(difference) * -1\n",
    "#         "
   ]
  },
  {
   "cell_type": "markdown",
   "metadata": {},
   "source": [
    "## $k$-Modes\n",
    "\n",
    "[Source 2](https://shapeofdata.wordpress.com/2014/03/04/k-modes/)"
   ]
  },
  {
   "cell_type": "code",
   "execution_count": 37,
   "metadata": {},
   "outputs": [],
   "source": [
    "# source: https://github.com/nicodv/kmodes/blob/master/examples/soybean.py\n",
    "# set up X, y\n",
    "features=['complaint_type','descriptor','location_type','borough','open_data_channel_type']\n",
    "exog = sr[features]\n",
    "endog = sr['waittime']"
   ]
  },
  {
   "cell_type": "code",
   "execution_count": 26,
   "metadata": {},
   "outputs": [
    {
     "ename": "KeyboardInterrupt",
     "evalue": "",
     "output_type": "error",
     "traceback": [
      "\u001b[0;31m---------------------------------------------------------------------------\u001b[0m",
      "\u001b[0;31mKeyboardInterrupt\u001b[0m                         Traceback (most recent call last)",
      "\u001b[0;32m<ipython-input-26-eedb0acabd6c>\u001b[0m in \u001b[0;36m<module>\u001b[0;34m\u001b[0m\n\u001b[1;32m      4\u001b[0m \u001b[0;32mfor\u001b[0m \u001b[0mnum_clusters\u001b[0m \u001b[0;32min\u001b[0m \u001b[0mlist\u001b[0m\u001b[0;34m(\u001b[0m\u001b[0mrange\u001b[0m\u001b[0;34m(\u001b[0m\u001b[0;36m2\u001b[0m\u001b[0;34m,\u001b[0m\u001b[0;36m9\u001b[0m\u001b[0;34m)\u001b[0m\u001b[0;34m)\u001b[0m\u001b[0;34m:\u001b[0m \u001b[0;31m# testing n_clusters 2 - 8\u001b[0m\u001b[0;34m\u001b[0m\u001b[0;34m\u001b[0m\u001b[0m\n\u001b[1;32m      5\u001b[0m     \u001b[0mkmode\u001b[0m \u001b[0;34m=\u001b[0m \u001b[0mKModes\u001b[0m\u001b[0;34m(\u001b[0m\u001b[0mn_clusters\u001b[0m\u001b[0;34m=\u001b[0m\u001b[0mnum_clusters\u001b[0m\u001b[0;34m,\u001b[0m \u001b[0minit\u001b[0m \u001b[0;34m=\u001b[0m \u001b[0;34m\"Cao\"\u001b[0m\u001b[0;34m,\u001b[0m \u001b[0mn_init\u001b[0m \u001b[0;34m=\u001b[0m \u001b[0;36m1\u001b[0m\u001b[0;34m,\u001b[0m \u001b[0mverbose\u001b[0m\u001b[0;34m=\u001b[0m\u001b[0;36m1\u001b[0m\u001b[0;34m)\u001b[0m\u001b[0;34m\u001b[0m\u001b[0;34m\u001b[0m\u001b[0m\n\u001b[0;32m----> 6\u001b[0;31m     \u001b[0mkmode\u001b[0m\u001b[0;34m.\u001b[0m\u001b[0mfit_predict\u001b[0m\u001b[0;34m(\u001b[0m\u001b[0mexog\u001b[0m\u001b[0;34m)\u001b[0m\u001b[0;34m\u001b[0m\u001b[0;34m\u001b[0m\u001b[0m\n\u001b[0m\u001b[1;32m      7\u001b[0m     \u001b[0mcost\u001b[0m\u001b[0;34m.\u001b[0m\u001b[0mappend\u001b[0m\u001b[0;34m(\u001b[0m\u001b[0mkmode\u001b[0m\u001b[0;34m.\u001b[0m\u001b[0mcost_\u001b[0m\u001b[0;34m)\u001b[0m\u001b[0;34m\u001b[0m\u001b[0;34m\u001b[0m\u001b[0m\n",
      "\u001b[0;32m/opt/anaconda3/envs/dsi/lib/python3.7/site-packages/kmodes/kmodes.py\u001b[0m in \u001b[0;36mfit_predict\u001b[0;34m(self, X, y, **kwargs)\u001b[0m\n\u001b[1;32m    416\u001b[0m         \u001b[0mpredict\u001b[0m\u001b[0;34m(\u001b[0m\u001b[0mX\u001b[0m\u001b[0;34m)\u001b[0m\u001b[0;34m.\u001b[0m\u001b[0;34m\u001b[0m\u001b[0;34m\u001b[0m\u001b[0m\n\u001b[1;32m    417\u001b[0m         \"\"\"\n\u001b[0;32m--> 418\u001b[0;31m         \u001b[0;32mreturn\u001b[0m \u001b[0mself\u001b[0m\u001b[0;34m.\u001b[0m\u001b[0mfit\u001b[0m\u001b[0;34m(\u001b[0m\u001b[0mX\u001b[0m\u001b[0;34m,\u001b[0m \u001b[0;34m**\u001b[0m\u001b[0mkwargs\u001b[0m\u001b[0;34m)\u001b[0m\u001b[0;34m.\u001b[0m\u001b[0mpredict\u001b[0m\u001b[0;34m(\u001b[0m\u001b[0mX\u001b[0m\u001b[0;34m,\u001b[0m \u001b[0;34m**\u001b[0m\u001b[0mkwargs\u001b[0m\u001b[0;34m)\u001b[0m\u001b[0;34m\u001b[0m\u001b[0;34m\u001b[0m\u001b[0m\n\u001b[0m\u001b[1;32m    419\u001b[0m \u001b[0;34m\u001b[0m\u001b[0m\n\u001b[1;32m    420\u001b[0m     \u001b[0;32mdef\u001b[0m \u001b[0mpredict\u001b[0m\u001b[0;34m(\u001b[0m\u001b[0mself\u001b[0m\u001b[0;34m,\u001b[0m \u001b[0mX\u001b[0m\u001b[0;34m,\u001b[0m \u001b[0;34m**\u001b[0m\u001b[0mkwargs\u001b[0m\u001b[0;34m)\u001b[0m\u001b[0;34m:\u001b[0m\u001b[0;34m\u001b[0m\u001b[0;34m\u001b[0m\u001b[0m\n",
      "\u001b[0;32m/opt/anaconda3/envs/dsi/lib/python3.7/site-packages/kmodes/kmodes.py\u001b[0m in \u001b[0;36mfit\u001b[0;34m(self, X, y, **kwargs)\u001b[0m\n\u001b[1;32m    406\u001b[0m             \u001b[0mself\u001b[0m\u001b[0;34m.\u001b[0m\u001b[0mverbose\u001b[0m\u001b[0;34m,\u001b[0m\u001b[0;34m\u001b[0m\u001b[0;34m\u001b[0m\u001b[0m\n\u001b[1;32m    407\u001b[0m             \u001b[0mrandom_state\u001b[0m\u001b[0;34m,\u001b[0m\u001b[0;34m\u001b[0m\u001b[0;34m\u001b[0m\u001b[0m\n\u001b[0;32m--> 408\u001b[0;31m             \u001b[0mself\u001b[0m\u001b[0;34m.\u001b[0m\u001b[0mn_jobs\u001b[0m\u001b[0;34m,\u001b[0m\u001b[0;34m\u001b[0m\u001b[0;34m\u001b[0m\u001b[0m\n\u001b[0m\u001b[1;32m    409\u001b[0m         )\n\u001b[1;32m    410\u001b[0m         \u001b[0;32mreturn\u001b[0m \u001b[0mself\u001b[0m\u001b[0;34m\u001b[0m\u001b[0;34m\u001b[0m\u001b[0m\n",
      "\u001b[0;32m/opt/anaconda3/envs/dsi/lib/python3.7/site-packages/kmodes/kmodes.py\u001b[0m in \u001b[0;36mk_modes\u001b[0;34m(X, n_clusters, max_iter, dissim, init, n_init, verbose, random_state, n_jobs)\u001b[0m\n\u001b[1;32m    263\u001b[0m     \u001b[0;31m# Are there more n_clusters than unique rows? Then set the unique\u001b[0m\u001b[0;34m\u001b[0m\u001b[0;34m\u001b[0m\u001b[0;34m\u001b[0m\u001b[0m\n\u001b[1;32m    264\u001b[0m     \u001b[0;31m# rows as initial values and skip iteration.\u001b[0m\u001b[0;34m\u001b[0m\u001b[0;34m\u001b[0m\u001b[0;34m\u001b[0m\u001b[0m\n\u001b[0;32m--> 265\u001b[0;31m     \u001b[0munique\u001b[0m \u001b[0;34m=\u001b[0m \u001b[0mget_unique_rows\u001b[0m\u001b[0;34m(\u001b[0m\u001b[0mX\u001b[0m\u001b[0;34m)\u001b[0m\u001b[0;34m\u001b[0m\u001b[0;34m\u001b[0m\u001b[0m\n\u001b[0m\u001b[1;32m    266\u001b[0m     \u001b[0mn_unique\u001b[0m \u001b[0;34m=\u001b[0m \u001b[0munique\u001b[0m\u001b[0;34m.\u001b[0m\u001b[0mshape\u001b[0m\u001b[0;34m[\u001b[0m\u001b[0;36m0\u001b[0m\u001b[0;34m]\u001b[0m\u001b[0;34m\u001b[0m\u001b[0;34m\u001b[0m\u001b[0m\n\u001b[1;32m    267\u001b[0m     \u001b[0;32mif\u001b[0m \u001b[0mn_unique\u001b[0m \u001b[0;34m<=\u001b[0m \u001b[0mn_clusters\u001b[0m\u001b[0;34m:\u001b[0m\u001b[0;34m\u001b[0m\u001b[0;34m\u001b[0m\u001b[0m\n",
      "\u001b[0;32m/opt/anaconda3/envs/dsi/lib/python3.7/site-packages/kmodes/util/__init__.py\u001b[0m in \u001b[0;36mget_unique_rows\u001b[0;34m(a)\u001b[0m\n\u001b[1;32m     66\u001b[0m \u001b[0;32mdef\u001b[0m \u001b[0mget_unique_rows\u001b[0m\u001b[0;34m(\u001b[0m\u001b[0ma\u001b[0m\u001b[0;34m)\u001b[0m\u001b[0;34m:\u001b[0m\u001b[0;34m\u001b[0m\u001b[0;34m\u001b[0m\u001b[0m\n\u001b[1;32m     67\u001b[0m     \u001b[0;34m\"\"\"Gets the unique rows in a numpy array.\"\"\"\u001b[0m\u001b[0;34m\u001b[0m\u001b[0;34m\u001b[0m\u001b[0m\n\u001b[0;32m---> 68\u001b[0;31m     \u001b[0;32mreturn\u001b[0m \u001b[0mnp\u001b[0m\u001b[0;34m.\u001b[0m\u001b[0mvstack\u001b[0m\u001b[0;34m(\u001b[0m\u001b[0mlist\u001b[0m\u001b[0;34m(\u001b[0m\u001b[0;34m{\u001b[0m\u001b[0mtuple\u001b[0m\u001b[0;34m(\u001b[0m\u001b[0mrow\u001b[0m\u001b[0;34m)\u001b[0m \u001b[0;32mfor\u001b[0m \u001b[0mrow\u001b[0m \u001b[0;32min\u001b[0m \u001b[0ma\u001b[0m\u001b[0;34m}\u001b[0m\u001b[0;34m)\u001b[0m\u001b[0;34m)\u001b[0m\u001b[0;34m\u001b[0m\u001b[0;34m\u001b[0m\u001b[0m\n\u001b[0m",
      "\u001b[0;32m/opt/anaconda3/envs/dsi/lib/python3.7/site-packages/kmodes/util/__init__.py\u001b[0m in \u001b[0;36m<setcomp>\u001b[0;34m(.0)\u001b[0m\n\u001b[1;32m     66\u001b[0m \u001b[0;32mdef\u001b[0m \u001b[0mget_unique_rows\u001b[0m\u001b[0;34m(\u001b[0m\u001b[0ma\u001b[0m\u001b[0;34m)\u001b[0m\u001b[0;34m:\u001b[0m\u001b[0;34m\u001b[0m\u001b[0;34m\u001b[0m\u001b[0m\n\u001b[1;32m     67\u001b[0m     \u001b[0;34m\"\"\"Gets the unique rows in a numpy array.\"\"\"\u001b[0m\u001b[0;34m\u001b[0m\u001b[0;34m\u001b[0m\u001b[0m\n\u001b[0;32m---> 68\u001b[0;31m     \u001b[0;32mreturn\u001b[0m \u001b[0mnp\u001b[0m\u001b[0;34m.\u001b[0m\u001b[0mvstack\u001b[0m\u001b[0;34m(\u001b[0m\u001b[0mlist\u001b[0m\u001b[0;34m(\u001b[0m\u001b[0;34m{\u001b[0m\u001b[0mtuple\u001b[0m\u001b[0;34m(\u001b[0m\u001b[0mrow\u001b[0m\u001b[0;34m)\u001b[0m \u001b[0;32mfor\u001b[0m \u001b[0mrow\u001b[0m \u001b[0;32min\u001b[0m \u001b[0ma\u001b[0m\u001b[0;34m}\u001b[0m\u001b[0;34m)\u001b[0m\u001b[0;34m)\u001b[0m\u001b[0;34m\u001b[0m\u001b[0;34m\u001b[0m\u001b[0m\n\u001b[0m",
      "\u001b[0;31mKeyboardInterrupt\u001b[0m: "
     ]
    }
   ],
   "source": [
    "# source: https://www.kaggle.com/ashydv/bank-customer-clustering-k-modes-clustering\n",
    "\n",
    "cost = [] # empty list for cost values\n",
    "for num_clusters in list(range(2,9)): # testing n_clusters 2 - 8\n",
    "    kmode = KModes(n_clusters=num_clusters, init = \"Cao\", n_init = 1, verbose=1)\n",
    "    kmode.fit_predict(exog)\n",
    "    cost.append(kmode.cost_)"
   ]
  },
  {
   "cell_type": "code",
   "execution_count": 38,
   "metadata": {},
   "outputs": [
    {
     "ename": "NameError",
     "evalue": "name 'cost' is not defined",
     "output_type": "error",
     "traceback": [
      "\u001b[0;31m---------------------------------------------------------------------------\u001b[0m",
      "\u001b[0;31mNameError\u001b[0m                                 Traceback (most recent call last)",
      "\u001b[0;32m<ipython-input-38-47448aa7bf1d>\u001b[0m in \u001b[0;36m<module>\u001b[0;34m\u001b[0m\n\u001b[1;32m      1\u001b[0m \u001b[0mq\u001b[0m \u001b[0;34m=\u001b[0m \u001b[0mnp\u001b[0m\u001b[0;34m.\u001b[0m\u001b[0marray\u001b[0m\u001b[0;34m(\u001b[0m\u001b[0;34m[\u001b[0m\u001b[0mi\u001b[0m \u001b[0;32mfor\u001b[0m \u001b[0mi\u001b[0m \u001b[0;32min\u001b[0m \u001b[0mrange\u001b[0m\u001b[0;34m(\u001b[0m\u001b[0;36m2\u001b[0m\u001b[0;34m,\u001b[0m\u001b[0;36m9\u001b[0m\u001b[0;34m,\u001b[0m\u001b[0;36m1\u001b[0m\u001b[0;34m)\u001b[0m\u001b[0;34m]\u001b[0m\u001b[0;34m)\u001b[0m\u001b[0;34m\u001b[0m\u001b[0;34m\u001b[0m\u001b[0m\n\u001b[0;32m----> 2\u001b[0;31m \u001b[0mplt\u001b[0m\u001b[0;34m.\u001b[0m\u001b[0mplot\u001b[0m\u001b[0;34m(\u001b[0m\u001b[0mq\u001b[0m\u001b[0;34m,\u001b[0m\u001b[0mcost\u001b[0m\u001b[0;34m)\u001b[0m\u001b[0;34m\u001b[0m\u001b[0;34m\u001b[0m\u001b[0m\n\u001b[0m\u001b[1;32m      3\u001b[0m \u001b[0mplt\u001b[0m\u001b[0;34m.\u001b[0m\u001b[0mylabel\u001b[0m\u001b[0;34m(\u001b[0m\u001b[0;34m'Cost'\u001b[0m\u001b[0;34m,\u001b[0m \u001b[0msize\u001b[0m\u001b[0;34m=\u001b[0m\u001b[0;36m12\u001b[0m\u001b[0;34m)\u001b[0m\u001b[0;34m\u001b[0m\u001b[0;34m\u001b[0m\u001b[0m\n\u001b[1;32m      4\u001b[0m \u001b[0mplt\u001b[0m\u001b[0;34m.\u001b[0m\u001b[0mxlabel\u001b[0m\u001b[0;34m(\u001b[0m\u001b[0;34m'Number of Clusters'\u001b[0m\u001b[0;34m,\u001b[0m\u001b[0msize\u001b[0m\u001b[0;34m=\u001b[0m\u001b[0;36m12\u001b[0m\u001b[0;34m)\u001b[0m\u001b[0;34m\u001b[0m\u001b[0;34m\u001b[0m\u001b[0m\n\u001b[1;32m      5\u001b[0m \u001b[0mplt\u001b[0m\u001b[0;34m.\u001b[0m\u001b[0mtitle\u001b[0m\u001b[0;34m(\u001b[0m\u001b[0;34m'Cost per Number of Clusters'\u001b[0m\u001b[0;34m,\u001b[0m\u001b[0msize\u001b[0m\u001b[0;34m=\u001b[0m\u001b[0;36m16\u001b[0m\u001b[0;34m)\u001b[0m\u001b[0;34m;\u001b[0m\u001b[0;34m\u001b[0m\u001b[0;34m\u001b[0m\u001b[0m\n",
      "\u001b[0;31mNameError\u001b[0m: name 'cost' is not defined"
     ]
    }
   ],
   "source": [
    "q = np.array([i for i in range(2,9,1)])\n",
    "plt.plot(q,cost)\n",
    "plt.ylabel('Cost', size=12)\n",
    "plt.xlabel('Number of Clusters',size=12)\n",
    "plt.title('Cost per Number of Clusters',size=16);"
   ]
  },
  {
   "cell_type": "markdown",
   "metadata": {},
   "source": [
    "In order to choose our $k$ value, we will look to minimize the cost function. We tested values of $k$ from 2 - 8 to see which gave us the best cost value. Those results are shown above. Since the cost value does not decrease, but instead almost levels out between 5 and 6 clusters, we will use 5 as our cluster value for our $k$-Modes model.  "
   ]
  },
  {
   "cell_type": "code",
   "execution_count": 39,
   "metadata": {},
   "outputs": [
    {
     "name": "stdout",
     "output_type": "stream",
     "text": [
      "Init: initializing centroids\n",
      "Init: initializing clusters\n",
      "Starting iterations...\n",
      "Run 1, iteration: 1/100, moves: 78498, cost: 1068774.0\n",
      "Run 1, iteration: 2/100, moves: 27961, cost: 1068774.0\n"
     ]
    }
   ],
   "source": [
    "km_cao = KModes(n_clusters=5, init = \"Cao\", verbose=1)\n",
    "fitClusters_cao = km_cao.fit_predict(exog)"
   ]
  },
  {
   "cell_type": "code",
   "execution_count": 40,
   "metadata": {},
   "outputs": [
    {
     "data": {
      "text/plain": [
       "1068774.0"
      ]
     },
     "execution_count": 40,
     "metadata": {},
     "output_type": "execute_result"
    }
   ],
   "source": [
    "km_cao.cost_"
   ]
  },
  {
   "cell_type": "code",
   "execution_count": 41,
   "metadata": {},
   "outputs": [],
   "source": [
    "# setting up data frames to add predicted clusters from k-modes\n",
    "sr_ = sr.copy().reset_index()\n",
    "clusters_df = pd.DataFrame(fitClusters_cao)\n",
    "clusters_df.columns = ['cluster_predicted']"
   ]
  },
  {
   "cell_type": "code",
   "execution_count": 42,
   "metadata": {},
   "outputs": [],
   "source": [
    "# creating new data frame with cluster predictions data\n",
    "new_sr = pd.concat([sr_, clusters_df], axis=1).reset_index()\n",
    "new_sr.drop(columns=['level_0'],inplace=True)"
   ]
  },
  {
   "cell_type": "code",
   "execution_count": 43,
   "metadata": {},
   "outputs": [
    {
     "data": {
      "text/plain": [
       "array([['Noise - Street/Sidewalk', 'Loud Music/Party', 'Street/Sidewalk',\n",
       "        'BROOKLYN', 'PHONE'],\n",
       "       ['Noise - Residential', 'Loud Music/Party',\n",
       "        'Residential Building/House', 'QUEENS', 'ONLINE'],\n",
       "       ['Illegal Parking', 'Posted Parking Sign Violation',\n",
       "        'Street/Sidewalk', 'QUEENS', 'MOBILE'],\n",
       "       ['Blocked Driveway', 'No Access', 'Street/Sidewalk', 'QUEENS',\n",
       "        'PHONE'],\n",
       "       ['Illegal Parking', 'Blocked Hydrant', 'Street/Sidewalk',\n",
       "        'MANHATTAN', 'PHONE']], dtype='<U29')"
      ]
     },
     "execution_count": 43,
     "metadata": {},
     "output_type": "execute_result"
    }
   ],
   "source": [
    "km_cao.cluster_centroids_"
   ]
  },
  {
   "cell_type": "markdown",
   "metadata": {},
   "source": [
    "The 5 clusters below were created from our $k$-modes model:  \n",
    "_Features: `complaint_type`, `descriptor`, `location_type`, `borough`, `open_data_channel_type`_\n",
    "\n",
    "0. 'Noise - Street/Sidewalk', 'Loud Music/Party', 'Street/Sidewalk', 'BROOKLYN', 'PHONE',\n",
    "1. 'Noise - Residential', 'Loud Music/Party', 'Residential Building/House', 'QUEENS', 'ONLINE'\n",
    "2. 'Illegal Parking', 'Posted Parking Sign Violation', 'Street/Sidewalk', 'QUEENS', 'MOBILE'\n",
    "3. 'Blocked Driveway', 'No Access', 'Street/Sidewalk', 'QUEENS', 'PHONE'\n",
    "4. 'Illegal Parking', 'Blocked Hydrant', 'Street/Sidewalk','MANHATTAN', 'PHONE'\n",
    "\n",
    "While every observation in each cluster will not match these results exactly, these requests were found to be most similar to one another. \n",
    "\n",
    "Cluster 0 seems to focus on noise complaints made by phone that occur on the sidewalk or street, mainly in Brooklyn. We will rename this cluster `Noise Brooklyn`.\n",
    "\n",
    "Cluster 1 focuses on noise complaints made online that occur in a residential building or house, mostly in Queens. We will rename this cluster `Noise Queens`.\n",
    "\n",
    "Cluster 2 focuses on requests about illegal parking involving parking sign violations mostly in Queens, made via mobile. We will rename this cluster `Parking Queens`. \n",
    "\n",
    "Cluster 3 focuses on blocked driveways mostly in Queens, made via phone. We will rename this cluster `Driveway Queens`. \n",
    "\n",
    "Cluster 4 focuses on requests about illegal parking involving blocked fire hydrants, mostly in Manhattan and made via phone. We will rename this cluster `Parking Manhattan`. \n"
   ]
  },
  {
   "cell_type": "code",
   "execution_count": 44,
   "metadata": {},
   "outputs": [],
   "source": [
    "# renaming 'cluster_predicted' values \n",
    "cluster_names = {\n",
    "    0: 'Noise Brooklyn',\n",
    "    1: 'Noise Queens',\n",
    "    2: 'Parking Queens',\n",
    "    3: 'Driveway Queens',\n",
    "    4: 'Parking Manhattan'\n",
    "}\n",
    "\n",
    "new_sr['cluster_predicted'] = new_sr['cluster_predicted'].map(cluster_names)\n",
    "clusters = new_sr['cluster_predicted'].value_counts(normalize=True)"
   ]
  },
  {
   "cell_type": "code",
   "execution_count": 45,
   "metadata": {},
   "outputs": [
    {
     "data": {
      "text/plain": [
       "cluster_predicted\n",
       "Driveway Queens      0.594756\n",
       "Noise Brooklyn       0.388189\n",
       "Noise Queens         0.419284\n",
       "Parking Manhattan    0.283548\n",
       "Parking Queens       0.512238\n",
       "Name: waittime, dtype: float64"
      ]
     },
     "execution_count": 45,
     "metadata": {},
     "output_type": "execute_result"
    }
   ],
   "source": [
    "# finding average wait time for each cluster \n",
    "cluster_means = new_sr.groupby('cluster_predicted')['waittime'].mean()\n",
    "cluster_means"
   ]
  },
  {
   "cell_type": "code",
   "execution_count": 46,
   "metadata": {},
   "outputs": [
    {
     "data": {
      "image/png": "[encoded data removed]",
      "text/plain": [
       "<Figure size 1008x360 with 2 Axes>"
      ]
     },
     "metadata": {
      "needs_background": "light"
     },
     "output_type": "display_data"
    }
   ],
   "source": [
    "plot_pct_waittime(clusters.index,\n",
    "                  clusters,\n",
    "                  cluster_means[clusters.index],\n",
    "                  ['navy','skyblue'],\n",
    "                  'Cluster')"
   ]
  },
  {
   "cell_type": "markdown",
   "metadata": {},
   "source": [
    "Three of the 5 clusters were focused in Queens, the second most frequent borough overall. The cluster with the most observations was the `Noise Brooklyn` cluster, while the cluster with the least amount of observations  was the `Parking Manhattan` cluster. Both the Bronx and Staten Island were not considered a centroid for any cluster. They were the two least common boroughs in the data set. All three clusters related to _Queens_ had the highest average wait times. The `Driveway Queens` cluster had the highest average wait time of just under 0.6 days. The cluster with the lowest average wait time was the `Parking Manhattan` cluster with just under 0.3 days. "
   ]
  },
  {
   "cell_type": "markdown",
   "metadata": {},
   "source": [
    "\n",
    "## Model Preparation"
   ]
  },
  {
   "cell_type": "markdown",
   "metadata": {},
   "source": [
    "### Dummy Variables"
   ]
  },
  {
   "cell_type": "code",
   "execution_count": 47,
   "metadata": {},
   "outputs": [],
   "source": [
    "new_features = ['complaint_type',\n",
    " 'descriptor',\n",
    " 'location_type',\n",
    " 'borough',\n",
    " 'open_data_channel_type', 'cluster_predicted']"
   ]
  },
  {
   "cell_type": "code",
   "execution_count": 48,
   "metadata": {},
   "outputs": [
    {
     "data": {
      "text/html": [
       "<div>\n",
       "<style scoped>\n",
       "    .dataframe tbody tr th:only-of-type {\n",
       "        vertical-align: middle;\n",
       "    }\n",
       "\n",
       "    .dataframe tbody tr th {\n",
       "        vertical-align: top;\n",
       "    }\n",
       "\n",
       "    .dataframe thead th {\n",
       "        text-align: right;\n",
       "    }\n",
       "</style>\n",
       "<table border=\"1\" class=\"dataframe\">\n",
       "  <thead>\n",
       "    <tr style=\"text-align: right;\">\n",
       "      <th></th>\n",
       "      <th>complaint_type_Animal Abuse</th>\n",
       "      <th>complaint_type_Animal-Abuse</th>\n",
       "      <th>complaint_type_Bike/Roller/Skate Chronic</th>\n",
       "      <th>complaint_type_Blocked Driveway</th>\n",
       "      <th>complaint_type_Derelict Vehicle</th>\n",
       "      <th>complaint_type_Disorderly Youth</th>\n",
       "      <th>complaint_type_Drinking</th>\n",
       "      <th>complaint_type_Drug Activity</th>\n",
       "      <th>complaint_type_Graffiti</th>\n",
       "      <th>complaint_type_Homeless Encampment</th>\n",
       "      <th>...</th>\n",
       "      <th>borough_STATEN ISLAND</th>\n",
       "      <th>borough_Unspecified</th>\n",
       "      <th>open_data_channel_type_ONLINE</th>\n",
       "      <th>open_data_channel_type_OTHER</th>\n",
       "      <th>open_data_channel_type_PHONE</th>\n",
       "      <th>open_data_channel_type_UNKNOWN</th>\n",
       "      <th>cluster_predicted_Noise Brooklyn</th>\n",
       "      <th>cluster_predicted_Noise Queens</th>\n",
       "      <th>cluster_predicted_Parking Manhattan</th>\n",
       "      <th>cluster_predicted_Parking Queens</th>\n",
       "    </tr>\n",
       "  </thead>\n",
       "  <tbody>\n",
       "    <tr>\n",
       "      <th>0</th>\n",
       "      <td>0</td>\n",
       "      <td>0</td>\n",
       "      <td>0</td>\n",
       "      <td>0</td>\n",
       "      <td>0</td>\n",
       "      <td>0</td>\n",
       "      <td>0</td>\n",
       "      <td>0</td>\n",
       "      <td>0</td>\n",
       "      <td>0</td>\n",
       "      <td>...</td>\n",
       "      <td>0</td>\n",
       "      <td>0</td>\n",
       "      <td>1</td>\n",
       "      <td>0</td>\n",
       "      <td>0</td>\n",
       "      <td>0</td>\n",
       "      <td>0</td>\n",
       "      <td>0</td>\n",
       "      <td>0</td>\n",
       "      <td>1</td>\n",
       "    </tr>\n",
       "    <tr>\n",
       "      <th>1</th>\n",
       "      <td>0</td>\n",
       "      <td>0</td>\n",
       "      <td>0</td>\n",
       "      <td>0</td>\n",
       "      <td>0</td>\n",
       "      <td>0</td>\n",
       "      <td>0</td>\n",
       "      <td>0</td>\n",
       "      <td>0</td>\n",
       "      <td>0</td>\n",
       "      <td>...</td>\n",
       "      <td>0</td>\n",
       "      <td>0</td>\n",
       "      <td>0</td>\n",
       "      <td>0</td>\n",
       "      <td>0</td>\n",
       "      <td>0</td>\n",
       "      <td>1</td>\n",
       "      <td>0</td>\n",
       "      <td>0</td>\n",
       "      <td>0</td>\n",
       "    </tr>\n",
       "    <tr>\n",
       "      <th>2</th>\n",
       "      <td>0</td>\n",
       "      <td>0</td>\n",
       "      <td>0</td>\n",
       "      <td>0</td>\n",
       "      <td>0</td>\n",
       "      <td>0</td>\n",
       "      <td>0</td>\n",
       "      <td>0</td>\n",
       "      <td>0</td>\n",
       "      <td>0</td>\n",
       "      <td>...</td>\n",
       "      <td>0</td>\n",
       "      <td>0</td>\n",
       "      <td>1</td>\n",
       "      <td>0</td>\n",
       "      <td>0</td>\n",
       "      <td>0</td>\n",
       "      <td>1</td>\n",
       "      <td>0</td>\n",
       "      <td>0</td>\n",
       "      <td>0</td>\n",
       "    </tr>\n",
       "    <tr>\n",
       "      <th>3</th>\n",
       "      <td>0</td>\n",
       "      <td>0</td>\n",
       "      <td>0</td>\n",
       "      <td>0</td>\n",
       "      <td>0</td>\n",
       "      <td>0</td>\n",
       "      <td>0</td>\n",
       "      <td>0</td>\n",
       "      <td>0</td>\n",
       "      <td>0</td>\n",
       "      <td>...</td>\n",
       "      <td>0</td>\n",
       "      <td>0</td>\n",
       "      <td>1</td>\n",
       "      <td>0</td>\n",
       "      <td>0</td>\n",
       "      <td>0</td>\n",
       "      <td>0</td>\n",
       "      <td>0</td>\n",
       "      <td>0</td>\n",
       "      <td>1</td>\n",
       "    </tr>\n",
       "    <tr>\n",
       "      <th>4</th>\n",
       "      <td>0</td>\n",
       "      <td>0</td>\n",
       "      <td>0</td>\n",
       "      <td>0</td>\n",
       "      <td>0</td>\n",
       "      <td>0</td>\n",
       "      <td>0</td>\n",
       "      <td>0</td>\n",
       "      <td>0</td>\n",
       "      <td>0</td>\n",
       "      <td>...</td>\n",
       "      <td>0</td>\n",
       "      <td>0</td>\n",
       "      <td>0</td>\n",
       "      <td>0</td>\n",
       "      <td>1</td>\n",
       "      <td>0</td>\n",
       "      <td>0</td>\n",
       "      <td>0</td>\n",
       "      <td>1</td>\n",
       "      <td>0</td>\n",
       "    </tr>\n",
       "  </tbody>\n",
       "</table>\n",
       "<p>5 rows × 108 columns</p>\n",
       "</div>"
      ],
      "text/plain": [
       "   complaint_type_Animal Abuse  complaint_type_Animal-Abuse  \\\n",
       "0                            0                            0   \n",
       "1                            0                            0   \n",
       "2                            0                            0   \n",
       "3                            0                            0   \n",
       "4                            0                            0   \n",
       "\n",
       "   complaint_type_Bike/Roller/Skate Chronic  complaint_type_Blocked Driveway  \\\n",
       "0                                         0                                0   \n",
       "1                                         0                                0   \n",
       "2                                         0                                0   \n",
       "3                                         0                                0   \n",
       "4                                         0                                0   \n",
       "\n",
       "   complaint_type_Derelict Vehicle  complaint_type_Disorderly Youth  \\\n",
       "0                                0                                0   \n",
       "1                                0                                0   \n",
       "2                                0                                0   \n",
       "3                                0                                0   \n",
       "4                                0                                0   \n",
       "\n",
       "   complaint_type_Drinking  complaint_type_Drug Activity  \\\n",
       "0                        0                             0   \n",
       "1                        0                             0   \n",
       "2                        0                             0   \n",
       "3                        0                             0   \n",
       "4                        0                             0   \n",
       "\n",
       "   complaint_type_Graffiti  complaint_type_Homeless Encampment  ...  \\\n",
       "0                        0                                   0  ...   \n",
       "1                        0                                   0  ...   \n",
       "2                        0                                   0  ...   \n",
       "3                        0                                   0  ...   \n",
       "4                        0                                   0  ...   \n",
       "\n",
       "   borough_STATEN ISLAND  borough_Unspecified  open_data_channel_type_ONLINE  \\\n",
       "0                      0                    0                              1   \n",
       "1                      0                    0                              0   \n",
       "2                      0                    0                              1   \n",
       "3                      0                    0                              1   \n",
       "4                      0                    0                              0   \n",
       "\n",
       "   open_data_channel_type_OTHER  open_data_channel_type_PHONE  \\\n",
       "0                             0                             0   \n",
       "1                             0                             0   \n",
       "2                             0                             0   \n",
       "3                             0                             0   \n",
       "4                             0                             1   \n",
       "\n",
       "   open_data_channel_type_UNKNOWN  cluster_predicted_Noise Brooklyn  \\\n",
       "0                               0                                 0   \n",
       "1                               0                                 1   \n",
       "2                               0                                 1   \n",
       "3                               0                                 0   \n",
       "4                               0                                 0   \n",
       "\n",
       "   cluster_predicted_Noise Queens  cluster_predicted_Parking Manhattan  \\\n",
       "0                               0                                    0   \n",
       "1                               0                                    0   \n",
       "2                               0                                    0   \n",
       "3                               0                                    0   \n",
       "4                               0                                    1   \n",
       "\n",
       "   cluster_predicted_Parking Queens  \n",
       "0                                 1  \n",
       "1                                 0  \n",
       "2                                 0  \n",
       "3                                 1  \n",
       "4                                 0  \n",
       "\n",
       "[5 rows x 108 columns]"
      ]
     },
     "execution_count": 48,
     "metadata": {},
     "output_type": "execute_result"
    }
   ],
   "source": [
    "dummy_sr = new_sr[new_features]\n",
    "dummy_sr = pd.get_dummies(dummy_sr, columns=new_features, drop_first=True)\n",
    "dummy_sr.head()"
   ]
  },
  {
   "cell_type": "code",
   "execution_count": 49,
   "metadata": {},
   "outputs": [],
   "source": [
    "# set up X and y\n",
    "X = dummy_sr\n",
    "y = new_sr['waittime']\n",
    "\n",
    "# train test split\n",
    "X_train, X_test, y_train, y_test = train_test_split(X, y, random_state=RANDOM_STATE)"
   ]
  },
  {
   "cell_type": "code",
   "execution_count": 50,
   "metadata": {},
   "outputs": [
    {
     "data": {
      "text/plain": [
       "0"
      ]
     },
     "execution_count": 50,
     "metadata": {},
     "output_type": "execute_result"
    }
   ],
   "source": [
    "X.isnull().sum().sum()"
   ]
  },
  {
   "cell_type": "code",
   "execution_count": 51,
   "metadata": {},
   "outputs": [
    {
     "data": {
      "text/plain": [
       "0"
      ]
     },
     "execution_count": 51,
     "metadata": {},
     "output_type": "execute_result"
    }
   ],
   "source": [
    "y.isnull().sum()"
   ]
  },
  {
   "cell_type": "markdown",
   "metadata": {},
   "source": [
    "#### RMSE Function"
   ]
  },
  {
   "cell_type": "code",
   "execution_count": 32,
   "metadata": {},
   "outputs": [],
   "source": [
    "# function to find RMSE \n",
    "def find_rmse(model, X, y):\n",
    "    preds = model.predict(X)\n",
    "    # important to exponentiate here because we used log(y)\n",
    "    mse = metrics.mean_squared_error(np.exp(y), np.exp(preds))\n",
    "    rmse = np.sqrt(mse)\n",
    "    return rmse"
   ]
  },
  {
   "cell_type": "code",
   "execution_count": 73,
   "metadata": {},
   "outputs": [],
   "source": [
    "# source: Mahdi Shadkam-Farrokhi, https://git.generalassemb.ly/DSI-US-11/local_faq/blob/master/code/custom_cross_val_score.ipynb\n",
    "\n",
    "# function to find RMSE \n",
    "def rmse(y_true, y_pred): # this signature matters for later use with `make_scorer`\n",
    "    '''Returns the root mean squared error'''\n",
    "    return np.sqrt(mean_squared_error(y_true, y_pred))\n",
    "\n",
    "\n",
    "def rmse_log(y_true, y_pred): # this signature matters for later use with `make_scorer`\n",
    "    '''Returns the root mean squared error'''\n",
    "    return np.sqrt(mean_squared_error(np.exp(y_true), np.exp(y_pred)))"
   ]
  },
  {
   "cell_type": "markdown",
   "metadata": {},
   "source": [
    "## Modeling "
   ]
  },
  {
   "cell_type": "markdown",
   "metadata": {},
   "source": [
    "### Baseline Model"
   ]
  },
  {
   "cell_type": "code",
   "execution_count": 53,
   "metadata": {},
   "outputs": [],
   "source": [
    "dummy = DummyRegressor(strategy='mean')\n",
    "dummy.fit(X_train, y_train)\n",
    "dummy_tr_preds = dummy.predict(X_train) \n",
    "dummy_te_preds = dummy.predict(X_test)"
   ]
  },
  {
   "cell_type": "code",
   "execution_count": 54,
   "metadata": {},
   "outputs": [
    {
     "name": "stdout",
     "output_type": "stream",
     "text": [
      "Train: 3.434612969465482\n",
      "Test: 3.663597253566948\n",
      "Cross Val: 3.4801403506230644\n",
      "Difference: 0.22898428410146598\n"
     ]
    }
   ],
   "source": [
    "print(f'Train:', rmse(y_train, dummy_tr_preds))\n",
    "print(f'Test:', rmse(y_test, dummy_te_preds))\n",
    "print(f'Cross Val:', cross_val_score(dummy, X, y, scoring=make_scorer(rmse), cv=5).mean())\n",
    "print(f'Difference: {rmse(y_test, dummy_te_preds) - rmse(y_train, dummy_tr_preds)}')"
   ]
  },
  {
   "cell_type": "markdown",
   "metadata": {},
   "source": [
    "Our most basic model is performing with a testing RMSE of 3.66 days. Being that the overwhelming majority of our data target variable was less than 1 day, this is showing a pretty wide margin of error. Additionally, the training score (3.43) is lower than the testing score indicating our model is overfit. "
   ]
  },
  {
   "cell_type": "markdown",
   "metadata": {},
   "source": [
    "### Linear Regression"
   ]
  },
  {
   "cell_type": "markdown",
   "metadata": {},
   "source": [
    "Because the distribution of our target variable is so heavily skewed, we will be using the log of the target variable as its distribution is much closer to a normal distribution. "
   ]
  },
  {
   "cell_type": "code",
   "execution_count": 71,
   "metadata": {},
   "outputs": [],
   "source": [
    "lr = LinearRegression()\n",
    "lr.fit(X_train,np.log(y_train))\n",
    "lr_tr_preds = lr.predict(X_train)\n",
    "lr_te_preds = lr.predict(X_test)"
   ]
  },
  {
   "cell_type": "code",
   "execution_count": 74,
   "metadata": {},
   "outputs": [
    {
     "name": "stdout",
     "output_type": "stream",
     "text": [
      "Train: 3.4294227534585238\n",
      "Test: 3.6581897802501\n",
      "Cross Val: 3.474520667350503\n",
      "Difference: 0.22876702679157646\n"
     ]
    }
   ],
   "source": [
    "print(f'Train:', rmse(y_train, np.exp(lr_tr_preds)))\n",
    "print(f'Test:', rmse(y_test, np.exp(lr_te_preds)))\n",
    "print(f'Cross Val:', cross_val_score(lr, X, np.log(y), scoring=make_scorer(rmse_log), cv=5).mean())\n",
    "print(f'Difference: {rmse(y_test, np.exp(lr_te_preds)) - rmse(y_train, np.exp(lr_tr_preds))}')"
   ]
  },
  {
   "cell_type": "markdown",
   "metadata": {},
   "source": [
    "Our linear regression model is performing at essentially the same level as our baseline model. The training (3.43) and testing (3.66) scores are virtually the same with a very similar difference in the scores (.229), again showing overfitting in the model. As our model is showing increased variance, we will move to a regularization method of LASSO. "
   ]
  },
  {
   "cell_type": "markdown",
   "metadata": {},
   "source": [
    "### LASSO"
   ]
  },
  {
   "cell_type": "code",
   "execution_count": 67,
   "metadata": {},
   "outputs": [
    {
     "name": "stderr",
     "output_type": "stream",
     "text": [
      "/opt/anaconda3/envs/dsi/lib/python3.7/site-packages/sklearn/linear_model/_coordinate_descent.py:476: ConvergenceWarning: Objective did not converge. You might want to increase the number of iterations. Duality gap: 36379.58719858795, tolerance: 73.21284186829253\n",
      "  positive)\n"
     ]
    },
    {
     "data": {
      "text/plain": [
       "2.2695105366946683e-05"
      ]
     },
     "execution_count": 67,
     "metadata": {},
     "output_type": "execute_result"
    }
   ],
   "source": [
    "# Set up a list of Lasso alphas to check.\n",
    "l_alphas = np.logspace(-5,-2,60)\n",
    "\n",
    "# Cross-validate over our list of Lasso alphas.\n",
    "lasso_cv = LassoCV(alphas=l_alphas,\n",
    "                 cv=5)\n",
    "\n",
    "# Fit model using best ridge alpha!\n",
    "lasso_cv.fit(X_train, np.log(y_train))\n",
    "lasso_cv.alpha_"
   ]
  },
  {
   "cell_type": "code",
   "execution_count": 68,
   "metadata": {},
   "outputs": [
    {
     "data": {
      "text/plain": [
       "array([1.00000000e-05, 1.12421004e-05, 1.26384820e-05, 1.42083083e-05,\n",
       "       1.59731228e-05, 1.79571449e-05, 2.01876025e-05, 2.26951054e-05,\n",
       "       2.55140652e-05, 2.86831681e-05, 3.22459055e-05, 3.62511705e-05,\n",
       "       4.07539297e-05, 4.58159767e-05, 5.15067808e-05, 5.79044398e-05,\n",
       "       6.50967523e-05, 7.31824222e-05, 8.22724134e-05, 9.24914728e-05,\n",
       "       1.03979842e-04, 1.16895182e-04, 1.31414736e-04, 1.47737765e-04,\n",
       "       1.66088278e-04, 1.86718109e-04, 2.09910372e-04, 2.35983347e-04,\n",
       "       2.65294846e-04, 2.98247129e-04, 3.35292415e-04, 3.76939098e-04,\n",
       "       4.23758716e-04, 4.76393801e-04, 5.35566692e-04, 6.02089449e-04,\n",
       "       6.76875001e-04, 7.60949669e-04, 8.55467254e-04, 9.61724871e-04,\n",
       "       1.08118075e-03, 1.21547425e-03, 1.36644835e-03, 1.53617495e-03,\n",
       "       1.72698329e-03, 1.94149195e-03, 2.18264473e-03, 2.45375111e-03,\n",
       "       2.75853162e-03, 3.10116893e-03, 3.48636523e-03, 3.91940677e-03,\n",
       "       4.40623643e-03, 4.95353521e-03, 5.56881399e-03, 6.26051657e-03,\n",
       "       7.03813555e-03, 7.91234262e-03, 8.89513497e-03, 1.00000000e-02])"
      ]
     },
     "execution_count": 68,
     "metadata": {},
     "output_type": "execute_result"
    }
   ],
   "source": [
    "l_alphas"
   ]
  },
  {
   "cell_type": "code",
   "execution_count": 69,
   "metadata": {},
   "outputs": [],
   "source": [
    "lasso_tr_preds = lasso_cv.predict(X_train)\n",
    "lasso_te_preds = lasso_cv.predict(X_test)"
   ]
  },
  {
   "cell_type": "code",
   "execution_count": 77,
   "metadata": {},
   "outputs": [
    {
     "name": "stdout",
     "output_type": "stream",
     "text": [
      "Train: 3.430711721977498\n",
      "Test: 3.660159970253172\n"
     ]
    },
    {
     "name": "stderr",
     "output_type": "stream",
     "text": [
      "/opt/anaconda3/envs/dsi/lib/python3.7/site-packages/sklearn/linear_model/_coordinate_descent.py:472: ConvergenceWarning: Objective did not converge. You might want to increase the number of iterations. Duality gap: 68.7046358906664, tolerance: 62.07667044847484\n",
      "  tol, rng, random, positive)\n",
      "/opt/anaconda3/envs/dsi/lib/python3.7/site-packages/sklearn/linear_model/_coordinate_descent.py:472: ConvergenceWarning: Objective did not converge. You might want to increase the number of iterations. Duality gap: 67.03788441536017, tolerance: 62.07667044847484\n",
      "  tol, rng, random, positive)\n",
      "/opt/anaconda3/envs/dsi/lib/python3.7/site-packages/sklearn/linear_model/_coordinate_descent.py:476: ConvergenceWarning: Objective did not converge. You might want to increase the number of iterations. Duality gap: 18957.15805072477, tolerance: 77.8055014582907\n",
      "  positive)\n",
      "/opt/anaconda3/envs/dsi/lib/python3.7/site-packages/sklearn/linear_model/_coordinate_descent.py:472: ConvergenceWarning: Objective did not converge. You might want to increase the number of iterations. Duality gap: 225.12071682559326, tolerance: 62.202445596785054\n",
      "  tol, rng, random, positive)\n",
      "/opt/anaconda3/envs/dsi/lib/python3.7/site-packages/sklearn/linear_model/_coordinate_descent.py:472: ConvergenceWarning: Objective did not converge. You might want to increase the number of iterations. Duality gap: 343.0166835085256, tolerance: 62.202445596785054\n",
      "  tol, rng, random, positive)\n",
      "/opt/anaconda3/envs/dsi/lib/python3.7/site-packages/sklearn/linear_model/_coordinate_descent.py:472: ConvergenceWarning: Objective did not converge. You might want to increase the number of iterations. Duality gap: 383.9624270487111, tolerance: 62.202445596785054\n",
      "  tol, rng, random, positive)\n",
      "/opt/anaconda3/envs/dsi/lib/python3.7/site-packages/sklearn/linear_model/_coordinate_descent.py:472: ConvergenceWarning: Objective did not converge. You might want to increase the number of iterations. Duality gap: 398.6519414515933, tolerance: 62.202445596785054\n",
      "  tol, rng, random, positive)\n",
      "/opt/anaconda3/envs/dsi/lib/python3.7/site-packages/sklearn/linear_model/_coordinate_descent.py:472: ConvergenceWarning: Objective did not converge. You might want to increase the number of iterations. Duality gap: 417.9357644735137, tolerance: 62.202445596785054\n",
      "  tol, rng, random, positive)\n",
      "/opt/anaconda3/envs/dsi/lib/python3.7/site-packages/sklearn/linear_model/_coordinate_descent.py:472: ConvergenceWarning: Objective did not converge. You might want to increase the number of iterations. Duality gap: 143.33298481767997, tolerance: 62.30809812253493\n",
      "  tol, rng, random, positive)\n",
      "/opt/anaconda3/envs/dsi/lib/python3.7/site-packages/sklearn/linear_model/_coordinate_descent.py:472: ConvergenceWarning: Objective did not converge. You might want to increase the number of iterations. Duality gap: 239.21520412620157, tolerance: 62.30809812253493\n",
      "  tol, rng, random, positive)\n",
      "/opt/anaconda3/envs/dsi/lib/python3.7/site-packages/sklearn/linear_model/_coordinate_descent.py:472: ConvergenceWarning: Objective did not converge. You might want to increase the number of iterations. Duality gap: 191.25609242659993, tolerance: 62.736254219587025\n",
      "  tol, rng, random, positive)\n",
      "/opt/anaconda3/envs/dsi/lib/python3.7/site-packages/sklearn/linear_model/_coordinate_descent.py:472: ConvergenceWarning: Objective did not converge. You might want to increase the number of iterations. Duality gap: 100.67328210780397, tolerance: 62.736254219587025\n",
      "  tol, rng, random, positive)\n",
      "/opt/anaconda3/envs/dsi/lib/python3.7/site-packages/sklearn/linear_model/_coordinate_descent.py:472: ConvergenceWarning: Objective did not converge. You might want to increase the number of iterations. Duality gap: 116.97011810541153, tolerance: 62.39296880594088\n",
      "  tol, rng, random, positive)\n",
      "/opt/anaconda3/envs/dsi/lib/python3.7/site-packages/sklearn/linear_model/_coordinate_descent.py:472: ConvergenceWarning: Objective did not converge. You might want to increase the number of iterations. Duality gap: 119.20760973589495, tolerance: 62.39296880594088\n",
      "  tol, rng, random, positive)\n",
      "/opt/anaconda3/envs/dsi/lib/python3.7/site-packages/sklearn/linear_model/_coordinate_descent.py:472: ConvergenceWarning: Objective did not converge. You might want to increase the number of iterations. Duality gap: 121.5265990390908, tolerance: 62.39296880594088\n",
      "  tol, rng, random, positive)\n",
      "/opt/anaconda3/envs/dsi/lib/python3.7/site-packages/sklearn/linear_model/_coordinate_descent.py:476: ConvergenceWarning: Objective did not converge. You might want to increase the number of iterations. Duality gap: 37586.7849407359, tolerance: 77.97057372548126\n",
      "  positive)\n",
      "/opt/anaconda3/envs/dsi/lib/python3.7/site-packages/sklearn/linear_model/_coordinate_descent.py:472: ConvergenceWarning: Objective did not converge. You might want to increase the number of iterations. Duality gap: 180.06104142125696, tolerance: 62.780249763271264\n",
      "  tol, rng, random, positive)\n",
      "/opt/anaconda3/envs/dsi/lib/python3.7/site-packages/sklearn/linear_model/_coordinate_descent.py:472: ConvergenceWarning: Objective did not converge. You might want to increase the number of iterations. Duality gap: 563.3230520411162, tolerance: 62.780249763271264\n",
      "  tol, rng, random, positive)\n",
      "/opt/anaconda3/envs/dsi/lib/python3.7/site-packages/sklearn/linear_model/_coordinate_descent.py:472: ConvergenceWarning: Objective did not converge. You might want to increase the number of iterations. Duality gap: 1075.219211215037, tolerance: 62.780249763271264\n",
      "  tol, rng, random, positive)\n",
      "/opt/anaconda3/envs/dsi/lib/python3.7/site-packages/sklearn/linear_model/_coordinate_descent.py:476: ConvergenceWarning: Objective did not converge. You might want to increase the number of iterations. Duality gap: 8746.500578186824, tolerance: 78.24800711944845\n",
      "  positive)\n",
      "/opt/anaconda3/envs/dsi/lib/python3.7/site-packages/sklearn/linear_model/_coordinate_descent.py:472: ConvergenceWarning: Objective did not converge. You might want to increase the number of iterations. Duality gap: 65.07871673395857, tolerance: 62.299316104667426\n",
      "  tol, rng, random, positive)\n",
      "/opt/anaconda3/envs/dsi/lib/python3.7/site-packages/sklearn/linear_model/_coordinate_descent.py:472: ConvergenceWarning: Objective did not converge. You might want to increase the number of iterations. Duality gap: 114.7284193711821, tolerance: 62.299316104667426\n",
      "  tol, rng, random, positive)\n",
      "/opt/anaconda3/envs/dsi/lib/python3.7/site-packages/sklearn/linear_model/_coordinate_descent.py:472: ConvergenceWarning: Objective did not converge. You might want to increase the number of iterations. Duality gap: 135.76628164353315, tolerance: 62.299316104667426\n",
      "  tol, rng, random, positive)\n",
      "/opt/anaconda3/envs/dsi/lib/python3.7/site-packages/sklearn/linear_model/_coordinate_descent.py:472: ConvergenceWarning: Objective did not converge. You might want to increase the number of iterations. Duality gap: 133.48617498099338, tolerance: 62.299316104667426\n",
      "  tol, rng, random, positive)\n",
      "/opt/anaconda3/envs/dsi/lib/python3.7/site-packages/sklearn/linear_model/_coordinate_descent.py:476: ConvergenceWarning: Objective did not converge. You might want to increase the number of iterations. Duality gap: 8708.652413179283, tolerance: 78.00538186503212\n",
      "  positive)\n",
      "/opt/anaconda3/envs/dsi/lib/python3.7/site-packages/sklearn/linear_model/_coordinate_descent.py:472: ConvergenceWarning: Objective did not converge. You might want to increase the number of iterations. Duality gap: 146.58888327982277, tolerance: 62.339233664594865\n",
      "  tol, rng, random, positive)\n",
      "/opt/anaconda3/envs/dsi/lib/python3.7/site-packages/sklearn/linear_model/_coordinate_descent.py:472: ConvergenceWarning: Objective did not converge. You might want to increase the number of iterations. Duality gap: 240.84905664692633, tolerance: 62.339233664594865\n",
      "  tol, rng, random, positive)\n",
      "/opt/anaconda3/envs/dsi/lib/python3.7/site-packages/sklearn/linear_model/_coordinate_descent.py:472: ConvergenceWarning: Objective did not converge. You might want to increase the number of iterations. Duality gap: 157.26967958302703, tolerance: 62.450156024987116\n",
      "  tol, rng, random, positive)\n"
     ]
    },
    {
     "name": "stdout",
     "output_type": "stream",
     "text": [
      "Cross Val: 3.4762375128047127\n",
      "Difference: 0.22944824827567434\n"
     ]
    },
    {
     "name": "stderr",
     "output_type": "stream",
     "text": [
      "/opt/anaconda3/envs/dsi/lib/python3.7/site-packages/sklearn/linear_model/_coordinate_descent.py:476: ConvergenceWarning: Objective did not converge. You might want to increase the number of iterations. Duality gap: 18476.36416338454, tolerance: 78.04543858132027\n",
      "  positive)\n"
     ]
    }
   ],
   "source": [
    "print(f'Train:', rmse(y_train, np.exp(lasso_tr_preds)))\n",
    "print(f'Test:', rmse(y_test, np.exp(lasso_te_preds)))\n",
    "print(f'Cross Val:', cross_val_score(lasso_cv, X, np.log(y), scoring=make_scorer(rmse_log), cv=5).mean())\n",
    "print(f'Difference: {rmse(y_test, np.exp(lasso_te_preds)) - rmse(y_train, np.exp(lasso_tr_preds))}')"
   ]
  },
  {
   "cell_type": "markdown",
   "metadata": {},
   "source": [
    "### Decision Tree"
   ]
  },
  {
   "cell_type": "code",
   "execution_count": 78,
   "metadata": {},
   "outputs": [],
   "source": [
    "tree = DecisionTreeRegressor()\n",
    "\n",
    "# construct paramters\n",
    "tree_params = {\n",
    "    'max_depth' : [3],\n",
    "    'max_features' : [5],\n",
    "    'min_samples_leaf' : [4]\n",
    "}\n",
    "\n",
    " # Perform Grid Search\n",
    "gs = GridSearchCV(tree, \n",
    "                 param_grid=tree_params,\n",
    "                 cv = 5,\n",
    "                 scoring = make_scorer(rmse))\n",
    "tree = gs.fit(X_train, y_train)"
   ]
  },
  {
   "cell_type": "code",
   "execution_count": 79,
   "metadata": {},
   "outputs": [
    {
     "data": {
      "text/plain": [
       "{'max_depth': 3, 'max_features': 5, 'min_samples_leaf': 4}"
      ]
     },
     "execution_count": 79,
     "metadata": {},
     "output_type": "execute_result"
    }
   ],
   "source": [
    "tree.best_params_"
   ]
  },
  {
   "cell_type": "code",
   "execution_count": 80,
   "metadata": {},
   "outputs": [],
   "source": [
    "tree_tr_preds = tree.predict(X_train)\n",
    "tree_te_preds = tree.predict(X_test)"
   ]
  },
  {
   "cell_type": "code",
   "execution_count": 81,
   "metadata": {},
   "outputs": [
    {
     "name": "stdout",
     "output_type": "stream",
     "text": [
      "Train: 3.4329188069338925\n",
      "Test: 3.661870709330139\n",
      "Cross Val: 3.4754379679461755\n",
      "Difference: 0.22895190239624652\n"
     ]
    }
   ],
   "source": [
    "print(f'Train:', rmse(y_train, tree_tr_preds))\n",
    "print(f'Test:', rmse(y_test, tree_te_preds))\n",
    "print(f'Cross Val:', cross_val_score(tree.best_estimator_, X, y, scoring=make_scorer(rmse), cv=5).mean())\n",
    "print(f'Difference: {rmse(y_test, tree_te_preds) - rmse(y_train, tree_tr_preds)}')"
   ]
  },
  {
   "cell_type": "markdown",
   "metadata": {},
   "source": [
    "**Interpretation**  \n",
    "**Goes**  \n",
    "**Here**"
   ]
  },
  {
   "cell_type": "markdown",
   "metadata": {},
   "source": [
    "### Random Forest"
   ]
  },
  {
   "cell_type": "code",
   "execution_count": 82,
   "metadata": {},
   "outputs": [],
   "source": [
    "rf = RandomForestRegressor()\n",
    "\n",
    "# construct paramters\n",
    "rf_params = {\n",
    "    'n_estimators' : [25],\n",
    "    'max_features' : [5],\n",
    "    'max_depth' : [3]\n",
    "}\n",
    "\n",
    " # Perform Grid Search\n",
    "gs = GridSearchCV(rf, \n",
    "                 param_grid=rf_params,\n",
    "                 cv = 5,\n",
    "                 scoring = make_scorer(rmse))\n",
    "rf = gs.fit(X_train, y_train)"
   ]
  },
  {
   "cell_type": "code",
   "execution_count": 83,
   "metadata": {},
   "outputs": [
    {
     "data": {
      "text/plain": [
       "{'max_depth': 3, 'max_features': 5, 'n_estimators': 25}"
      ]
     },
     "execution_count": 83,
     "metadata": {},
     "output_type": "execute_result"
    }
   ],
   "source": [
    "rf.best_params_"
   ]
  },
  {
   "cell_type": "code",
   "execution_count": 84,
   "metadata": {},
   "outputs": [],
   "source": [
    "rf_tr_preds = rf.predict(X_train)\n",
    "rf_te_preds = rf.predict(X_test)"
   ]
  },
  {
   "cell_type": "code",
   "execution_count": 85,
   "metadata": {},
   "outputs": [
    {
     "name": "stdout",
     "output_type": "stream",
     "text": [
      "Train: 3.3678843660432474\n",
      "Test: 3.612336494051499\n",
      "Cross Val: 3.4260249201670367\n",
      "Difference: 0.24445212800825145\n"
     ]
    }
   ],
   "source": [
    "print(f'Train:', rmse(y_train, rf_tr_preds))\n",
    "print(f'Test:', rmse(y_test, rf_te_preds))\n",
    "print(f'Cross Val:', cross_val_score(rf.best_estimator_, X, y, scoring=make_scorer(rmse), cv=5).mean())\n",
    "print(f'Difference: {rmse(y_test, rf_te_preds) - rmse(y_train, rf_tr_preds)}')"
   ]
  },
  {
   "cell_type": "markdown",
   "metadata": {},
   "source": [
    "**Interpretation**  \n",
    "**Goes**  \n",
    "**Here**"
   ]
  },
  {
   "cell_type": "code",
   "execution_count": 116,
   "metadata": {},
   "outputs": [
    {
     "data": {
      "text/html": [
       "<div>\n",
       "<style scoped>\n",
       "    .dataframe tbody tr th:only-of-type {\n",
       "        vertical-align: middle;\n",
       "    }\n",
       "\n",
       "    .dataframe tbody tr th {\n",
       "        vertical-align: top;\n",
       "    }\n",
       "\n",
       "    .dataframe thead th {\n",
       "        text-align: right;\n",
       "    }\n",
       "</style>\n",
       "<table border=\"1\" class=\"dataframe\">\n",
       "  <thead>\n",
       "    <tr style=\"text-align: right;\">\n",
       "      <th></th>\n",
       "      <th>unique_key</th>\n",
       "      <th>created_date</th>\n",
       "      <th>closed_date</th>\n",
       "      <th>agency</th>\n",
       "      <th>agency_name</th>\n",
       "      <th>complaint_type</th>\n",
       "      <th>descriptor</th>\n",
       "      <th>location_type</th>\n",
       "      <th>status</th>\n",
       "      <th>borough</th>\n",
       "      <th>open_data_channel_type</th>\n",
       "      <th>latitude</th>\n",
       "      <th>longitude</th>\n",
       "      <th>resolution_description</th>\n",
       "      <th>resolution_action_updated_date</th>\n",
       "      <th>waittime</th>\n",
       "    </tr>\n",
       "  </thead>\n",
       "  <tbody>\n",
       "    <tr>\n",
       "      <th>507014</th>\n",
       "      <td>43145485</td>\n",
       "      <td>2019-06-28 21:37:09</td>\n",
       "      <td>2019-07-29 12:18:32</td>\n",
       "      <td>NYPD</td>\n",
       "      <td>New York City Police Department</td>\n",
       "      <td>Noise - Street/Sidewalk</td>\n",
       "      <td>Loud Music/Party</td>\n",
       "      <td>Street/Sidewalk</td>\n",
       "      <td>Closed</td>\n",
       "      <td>Unspecified</td>\n",
       "      <td>MOBILE</td>\n",
       "      <td>NaN</td>\n",
       "      <td>NaN</td>\n",
       "      <td>Your complaint has been forwarded to the New Y...</td>\n",
       "      <td>NaT</td>\n",
       "      <td>30.612072</td>\n",
       "    </tr>\n",
       "    <tr>\n",
       "      <th>507013</th>\n",
       "      <td>43146259</td>\n",
       "      <td>2019-06-28 21:48:23</td>\n",
       "      <td>2019-07-29 12:18:33</td>\n",
       "      <td>NYPD</td>\n",
       "      <td>New York City Police Department</td>\n",
       "      <td>Noise - Street/Sidewalk</td>\n",
       "      <td>Loud Music/Party</td>\n",
       "      <td>Street/Sidewalk</td>\n",
       "      <td>Closed</td>\n",
       "      <td>Unspecified</td>\n",
       "      <td>MOBILE</td>\n",
       "      <td>NaN</td>\n",
       "      <td>NaN</td>\n",
       "      <td>Your complaint has been forwarded to the New Y...</td>\n",
       "      <td>NaT</td>\n",
       "      <td>30.604282</td>\n",
       "    </tr>\n",
       "    <tr>\n",
       "      <th>507011</th>\n",
       "      <td>43159050</td>\n",
       "      <td>2019-06-28 22:18:16</td>\n",
       "      <td>2019-07-27 08:31:32</td>\n",
       "      <td>NYPD</td>\n",
       "      <td>New York City Police Department</td>\n",
       "      <td>Noise - Residential</td>\n",
       "      <td>Loud Music/Party</td>\n",
       "      <td>Residential Building/House</td>\n",
       "      <td>Closed</td>\n",
       "      <td>MANHATTAN</td>\n",
       "      <td>ONLINE</td>\n",
       "      <td>40.708266</td>\n",
       "      <td>-74.008231</td>\n",
       "      <td>The Police Department responded to the complai...</td>\n",
       "      <td>2019-07-27 12:32:36</td>\n",
       "      <td>28.425880</td>\n",
       "    </tr>\n",
       "    <tr>\n",
       "      <th>507009</th>\n",
       "      <td>43159662</td>\n",
       "      <td>2019-06-28 23:11:12</td>\n",
       "      <td>2019-06-29 18:14:16</td>\n",
       "      <td>NYPD</td>\n",
       "      <td>New York City Police Department</td>\n",
       "      <td>Noise - Residential</td>\n",
       "      <td>Banging/Pounding</td>\n",
       "      <td>Residential Building/House</td>\n",
       "      <td>Closed</td>\n",
       "      <td>BRONX</td>\n",
       "      <td>PHONE</td>\n",
       "      <td>40.849253</td>\n",
       "      <td>-73.921872</td>\n",
       "      <td>The Police Department responded to the complai...</td>\n",
       "      <td>2019-06-29 22:15:05</td>\n",
       "      <td>0.793796</td>\n",
       "    </tr>\n",
       "  </tbody>\n",
       "</table>\n",
       "</div>"
      ],
      "text/plain": [
       "        unique_key        created_date         closed_date agency  \\\n",
       "507014    43145485 2019-06-28 21:37:09 2019-07-29 12:18:32   NYPD   \n",
       "507013    43146259 2019-06-28 21:48:23 2019-07-29 12:18:33   NYPD   \n",
       "507011    43159050 2019-06-28 22:18:16 2019-07-27 08:31:32   NYPD   \n",
       "507009    43159662 2019-06-28 23:11:12 2019-06-29 18:14:16   NYPD   \n",
       "\n",
       "                            agency_name           complaint_type  \\\n",
       "507014  New York City Police Department  Noise - Street/Sidewalk   \n",
       "507013  New York City Police Department  Noise - Street/Sidewalk   \n",
       "507011  New York City Police Department      Noise - Residential   \n",
       "507009  New York City Police Department      Noise - Residential   \n",
       "\n",
       "              descriptor               location_type  status      borough  \\\n",
       "507014  Loud Music/Party             Street/Sidewalk  Closed  Unspecified   \n",
       "507013  Loud Music/Party             Street/Sidewalk  Closed  Unspecified   \n",
       "507011  Loud Music/Party  Residential Building/House  Closed    MANHATTAN   \n",
       "507009  Banging/Pounding  Residential Building/House  Closed        BRONX   \n",
       "\n",
       "       open_data_channel_type   latitude  longitude  \\\n",
       "507014                 MOBILE        NaN        NaN   \n",
       "507013                 MOBILE        NaN        NaN   \n",
       "507011                 ONLINE  40.708266 -74.008231   \n",
       "507009                  PHONE  40.849253 -73.921872   \n",
       "\n",
       "                                   resolution_description  \\\n",
       "507014  Your complaint has been forwarded to the New Y...   \n",
       "507013  Your complaint has been forwarded to the New Y...   \n",
       "507011  The Police Department responded to the complai...   \n",
       "507009  The Police Department responded to the complai...   \n",
       "\n",
       "       resolution_action_updated_date   waittime  \n",
       "507014                            NaT  30.612072  \n",
       "507013                            NaT  30.604282  \n",
       "507011            2019-07-27 12:32:36  28.425880  \n",
       "507009            2019-06-29 22:15:05   0.793796  "
      ]
     },
     "execution_count": 116,
     "metadata": {},
     "output_type": "execute_result"
    }
   ],
   "source": [
    "# https://www.upi.com/Top_News/US/2019/06/28/New-York-City-marks-50th-anniversary-of-Stonewall-riots/5811561667657/\n",
    "sr[(sr['created_date'] < '06-29-2019') & (sr['created_date'] > '06-27-2019')].sort_values('created_date').tail(4)"
   ]
  },
  {
   "cell_type": "markdown",
   "metadata": {},
   "source": [
    "Unclear what is going on here but on June 28, 2019 many requests opened that day took weeks to close. "
   ]
  },
  {
   "cell_type": "code",
   "execution_count": 119,
   "metadata": {},
   "outputs": [
    {
     "data": {
      "text/html": [
       "<div>\n",
       "<style scoped>\n",
       "    .dataframe tbody tr th:only-of-type {\n",
       "        vertical-align: middle;\n",
       "    }\n",
       "\n",
       "    .dataframe tbody tr th {\n",
       "        vertical-align: top;\n",
       "    }\n",
       "\n",
       "    .dataframe thead th {\n",
       "        text-align: right;\n",
       "    }\n",
       "</style>\n",
       "<table border=\"1\" class=\"dataframe\">\n",
       "  <thead>\n",
       "    <tr style=\"text-align: right;\">\n",
       "      <th></th>\n",
       "      <th>unique_key</th>\n",
       "      <th>created_date</th>\n",
       "      <th>closed_date</th>\n",
       "      <th>agency</th>\n",
       "      <th>agency_name</th>\n",
       "      <th>complaint_type</th>\n",
       "      <th>descriptor</th>\n",
       "      <th>location_type</th>\n",
       "      <th>status</th>\n",
       "      <th>borough</th>\n",
       "      <th>open_data_channel_type</th>\n",
       "      <th>latitude</th>\n",
       "      <th>longitude</th>\n",
       "      <th>resolution_description</th>\n",
       "      <th>resolution_action_updated_date</th>\n",
       "      <th>waittime</th>\n",
       "    </tr>\n",
       "  </thead>\n",
       "  <tbody>\n",
       "    <tr>\n",
       "      <th>185591</th>\n",
       "      <td>44198245</td>\n",
       "      <td>2019-11-01 00:00:03</td>\n",
       "      <td>2019-11-01 01:37:55</td>\n",
       "      <td>NYPD</td>\n",
       "      <td>New York City Police Department</td>\n",
       "      <td>Illegal Parking</td>\n",
       "      <td>Blocked Hydrant</td>\n",
       "      <td>Street/Sidewalk</td>\n",
       "      <td>Closed</td>\n",
       "      <td>BROOKLYN</td>\n",
       "      <td>MOBILE</td>\n",
       "      <td>40.639792</td>\n",
       "      <td>-73.956095</td>\n",
       "      <td>The Police Department responded to the complai...</td>\n",
       "      <td>2019-11-01 05:37:57</td>\n",
       "      <td>0.067963</td>\n",
       "    </tr>\n",
       "    <tr>\n",
       "      <th>185590</th>\n",
       "      <td>44196453</td>\n",
       "      <td>2019-11-01 00:00:35</td>\n",
       "      <td>2019-11-01 01:51:21</td>\n",
       "      <td>NYPD</td>\n",
       "      <td>New York City Police Department</td>\n",
       "      <td>Noise - Residential</td>\n",
       "      <td>Loud Music/Party</td>\n",
       "      <td>Residential Building/House</td>\n",
       "      <td>Closed</td>\n",
       "      <td>MANHATTAN</td>\n",
       "      <td>ONLINE</td>\n",
       "      <td>40.860387</td>\n",
       "      <td>-73.928503</td>\n",
       "      <td>The Police Department responded to the complai...</td>\n",
       "      <td>2019-11-01 05:51:24</td>\n",
       "      <td>0.076921</td>\n",
       "    </tr>\n",
       "    <tr>\n",
       "      <th>185587</th>\n",
       "      <td>44196829</td>\n",
       "      <td>2019-11-01 00:01:14</td>\n",
       "      <td>2019-11-01 00:49:51</td>\n",
       "      <td>NYPD</td>\n",
       "      <td>New York City Police Department</td>\n",
       "      <td>Noise - Residential</td>\n",
       "      <td>Loud Music/Party</td>\n",
       "      <td>unknown</td>\n",
       "      <td>Closed</td>\n",
       "      <td>BROOKLYN</td>\n",
       "      <td>PHONE</td>\n",
       "      <td>40.714563</td>\n",
       "      <td>-73.938179</td>\n",
       "      <td>The Police Department responded to the complai...</td>\n",
       "      <td>2019-11-01 04:49:52</td>\n",
       "      <td>0.033762</td>\n",
       "    </tr>\n",
       "    <tr>\n",
       "      <th>185586</th>\n",
       "      <td>44197634</td>\n",
       "      <td>2019-11-01 00:01:27</td>\n",
       "      <td>2019-11-02 04:39:21</td>\n",
       "      <td>NYPD</td>\n",
       "      <td>New York City Police Department</td>\n",
       "      <td>Noise - Vehicle</td>\n",
       "      <td>Engine Idling</td>\n",
       "      <td>Street/Sidewalk</td>\n",
       "      <td>Closed</td>\n",
       "      <td>BROOKLYN</td>\n",
       "      <td>ONLINE</td>\n",
       "      <td>40.711160</td>\n",
       "      <td>-73.967446</td>\n",
       "      <td>The Police Department responded and upon arriv...</td>\n",
       "      <td>2019-11-02 08:39:28</td>\n",
       "      <td>1.192986</td>\n",
       "    </tr>\n",
       "    <tr>\n",
       "      <th>185585</th>\n",
       "      <td>44198956</td>\n",
       "      <td>2019-11-01 00:01:33</td>\n",
       "      <td>2019-11-01 02:07:25</td>\n",
       "      <td>NYPD</td>\n",
       "      <td>New York City Police Department</td>\n",
       "      <td>Noise - Residential</td>\n",
       "      <td>Banging/Pounding</td>\n",
       "      <td>unknown</td>\n",
       "      <td>Closed</td>\n",
       "      <td>QUEENS</td>\n",
       "      <td>PHONE</td>\n",
       "      <td>40.761867</td>\n",
       "      <td>-73.821210</td>\n",
       "      <td>The Police Department responded to the complai...</td>\n",
       "      <td>2019-11-01 06:07:29</td>\n",
       "      <td>0.087407</td>\n",
       "    </tr>\n",
       "    <tr>\n",
       "      <th>185584</th>\n",
       "      <td>44191168</td>\n",
       "      <td>2019-11-01 00:02:09</td>\n",
       "      <td>2019-11-01 03:20:03</td>\n",
       "      <td>NYPD</td>\n",
       "      <td>New York City Police Department</td>\n",
       "      <td>Noise - Street/Sidewalk</td>\n",
       "      <td>Loud Music/Party</td>\n",
       "      <td>Street/Sidewalk</td>\n",
       "      <td>Closed</td>\n",
       "      <td>QUEENS</td>\n",
       "      <td>ONLINE</td>\n",
       "      <td>40.703809</td>\n",
       "      <td>-73.903118</td>\n",
       "      <td>The Police Department responded to the complai...</td>\n",
       "      <td>2019-11-01 07:20:09</td>\n",
       "      <td>0.137431</td>\n",
       "    </tr>\n",
       "    <tr>\n",
       "      <th>185583</th>\n",
       "      <td>44191163</td>\n",
       "      <td>2019-11-01 00:02:14</td>\n",
       "      <td>2019-11-01 02:22:44</td>\n",
       "      <td>NYPD</td>\n",
       "      <td>New York City Police Department</td>\n",
       "      <td>Noise - Street/Sidewalk</td>\n",
       "      <td>Loud Music/Party</td>\n",
       "      <td>Street/Sidewalk</td>\n",
       "      <td>Closed</td>\n",
       "      <td>MANHATTAN</td>\n",
       "      <td>ONLINE</td>\n",
       "      <td>40.866919</td>\n",
       "      <td>-73.923398</td>\n",
       "      <td>The Police Department responded to the complai...</td>\n",
       "      <td>2019-11-01 06:22:46</td>\n",
       "      <td>0.097569</td>\n",
       "    </tr>\n",
       "    <tr>\n",
       "      <th>185582</th>\n",
       "      <td>44196805</td>\n",
       "      <td>2019-11-01 00:02:18</td>\n",
       "      <td>2019-11-01 00:40:07</td>\n",
       "      <td>NYPD</td>\n",
       "      <td>New York City Police Department</td>\n",
       "      <td>Noise - Commercial</td>\n",
       "      <td>Loud Music/Party</td>\n",
       "      <td>Club/Bar/Restaurant</td>\n",
       "      <td>Closed</td>\n",
       "      <td>QUEENS</td>\n",
       "      <td>ONLINE</td>\n",
       "      <td>40.757886</td>\n",
       "      <td>-73.784897</td>\n",
       "      <td>The Police Department responded to the complai...</td>\n",
       "      <td>2019-11-01 04:40:10</td>\n",
       "      <td>0.026262</td>\n",
       "    </tr>\n",
       "    <tr>\n",
       "      <th>185581</th>\n",
       "      <td>44194206</td>\n",
       "      <td>2019-11-01 00:02:57</td>\n",
       "      <td>2019-11-01 13:15:52</td>\n",
       "      <td>NYPD</td>\n",
       "      <td>New York City Police Department</td>\n",
       "      <td>Noise - Vehicle</td>\n",
       "      <td>Car/Truck Horn</td>\n",
       "      <td>Street/Sidewalk</td>\n",
       "      <td>Closed</td>\n",
       "      <td>BRONX</td>\n",
       "      <td>MOBILE</td>\n",
       "      <td>40.833160</td>\n",
       "      <td>-73.913160</td>\n",
       "      <td>The Police Department responded to the complai...</td>\n",
       "      <td>2019-11-01 17:15:54</td>\n",
       "      <td>0.550637</td>\n",
       "    </tr>\n",
       "    <tr>\n",
       "      <th>185580</th>\n",
       "      <td>44193988</td>\n",
       "      <td>2019-11-01 00:03:21</td>\n",
       "      <td>2019-11-01 01:27:54</td>\n",
       "      <td>NYPD</td>\n",
       "      <td>New York City Police Department</td>\n",
       "      <td>Noise - Residential</td>\n",
       "      <td>Loud Music/Party</td>\n",
       "      <td>Residential Building/House</td>\n",
       "      <td>Closed</td>\n",
       "      <td>BROOKLYN</td>\n",
       "      <td>PHONE</td>\n",
       "      <td>40.682431</td>\n",
       "      <td>-73.959698</td>\n",
       "      <td>The Police Department responded to the complai...</td>\n",
       "      <td>2019-11-01 05:27:56</td>\n",
       "      <td>0.058715</td>\n",
       "    </tr>\n",
       "    <tr>\n",
       "      <th>185579</th>\n",
       "      <td>44198946</td>\n",
       "      <td>2019-11-01 00:03:25</td>\n",
       "      <td>2019-11-02 03:14:43</td>\n",
       "      <td>NYPD</td>\n",
       "      <td>New York City Police Department</td>\n",
       "      <td>Illegal Parking</td>\n",
       "      <td>Blocked Bike Lane</td>\n",
       "      <td>Street/Sidewalk</td>\n",
       "      <td>Closed</td>\n",
       "      <td>BROOKLYN</td>\n",
       "      <td>ONLINE</td>\n",
       "      <td>40.710913</td>\n",
       "      <td>-73.951489</td>\n",
       "      <td>The Police Department responded to the complai...</td>\n",
       "      <td>2019-11-02 07:14:45</td>\n",
       "      <td>1.132847</td>\n",
       "    </tr>\n",
       "    <tr>\n",
       "      <th>185578</th>\n",
       "      <td>44192392</td>\n",
       "      <td>2019-11-01 00:03:37</td>\n",
       "      <td>2019-11-01 00:37:00</td>\n",
       "      <td>NYPD</td>\n",
       "      <td>New York City Police Department</td>\n",
       "      <td>Noise - Commercial</td>\n",
       "      <td>Loud Music/Party</td>\n",
       "      <td>Store/Commercial</td>\n",
       "      <td>Closed</td>\n",
       "      <td>MANHATTAN</td>\n",
       "      <td>MOBILE</td>\n",
       "      <td>40.725534</td>\n",
       "      <td>-73.977805</td>\n",
       "      <td>The Police Department responded to the complai...</td>\n",
       "      <td>2019-11-01 04:37:01</td>\n",
       "      <td>0.023183</td>\n",
       "    </tr>\n",
       "    <tr>\n",
       "      <th>185577</th>\n",
       "      <td>44195145</td>\n",
       "      <td>2019-11-01 00:03:39</td>\n",
       "      <td>2019-11-01 05:13:42</td>\n",
       "      <td>NYPD</td>\n",
       "      <td>New York City Police Department</td>\n",
       "      <td>Noise - Commercial</td>\n",
       "      <td>Loud Music/Party</td>\n",
       "      <td>Store/Commercial</td>\n",
       "      <td>Closed</td>\n",
       "      <td>QUEENS</td>\n",
       "      <td>MOBILE</td>\n",
       "      <td>40.760781</td>\n",
       "      <td>-73.922871</td>\n",
       "      <td>The Police Department responded to the complai...</td>\n",
       "      <td>2019-11-01 09:13:43</td>\n",
       "      <td>0.215312</td>\n",
       "    </tr>\n",
       "    <tr>\n",
       "      <th>185576</th>\n",
       "      <td>44197361</td>\n",
       "      <td>2019-11-01 00:03:58</td>\n",
       "      <td>2019-11-01 04:10:18</td>\n",
       "      <td>NYPD</td>\n",
       "      <td>New York City Police Department</td>\n",
       "      <td>Noise - Residential</td>\n",
       "      <td>Loud Music/Party</td>\n",
       "      <td>Residential Building/House</td>\n",
       "      <td>Closed</td>\n",
       "      <td>BROOKLYN</td>\n",
       "      <td>ONLINE</td>\n",
       "      <td>40.691599</td>\n",
       "      <td>-73.984379</td>\n",
       "      <td>The Police Department responded to the complai...</td>\n",
       "      <td>2019-11-01 08:10:23</td>\n",
       "      <td>0.171065</td>\n",
       "    </tr>\n",
       "    <tr>\n",
       "      <th>185575</th>\n",
       "      <td>44195157</td>\n",
       "      <td>2019-11-01 00:04:09</td>\n",
       "      <td>2019-11-01 03:19:43</td>\n",
       "      <td>NYPD</td>\n",
       "      <td>New York City Police Department</td>\n",
       "      <td>Noise - Street/Sidewalk</td>\n",
       "      <td>Loud Music/Party</td>\n",
       "      <td>Street/Sidewalk</td>\n",
       "      <td>Closed</td>\n",
       "      <td>QUEENS</td>\n",
       "      <td>ONLINE</td>\n",
       "      <td>40.703809</td>\n",
       "      <td>-73.903118</td>\n",
       "      <td>The Police Department responded to the complai...</td>\n",
       "      <td>2019-11-01 07:19:45</td>\n",
       "      <td>0.135810</td>\n",
       "    </tr>\n",
       "    <tr>\n",
       "      <th>185572</th>\n",
       "      <td>44192647</td>\n",
       "      <td>2019-11-01 00:05:14</td>\n",
       "      <td>2019-11-01 04:34:09</td>\n",
       "      <td>NYPD</td>\n",
       "      <td>New York City Police Department</td>\n",
       "      <td>Noise - Residential</td>\n",
       "      <td>Banging/Pounding</td>\n",
       "      <td>Residential Building/House</td>\n",
       "      <td>Closed</td>\n",
       "      <td>BROOKLYN</td>\n",
       "      <td>ONLINE</td>\n",
       "      <td>40.611957</td>\n",
       "      <td>-73.974637</td>\n",
       "      <td>The Police Department responded to the complai...</td>\n",
       "      <td>2019-11-01 08:34:13</td>\n",
       "      <td>0.186748</td>\n",
       "    </tr>\n",
       "    <tr>\n",
       "      <th>185573</th>\n",
       "      <td>44198695</td>\n",
       "      <td>2019-11-01 00:05:14</td>\n",
       "      <td>2019-11-01 03:19:21</td>\n",
       "      <td>NYPD</td>\n",
       "      <td>New York City Police Department</td>\n",
       "      <td>Noise - Street/Sidewalk</td>\n",
       "      <td>Loud Music/Party</td>\n",
       "      <td>Street/Sidewalk</td>\n",
       "      <td>Closed</td>\n",
       "      <td>QUEENS</td>\n",
       "      <td>ONLINE</td>\n",
       "      <td>40.703809</td>\n",
       "      <td>-73.903118</td>\n",
       "      <td>The Police Department responded to the complai...</td>\n",
       "      <td>2019-11-01 07:19:24</td>\n",
       "      <td>0.134803</td>\n",
       "    </tr>\n",
       "    <tr>\n",
       "      <th>185571</th>\n",
       "      <td>44192644</td>\n",
       "      <td>2019-11-01 00:05:36</td>\n",
       "      <td>2019-11-01 05:51:13</td>\n",
       "      <td>NYPD</td>\n",
       "      <td>New York City Police Department</td>\n",
       "      <td>Noise - Commercial</td>\n",
       "      <td>Loud Music/Party</td>\n",
       "      <td>Store/Commercial</td>\n",
       "      <td>Closed</td>\n",
       "      <td>MANHATTAN</td>\n",
       "      <td>MOBILE</td>\n",
       "      <td>40.777990</td>\n",
       "      <td>-73.954152</td>\n",
       "      <td>The Police Department responded and upon arriv...</td>\n",
       "      <td>2019-11-01 09:51:15</td>\n",
       "      <td>0.240012</td>\n",
       "    </tr>\n",
       "    <tr>\n",
       "      <th>185570</th>\n",
       "      <td>44192753</td>\n",
       "      <td>2019-11-01 00:05:41</td>\n",
       "      <td>2019-11-01 00:50:12</td>\n",
       "      <td>NYPD</td>\n",
       "      <td>New York City Police Department</td>\n",
       "      <td>Noise - Residential</td>\n",
       "      <td>Loud Music/Party</td>\n",
       "      <td>Residential Building/House</td>\n",
       "      <td>Closed</td>\n",
       "      <td>BROOKLYN</td>\n",
       "      <td>ONLINE</td>\n",
       "      <td>40.714563</td>\n",
       "      <td>-73.938179</td>\n",
       "      <td>The Police Department responded to the complai...</td>\n",
       "      <td>2019-11-01 04:50:18</td>\n",
       "      <td>0.030914</td>\n",
       "    </tr>\n",
       "    <tr>\n",
       "      <th>185569</th>\n",
       "      <td>44191890</td>\n",
       "      <td>2019-11-01 00:06:25</td>\n",
       "      <td>2019-11-01 03:18:05</td>\n",
       "      <td>NYPD</td>\n",
       "      <td>New York City Police Department</td>\n",
       "      <td>Noise - Street/Sidewalk</td>\n",
       "      <td>Loud Music/Party</td>\n",
       "      <td>Street/Sidewalk</td>\n",
       "      <td>Closed</td>\n",
       "      <td>QUEENS</td>\n",
       "      <td>ONLINE</td>\n",
       "      <td>40.703809</td>\n",
       "      <td>-73.903118</td>\n",
       "      <td>The Police Department responded to the complai...</td>\n",
       "      <td>2019-11-01 07:18:08</td>\n",
       "      <td>0.133102</td>\n",
       "    </tr>\n",
       "  </tbody>\n",
       "</table>\n",
       "</div>"
      ],
      "text/plain": [
       "        unique_key        created_date         closed_date agency  \\\n",
       "185591    44198245 2019-11-01 00:00:03 2019-11-01 01:37:55   NYPD   \n",
       "185590    44196453 2019-11-01 00:00:35 2019-11-01 01:51:21   NYPD   \n",
       "185587    44196829 2019-11-01 00:01:14 2019-11-01 00:49:51   NYPD   \n",
       "185586    44197634 2019-11-01 00:01:27 2019-11-02 04:39:21   NYPD   \n",
       "185585    44198956 2019-11-01 00:01:33 2019-11-01 02:07:25   NYPD   \n",
       "185584    44191168 2019-11-01 00:02:09 2019-11-01 03:20:03   NYPD   \n",
       "185583    44191163 2019-11-01 00:02:14 2019-11-01 02:22:44   NYPD   \n",
       "185582    44196805 2019-11-01 00:02:18 2019-11-01 00:40:07   NYPD   \n",
       "185581    44194206 2019-11-01 00:02:57 2019-11-01 13:15:52   NYPD   \n",
       "185580    44193988 2019-11-01 00:03:21 2019-11-01 01:27:54   NYPD   \n",
       "185579    44198946 2019-11-01 00:03:25 2019-11-02 03:14:43   NYPD   \n",
       "185578    44192392 2019-11-01 00:03:37 2019-11-01 00:37:00   NYPD   \n",
       "185577    44195145 2019-11-01 00:03:39 2019-11-01 05:13:42   NYPD   \n",
       "185576    44197361 2019-11-01 00:03:58 2019-11-01 04:10:18   NYPD   \n",
       "185575    44195157 2019-11-01 00:04:09 2019-11-01 03:19:43   NYPD   \n",
       "185572    44192647 2019-11-01 00:05:14 2019-11-01 04:34:09   NYPD   \n",
       "185573    44198695 2019-11-01 00:05:14 2019-11-01 03:19:21   NYPD   \n",
       "185571    44192644 2019-11-01 00:05:36 2019-11-01 05:51:13   NYPD   \n",
       "185570    44192753 2019-11-01 00:05:41 2019-11-01 00:50:12   NYPD   \n",
       "185569    44191890 2019-11-01 00:06:25 2019-11-01 03:18:05   NYPD   \n",
       "\n",
       "                            agency_name           complaint_type  \\\n",
       "185591  New York City Police Department          Illegal Parking   \n",
       "185590  New York City Police Department      Noise - Residential   \n",
       "185587  New York City Police Department      Noise - Residential   \n",
       "185586  New York City Police Department          Noise - Vehicle   \n",
       "185585  New York City Police Department      Noise - Residential   \n",
       "185584  New York City Police Department  Noise - Street/Sidewalk   \n",
       "185583  New York City Police Department  Noise - Street/Sidewalk   \n",
       "185582  New York City Police Department       Noise - Commercial   \n",
       "185581  New York City Police Department          Noise - Vehicle   \n",
       "185580  New York City Police Department      Noise - Residential   \n",
       "185579  New York City Police Department          Illegal Parking   \n",
       "185578  New York City Police Department       Noise - Commercial   \n",
       "185577  New York City Police Department       Noise - Commercial   \n",
       "185576  New York City Police Department      Noise - Residential   \n",
       "185575  New York City Police Department  Noise - Street/Sidewalk   \n",
       "185572  New York City Police Department      Noise - Residential   \n",
       "185573  New York City Police Department  Noise - Street/Sidewalk   \n",
       "185571  New York City Police Department       Noise - Commercial   \n",
       "185570  New York City Police Department      Noise - Residential   \n",
       "185569  New York City Police Department  Noise - Street/Sidewalk   \n",
       "\n",
       "               descriptor               location_type  status    borough  \\\n",
       "185591    Blocked Hydrant             Street/Sidewalk  Closed   BROOKLYN   \n",
       "185590   Loud Music/Party  Residential Building/House  Closed  MANHATTAN   \n",
       "185587   Loud Music/Party                     unknown  Closed   BROOKLYN   \n",
       "185586      Engine Idling             Street/Sidewalk  Closed   BROOKLYN   \n",
       "185585   Banging/Pounding                     unknown  Closed     QUEENS   \n",
       "185584   Loud Music/Party             Street/Sidewalk  Closed     QUEENS   \n",
       "185583   Loud Music/Party             Street/Sidewalk  Closed  MANHATTAN   \n",
       "185582   Loud Music/Party         Club/Bar/Restaurant  Closed     QUEENS   \n",
       "185581     Car/Truck Horn             Street/Sidewalk  Closed      BRONX   \n",
       "185580   Loud Music/Party  Residential Building/House  Closed   BROOKLYN   \n",
       "185579  Blocked Bike Lane             Street/Sidewalk  Closed   BROOKLYN   \n",
       "185578   Loud Music/Party            Store/Commercial  Closed  MANHATTAN   \n",
       "185577   Loud Music/Party            Store/Commercial  Closed     QUEENS   \n",
       "185576   Loud Music/Party  Residential Building/House  Closed   BROOKLYN   \n",
       "185575   Loud Music/Party             Street/Sidewalk  Closed     QUEENS   \n",
       "185572   Banging/Pounding  Residential Building/House  Closed   BROOKLYN   \n",
       "185573   Loud Music/Party             Street/Sidewalk  Closed     QUEENS   \n",
       "185571   Loud Music/Party            Store/Commercial  Closed  MANHATTAN   \n",
       "185570   Loud Music/Party  Residential Building/House  Closed   BROOKLYN   \n",
       "185569   Loud Music/Party             Street/Sidewalk  Closed     QUEENS   \n",
       "\n",
       "       open_data_channel_type   latitude  longitude  \\\n",
       "185591                 MOBILE  40.639792 -73.956095   \n",
       "185590                 ONLINE  40.860387 -73.928503   \n",
       "185587                  PHONE  40.714563 -73.938179   \n",
       "185586                 ONLINE  40.711160 -73.967446   \n",
       "185585                  PHONE  40.761867 -73.821210   \n",
       "185584                 ONLINE  40.703809 -73.903118   \n",
       "185583                 ONLINE  40.866919 -73.923398   \n",
       "185582                 ONLINE  40.757886 -73.784897   \n",
       "185581                 MOBILE  40.833160 -73.913160   \n",
       "185580                  PHONE  40.682431 -73.959698   \n",
       "185579                 ONLINE  40.710913 -73.951489   \n",
       "185578                 MOBILE  40.725534 -73.977805   \n",
       "185577                 MOBILE  40.760781 -73.922871   \n",
       "185576                 ONLINE  40.691599 -73.984379   \n",
       "185575                 ONLINE  40.703809 -73.903118   \n",
       "185572                 ONLINE  40.611957 -73.974637   \n",
       "185573                 ONLINE  40.703809 -73.903118   \n",
       "185571                 MOBILE  40.777990 -73.954152   \n",
       "185570                 ONLINE  40.714563 -73.938179   \n",
       "185569                 ONLINE  40.703809 -73.903118   \n",
       "\n",
       "                                   resolution_description  \\\n",
       "185591  The Police Department responded to the complai...   \n",
       "185590  The Police Department responded to the complai...   \n",
       "185587  The Police Department responded to the complai...   \n",
       "185586  The Police Department responded and upon arriv...   \n",
       "185585  The Police Department responded to the complai...   \n",
       "185584  The Police Department responded to the complai...   \n",
       "185583  The Police Department responded to the complai...   \n",
       "185582  The Police Department responded to the complai...   \n",
       "185581  The Police Department responded to the complai...   \n",
       "185580  The Police Department responded to the complai...   \n",
       "185579  The Police Department responded to the complai...   \n",
       "185578  The Police Department responded to the complai...   \n",
       "185577  The Police Department responded to the complai...   \n",
       "185576  The Police Department responded to the complai...   \n",
       "185575  The Police Department responded to the complai...   \n",
       "185572  The Police Department responded to the complai...   \n",
       "185573  The Police Department responded to the complai...   \n",
       "185571  The Police Department responded and upon arriv...   \n",
       "185570  The Police Department responded to the complai...   \n",
       "185569  The Police Department responded to the complai...   \n",
       "\n",
       "       resolution_action_updated_date  waittime  \n",
       "185591            2019-11-01 05:37:57  0.067963  \n",
       "185590            2019-11-01 05:51:24  0.076921  \n",
       "185587            2019-11-01 04:49:52  0.033762  \n",
       "185586            2019-11-02 08:39:28  1.192986  \n",
       "185585            2019-11-01 06:07:29  0.087407  \n",
       "185584            2019-11-01 07:20:09  0.137431  \n",
       "185583            2019-11-01 06:22:46  0.097569  \n",
       "185582            2019-11-01 04:40:10  0.026262  \n",
       "185581            2019-11-01 17:15:54  0.550637  \n",
       "185580            2019-11-01 05:27:56  0.058715  \n",
       "185579            2019-11-02 07:14:45  1.132847  \n",
       "185578            2019-11-01 04:37:01  0.023183  \n",
       "185577            2019-11-01 09:13:43  0.215312  \n",
       "185576            2019-11-01 08:10:23  0.171065  \n",
       "185575            2019-11-01 07:19:45  0.135810  \n",
       "185572            2019-11-01 08:34:13  0.186748  \n",
       "185573            2019-11-01 07:19:24  0.134803  \n",
       "185571            2019-11-01 09:51:15  0.240012  \n",
       "185570            2019-11-01 04:50:18  0.030914  \n",
       "185569            2019-11-01 07:18:08  0.133102  "
      ]
     },
     "execution_count": 119,
     "metadata": {},
     "output_type": "execute_result"
    }
   ],
   "source": [
    "sr[(sr['created_date'] < '11-07-2019') & (sr['created_date'] > '11-01-2019')].sort_values('created_date').head(20)"
   ]
  },
  {
   "cell_type": "markdown",
   "metadata": {},
   "source": [
    "## ARIMA"
   ]
  },
  {
   "cell_type": "code",
   "execution_count": 88,
   "metadata": {},
   "outputs": [],
   "source": [
    "ts_df = sr[['created_date','waittime']]"
   ]
  },
  {
   "cell_type": "code",
   "execution_count": 90,
   "metadata": {},
   "outputs": [
    {
     "data": {
      "text/html": [
       "<div>\n",
       "<style scoped>\n",
       "    .dataframe tbody tr th:only-of-type {\n",
       "        vertical-align: middle;\n",
       "    }\n",
       "\n",
       "    .dataframe tbody tr th {\n",
       "        vertical-align: top;\n",
       "    }\n",
       "\n",
       "    .dataframe thead th {\n",
       "        text-align: right;\n",
       "    }\n",
       "</style>\n",
       "<table border=\"1\" class=\"dataframe\">\n",
       "  <thead>\n",
       "    <tr style=\"text-align: right;\">\n",
       "      <th></th>\n",
       "      <th>waittime</th>\n",
       "    </tr>\n",
       "    <tr>\n",
       "      <th>created_date</th>\n",
       "      <th></th>\n",
       "    </tr>\n",
       "  </thead>\n",
       "  <tbody>\n",
       "    <tr>\n",
       "      <th>2019-09-16 17:04:00</th>\n",
       "      <td>0.005382</td>\n",
       "    </tr>\n",
       "    <tr>\n",
       "      <th>2019-06-23 23:27:31</th>\n",
       "      <td>0.157500</td>\n",
       "    </tr>\n",
       "    <tr>\n",
       "      <th>2019-09-22 01:51:30</th>\n",
       "      <td>0.266505</td>\n",
       "    </tr>\n",
       "    <tr>\n",
       "      <th>2019-07-01 13:54:36</th>\n",
       "      <td>0.857593</td>\n",
       "    </tr>\n",
       "    <tr>\n",
       "      <th>2019-07-20 12:00:10</th>\n",
       "      <td>0.088137</td>\n",
       "    </tr>\n",
       "  </tbody>\n",
       "</table>\n",
       "</div>"
      ],
      "text/plain": [
       "                     waittime\n",
       "created_date                 \n",
       "2019-09-16 17:04:00  0.005382\n",
       "2019-06-23 23:27:31  0.157500\n",
       "2019-09-22 01:51:30  0.266505\n",
       "2019-07-01 13:54:36  0.857593\n",
       "2019-07-20 12:00:10  0.088137"
      ]
     },
     "execution_count": 90,
     "metadata": {},
     "output_type": "execute_result"
    }
   ],
   "source": [
    "# set the date as an index\n",
    "ts_df.set_index('created_date', inplace=True)\n",
    "ts_df.head()"
   ]
  },
  {
   "cell_type": "code",
   "execution_count": 91,
   "metadata": {},
   "outputs": [
    {
     "name": "stderr",
     "output_type": "stream",
     "text": [
      "/opt/anaconda3/envs/dsi/lib/python3.7/site-packages/ipykernel_launcher.py:2: SettingWithCopyWarning: \n",
      "A value is trying to be set on a copy of a slice from a DataFrame\n",
      "\n",
      "See the caveats in the documentation: https://pandas.pydata.org/pandas-docs/stable/user_guide/indexing.html#returning-a-view-versus-a-copy\n",
      "  \n"
     ]
    },
    {
     "data": {
      "text/html": [
       "<div>\n",
       "<style scoped>\n",
       "    .dataframe tbody tr th:only-of-type {\n",
       "        vertical-align: middle;\n",
       "    }\n",
       "\n",
       "    .dataframe tbody tr th {\n",
       "        vertical-align: top;\n",
       "    }\n",
       "\n",
       "    .dataframe thead th {\n",
       "        text-align: right;\n",
       "    }\n",
       "</style>\n",
       "<table border=\"1\" class=\"dataframe\">\n",
       "  <thead>\n",
       "    <tr style=\"text-align: right;\">\n",
       "      <th></th>\n",
       "      <th>waittime</th>\n",
       "    </tr>\n",
       "    <tr>\n",
       "      <th>created_date</th>\n",
       "      <th></th>\n",
       "    </tr>\n",
       "  </thead>\n",
       "  <tbody>\n",
       "    <tr>\n",
       "      <th>2019-05-28 04:53:17</th>\n",
       "      <td>0.078715</td>\n",
       "    </tr>\n",
       "    <tr>\n",
       "      <th>2019-05-28 04:53:50</th>\n",
       "      <td>0.094618</td>\n",
       "    </tr>\n",
       "    <tr>\n",
       "      <th>2019-05-28 04:58:44</th>\n",
       "      <td>0.010903</td>\n",
       "    </tr>\n",
       "    <tr>\n",
       "      <th>2019-05-28 05:00:34</th>\n",
       "      <td>0.068704</td>\n",
       "    </tr>\n",
       "    <tr>\n",
       "      <th>2019-05-28 05:07:56</th>\n",
       "      <td>0.014398</td>\n",
       "    </tr>\n",
       "  </tbody>\n",
       "</table>\n",
       "</div>"
      ],
      "text/plain": [
       "                     waittime\n",
       "created_date                 \n",
       "2019-05-28 04:53:17  0.078715\n",
       "2019-05-28 04:53:50  0.094618\n",
       "2019-05-28 04:58:44  0.010903\n",
       "2019-05-28 05:00:34  0.068704\n",
       "2019-05-28 05:07:56  0.014398"
      ]
     },
     "execution_count": 91,
     "metadata": {},
     "output_type": "execute_result"
    }
   ],
   "source": [
    "# sort index\n",
    "ts_df.sort_index(inplace=True, ascending=True)\n",
    "ts_df.head()"
   ]
  },
  {
   "cell_type": "code",
   "execution_count": 115,
   "metadata": {},
   "outputs": [
    {
     "data": {
      "text/html": [
       "<div>\n",
       "<style scoped>\n",
       "    .dataframe tbody tr th:only-of-type {\n",
       "        vertical-align: middle;\n",
       "    }\n",
       "\n",
       "    .dataframe tbody tr th {\n",
       "        vertical-align: top;\n",
       "    }\n",
       "\n",
       "    .dataframe thead th {\n",
       "        text-align: right;\n",
       "    }\n",
       "</style>\n",
       "<table border=\"1\" class=\"dataframe\">\n",
       "  <thead>\n",
       "    <tr style=\"text-align: right;\">\n",
       "      <th></th>\n",
       "      <th>waittime</th>\n",
       "    </tr>\n",
       "    <tr>\n",
       "      <th>created_date</th>\n",
       "      <th></th>\n",
       "    </tr>\n",
       "  </thead>\n",
       "  <tbody>\n",
       "    <tr>\n",
       "      <th>2019-10-27</th>\n",
       "      <td>0.520510</td>\n",
       "    </tr>\n",
       "    <tr>\n",
       "      <th>2019-11-03</th>\n",
       "      <td>0.743872</td>\n",
       "    </tr>\n",
       "    <tr>\n",
       "      <th>2019-11-10</th>\n",
       "      <td>0.620013</td>\n",
       "    </tr>\n",
       "    <tr>\n",
       "      <th>2019-11-17</th>\n",
       "      <td>0.478928</td>\n",
       "    </tr>\n",
       "    <tr>\n",
       "      <th>2019-11-24</th>\n",
       "      <td>0.356490</td>\n",
       "    </tr>\n",
       "    <tr>\n",
       "      <th>2019-12-01</th>\n",
       "      <td>0.284989</td>\n",
       "    </tr>\n",
       "    <tr>\n",
       "      <th>2019-12-08</th>\n",
       "      <td>0.403251</td>\n",
       "    </tr>\n",
       "    <tr>\n",
       "      <th>2019-12-15</th>\n",
       "      <td>0.396614</td>\n",
       "    </tr>\n",
       "    <tr>\n",
       "      <th>2019-12-22</th>\n",
       "      <td>0.321740</td>\n",
       "    </tr>\n",
       "    <tr>\n",
       "      <th>2019-12-29</th>\n",
       "      <td>0.269312</td>\n",
       "    </tr>\n",
       "    <tr>\n",
       "      <th>2020-01-05</th>\n",
       "      <td>0.386044</td>\n",
       "    </tr>\n",
       "    <tr>\n",
       "      <th>2020-01-12</th>\n",
       "      <td>0.381952</td>\n",
       "    </tr>\n",
       "    <tr>\n",
       "      <th>2020-01-19</th>\n",
       "      <td>0.389426</td>\n",
       "    </tr>\n",
       "    <tr>\n",
       "      <th>2020-01-26</th>\n",
       "      <td>0.427493</td>\n",
       "    </tr>\n",
       "    <tr>\n",
       "      <th>2020-02-02</th>\n",
       "      <td>0.422083</td>\n",
       "    </tr>\n",
       "  </tbody>\n",
       "</table>\n",
       "</div>"
      ],
      "text/plain": [
       "              waittime\n",
       "created_date          \n",
       "2019-10-27    0.520510\n",
       "2019-11-03    0.743872\n",
       "2019-11-10    0.620013\n",
       "2019-11-17    0.478928\n",
       "2019-11-24    0.356490\n",
       "2019-12-01    0.284989\n",
       "2019-12-08    0.403251\n",
       "2019-12-15    0.396614\n",
       "2019-12-22    0.321740\n",
       "2019-12-29    0.269312\n",
       "2020-01-05    0.386044\n",
       "2020-01-12    0.381952\n",
       "2020-01-19    0.389426\n",
       "2020-01-26    0.427493\n",
       "2020-02-02    0.422083"
      ]
     },
     "execution_count": 115,
     "metadata": {},
     "output_type": "execute_result"
    }
   ],
   "source": [
    "ts_df = ts_df.resample('W').mean()\n",
    "ts_df.tail(15)"
   ]
  },
  {
   "cell_type": "code",
   "execution_count": 114,
   "metadata": {},
   "outputs": [
    {
     "data": {
      "image/png": "[encoded data removed]",
      "text/plain": [
       "<Figure size 576x576 with 1 Axes>"
      ]
     },
     "metadata": {
      "needs_background": "light"
     },
     "output_type": "display_data"
    }
   ],
   "source": [
    "# Generate line plot of bus_ridership\n",
    "plt.figure(figsize=(8,8))\n",
    "plt.plot(ts_df['waittime']);\n",
    "plt.title(label='Wait Time', fontsize = 16)\n",
    "plt.xlabel(\"Date\")\n",
    "plt.ylabel(\"Wait Time (days)\");"
   ]
  },
  {
   "cell_type": "markdown",
   "metadata": {},
   "source": [
    "### Generalized Linear Model - Gamma Regression"
   ]
  },
  {
   "cell_type": "code",
   "execution_count": 120,
   "metadata": {},
   "outputs": [],
   "source": [
    "train_index = X_train.index\n",
    "test_index = X_test.index"
   ]
  },
  {
   "cell_type": "code",
   "execution_count": 121,
   "metadata": {},
   "outputs": [],
   "source": [
    "r_sr = new_sr[new_features + ['waittime']]\n",
    "r_train = r_sr.iloc[train_index]\n",
    "r_test = r_sr.iloc[test_index]"
   ]
  },
  {
   "cell_type": "code",
   "execution_count": 128,
   "metadata": {},
   "outputs": [
    {
     "name": "stderr",
     "output_type": "stream",
     "text": [
      "/opt/anaconda3/envs/dsi/lib/python3.7/site-packages/ipykernel_launcher.py:4: DeprecationWarning: Calling Family(..) with a link class as argument is deprecated.\n",
      "Use an instance of a link class instead.\n",
      "  after removing the cwd from sys.path.\n",
      "/opt/anaconda3/envs/dsi/lib/python3.7/site-packages/statsmodels/genmod/generalized_linear_model.py:278: DomainWarning: The identity link function does not respect the domain of the Gamma family.\n",
      "  DomainWarning)\n"
     ]
    }
   ],
   "source": [
    "glm_gamma_id = smf.glm(\n",
    "    formula = \"waittime ~ C(complaint_type) + C(descriptor) + C(location_type) + C(borough) + C(open_data_channel_type) + C(cluster_predicted)\",\n",
    "    data = r_train,\n",
    "    family = sm.families.Gamma(link = sm.families.links.identity)\n",
    ").fit()"
   ]
  },
  {
   "cell_type": "code",
   "execution_count": 129,
   "metadata": {},
   "outputs": [
    {
     "data": {
      "text/plain": [
       "1509199.586462353"
      ]
     },
     "execution_count": 129,
     "metadata": {},
     "output_type": "execute_result"
    }
   ],
   "source": [
    "glm_gamma_id.aic"
   ]
  },
  {
   "cell_type": "code",
   "execution_count": 130,
   "metadata": {},
   "outputs": [
    {
     "data": {
      "text/html": [
       "<table class=\"simpletable\">\n",
       "<caption>Generalized Linear Model Regression Results</caption>\n",
       "<tr>\n",
       "  <th>Dep. Variable:</th>       <td>waittime</td>     <th>  No. Observations:  </th>   <td>404988</td>   \n",
       "</tr>\n",
       "<tr>\n",
       "  <th>Model:</th>                  <td>GLM</td>       <th>  Df Residuals:      </th>   <td>404891</td>   \n",
       "</tr>\n",
       "<tr>\n",
       "  <th>Model Family:</th>          <td>Gamma</td>      <th>  Df Model:          </th>   <td>    96</td>   \n",
       "</tr>\n",
       "<tr>\n",
       "  <th>Link Function:</th>       <td>identity</td>     <th>  Scale:             </th>  <td>  46.834</td>  \n",
       "</tr>\n",
       "<tr>\n",
       "  <th>Method:</th>                <td>IRLS</td>       <th>  Log-Likelihood:    </th> <td>-7.5450e+05</td>\n",
       "</tr>\n",
       "<tr>\n",
       "  <th>Date:</th>            <td>Tue, 02 Jun 2020</td> <th>  Deviance:          </th> <td>8.8073e+05</td> \n",
       "</tr>\n",
       "<tr>\n",
       "  <th>Time:</th>                <td>14:35:16</td>     <th>  Pearson chi2:      </th>  <td>1.90e+07</td>  \n",
       "</tr>\n",
       "<tr>\n",
       "  <th>No. Iterations:</th>         <td>100</td>       <th>                     </th>      <td> </td>     \n",
       "</tr>\n",
       "<tr>\n",
       "  <th>Covariance Type:</th>     <td>nonrobust</td>    <th>                     </th>      <td> </td>     \n",
       "</tr>\n",
       "</table>\n",
       "<table class=\"simpletable\">\n",
       "<tr>\n",
       "                          <td></td>                            <th>coef</th>     <th>std err</th>      <th>z</th>      <th>P>|z|</th>  <th>[0.025</th>    <th>0.975]</th>  \n",
       "</tr>\n",
       "<tr>\n",
       "  <th>Intercept</th>                                        <td>    0.6018</td> <td>    0.873</td> <td>    0.689</td> <td> 0.491</td> <td>   -1.109</td> <td>    2.313</td>\n",
       "</tr>\n",
       "<tr>\n",
       "  <th>C(complaint_type)[T.Animal Abuse]</th>                <td>   -0.0043</td> <td>    0.125</td> <td>   -0.035</td> <td> 0.972</td> <td>   -0.249</td> <td>    0.240</td>\n",
       "</tr>\n",
       "<tr>\n",
       "  <th>C(complaint_type)[T.Animal-Abuse]</th>                <td>    0.0231</td> <td>    0.094</td> <td>    0.246</td> <td> 0.806</td> <td>   -0.161</td> <td>    0.207</td>\n",
       "</tr>\n",
       "<tr>\n",
       "  <th>C(complaint_type)[T.Bike/Roller/Skate Chronic]</th>   <td>    0.0221</td> <td>    0.108</td> <td>    0.205</td> <td> 0.837</td> <td>   -0.189</td> <td>    0.233</td>\n",
       "</tr>\n",
       "<tr>\n",
       "  <th>C(complaint_type)[T.Blocked Driveway]</th>            <td>    0.0574</td> <td>    0.052</td> <td>    1.106</td> <td> 0.269</td> <td>   -0.044</td> <td>    0.159</td>\n",
       "</tr>\n",
       "<tr>\n",
       "  <th>C(complaint_type)[T.Derelict Vehicle]</th>            <td>   -0.9546</td> <td>    0.085</td> <td>  -11.188</td> <td> 0.000</td> <td>   -1.122</td> <td>   -0.787</td>\n",
       "</tr>\n",
       "<tr>\n",
       "  <th>C(complaint_type)[T.Disorderly Youth]</th>            <td>   -0.0660</td> <td>    0.144</td> <td>   -0.457</td> <td> 0.647</td> <td>   -0.349</td> <td>    0.217</td>\n",
       "</tr>\n",
       "<tr>\n",
       "  <th>C(complaint_type)[T.Drinking]</th>                    <td>    0.1910</td> <td>    0.414</td> <td>    0.462</td> <td> 0.644</td> <td>   -0.620</td> <td>    1.002</td>\n",
       "</tr>\n",
       "<tr>\n",
       "  <th>C(complaint_type)[T.Drug Activity]</th>               <td>    0.0173</td> <td>    0.082</td> <td>    0.211</td> <td> 0.833</td> <td>   -0.144</td> <td>    0.179</td>\n",
       "</tr>\n",
       "<tr>\n",
       "  <th>C(complaint_type)[T.Graffiti]</th>                    <td>    0.0715</td> <td>    0.149</td> <td>    0.480</td> <td> 0.631</td> <td>   -0.221</td> <td>    0.364</td>\n",
       "</tr>\n",
       "<tr>\n",
       "  <th>C(complaint_type)[T.Homeless Encampment]</th>         <td>    0.0555</td> <td>    0.081</td> <td>    0.682</td> <td> 0.495</td> <td>   -0.104</td> <td>    0.215</td>\n",
       "</tr>\n",
       "<tr>\n",
       "  <th>C(complaint_type)[T.Homeless Street Condition]</th>   <td>   -0.0826</td> <td>    0.086</td> <td>   -0.963</td> <td> 0.336</td> <td>   -0.251</td> <td>    0.086</td>\n",
       "</tr>\n",
       "<tr>\n",
       "  <th>C(complaint_type)[T.Illegal Fireworks]</th>           <td>   -0.0194</td> <td>    0.098</td> <td>   -0.198</td> <td> 0.843</td> <td>   -0.211</td> <td>    0.172</td>\n",
       "</tr>\n",
       "<tr>\n",
       "  <th>C(complaint_type)[T.Illegal Parking]</th>             <td>    0.0206</td> <td>    0.070</td> <td>    0.293</td> <td> 0.770</td> <td>   -0.117</td> <td>    0.159</td>\n",
       "</tr>\n",
       "<tr>\n",
       "  <th>C(complaint_type)[T.Noise - Commercial]</th>          <td>   -0.0542</td> <td>    0.061</td> <td>   -0.886</td> <td> 0.376</td> <td>   -0.174</td> <td>    0.066</td>\n",
       "</tr>\n",
       "<tr>\n",
       "  <th>C(complaint_type)[T.Noise - House of Worship]</th>    <td>    0.0116</td> <td>    0.294</td> <td>    0.039</td> <td> 0.969</td> <td>   -0.566</td> <td>    0.589</td>\n",
       "</tr>\n",
       "<tr>\n",
       "  <th>C(complaint_type)[T.Noise - Park]</th>                <td>   -0.0416</td> <td>    0.080</td> <td>   -0.517</td> <td> 0.605</td> <td>   -0.199</td> <td>    0.116</td>\n",
       "</tr>\n",
       "<tr>\n",
       "  <th>C(complaint_type)[T.Noise - Residential]</th>         <td>   -0.0451</td> <td>    0.058</td> <td>   -0.775</td> <td> 0.438</td> <td>   -0.159</td> <td>    0.069</td>\n",
       "</tr>\n",
       "<tr>\n",
       "  <th>C(complaint_type)[T.Noise - Street/Sidewalk]</th>     <td>   -0.0227</td> <td>    0.058</td> <td>   -0.394</td> <td> 0.693</td> <td>   -0.136</td> <td>    0.090</td>\n",
       "</tr>\n",
       "<tr>\n",
       "  <th>C(complaint_type)[T.Noise - Vehicle]</th>             <td>   -0.1203</td> <td>    0.085</td> <td>   -1.414</td> <td> 0.157</td> <td>   -0.287</td> <td>    0.046</td>\n",
       "</tr>\n",
       "<tr>\n",
       "  <th>C(complaint_type)[T.Non-Emergency Police Matter]</th> <td>    0.0833</td> <td>    0.097</td> <td>    0.855</td> <td> 0.393</td> <td>   -0.108</td> <td>    0.274</td>\n",
       "</tr>\n",
       "<tr>\n",
       "  <th>C(complaint_type)[T.Panhandling]</th>                 <td>   -0.0710</td> <td>    0.080</td> <td>   -0.893</td> <td> 0.372</td> <td>   -0.227</td> <td>    0.085</td>\n",
       "</tr>\n",
       "<tr>\n",
       "  <th>C(complaint_type)[T.Posting Advertisement]</th>       <td>   -0.1252</td> <td>    0.112</td> <td>   -1.115</td> <td> 0.265</td> <td>   -0.345</td> <td>    0.095</td>\n",
       "</tr>\n",
       "<tr>\n",
       "  <th>C(complaint_type)[T.Squeegee]</th>                    <td>   -0.0011</td> <td>    0.514</td> <td>   -0.002</td> <td> 0.998</td> <td>   -1.009</td> <td>    1.007</td>\n",
       "</tr>\n",
       "<tr>\n",
       "  <th>C(complaint_type)[T.Traffic]</th>                     <td>   -0.1044</td> <td>    0.067</td> <td>   -1.548</td> <td> 0.122</td> <td>   -0.237</td> <td>    0.028</td>\n",
       "</tr>\n",
       "<tr>\n",
       "  <th>C(complaint_type)[T.Urinating in Public]</th>         <td>    0.0108</td> <td>    0.120</td> <td>    0.090</td> <td> 0.928</td> <td>   -0.224</td> <td>    0.246</td>\n",
       "</tr>\n",
       "<tr>\n",
       "  <th>C(complaint_type)[T.Vending]</th>                     <td>   -0.0601</td> <td>    0.053</td> <td>   -1.138</td> <td> 0.255</td> <td>   -0.164</td> <td>    0.043</td>\n",
       "</tr>\n",
       "<tr>\n",
       "  <th>C(descriptor)[T.Banging/Pounding]</th>                <td>   -0.0507</td> <td>    0.051</td> <td>   -0.991</td> <td> 0.322</td> <td>   -0.151</td> <td>    0.050</td>\n",
       "</tr>\n",
       "<tr>\n",
       "  <th>C(descriptor)[T.Blocked Bike Lane]</th>               <td>   -0.0844</td> <td>    0.026</td> <td>   -3.256</td> <td> 0.001</td> <td>   -0.135</td> <td>   -0.034</td>\n",
       "</tr>\n",
       "<tr>\n",
       "  <th>C(descriptor)[T.Blocked Hydrant]</th>                 <td>   -0.0369</td> <td>    0.026</td> <td>   -1.404</td> <td> 0.160</td> <td>   -0.088</td> <td>    0.015</td>\n",
       "</tr>\n",
       "<tr>\n",
       "  <th>C(descriptor)[T.Blocked Sidewalk]</th>                <td>    0.0548</td> <td>    0.032</td> <td>    1.688</td> <td> 0.091</td> <td>   -0.009</td> <td>    0.118</td>\n",
       "</tr>\n",
       "<tr>\n",
       "  <th>C(descriptor)[T.Building]</th>                        <td>   -0.0200</td> <td>    0.197</td> <td>   -0.102</td> <td> 0.919</td> <td>   -0.406</td> <td>    0.366</td>\n",
       "</tr>\n",
       "<tr>\n",
       "  <th>C(descriptor)[T.Car/Truck Horn]</th>                  <td>    0.0351</td> <td>    0.075</td> <td>    0.465</td> <td> 0.642</td> <td>   -0.113</td> <td>    0.183</td>\n",
       "</tr>\n",
       "<tr>\n",
       "  <th>C(descriptor)[T.Car/Truck Music]</th>                 <td>    0.0382</td> <td>    0.074</td> <td>    0.513</td> <td> 0.608</td> <td>   -0.108</td> <td>    0.184</td>\n",
       "</tr>\n",
       "<tr>\n",
       "  <th>C(descriptor)[T.Chained]</th>                         <td>    0.5763</td> <td>    0.464</td> <td>    1.243</td> <td> 0.214</td> <td>   -0.333</td> <td>    1.485</td>\n",
       "</tr>\n",
       "<tr>\n",
       "  <th>C(descriptor)[T.Chronic Speeding]</th>                <td>   -0.0339</td> <td>    0.085</td> <td>   -0.401</td> <td> 0.689</td> <td>   -0.200</td> <td>    0.132</td>\n",
       "</tr>\n",
       "<tr>\n",
       "  <th>C(descriptor)[T.Chronic Stoplight Violation]</th>     <td>   -0.0282</td> <td>    0.088</td> <td>   -0.321</td> <td> 0.748</td> <td>   -0.201</td> <td>    0.144</td>\n",
       "</tr>\n",
       "<tr>\n",
       "  <th>C(descriptor)[T.Commercial Overnight Parking]</th>    <td>    0.0825</td> <td>    0.036</td> <td>    2.312</td> <td> 0.021</td> <td>    0.013</td> <td>    0.153</td>\n",
       "</tr>\n",
       "<tr>\n",
       "  <th>C(descriptor)[T.Congestion/Gridlock]</th>             <td>    0.0857</td> <td>    0.060</td> <td>    1.427</td> <td> 0.154</td> <td>   -0.032</td> <td>    0.203</td>\n",
       "</tr>\n",
       "<tr>\n",
       "  <th>C(descriptor)[T.Detached Trailer]</th>                <td>    0.0946</td> <td>    0.170</td> <td>    0.555</td> <td> 0.579</td> <td>   -0.239</td> <td>    0.429</td>\n",
       "</tr>\n",
       "<tr>\n",
       "  <th>C(descriptor)[T.Double Parked Blocking Traffic]</th>  <td>   -0.0452</td> <td>    0.034</td> <td>   -1.339</td> <td> 0.180</td> <td>   -0.111</td> <td>    0.021</td>\n",
       "</tr>\n",
       "<tr>\n",
       "  <th>C(descriptor)[T.Double Parked Blocking Vehicle]</th>  <td>   -0.0522</td> <td>    0.043</td> <td>   -1.228</td> <td> 0.219</td> <td>   -0.136</td> <td>    0.031</td>\n",
       "</tr>\n",
       "<tr>\n",
       "  <th>C(descriptor)[T.Drag Racing]</th>                     <td>   -0.0581</td> <td>    0.070</td> <td>   -0.832</td> <td> 0.405</td> <td>   -0.195</td> <td>    0.079</td>\n",
       "</tr>\n",
       "<tr>\n",
       "  <th>C(descriptor)[T.Engine Idling]</th>                   <td>   -0.0078</td> <td>    0.077</td> <td>   -0.102</td> <td> 0.919</td> <td>   -0.158</td> <td>    0.143</td>\n",
       "</tr>\n",
       "<tr>\n",
       "  <th>C(descriptor)[T.In Car]</th>                          <td>   -0.1360</td> <td>    0.163</td> <td>   -0.834</td> <td> 0.404</td> <td>   -0.456</td> <td>    0.184</td>\n",
       "</tr>\n",
       "<tr>\n",
       "  <th>C(descriptor)[T.In Prohibited Area]</th>              <td>   -0.0274</td> <td>    0.038</td> <td>   -0.726</td> <td> 0.468</td> <td>   -0.101</td> <td>    0.047</td>\n",
       "</tr>\n",
       "<tr>\n",
       "  <th>C(descriptor)[T.In Public]</th>                       <td>   -0.3311</td> <td>    0.442</td> <td>   -0.749</td> <td> 0.454</td> <td>   -1.198</td> <td>    0.535</td>\n",
       "</tr>\n",
       "<tr>\n",
       "  <th>C(descriptor)[T.Loud Music/Party]</th>                <td>   -0.0923</td> <td>    0.050</td> <td>   -1.838</td> <td> 0.066</td> <td>   -0.191</td> <td>    0.006</td>\n",
       "</tr>\n",
       "<tr>\n",
       "  <th>C(descriptor)[T.Loud Talking]</th>                    <td>   -0.0921</td> <td>    0.051</td> <td>   -1.805</td> <td> 0.071</td> <td>   -0.192</td> <td>    0.008</td>\n",
       "</tr>\n",
       "<tr>\n",
       "  <th>C(descriptor)[T.Loud Television]</th>                 <td>   -0.1026</td> <td>    0.060</td> <td>   -1.700</td> <td> 0.089</td> <td>   -0.221</td> <td>    0.016</td>\n",
       "</tr>\n",
       "<tr>\n",
       "  <th>C(descriptor)[T.Neglected]</th>                       <td>   -0.0166</td> <td>    0.109</td> <td>   -0.153</td> <td> 0.879</td> <td>   -0.230</td> <td>    0.197</td>\n",
       "</tr>\n",
       "<tr>\n",
       "  <th>C(descriptor)[T.No Access]</th>                       <td>    0.0151</td> <td>    0.033</td> <td>    0.461</td> <td> 0.645</td> <td>   -0.049</td> <td>    0.079</td>\n",
       "</tr>\n",
       "<tr>\n",
       "  <th>C(descriptor)[T.No Shelter]</th>                      <td>    0.2381</td> <td>    0.419</td> <td>    0.568</td> <td> 0.570</td> <td>   -0.584</td> <td>    1.060</td>\n",
       "</tr>\n",
       "<tr>\n",
       "  <th>C(descriptor)[T.Nuisance/Truant]</th>                 <td>   -0.0373</td> <td>    0.231</td> <td>   -0.161</td> <td> 0.872</td> <td>   -0.490</td> <td>    0.416</td>\n",
       "</tr>\n",
       "<tr>\n",
       "  <th>C(descriptor)[T.Other (complaint details)]</th>       <td>   -0.0952</td> <td>    0.094</td> <td>   -1.017</td> <td> 0.309</td> <td>   -0.279</td> <td>    0.088</td>\n",
       "</tr>\n",
       "<tr>\n",
       "  <th>C(descriptor)[T.Overnight Commercial Storage]</th>    <td>    0.0658</td> <td>    0.093</td> <td>    0.708</td> <td> 0.479</td> <td>   -0.116</td> <td>    0.248</td>\n",
       "</tr>\n",
       "<tr>\n",
       "  <th>C(descriptor)[T.Parking Permit Improper Use]</th>     <td>    0.0231</td> <td>    0.060</td> <td>    0.389</td> <td> 0.698</td> <td>   -0.094</td> <td>    0.140</td>\n",
       "</tr>\n",
       "<tr>\n",
       "  <th>C(descriptor)[T.Partial Access]</th>                  <td>    0.0423</td> <td>    0.031</td> <td>    1.385</td> <td> 0.166</td> <td>   -0.018</td> <td>    0.102</td>\n",
       "</tr>\n",
       "<tr>\n",
       "  <th>C(descriptor)[T.Playing in Unsuitable Place]</th>     <td>   -0.0287</td> <td>    0.219</td> <td>   -0.131</td> <td> 0.896</td> <td>   -0.458</td> <td>    0.401</td>\n",
       "</tr>\n",
       "<tr>\n",
       "  <th>C(descriptor)[T.Police Report Not Requested]</th>     <td>   -0.0917</td> <td>    0.172</td> <td>   -0.532</td> <td> 0.595</td> <td>   -0.430</td> <td>    0.246</td>\n",
       "</tr>\n",
       "<tr>\n",
       "  <th>C(descriptor)[T.Police Report Requested]</th>         <td>    0.1633</td> <td>    0.281</td> <td>    0.581</td> <td> 0.562</td> <td>   -0.388</td> <td>    0.715</td>\n",
       "</tr>\n",
       "<tr>\n",
       "  <th>C(descriptor)[T.Posted Parking Sign Violation]</th>   <td>   -0.0081</td> <td>    0.026</td> <td>   -0.312</td> <td> 0.755</td> <td>   -0.059</td> <td>    0.043</td>\n",
       "</tr>\n",
       "<tr>\n",
       "  <th>C(descriptor)[T.Street Con Game]</th>                 <td>   -0.2106</td> <td>    0.511</td> <td>   -0.412</td> <td> 0.680</td> <td>   -1.211</td> <td>    0.790</td>\n",
       "</tr>\n",
       "<tr>\n",
       "  <th>C(descriptor)[T.Ticket Scalping]</th>                 <td>   -0.3033</td> <td>    0.308</td> <td>   -0.986</td> <td> 0.324</td> <td>   -0.906</td> <td>    0.300</td>\n",
       "</tr>\n",
       "<tr>\n",
       "  <th>C(descriptor)[T.Tortured]</th>                        <td>    0.0086</td> <td>    0.174</td> <td>    0.049</td> <td> 0.961</td> <td>   -0.332</td> <td>    0.349</td>\n",
       "</tr>\n",
       "<tr>\n",
       "  <th>C(descriptor)[T.Trespassing]</th>                     <td>    0.0408</td> <td>    0.140</td> <td>    0.291</td> <td> 0.771</td> <td>   -0.233</td> <td>    0.315</td>\n",
       "</tr>\n",
       "<tr>\n",
       "  <th>C(descriptor)[T.Truck Route Violation]</th>           <td>   -0.0699</td> <td>    0.049</td> <td>   -1.414</td> <td> 0.157</td> <td>   -0.167</td> <td>    0.027</td>\n",
       "</tr>\n",
       "<tr>\n",
       "  <th>C(descriptor)[T.Unauthorized Bus Layover]</th>        <td>   -0.0734</td> <td>    0.058</td> <td>   -1.257</td> <td> 0.209</td> <td>   -0.188</td> <td>    0.041</td>\n",
       "</tr>\n",
       "<tr>\n",
       "  <th>C(descriptor)[T.Underage - Licensed Est]</th>         <td>   -0.0203</td> <td>    0.536</td> <td>   -0.038</td> <td> 0.970</td> <td>   -1.071</td> <td>    1.030</td>\n",
       "</tr>\n",
       "<tr>\n",
       "  <th>C(descriptor)[T.Unlicensed]</th>                      <td>   -0.0327</td> <td>    0.042</td> <td>   -0.781</td> <td> 0.435</td> <td>   -0.115</td> <td>    0.049</td>\n",
       "</tr>\n",
       "<tr>\n",
       "  <th>C(descriptor)[T.Use Indoor]</th>                      <td>   -0.0247</td> <td>    0.128</td> <td>   -0.192</td> <td> 0.848</td> <td>   -0.276</td> <td>    0.227</td>\n",
       "</tr>\n",
       "<tr>\n",
       "  <th>C(descriptor)[T.Use Outside]</th>                     <td>    0.0420</td> <td>    0.092</td> <td>    0.456</td> <td> 0.649</td> <td>   -0.139</td> <td>    0.223</td>\n",
       "</tr>\n",
       "<tr>\n",
       "  <th>C(descriptor)[T.Vehicle]</th>                         <td>   -0.1052</td> <td>    0.134</td> <td>   -0.788</td> <td> 0.431</td> <td>   -0.367</td> <td>    0.157</td>\n",
       "</tr>\n",
       "<tr>\n",
       "  <th>C(descriptor)[T.With License Plate]</th>              <td>    0.8556</td> <td>    0.095</td> <td>    9.004</td> <td> 0.000</td> <td>    0.669</td> <td>    1.042</td>\n",
       "</tr>\n",
       "<tr>\n",
       "  <th>C(descriptor)[T.none]</th>                            <td>   -0.0856</td> <td>    0.096</td> <td>   -0.888</td> <td> 0.374</td> <td>   -0.274</td> <td>    0.103</td>\n",
       "</tr>\n",
       "<tr>\n",
       "  <th>C(location_type)[T.Club/Bar/Restaurant]</th>          <td>   -0.0382</td> <td>    0.934</td> <td>   -0.041</td> <td> 0.967</td> <td>   -1.868</td> <td>    1.792</td>\n",
       "</tr>\n",
       "<tr>\n",
       "  <th>C(location_type)[T.Commercial]</th>                   <td>   -0.3564</td> <td>    1.162</td> <td>   -0.307</td> <td> 0.759</td> <td>   -2.633</td> <td>    1.921</td>\n",
       "</tr>\n",
       "<tr>\n",
       "  <th>C(location_type)[T.Common Area]</th>                  <td>   -0.0741</td> <td>    1.033</td> <td>   -0.072</td> <td> 0.943</td> <td>   -2.099</td> <td>    1.951</td>\n",
       "</tr>\n",
       "<tr>\n",
       "  <th>C(location_type)[T.Hallway]</th>                      <td>   -0.1821</td> <td>    0.969</td> <td>   -0.188</td> <td> 0.851</td> <td>   -2.081</td> <td>    1.717</td>\n",
       "</tr>\n",
       "<tr>\n",
       "  <th>C(location_type)[T.Highway]</th>                      <td>   -0.2390</td> <td>    0.954</td> <td>   -0.250</td> <td> 0.802</td> <td>   -2.110</td> <td>    1.631</td>\n",
       "</tr>\n",
       "<tr>\n",
       "  <th>C(location_type)[T.House and Store]</th>              <td>   -0.4336</td> <td>    1.088</td> <td>   -0.399</td> <td> 0.690</td> <td>   -2.565</td> <td>    1.698</td>\n",
       "</tr>\n",
       "<tr>\n",
       "  <th>C(location_type)[T.House of Worship]</th>             <td>   -0.2011</td> <td>    0.989</td> <td>   -0.203</td> <td> 0.839</td> <td>   -2.139</td> <td>    1.737</td>\n",
       "</tr>\n",
       "<tr>\n",
       "  <th>C(location_type)[T.Lobby]</th>                        <td>   -0.1809</td> <td>    0.971</td> <td>   -0.186</td> <td> 0.852</td> <td>   -2.084</td> <td>    1.722</td>\n",
       "</tr>\n",
       "<tr>\n",
       "  <th>C(location_type)[T.Other]</th>                        <td>    0.1558</td> <td>    0.993</td> <td>    0.157</td> <td> 0.875</td> <td>   -1.790</td> <td>    2.101</td>\n",
       "</tr>\n",
       "<tr>\n",
       "  <th>C(location_type)[T.Park/Playground]</th>              <td>   -0.0522</td> <td>    0.935</td> <td>   -0.056</td> <td> 0.955</td> <td>   -1.885</td> <td>    1.781</td>\n",
       "</tr>\n",
       "<tr>\n",
       "  <th>C(location_type)[T.Parking Lot]</th>                  <td>   -0.0031</td> <td>    1.109</td> <td>   -0.003</td> <td> 0.998</td> <td>   -2.177</td> <td>    2.170</td>\n",
       "</tr>\n",
       "<tr>\n",
       "  <th>C(location_type)[T.Residential Building]</th>         <td>   -0.1904</td> <td>    1.093</td> <td>   -0.174</td> <td> 0.862</td> <td>   -2.333</td> <td>    1.952</td>\n",
       "</tr>\n",
       "<tr>\n",
       "  <th>C(location_type)[T.Residential Building/House]</th>   <td>   -0.0218</td> <td>    0.933</td> <td>   -0.023</td> <td> 0.981</td> <td>   -1.851</td> <td>    1.808</td>\n",
       "</tr>\n",
       "<tr>\n",
       "  <th>C(location_type)[T.Roadway Tunnel]</th>               <td>   -0.2575</td> <td>    0.948</td> <td>   -0.272</td> <td> 0.786</td> <td>   -2.115</td> <td>    1.600</td>\n",
       "</tr>\n",
       "<tr>\n",
       "  <th>C(location_type)[T.Stairwell]</th>                    <td>   -0.1202</td> <td>    0.972</td> <td>   -0.124</td> <td> 0.902</td> <td>   -2.026</td> <td>    1.785</td>\n",
       "</tr>\n",
       "<tr>\n",
       "  <th>C(location_type)[T.Store/Commercial]</th>             <td>   -0.0615</td> <td>    0.934</td> <td>   -0.066</td> <td> 0.947</td> <td>   -1.891</td> <td>    1.768</td>\n",
       "</tr>\n",
       "<tr>\n",
       "  <th>C(location_type)[T.Street/Sidewalk]</th>              <td>   -0.0971</td> <td>    0.933</td> <td>   -0.104</td> <td> 0.917</td> <td>   -1.926</td> <td>    1.732</td>\n",
       "</tr>\n",
       "<tr>\n",
       "  <th>C(location_type)[T.Subway]</th>                       <td>   -0.0715</td> <td>    0.948</td> <td>   -0.075</td> <td> 0.940</td> <td>   -1.929</td> <td>    1.786</td>\n",
       "</tr>\n",
       "<tr>\n",
       "  <th>C(location_type)[T.Subway Station]</th>               <td>   -0.1116</td> <td>    0.940</td> <td>   -0.119</td> <td> 0.906</td> <td>   -1.954</td> <td>    1.731</td>\n",
       "</tr>\n",
       "<tr>\n",
       "  <th>C(location_type)[T.Vacant Lot]</th>                   <td>   -0.0612</td> <td>    1.154</td> <td>   -0.053</td> <td> 0.958</td> <td>   -2.323</td> <td>    2.201</td>\n",
       "</tr>\n",
       "<tr>\n",
       "  <th>C(location_type)[T.unknown]</th>                      <td>   -0.0863</td> <td>    0.933</td> <td>   -0.092</td> <td> 0.926</td> <td>   -1.915</td> <td>    1.743</td>\n",
       "</tr>\n",
       "<tr>\n",
       "  <th>C(borough)[T.BROOKLYN]</th>                           <td>   -0.2209</td> <td>    0.014</td> <td>  -15.827</td> <td> 0.000</td> <td>   -0.248</td> <td>   -0.194</td>\n",
       "</tr>\n",
       "<tr>\n",
       "  <th>C(borough)[T.MANHATTAN]</th>                          <td>   -0.2778</td> <td>    0.014</td> <td>  -20.297</td> <td> 0.000</td> <td>   -0.305</td> <td>   -0.251</td>\n",
       "</tr>\n",
       "<tr>\n",
       "  <th>C(borough)[T.QUEENS]</th>                             <td>   -0.0021</td> <td>    0.017</td> <td>   -0.121</td> <td> 0.904</td> <td>   -0.036</td> <td>    0.032</td>\n",
       "</tr>\n",
       "<tr>\n",
       "  <th>C(borough)[T.STATEN ISLAND]</th>                      <td>   -0.3050</td> <td>    0.017</td> <td>  -17.600</td> <td> 0.000</td> <td>   -0.339</td> <td>   -0.271</td>\n",
       "</tr>\n",
       "<tr>\n",
       "  <th>C(borough)[T.Unspecified]</th>                        <td>   42.2268</td> <td>   20.763</td> <td>    2.034</td> <td> 0.042</td> <td>    1.533</td> <td>   82.921</td>\n",
       "</tr>\n",
       "<tr>\n",
       "  <th>C(open_data_channel_type)[T.ONLINE]</th>              <td>    0.0120</td> <td>    0.009</td> <td>    1.378</td> <td> 0.168</td> <td>   -0.005</td> <td>    0.029</td>\n",
       "</tr>\n",
       "<tr>\n",
       "  <th>C(open_data_channel_type)[T.OTHER]</th>               <td>   -1.3745</td> <td>    0.173</td> <td>   -7.930</td> <td> 0.000</td> <td>   -1.714</td> <td>   -1.035</td>\n",
       "</tr>\n",
       "<tr>\n",
       "  <th>C(open_data_channel_type)[T.PHONE]</th>               <td>    0.0129</td> <td>    0.010</td> <td>    1.321</td> <td> 0.186</td> <td>   -0.006</td> <td>    0.032</td>\n",
       "</tr>\n",
       "<tr>\n",
       "  <th>C(open_data_channel_type)[T.UNKNOWN]</th>             <td>   -0.1758</td> <td>    0.034</td> <td>   -5.145</td> <td> 0.000</td> <td>   -0.243</td> <td>   -0.109</td>\n",
       "</tr>\n",
       "<tr>\n",
       "  <th>C(cluster_predicted)[T.Noise Brooklyn]</th>           <td>    0.0361</td> <td>    0.036</td> <td>    0.996</td> <td> 0.319</td> <td>   -0.035</td> <td>    0.107</td>\n",
       "</tr>\n",
       "<tr>\n",
       "  <th>C(cluster_predicted)[T.Noise Queens]</th>             <td>    0.0066</td> <td>    0.038</td> <td>    0.170</td> <td> 0.865</td> <td>   -0.069</td> <td>    0.082</td>\n",
       "</tr>\n",
       "<tr>\n",
       "  <th>C(cluster_predicted)[T.Parking Manhattan]</th>        <td>    0.0262</td> <td>    0.038</td> <td>    0.698</td> <td> 0.485</td> <td>   -0.047</td> <td>    0.100</td>\n",
       "</tr>\n",
       "<tr>\n",
       "  <th>C(cluster_predicted)[T.Parking Queens]</th>           <td>    0.0439</td> <td>    0.038</td> <td>    1.154</td> <td> 0.249</td> <td>   -0.031</td> <td>    0.119</td>\n",
       "</tr>\n",
       "</table>"
      ],
      "text/plain": [
       "<class 'statsmodels.iolib.summary.Summary'>\n",
       "\"\"\"\n",
       "                 Generalized Linear Model Regression Results                  \n",
       "==============================================================================\n",
       "Dep. Variable:               waittime   No. Observations:               404988\n",
       "Model:                            GLM   Df Residuals:                   404891\n",
       "Model Family:                   Gamma   Df Model:                           96\n",
       "Link Function:               identity   Scale:                          46.834\n",
       "Method:                          IRLS   Log-Likelihood:            -7.5450e+05\n",
       "Date:                Tue, 02 Jun 2020   Deviance:                   8.8073e+05\n",
       "Time:                        14:35:16   Pearson chi2:                 1.90e+07\n",
       "No. Iterations:                   100                                         \n",
       "Covariance Type:            nonrobust                                         \n",
       "====================================================================================================================\n",
       "                                                       coef    std err          z      P>|z|      [0.025      0.975]\n",
       "--------------------------------------------------------------------------------------------------------------------\n",
       "Intercept                                            0.6018      0.873      0.689      0.491      -1.109       2.313\n",
       "C(complaint_type)[T.Animal Abuse]                   -0.0043      0.125     -0.035      0.972      -0.249       0.240\n",
       "C(complaint_type)[T.Animal-Abuse]                    0.0231      0.094      0.246      0.806      -0.161       0.207\n",
       "C(complaint_type)[T.Bike/Roller/Skate Chronic]       0.0221      0.108      0.205      0.837      -0.189       0.233\n",
       "C(complaint_type)[T.Blocked Driveway]                0.0574      0.052      1.106      0.269      -0.044       0.159\n",
       "C(complaint_type)[T.Derelict Vehicle]               -0.9546      0.085    -11.188      0.000      -1.122      -0.787\n",
       "C(complaint_type)[T.Disorderly Youth]               -0.0660      0.144     -0.457      0.647      -0.349       0.217\n",
       "C(complaint_type)[T.Drinking]                        0.1910      0.414      0.462      0.644      -0.620       1.002\n",
       "C(complaint_type)[T.Drug Activity]                   0.0173      0.082      0.211      0.833      -0.144       0.179\n",
       "C(complaint_type)[T.Graffiti]                        0.0715      0.149      0.480      0.631      -0.221       0.364\n",
       "C(complaint_type)[T.Homeless Encampment]             0.0555      0.081      0.682      0.495      -0.104       0.215\n",
       "C(complaint_type)[T.Homeless Street Condition]      -0.0826      0.086     -0.963      0.336      -0.251       0.086\n",
       "C(complaint_type)[T.Illegal Fireworks]              -0.0194      0.098     -0.198      0.843      -0.211       0.172\n",
       "C(complaint_type)[T.Illegal Parking]                 0.0206      0.070      0.293      0.770      -0.117       0.159\n",
       "C(complaint_type)[T.Noise - Commercial]             -0.0542      0.061     -0.886      0.376      -0.174       0.066\n",
       "C(complaint_type)[T.Noise - House of Worship]        0.0116      0.294      0.039      0.969      -0.566       0.589\n",
       "C(complaint_type)[T.Noise - Park]                   -0.0416      0.080     -0.517      0.605      -0.199       0.116\n",
       "C(complaint_type)[T.Noise - Residential]            -0.0451      0.058     -0.775      0.438      -0.159       0.069\n",
       "C(complaint_type)[T.Noise - Street/Sidewalk]        -0.0227      0.058     -0.394      0.693      -0.136       0.090\n",
       "C(complaint_type)[T.Noise - Vehicle]                -0.1203      0.085     -1.414      0.157      -0.287       0.046\n",
       "C(complaint_type)[T.Non-Emergency Police Matter]     0.0833      0.097      0.855      0.393      -0.108       0.274\n",
       "C(complaint_type)[T.Panhandling]                    -0.0710      0.080     -0.893      0.372      -0.227       0.085\n",
       "C(complaint_type)[T.Posting Advertisement]          -0.1252      0.112     -1.115      0.265      -0.345       0.095\n",
       "C(complaint_type)[T.Squeegee]                       -0.0011      0.514     -0.002      0.998      -1.009       1.007\n",
       "C(complaint_type)[T.Traffic]                        -0.1044      0.067     -1.548      0.122      -0.237       0.028\n",
       "C(complaint_type)[T.Urinating in Public]             0.0108      0.120      0.090      0.928      -0.224       0.246\n",
       "C(complaint_type)[T.Vending]                        -0.0601      0.053     -1.138      0.255      -0.164       0.043\n",
       "C(descriptor)[T.Banging/Pounding]                   -0.0507      0.051     -0.991      0.322      -0.151       0.050\n",
       "C(descriptor)[T.Blocked Bike Lane]                  -0.0844      0.026     -3.256      0.001      -0.135      -0.034\n",
       "C(descriptor)[T.Blocked Hydrant]                    -0.0369      0.026     -1.404      0.160      -0.088       0.015\n",
       "C(descriptor)[T.Blocked Sidewalk]                    0.0548      0.032      1.688      0.091      -0.009       0.118\n",
       "C(descriptor)[T.Building]                           -0.0200      0.197     -0.102      0.919      -0.406       0.366\n",
       "C(descriptor)[T.Car/Truck Horn]                      0.0351      0.075      0.465      0.642      -0.113       0.183\n",
       "C(descriptor)[T.Car/Truck Music]                     0.0382      0.074      0.513      0.608      -0.108       0.184\n",
       "C(descriptor)[T.Chained]                             0.5763      0.464      1.243      0.214      -0.333       1.485\n",
       "C(descriptor)[T.Chronic Speeding]                   -0.0339      0.085     -0.401      0.689      -0.200       0.132\n",
       "C(descriptor)[T.Chronic Stoplight Violation]        -0.0282      0.088     -0.321      0.748      -0.201       0.144\n",
       "C(descriptor)[T.Commercial Overnight Parking]        0.0825      0.036      2.312      0.021       0.013       0.153\n",
       "C(descriptor)[T.Congestion/Gridlock]                 0.0857      0.060      1.427      0.154      -0.032       0.203\n",
       "C(descriptor)[T.Detached Trailer]                    0.0946      0.170      0.555      0.579      -0.239       0.429\n",
       "C(descriptor)[T.Double Parked Blocking Traffic]     -0.0452      0.034     -1.339      0.180      -0.111       0.021\n",
       "C(descriptor)[T.Double Parked Blocking Vehicle]     -0.0522      0.043     -1.228      0.219      -0.136       0.031\n",
       "C(descriptor)[T.Drag Racing]                        -0.0581      0.070     -0.832      0.405      -0.195       0.079\n",
       "C(descriptor)[T.Engine Idling]                      -0.0078      0.077     -0.102      0.919      -0.158       0.143\n",
       "C(descriptor)[T.In Car]                             -0.1360      0.163     -0.834      0.404      -0.456       0.184\n",
       "C(descriptor)[T.In Prohibited Area]                 -0.0274      0.038     -0.726      0.468      -0.101       0.047\n",
       "C(descriptor)[T.In Public]                          -0.3311      0.442     -0.749      0.454      -1.198       0.535\n",
       "C(descriptor)[T.Loud Music/Party]                   -0.0923      0.050     -1.838      0.066      -0.191       0.006\n",
       "C(descriptor)[T.Loud Talking]                       -0.0921      0.051     -1.805      0.071      -0.192       0.008\n",
       "C(descriptor)[T.Loud Television]                    -0.1026      0.060     -1.700      0.089      -0.221       0.016\n",
       "C(descriptor)[T.Neglected]                          -0.0166      0.109     -0.153      0.879      -0.230       0.197\n",
       "C(descriptor)[T.No Access]                           0.0151      0.033      0.461      0.645      -0.049       0.079\n",
       "C(descriptor)[T.No Shelter]                          0.2381      0.419      0.568      0.570      -0.584       1.060\n",
       "C(descriptor)[T.Nuisance/Truant]                    -0.0373      0.231     -0.161      0.872      -0.490       0.416\n",
       "C(descriptor)[T.Other (complaint details)]          -0.0952      0.094     -1.017      0.309      -0.279       0.088\n",
       "C(descriptor)[T.Overnight Commercial Storage]        0.0658      0.093      0.708      0.479      -0.116       0.248\n",
       "C(descriptor)[T.Parking Permit Improper Use]         0.0231      0.060      0.389      0.698      -0.094       0.140\n",
       "C(descriptor)[T.Partial Access]                      0.0423      0.031      1.385      0.166      -0.018       0.102\n",
       "C(descriptor)[T.Playing in Unsuitable Place]        -0.0287      0.219     -0.131      0.896      -0.458       0.401\n",
       "C(descriptor)[T.Police Report Not Requested]        -0.0917      0.172     -0.532      0.595      -0.430       0.246\n",
       "C(descriptor)[T.Police Report Requested]             0.1633      0.281      0.581      0.562      -0.388       0.715\n",
       "C(descriptor)[T.Posted Parking Sign Violation]      -0.0081      0.026     -0.312      0.755      -0.059       0.043\n",
       "C(descriptor)[T.Street Con Game]                    -0.2106      0.511     -0.412      0.680      -1.211       0.790\n",
       "C(descriptor)[T.Ticket Scalping]                    -0.3033      0.308     -0.986      0.324      -0.906       0.300\n",
       "C(descriptor)[T.Tortured]                            0.0086      0.174      0.049      0.961      -0.332       0.349\n",
       "C(descriptor)[T.Trespassing]                         0.0408      0.140      0.291      0.771      -0.233       0.315\n",
       "C(descriptor)[T.Truck Route Violation]              -0.0699      0.049     -1.414      0.157      -0.167       0.027\n",
       "C(descriptor)[T.Unauthorized Bus Layover]           -0.0734      0.058     -1.257      0.209      -0.188       0.041\n",
       "C(descriptor)[T.Underage - Licensed Est]            -0.0203      0.536     -0.038      0.970      -1.071       1.030\n",
       "C(descriptor)[T.Unlicensed]                         -0.0327      0.042     -0.781      0.435      -0.115       0.049\n",
       "C(descriptor)[T.Use Indoor]                         -0.0247      0.128     -0.192      0.848      -0.276       0.227\n",
       "C(descriptor)[T.Use Outside]                         0.0420      0.092      0.456      0.649      -0.139       0.223\n",
       "C(descriptor)[T.Vehicle]                            -0.1052      0.134     -0.788      0.431      -0.367       0.157\n",
       "C(descriptor)[T.With License Plate]                  0.8556      0.095      9.004      0.000       0.669       1.042\n",
       "C(descriptor)[T.none]                               -0.0856      0.096     -0.888      0.374      -0.274       0.103\n",
       "C(location_type)[T.Club/Bar/Restaurant]             -0.0382      0.934     -0.041      0.967      -1.868       1.792\n",
       "C(location_type)[T.Commercial]                      -0.3564      1.162     -0.307      0.759      -2.633       1.921\n",
       "C(location_type)[T.Common Area]                     -0.0741      1.033     -0.072      0.943      -2.099       1.951\n",
       "C(location_type)[T.Hallway]                         -0.1821      0.969     -0.188      0.851      -2.081       1.717\n",
       "C(location_type)[T.Highway]                         -0.2390      0.954     -0.250      0.802      -2.110       1.631\n",
       "C(location_type)[T.House and Store]                 -0.4336      1.088     -0.399      0.690      -2.565       1.698\n",
       "C(location_type)[T.House of Worship]                -0.2011      0.989     -0.203      0.839      -2.139       1.737\n",
       "C(location_type)[T.Lobby]                           -0.1809      0.971     -0.186      0.852      -2.084       1.722\n",
       "C(location_type)[T.Other]                            0.1558      0.993      0.157      0.875      -1.790       2.101\n",
       "C(location_type)[T.Park/Playground]                 -0.0522      0.935     -0.056      0.955      -1.885       1.781\n",
       "C(location_type)[T.Parking Lot]                     -0.0031      1.109     -0.003      0.998      -2.177       2.170\n",
       "C(location_type)[T.Residential Building]            -0.1904      1.093     -0.174      0.862      -2.333       1.952\n",
       "C(location_type)[T.Residential Building/House]      -0.0218      0.933     -0.023      0.981      -1.851       1.808\n",
       "C(location_type)[T.Roadway Tunnel]                  -0.2575      0.948     -0.272      0.786      -2.115       1.600\n",
       "C(location_type)[T.Stairwell]                       -0.1202      0.972     -0.124      0.902      -2.026       1.785\n",
       "C(location_type)[T.Store/Commercial]                -0.0615      0.934     -0.066      0.947      -1.891       1.768\n",
       "C(location_type)[T.Street/Sidewalk]                 -0.0971      0.933     -0.104      0.917      -1.926       1.732\n",
       "C(location_type)[T.Subway]                          -0.0715      0.948     -0.075      0.940      -1.929       1.786\n",
       "C(location_type)[T.Subway Station]                  -0.1116      0.940     -0.119      0.906      -1.954       1.731\n",
       "C(location_type)[T.Vacant Lot]                      -0.0612      1.154     -0.053      0.958      -2.323       2.201\n",
       "C(location_type)[T.unknown]                         -0.0863      0.933     -0.092      0.926      -1.915       1.743\n",
       "C(borough)[T.BROOKLYN]                              -0.2209      0.014    -15.827      0.000      -0.248      -0.194\n",
       "C(borough)[T.MANHATTAN]                             -0.2778      0.014    -20.297      0.000      -0.305      -0.251\n",
       "C(borough)[T.QUEENS]                                -0.0021      0.017     -0.121      0.904      -0.036       0.032\n",
       "C(borough)[T.STATEN ISLAND]                         -0.3050      0.017    -17.600      0.000      -0.339      -0.271\n",
       "C(borough)[T.Unspecified]                           42.2268     20.763      2.034      0.042       1.533      82.921\n",
       "C(open_data_channel_type)[T.ONLINE]                  0.0120      0.009      1.378      0.168      -0.005       0.029\n",
       "C(open_data_channel_type)[T.OTHER]                  -1.3745      0.173     -7.930      0.000      -1.714      -1.035\n",
       "C(open_data_channel_type)[T.PHONE]                   0.0129      0.010      1.321      0.186      -0.006       0.032\n",
       "C(open_data_channel_type)[T.UNKNOWN]                -0.1758      0.034     -5.145      0.000      -0.243      -0.109\n",
       "C(cluster_predicted)[T.Noise Brooklyn]               0.0361      0.036      0.996      0.319      -0.035       0.107\n",
       "C(cluster_predicted)[T.Noise Queens]                 0.0066      0.038      0.170      0.865      -0.069       0.082\n",
       "C(cluster_predicted)[T.Parking Manhattan]            0.0262      0.038      0.698      0.485      -0.047       0.100\n",
       "C(cluster_predicted)[T.Parking Queens]               0.0439      0.038      1.154      0.249      -0.031       0.119\n",
       "====================================================================================================================\n",
       "\"\"\""
      ]
     },
     "execution_count": 130,
     "metadata": {},
     "output_type": "execute_result"
    }
   ],
   "source": [
    "glm_gamma_id.summary()"
   ]
  },
  {
   "cell_type": "code",
   "execution_count": 432,
   "metadata": {},
   "outputs": [
    {
     "data": {
      "text/plain": [
       "1509199.586462353"
      ]
     },
     "execution_count": 432,
     "metadata": {},
     "output_type": "execute_result"
    }
   ],
   "source": [
    "glm_gamma_id.aic"
   ]
  },
  {
   "cell_type": "code",
   "execution_count": 131,
   "metadata": {},
   "outputs": [],
   "source": [
    "gamma_id_tr_preds = glm_gamma_id.predict(r_train)\n",
    "gamma_id_te_preds = glm_gamma_id.predict(r_test)"
   ]
  },
  {
   "cell_type": "code",
   "execution_count": 132,
   "metadata": {},
   "outputs": [
    {
     "name": "stdout",
     "output_type": "stream",
     "text": [
      "Train: 3.29427055662353\n",
      "Test: 3.5348595813024453\n",
      "Difference: 0.2405890246789153\n"
     ]
    }
   ],
   "source": [
    "print(f'Train:', rmse(y_train, gamma_id_tr_preds))\n",
    "print(f'Test:', rmse(y_test, gamma_id_te_preds))\n",
    "#print(f'Cross Val:', cross_val_score(SMWrapper(gamma_id), r_sr[new_features], r_sr['waittime'], scoring=make_scorer(rmse), cv=5).mean())\n",
    "print(f'Difference: {rmse(y_test, gamma_id_te_preds) - rmse(y_train, gamma_id_tr_preds)}')"
   ]
  },
  {
   "cell_type": "code",
   "execution_count": 36,
   "metadata": {},
   "outputs": [],
   "source": [
    "# adapted from: https://nelsonauner.com/data/2018/05/21/wrap-statsmodels-in-sklearn.html\n",
    "# and http://docs.h2o.ai/h2o/latest-stable/h2o-docs/data-science/glm.html\n",
    "\n",
    "from sklearn.base import BaseEstimator, RegressorMixin\n",
    "\n",
    "class SMFormulaWrapper(BaseEstimator, RegressorMixin):\n",
    "    \"\"\" A sklearn-style wrapper for formula-based statsmodels regressors \"\"\"\n",
    "    def __init__(self, model_class, formula, family):\n",
    "        self.model_class = model_class\n",
    "        self.formula = formula\n",
    "        self.family = family\n",
    "    def fit(self, X, y=None):\n",
    "        self.model_ = self.model_class(self.formula, data=X, family=self.family)\n",
    "        self.results_ = self.model_.fit()\n",
    "    def predict(self, X):\n",
    "        return self.results_.predict(X)"
   ]
  },
  {
   "cell_type": "code",
   "execution_count": 38,
   "metadata": {},
   "outputs": [
    {
     "name": "stderr",
     "output_type": "stream",
     "text": [
      "/opt/anaconda3/envs/dsi/lib/python3.7/site-packages/ipykernel_launcher.py:3: DeprecationWarning: Calling Family(..) with a link class as argument is deprecated.\n",
      "Use an instance of a link class instead.\n",
      "  This is separate from the ipykernel package so we can avoid doing imports until\n",
      "/opt/anaconda3/envs/dsi/lib/python3.7/site-packages/statsmodels/genmod/generalized_linear_model.py:278: DomainWarning: The identity link function does not respect the domain of the Gamma family.\n",
      "  DomainWarning)\n",
      "/opt/anaconda3/envs/dsi/lib/python3.7/site-packages/statsmodels/genmod/generalized_linear_model.py:278: DomainWarning: The identity link function does not respect the domain of the Gamma family.\n",
      "  DomainWarning)\n",
      "/opt/anaconda3/envs/dsi/lib/python3.7/site-packages/statsmodels/genmod/families/family.py:697: RuntimeWarning: divide by zero encountered in true_divide\n",
      "  endog_mu = self._clean(endog / mu)\n",
      "/opt/anaconda3/envs/dsi/lib/python3.7/site-packages/statsmodels/genmod/families/family.py:698: RuntimeWarning: divide by zero encountered in true_divide\n",
      "  resid_dev = -np.log(endog_mu) + (endog - mu) / mu\n",
      "/opt/anaconda3/envs/dsi/lib/python3.7/site-packages/statsmodels/genmod/families/family.py:698: RuntimeWarning: invalid value encountered in add\n",
      "  resid_dev = -np.log(endog_mu) + (endog - mu) / mu\n",
      "/opt/anaconda3/envs/dsi/lib/python3.7/site-packages/statsmodels/genmod/generalized_linear_model.py:774: RuntimeWarning: divide by zero encountered in true_divide\n",
      "  return np.sum(resid / self.family.variance(mu)) / self.df_resid\n",
      "/opt/anaconda3/envs/dsi/lib/python3.7/site-packages/statsmodels/genmod/families/family.py:134: RuntimeWarning: divide by zero encountered in true_divide\n",
      "  return 1. / (self.link.deriv(mu)**2 * self.variance(mu))\n",
      "/opt/anaconda3/envs/dsi/lib/python3.7/site-packages/sklearn/model_selection/_validation.py:536: FitFailedWarning: Estimator fit failed. The score on this train-test partition for these parameters will be set to nan. Details: \n",
      "ValueError: NaN, inf or invalid value detected in weights, estimation infeasible.\n",
      "\n",
      "  FitFailedWarning)\n",
      "/opt/anaconda3/envs/dsi/lib/python3.7/site-packages/statsmodels/genmod/generalized_linear_model.py:278: DomainWarning: The identity link function does not respect the domain of the Gamma family.\n",
      "  DomainWarning)\n"
     ]
    }
   ],
   "source": [
    "import statsmodels.formula.api as smf\n",
    "formula = \"y ~ C(complaint_type) + C(descriptor) + C(location_type) + C(borough) + C(open_data_channel_type) + C(cluster_predicted)\"\n",
    "family = sm.families.Gamma(link = sm.families.links.identity)\n",
    "\n",
    "cv_glm = cross_val_score(SMFormulaWrapper(smf.glm, formula, family), X=r_sr[new_features],y=r_sr['waittime'] , cv=3)"
   ]
  },
  {
   "cell_type": "code",
   "execution_count": 39,
   "metadata": {},
   "outputs": [
    {
     "data": {
      "text/plain": [
       "array([0.08053258,        nan, 0.08566308])"
      ]
     },
     "execution_count": 39,
     "metadata": {},
     "output_type": "execute_result"
    }
   ],
   "source": [
    "cv_glm"
   ]
  },
  {
   "cell_type": "code",
   "execution_count": 37,
   "metadata": {},
   "outputs": [
    {
     "name": "stderr",
     "output_type": "stream",
     "text": [
      "/opt/anaconda3/envs/dsi/lib/python3.7/site-packages/ipykernel_launcher.py:2: DeprecationWarning: Calling Family(..) with a link class as argument is deprecated.\n",
      "Use an instance of a link class instead.\n",
      "  \n",
      "/opt/anaconda3/envs/dsi/lib/python3.7/site-packages/statsmodels/genmod/generalized_linear_model.py:278: DomainWarning: The identity link function does not respect the domain of the Gamma family.\n",
      "  DomainWarning)\n",
      "/opt/anaconda3/envs/dsi/lib/python3.7/site-packages/statsmodels/genmod/generalized_linear_model.py:278: DomainWarning: The identity link function does not respect the domain of the Gamma family.\n",
      "  DomainWarning)\n",
      "/opt/anaconda3/envs/dsi/lib/python3.7/site-packages/statsmodels/genmod/families/family.py:697: RuntimeWarning: divide by zero encountered in true_divide\n",
      "  endog_mu = self._clean(endog / mu)\n",
      "/opt/anaconda3/envs/dsi/lib/python3.7/site-packages/statsmodels/genmod/families/family.py:698: RuntimeWarning: divide by zero encountered in true_divide\n",
      "  resid_dev = -np.log(endog_mu) + (endog - mu) / mu\n",
      "/opt/anaconda3/envs/dsi/lib/python3.7/site-packages/statsmodels/genmod/families/family.py:698: RuntimeWarning: invalid value encountered in add\n",
      "  resid_dev = -np.log(endog_mu) + (endog - mu) / mu\n",
      "/opt/anaconda3/envs/dsi/lib/python3.7/site-packages/statsmodels/genmod/generalized_linear_model.py:774: RuntimeWarning: divide by zero encountered in true_divide\n",
      "  return np.sum(resid / self.family.variance(mu)) / self.df_resid\n",
      "/opt/anaconda3/envs/dsi/lib/python3.7/site-packages/statsmodels/genmod/families/family.py:134: RuntimeWarning: divide by zero encountered in true_divide\n",
      "  return 1. / (self.link.deriv(mu)**2 * self.variance(mu))\n",
      "/opt/anaconda3/envs/dsi/lib/python3.7/site-packages/sklearn/model_selection/_validation.py:536: FitFailedWarning: Estimator fit failed. The score on this train-test partition for these parameters will be set to nan. Details: \n",
      "ValueError: NaN, inf or invalid value detected in weights, estimation infeasible.\n",
      "\n",
      "  FitFailedWarning)\n",
      "/opt/anaconda3/envs/dsi/lib/python3.7/site-packages/statsmodels/genmod/generalized_linear_model.py:278: DomainWarning: The identity link function does not respect the domain of the Gamma family.\n",
      "  DomainWarning)\n"
     ]
    },
    {
     "data": {
      "text/plain": [
       "array([3.15565413,        nan, 3.68461766])"
      ]
     },
     "execution_count": 37,
     "metadata": {},
     "output_type": "execute_result"
    }
   ],
   "source": [
    "formula = \"y ~ C(complaint_type) + C(descriptor) + C(location_type) + C(borough) + C(open_data_channel_type) + C(cluster_predicted)\"\n",
    "family = sm.families.Gamma(link = sm.families.links.identity)\n",
    "\n",
    "cv_glm2 = cross_val_score(SMFormulaWrapper(smf.glm, formula, family), X=r_sr[new_features], y=r_sr['waittime'],\n",
    "                          scoring=make_scorer(rmse), cv=3)\n",
    "\n",
    "cv_glm2"
   ]
  },
  {
   "cell_type": "code",
   "execution_count": 439,
   "metadata": {},
   "outputs": [
    {
     "name": "stderr",
     "output_type": "stream",
     "text": [
      "/opt/anaconda3/envs/dsi/lib/python3.7/site-packages/ipykernel_launcher.py:4: DeprecationWarning: Calling Family(..) with a link class as argument is deprecated.\n",
      "Use an instance of a link class instead.\n",
      "  after removing the cwd from sys.path.\n",
      "/opt/anaconda3/envs/dsi/lib/python3.7/site-packages/statsmodels/genmod/generalized_linear_model.py:278: DomainWarning: The identity link function does not respect the domain of the Gamma family.\n",
      "  DomainWarning)\n"
     ]
    }
   ],
   "source": [
    "gamma_id = smf.glm(\n",
    "    formula = \"waittime ~ C(complaint_type) + C(descriptor) + C(location_type) + C(borough) + C(open_data_channel_type) + C(cluster_predicted)\",\n",
    "    data = r_train,\n",
    "    family = sm.families.Gamma(link = sm.families.links.identity)"
   ]
  },
  {
   "cell_type": "code",
   "execution_count": 440,
   "metadata": {},
   "outputs": [
    {
     "name": "stdout",
     "output_type": "stream",
     "text": [
      "Train: 3.29427055662353\n",
      "Test: 3.5348595813024453\n"
     ]
    },
    {
     "name": "stderr",
     "output_type": "stream",
     "text": [
      "/opt/anaconda3/envs/dsi/lib/python3.7/site-packages/sklearn/model_selection/_validation.py:536: FitFailedWarning: Estimator fit failed. The score on this train-test partition for these parameters will be set to nan. Details: \n",
      "TypeError: 'GLM' object is not callable\n",
      "\n",
      "  FitFailedWarning)\n"
     ]
    },
    {
     "name": "stdout",
     "output_type": "stream",
     "text": [
      "Cross Val: nan\n",
      "Difference: 0.2405890246789153\n"
     ]
    }
   ],
   "source": [
    "print(f'Train:', rmse(y_train, gamma_id_tr_preds))\n",
    "print(f'Test:', rmse(y_test, gamma_id_te_preds))\n",
    "print(f'Cross Val:', cross_val_score(SMWrapper(gamma_id), r_sr[new_features], r_sr['waittime'], scoring=make_scorer(rmse), cv=5).mean())\n",
    "print(f'Difference: {rmse(y_test, gamma_id_te_preds) - rmse(y_train, gamma_id_tr_preds)}')"
   ]
  },
  {
   "cell_type": "code",
   "execution_count": null,
   "metadata": {},
   "outputs": [],
   "source": []
  },
  {
   "cell_type": "code",
   "execution_count": 122,
   "metadata": {},
   "outputs": [
    {
     "name": "stderr",
     "output_type": "stream",
     "text": [
      "/opt/anaconda3/envs/dsi/lib/python3.7/site-packages/ipykernel_launcher.py:4: DeprecationWarning: Calling Family(..) with a link class as argument is deprecated.\n",
      "Use an instance of a link class instead.\n",
      "  after removing the cwd from sys.path.\n"
     ]
    }
   ],
   "source": [
    "glm_gamma_log = smf.glm(\n",
    "    formula = \"waittime ~ C(complaint_type) + C(descriptor) + C(location_type) + C(borough) + C(open_data_channel_type) + C(cluster_predicted)\",\n",
    "    data = r_train,\n",
    "    family = sm.families.Gamma(link = sm.families.links.log)\n",
    ").fit()"
   ]
  },
  {
   "cell_type": "code",
   "execution_count": 123,
   "metadata": {},
   "outputs": [
    {
     "data": {
      "text/plain": [
       "1552203.770113084"
      ]
     },
     "execution_count": 123,
     "metadata": {},
     "output_type": "execute_result"
    }
   ],
   "source": [
    "glm_gamma_log.aic"
   ]
  },
  {
   "cell_type": "code",
   "execution_count": 124,
   "metadata": {},
   "outputs": [
    {
     "data": {
      "text/html": [
       "<table class=\"simpletable\">\n",
       "<caption>Generalized Linear Model Regression Results</caption>\n",
       "<tr>\n",
       "  <th>Dep. Variable:</th>       <td>waittime</td>     <th>  No. Observations:  </th>   <td>404988</td>   \n",
       "</tr>\n",
       "<tr>\n",
       "  <th>Model:</th>                  <td>GLM</td>       <th>  Df Residuals:      </th>   <td>404891</td>   \n",
       "</tr>\n",
       "<tr>\n",
       "  <th>Model Family:</th>          <td>Gamma</td>      <th>  Df Model:          </th>   <td>    96</td>   \n",
       "</tr>\n",
       "<tr>\n",
       "  <th>Link Function:</th>          <td>log</td>       <th>  Scale:             </th>  <td>  49.656</td>  \n",
       "</tr>\n",
       "<tr>\n",
       "  <th>Method:</th>                <td>IRLS</td>       <th>  Log-Likelihood:    </th> <td>-7.7600e+05</td>\n",
       "</tr>\n",
       "<tr>\n",
       "  <th>Date:</th>            <td>Tue, 02 Jun 2020</td> <th>  Deviance:          </th> <td>8.7874e+05</td> \n",
       "</tr>\n",
       "<tr>\n",
       "  <th>Time:</th>                <td>13:51:19</td>     <th>  Pearson chi2:      </th>  <td>2.00e+07</td>  \n",
       "</tr>\n",
       "<tr>\n",
       "  <th>No. Iterations:</th>         <td>100</td>       <th>                     </th>      <td> </td>     \n",
       "</tr>\n",
       "<tr>\n",
       "  <th>Covariance Type:</th>     <td>nonrobust</td>    <th>                     </th>      <td> </td>     \n",
       "</tr>\n",
       "</table>\n",
       "<table class=\"simpletable\">\n",
       "<tr>\n",
       "                          <td></td>                            <th>coef</th>     <th>std err</th>      <th>z</th>      <th>P>|z|</th>  <th>[0.025</th>    <th>0.975]</th>  \n",
       "</tr>\n",
       "<tr>\n",
       "  <th>Intercept</th>                                        <td> 4.101e+11</td> <td> 3.72e+11</td> <td>    1.102</td> <td> 0.271</td> <td> -3.2e+11</td> <td> 1.14e+12</td>\n",
       "</tr>\n",
       "<tr>\n",
       "  <th>C(complaint_type)[T.Animal Abuse]</th>                <td>-1.756e+10</td> <td> 7.79e+11</td> <td>   -0.023</td> <td> 0.982</td> <td>-1.54e+12</td> <td> 1.51e+12</td>\n",
       "</tr>\n",
       "<tr>\n",
       "  <th>C(complaint_type)[T.Animal-Abuse]</th>                <td>-1.756e+10</td> <td> 7.79e+11</td> <td>   -0.023</td> <td> 0.982</td> <td>-1.54e+12</td> <td> 1.51e+12</td>\n",
       "</tr>\n",
       "<tr>\n",
       "  <th>C(complaint_type)[T.Bike/Roller/Skate Chronic]</th>   <td>-1.295e+09</td> <td> 7.08e+11</td> <td>   -0.002</td> <td> 0.999</td> <td>-1.39e+12</td> <td> 1.39e+12</td>\n",
       "</tr>\n",
       "<tr>\n",
       "  <th>C(complaint_type)[T.Blocked Driveway]</th>            <td>-1.555e+09</td> <td>    8e+10</td> <td>   -0.019</td> <td> 0.984</td> <td>-1.58e+11</td> <td> 1.55e+11</td>\n",
       "</tr>\n",
       "<tr>\n",
       "  <th>C(complaint_type)[T.Derelict Vehicle]</th>            <td>   -1.5412</td> <td>    0.219</td> <td>   -7.025</td> <td> 0.000</td> <td>   -1.971</td> <td>   -1.111</td>\n",
       "</tr>\n",
       "<tr>\n",
       "  <th>C(complaint_type)[T.Disorderly Youth]</th>            <td>-2.716e+11</td> <td> 2.44e+11</td> <td>   -1.111</td> <td> 0.267</td> <td>-7.51e+11</td> <td> 2.08e+11</td>\n",
       "</tr>\n",
       "<tr>\n",
       "  <th>C(complaint_type)[T.Drinking]</th>                    <td>-4.101e+11</td> <td> 3.72e+11</td> <td>   -1.102</td> <td> 0.271</td> <td>-1.14e+12</td> <td>  3.2e+11</td>\n",
       "</tr>\n",
       "<tr>\n",
       "  <th>C(complaint_type)[T.Drug Activity]</th>               <td>-3.955e+10</td> <td> 4.34e+11</td> <td>   -0.091</td> <td> 0.927</td> <td>-8.89e+11</td> <td>  8.1e+11</td>\n",
       "</tr>\n",
       "<tr>\n",
       "  <th>C(complaint_type)[T.Graffiti]</th>                    <td>-2.728e+11</td> <td> 2.44e+11</td> <td>   -1.118</td> <td> 0.264</td> <td>-7.51e+11</td> <td> 2.05e+11</td>\n",
       "</tr>\n",
       "<tr>\n",
       "  <th>C(complaint_type)[T.Homeless Encampment]</th>         <td>-1.295e+09</td> <td> 7.08e+11</td> <td>   -0.002</td> <td> 0.999</td> <td>-1.39e+12</td> <td> 1.39e+12</td>\n",
       "</tr>\n",
       "<tr>\n",
       "  <th>C(complaint_type)[T.Homeless Street Condition]</th>   <td>-1.295e+09</td> <td> 7.08e+11</td> <td>   -0.002</td> <td> 0.999</td> <td>-1.39e+12</td> <td> 1.39e+12</td>\n",
       "</tr>\n",
       "<tr>\n",
       "  <th>C(complaint_type)[T.Illegal Fireworks]</th>           <td>-1.295e+09</td> <td> 7.08e+11</td> <td>   -0.002</td> <td> 0.999</td> <td>-1.39e+12</td> <td> 1.39e+12</td>\n",
       "</tr>\n",
       "<tr>\n",
       "  <th>C(complaint_type)[T.Illegal Parking]</th>             <td> 9.007e+10</td> <td> 2.05e+11</td> <td>    0.439</td> <td> 0.660</td> <td>-3.12e+11</td> <td> 4.92e+11</td>\n",
       "</tr>\n",
       "<tr>\n",
       "  <th>C(complaint_type)[T.Noise - Commercial]</th>          <td>-9.657e+10</td> <td> 3.09e+11</td> <td>   -0.312</td> <td> 0.755</td> <td>-7.03e+11</td> <td> 5.09e+11</td>\n",
       "</tr>\n",
       "<tr>\n",
       "  <th>C(complaint_type)[T.Noise - House of Worship]</th>    <td>-9.657e+10</td> <td> 3.09e+11</td> <td>   -0.312</td> <td> 0.755</td> <td>-7.03e+11</td> <td> 5.09e+11</td>\n",
       "</tr>\n",
       "<tr>\n",
       "  <th>C(complaint_type)[T.Noise - Park]</th>                <td>-9.657e+10</td> <td> 3.09e+11</td> <td>   -0.312</td> <td> 0.755</td> <td>-7.03e+11</td> <td> 5.09e+11</td>\n",
       "</tr>\n",
       "<tr>\n",
       "  <th>C(complaint_type)[T.Noise - Residential]</th>         <td>-9.657e+10</td> <td> 3.09e+11</td> <td>   -0.312</td> <td> 0.755</td> <td>-7.03e+11</td> <td> 5.09e+11</td>\n",
       "</tr>\n",
       "<tr>\n",
       "  <th>C(complaint_type)[T.Noise - Street/Sidewalk]</th>     <td>-9.657e+10</td> <td> 3.09e+11</td> <td>   -0.312</td> <td> 0.755</td> <td>-7.03e+11</td> <td> 5.09e+11</td>\n",
       "</tr>\n",
       "<tr>\n",
       "  <th>C(complaint_type)[T.Noise - Vehicle]</th>             <td>-9.657e+10</td> <td> 3.09e+11</td> <td>   -0.312</td> <td> 0.755</td> <td>-7.03e+11</td> <td> 5.09e+11</td>\n",
       "</tr>\n",
       "<tr>\n",
       "  <th>C(complaint_type)[T.Non-Emergency Police Matter]</th> <td>-1.756e+10</td> <td> 7.79e+11</td> <td>   -0.023</td> <td> 0.982</td> <td>-1.54e+12</td> <td> 1.51e+12</td>\n",
       "</tr>\n",
       "<tr>\n",
       "  <th>C(complaint_type)[T.Panhandling]</th>                 <td>-1.295e+09</td> <td> 7.08e+11</td> <td>   -0.002</td> <td> 0.999</td> <td>-1.39e+12</td> <td> 1.39e+12</td>\n",
       "</tr>\n",
       "<tr>\n",
       "  <th>C(complaint_type)[T.Posting Advertisement]</th>       <td>-2.708e+11</td> <td> 2.65e+11</td> <td>   -1.020</td> <td> 0.308</td> <td>-7.91e+11</td> <td> 2.49e+11</td>\n",
       "</tr>\n",
       "<tr>\n",
       "  <th>C(complaint_type)[T.Squeegee]</th>                    <td>-1.295e+09</td> <td> 7.08e+11</td> <td>   -0.002</td> <td> 0.999</td> <td>-1.39e+12</td> <td> 1.39e+12</td>\n",
       "</tr>\n",
       "<tr>\n",
       "  <th>C(complaint_type)[T.Traffic]</th>                     <td>-3.023e+11</td> <td> 2.36e+12</td> <td>   -0.128</td> <td> 0.898</td> <td>-4.93e+12</td> <td> 4.32e+12</td>\n",
       "</tr>\n",
       "<tr>\n",
       "  <th>C(complaint_type)[T.Urinating in Public]</th>         <td>-1.295e+09</td> <td> 7.08e+11</td> <td>   -0.002</td> <td> 0.999</td> <td>-1.39e+12</td> <td> 1.39e+12</td>\n",
       "</tr>\n",
       "<tr>\n",
       "  <th>C(complaint_type)[T.Vending]</th>                     <td> 5.675e+10</td> <td> 6.26e+11</td> <td>    0.091</td> <td> 0.928</td> <td>-1.17e+12</td> <td> 1.28e+12</td>\n",
       "</tr>\n",
       "<tr>\n",
       "  <th>C(descriptor)[T.Banging/Pounding]</th>                <td>-3.135e+11</td> <td> 4.37e+11</td> <td>   -0.718</td> <td> 0.473</td> <td>-1.17e+12</td> <td> 5.42e+11</td>\n",
       "</tr>\n",
       "<tr>\n",
       "  <th>C(descriptor)[T.Blocked Bike Lane]</th>               <td>-5.001e+11</td> <td> 3.89e+11</td> <td>   -1.286</td> <td> 0.198</td> <td>-1.26e+12</td> <td> 2.62e+11</td>\n",
       "</tr>\n",
       "<tr>\n",
       "  <th>C(descriptor)[T.Blocked Hydrant]</th>                 <td>-5.001e+11</td> <td> 3.89e+11</td> <td>   -1.286</td> <td> 0.198</td> <td>-1.26e+12</td> <td> 2.62e+11</td>\n",
       "</tr>\n",
       "<tr>\n",
       "  <th>C(descriptor)[T.Blocked Sidewalk]</th>                <td>-5.001e+11</td> <td> 3.89e+11</td> <td>   -1.286</td> <td> 0.198</td> <td>-1.26e+12</td> <td> 2.62e+11</td>\n",
       "</tr>\n",
       "<tr>\n",
       "  <th>C(descriptor)[T.Building]</th>                        <td>-1.393e+11</td> <td> 2.19e+11</td> <td>   -0.638</td> <td> 0.524</td> <td>-5.68e+11</td> <td> 2.89e+11</td>\n",
       "</tr>\n",
       "<tr>\n",
       "  <th>C(descriptor)[T.Car/Truck Horn]</th>                  <td>-3.135e+11</td> <td> 4.37e+11</td> <td>   -0.718</td> <td> 0.473</td> <td>-1.17e+12</td> <td> 5.42e+11</td>\n",
       "</tr>\n",
       "<tr>\n",
       "  <th>C(descriptor)[T.Car/Truck Music]</th>                 <td>-3.135e+11</td> <td> 4.37e+11</td> <td>   -0.718</td> <td> 0.473</td> <td>-1.17e+12</td> <td> 5.42e+11</td>\n",
       "</tr>\n",
       "<tr>\n",
       "  <th>C(descriptor)[T.Chained]</th>                         <td>-3.925e+11</td> <td> 7.48e+11</td> <td>   -0.524</td> <td> 0.600</td> <td>-1.86e+12</td> <td> 1.07e+12</td>\n",
       "</tr>\n",
       "<tr>\n",
       "  <th>C(descriptor)[T.Chronic Speeding]</th>                <td>-1.078e+11</td> <td> 2.42e+12</td> <td>   -0.045</td> <td> 0.964</td> <td>-4.84e+12</td> <td> 4.63e+12</td>\n",
       "</tr>\n",
       "<tr>\n",
       "  <th>C(descriptor)[T.Chronic Stoplight Violation]</th>     <td>-1.078e+11</td> <td> 2.42e+12</td> <td>   -0.045</td> <td> 0.964</td> <td>-4.84e+12</td> <td> 4.63e+12</td>\n",
       "</tr>\n",
       "<tr>\n",
       "  <th>C(descriptor)[T.Commercial Overnight Parking]</th>    <td>-5.001e+11</td> <td> 3.89e+11</td> <td>   -1.286</td> <td> 0.198</td> <td>-1.26e+12</td> <td> 2.62e+11</td>\n",
       "</tr>\n",
       "<tr>\n",
       "  <th>C(descriptor)[T.Congestion/Gridlock]</th>             <td>-1.078e+11</td> <td> 2.42e+12</td> <td>   -0.045</td> <td> 0.964</td> <td>-4.84e+12</td> <td> 4.63e+12</td>\n",
       "</tr>\n",
       "<tr>\n",
       "  <th>C(descriptor)[T.Detached Trailer]</th>                <td>-5.001e+11</td> <td> 3.89e+11</td> <td>   -1.286</td> <td> 0.198</td> <td>-1.26e+12</td> <td> 2.62e+11</td>\n",
       "</tr>\n",
       "<tr>\n",
       "  <th>C(descriptor)[T.Double Parked Blocking Traffic]</th>  <td>-5.001e+11</td> <td> 3.89e+11</td> <td>   -1.286</td> <td> 0.198</td> <td>-1.26e+12</td> <td> 2.62e+11</td>\n",
       "</tr>\n",
       "<tr>\n",
       "  <th>C(descriptor)[T.Double Parked Blocking Vehicle]</th>  <td>-5.001e+11</td> <td> 3.89e+11</td> <td>   -1.286</td> <td> 0.198</td> <td>-1.26e+12</td> <td> 2.62e+11</td>\n",
       "</tr>\n",
       "<tr>\n",
       "  <th>C(descriptor)[T.Drag Racing]</th>                     <td>-1.078e+11</td> <td> 2.42e+12</td> <td>   -0.045</td> <td> 0.964</td> <td>-4.84e+12</td> <td> 4.63e+12</td>\n",
       "</tr>\n",
       "<tr>\n",
       "  <th>C(descriptor)[T.Engine Idling]</th>                   <td>-3.135e+11</td> <td> 4.37e+11</td> <td>   -0.718</td> <td> 0.473</td> <td>-1.17e+12</td> <td> 5.42e+11</td>\n",
       "</tr>\n",
       "<tr>\n",
       "  <th>C(descriptor)[T.In Car]</th>                          <td>-3.925e+11</td> <td> 7.48e+11</td> <td>   -0.524</td> <td> 0.600</td> <td>-1.86e+12</td> <td> 1.07e+12</td>\n",
       "</tr>\n",
       "<tr>\n",
       "  <th>C(descriptor)[T.In Prohibited Area]</th>              <td>-4.668e+11</td> <td> 6.87e+11</td> <td>   -0.680</td> <td> 0.497</td> <td>-1.81e+12</td> <td> 8.79e+11</td>\n",
       "</tr>\n",
       "<tr>\n",
       "  <th>C(descriptor)[T.In Public]</th>                       <td>   -0.9040</td> <td>    0.826</td> <td>   -1.094</td> <td> 0.274</td> <td>   -2.524</td> <td>    0.715</td>\n",
       "</tr>\n",
       "<tr>\n",
       "  <th>C(descriptor)[T.Loud Music/Party]</th>                <td>-3.135e+11</td> <td> 4.37e+11</td> <td>   -0.718</td> <td> 0.473</td> <td>-1.17e+12</td> <td> 5.42e+11</td>\n",
       "</tr>\n",
       "<tr>\n",
       "  <th>C(descriptor)[T.Loud Talking]</th>                    <td>-3.135e+11</td> <td> 4.37e+11</td> <td>   -0.718</td> <td> 0.473</td> <td>-1.17e+12</td> <td> 5.42e+11</td>\n",
       "</tr>\n",
       "<tr>\n",
       "  <th>C(descriptor)[T.Loud Television]</th>                 <td>-3.135e+11</td> <td> 4.37e+11</td> <td>   -0.718</td> <td> 0.473</td> <td>-1.17e+12</td> <td> 5.42e+11</td>\n",
       "</tr>\n",
       "<tr>\n",
       "  <th>C(descriptor)[T.Neglected]</th>                       <td>-3.925e+11</td> <td> 7.48e+11</td> <td>   -0.524</td> <td> 0.600</td> <td>-1.86e+12</td> <td> 1.07e+12</td>\n",
       "</tr>\n",
       "<tr>\n",
       "  <th>C(descriptor)[T.No Access]</th>                       <td>-4.085e+11</td> <td> 3.87e+11</td> <td>   -1.056</td> <td> 0.291</td> <td>-1.17e+12</td> <td>  3.5e+11</td>\n",
       "</tr>\n",
       "<tr>\n",
       "  <th>C(descriptor)[T.No Shelter]</th>                      <td>-3.925e+11</td> <td> 7.48e+11</td> <td>   -0.524</td> <td> 0.600</td> <td>-1.86e+12</td> <td> 1.07e+12</td>\n",
       "</tr>\n",
       "<tr>\n",
       "  <th>C(descriptor)[T.Nuisance/Truant]</th>                 <td>-1.385e+11</td> <td> 1.59e+11</td> <td>   -0.874</td> <td> 0.382</td> <td>-4.49e+11</td> <td> 1.72e+11</td>\n",
       "</tr>\n",
       "<tr>\n",
       "  <th>C(descriptor)[T.Other (complaint details)]</th>       <td>-3.925e+11</td> <td> 7.48e+11</td> <td>   -0.524</td> <td> 0.600</td> <td>-1.86e+12</td> <td> 1.07e+12</td>\n",
       "</tr>\n",
       "<tr>\n",
       "  <th>C(descriptor)[T.Overnight Commercial Storage]</th>    <td>-5.001e+11</td> <td> 3.89e+11</td> <td>   -1.286</td> <td> 0.198</td> <td>-1.26e+12</td> <td> 2.62e+11</td>\n",
       "</tr>\n",
       "<tr>\n",
       "  <th>C(descriptor)[T.Parking Permit Improper Use]</th>     <td>-5.001e+11</td> <td> 3.89e+11</td> <td>   -1.286</td> <td> 0.198</td> <td>-1.26e+12</td> <td> 2.62e+11</td>\n",
       "</tr>\n",
       "<tr>\n",
       "  <th>C(descriptor)[T.Partial Access]</th>                  <td>-4.085e+11</td> <td> 3.87e+11</td> <td>   -1.056</td> <td> 0.291</td> <td>-1.17e+12</td> <td>  3.5e+11</td>\n",
       "</tr>\n",
       "<tr>\n",
       "  <th>C(descriptor)[T.Playing in Unsuitable Place]</th>     <td>-1.385e+11</td> <td> 1.59e+11</td> <td>   -0.874</td> <td> 0.382</td> <td>-4.49e+11</td> <td> 1.72e+11</td>\n",
       "</tr>\n",
       "<tr>\n",
       "  <th>C(descriptor)[T.Police Report Not Requested]</th>     <td>-1.373e+11</td> <td> 1.33e+11</td> <td>   -1.035</td> <td> 0.301</td> <td>-3.97e+11</td> <td> 1.23e+11</td>\n",
       "</tr>\n",
       "<tr>\n",
       "  <th>C(descriptor)[T.Police Report Requested]</th>         <td>-1.373e+11</td> <td> 1.33e+11</td> <td>   -1.035</td> <td> 0.301</td> <td>-3.97e+11</td> <td> 1.23e+11</td>\n",
       "</tr>\n",
       "<tr>\n",
       "  <th>C(descriptor)[T.Posted Parking Sign Violation]</th>   <td>-5.001e+11</td> <td> 3.89e+11</td> <td>   -1.286</td> <td> 0.198</td> <td>-1.26e+12</td> <td> 2.62e+11</td>\n",
       "</tr>\n",
       "<tr>\n",
       "  <th>C(descriptor)[T.Street Con Game]</th>                 <td>-3.925e+11</td> <td> 7.48e+11</td> <td>   -0.524</td> <td> 0.600</td> <td>-1.86e+12</td> <td> 1.07e+12</td>\n",
       "</tr>\n",
       "<tr>\n",
       "  <th>C(descriptor)[T.Ticket Scalping]</th>                 <td>-3.925e+11</td> <td> 7.48e+11</td> <td>   -0.524</td> <td> 0.600</td> <td>-1.86e+12</td> <td> 1.07e+12</td>\n",
       "</tr>\n",
       "<tr>\n",
       "  <th>C(descriptor)[T.Tortured]</th>                        <td>-3.925e+11</td> <td> 7.48e+11</td> <td>   -0.524</td> <td> 0.600</td> <td>-1.86e+12</td> <td> 1.07e+12</td>\n",
       "</tr>\n",
       "<tr>\n",
       "  <th>C(descriptor)[T.Trespassing]</th>                     <td>-3.925e+11</td> <td> 7.48e+11</td> <td>   -0.524</td> <td> 0.600</td> <td>-1.86e+12</td> <td> 1.07e+12</td>\n",
       "</tr>\n",
       "<tr>\n",
       "  <th>C(descriptor)[T.Truck Route Violation]</th>           <td>-1.078e+11</td> <td> 2.42e+12</td> <td>   -0.045</td> <td> 0.964</td> <td>-4.84e+12</td> <td> 4.63e+12</td>\n",
       "</tr>\n",
       "<tr>\n",
       "  <th>C(descriptor)[T.Unauthorized Bus Layover]</th>        <td>-5.001e+11</td> <td> 3.89e+11</td> <td>   -1.286</td> <td> 0.198</td> <td>-1.26e+12</td> <td> 2.62e+11</td>\n",
       "</tr>\n",
       "<tr>\n",
       "  <th>C(descriptor)[T.Underage - Licensed Est]</th>         <td>   -0.0941</td> <td>    0.943</td> <td>   -0.100</td> <td> 0.921</td> <td>   -1.942</td> <td>    1.754</td>\n",
       "</tr>\n",
       "<tr>\n",
       "  <th>C(descriptor)[T.Unlicensed]</th>                      <td>-4.668e+11</td> <td> 6.87e+11</td> <td>   -0.680</td> <td> 0.497</td> <td>-1.81e+12</td> <td> 8.79e+11</td>\n",
       "</tr>\n",
       "<tr>\n",
       "  <th>C(descriptor)[T.Use Indoor]</th>                      <td>-3.705e+11</td> <td>  5.7e+11</td> <td>   -0.650</td> <td> 0.516</td> <td>-1.49e+12</td> <td> 7.47e+11</td>\n",
       "</tr>\n",
       "<tr>\n",
       "  <th>C(descriptor)[T.Use Outside]</th>                     <td>-3.705e+11</td> <td>  5.7e+11</td> <td>   -0.650</td> <td> 0.516</td> <td>-1.49e+12</td> <td> 7.47e+11</td>\n",
       "</tr>\n",
       "<tr>\n",
       "  <th>C(descriptor)[T.Vehicle]</th>                         <td>-1.393e+11</td> <td> 2.19e+11</td> <td>   -0.638</td> <td> 0.524</td> <td>-5.68e+11</td> <td> 2.89e+11</td>\n",
       "</tr>\n",
       "<tr>\n",
       "  <th>C(descriptor)[T.With License Plate]</th>              <td>-4.101e+11</td> <td> 3.72e+11</td> <td>   -1.102</td> <td> 0.271</td> <td>-1.14e+12</td> <td>  3.2e+11</td>\n",
       "</tr>\n",
       "<tr>\n",
       "  <th>C(descriptor)[T.none]</th>                            <td>-4.088e+11</td> <td> 7.79e+11</td> <td>   -0.525</td> <td> 0.600</td> <td>-1.93e+12</td> <td> 1.12e+12</td>\n",
       "</tr>\n",
       "<tr>\n",
       "  <th>C(location_type)[T.Club/Bar/Restaurant]</th>          <td>   -0.0444</td> <td>    2.048</td> <td>   -0.022</td> <td> 0.983</td> <td>   -4.058</td> <td>    3.969</td>\n",
       "</tr>\n",
       "<tr>\n",
       "  <th>C(location_type)[T.Commercial]</th>                   <td>   -0.6852</td> <td>    2.696</td> <td>   -0.254</td> <td> 0.799</td> <td>   -5.969</td> <td>    4.599</td>\n",
       "</tr>\n",
       "<tr>\n",
       "  <th>C(location_type)[T.Common Area]</th>                  <td>   -0.0497</td> <td>    2.404</td> <td>   -0.021</td> <td> 0.984</td> <td>   -4.761</td> <td>    4.662</td>\n",
       "</tr>\n",
       "<tr>\n",
       "  <th>C(location_type)[T.Hallway]</th>                      <td>   -0.6012</td> <td>    2.232</td> <td>   -0.269</td> <td> 0.788</td> <td>   -4.976</td> <td>    3.773</td>\n",
       "</tr>\n",
       "<tr>\n",
       "  <th>C(location_type)[T.Highway]</th>                      <td>   -0.2940</td> <td>    2.173</td> <td>   -0.135</td> <td> 0.892</td> <td>   -4.552</td> <td>    3.964</td>\n",
       "</tr>\n",
       "<tr>\n",
       "  <th>C(location_type)[T.House and Store]</th>              <td>   -0.9522</td> <td>    2.298</td> <td>   -0.414</td> <td> 0.679</td> <td>   -5.456</td> <td>    3.551</td>\n",
       "</tr>\n",
       "<tr>\n",
       "  <th>C(location_type)[T.House of Worship]</th>             <td>   -0.8757</td> <td>    2.344</td> <td>   -0.374</td> <td> 0.709</td> <td>   -5.470</td> <td>    3.718</td>\n",
       "</tr>\n",
       "<tr>\n",
       "  <th>C(location_type)[T.Lobby]</th>                        <td>   -0.7411</td> <td>    2.307</td> <td>   -0.321</td> <td> 0.748</td> <td>   -5.263</td> <td>    3.781</td>\n",
       "</tr>\n",
       "<tr>\n",
       "  <th>C(location_type)[T.Other]</th>                        <td>    0.1835</td> <td>    2.158</td> <td>    0.085</td> <td> 0.932</td> <td>   -4.046</td> <td>    4.413</td>\n",
       "</tr>\n",
       "<tr>\n",
       "  <th>C(location_type)[T.Park/Playground]</th>              <td>   -0.0700</td> <td>    2.055</td> <td>   -0.034</td> <td> 0.973</td> <td>   -4.098</td> <td>    3.958</td>\n",
       "</tr>\n",
       "<tr>\n",
       "  <th>C(location_type)[T.Parking Lot]</th>                  <td>    0.1320</td> <td>    2.528</td> <td>    0.052</td> <td> 0.958</td> <td>   -4.824</td> <td>    5.088</td>\n",
       "</tr>\n",
       "<tr>\n",
       "  <th>C(location_type)[T.Residential Building]</th>         <td>   -0.4182</td> <td>    2.252</td> <td>   -0.186</td> <td> 0.853</td> <td>   -4.832</td> <td>    3.995</td>\n",
       "</tr>\n",
       "<tr>\n",
       "  <th>C(location_type)[T.Residential Building/House]</th>   <td>    0.0734</td> <td>    2.043</td> <td>    0.036</td> <td> 0.971</td> <td>   -3.931</td> <td>    4.077</td>\n",
       "</tr>\n",
       "<tr>\n",
       "  <th>C(location_type)[T.Roadway Tunnel]</th>               <td>   -0.3853</td> <td>    2.424</td> <td>   -0.159</td> <td> 0.874</td> <td>   -5.137</td> <td>    4.366</td>\n",
       "</tr>\n",
       "<tr>\n",
       "  <th>C(location_type)[T.Stairwell]</th>                    <td>   -0.2790</td> <td>    2.218</td> <td>   -0.126</td> <td> 0.900</td> <td>   -4.626</td> <td>    4.068</td>\n",
       "</tr>\n",
       "<tr>\n",
       "  <th>C(location_type)[T.Store/Commercial]</th>             <td>   -0.0481</td> <td>    2.045</td> <td>   -0.024</td> <td> 0.981</td> <td>   -4.056</td> <td>    3.960</td>\n",
       "</tr>\n",
       "<tr>\n",
       "  <th>C(location_type)[T.Street/Sidewalk]</th>              <td>   -0.2136</td> <td>    2.042</td> <td>   -0.105</td> <td> 0.917</td> <td>   -4.216</td> <td>    3.789</td>\n",
       "</tr>\n",
       "<tr>\n",
       "  <th>C(location_type)[T.Subway]</th>                       <td>   -0.0953</td> <td>    2.205</td> <td>   -0.043</td> <td> 0.966</td> <td>   -4.416</td> <td>    4.226</td>\n",
       "</tr>\n",
       "<tr>\n",
       "  <th>C(location_type)[T.Subway Station]</th>               <td>   -0.9534</td> <td>    2.542</td> <td>   -0.375</td> <td> 0.708</td> <td>   -5.936</td> <td>    4.029</td>\n",
       "</tr>\n",
       "<tr>\n",
       "  <th>C(location_type)[T.Vacant Lot]</th>                   <td>   -0.2533</td> <td>    2.219</td> <td>   -0.114</td> <td> 0.909</td> <td>   -4.603</td> <td>    4.096</td>\n",
       "</tr>\n",
       "<tr>\n",
       "  <th>C(location_type)[T.unknown]</th>                      <td>   -0.1487</td> <td>    2.042</td> <td>   -0.073</td> <td> 0.942</td> <td>   -4.151</td> <td>    3.854</td>\n",
       "</tr>\n",
       "<tr>\n",
       "  <th>C(borough)[T.BROOKLYN]</th>                           <td>   -0.5450</td> <td>    0.035</td> <td>  -15.562</td> <td> 0.000</td> <td>   -0.614</td> <td>   -0.476</td>\n",
       "</tr>\n",
       "<tr>\n",
       "  <th>C(borough)[T.MANHATTAN]</th>                          <td>   -0.8990</td> <td>    0.039</td> <td>  -23.065</td> <td> 0.000</td> <td>   -0.975</td> <td>   -0.823</td>\n",
       "</tr>\n",
       "<tr>\n",
       "  <th>C(borough)[T.QUEENS]</th>                             <td>   -0.0272</td> <td>    0.036</td> <td>   -0.749</td> <td> 0.454</td> <td>   -0.098</td> <td>    0.044</td>\n",
       "</tr>\n",
       "<tr>\n",
       "  <th>C(borough)[T.STATEN ISLAND]</th>                      <td>   -1.0607</td> <td>    0.065</td> <td>  -16.271</td> <td> 0.000</td> <td>   -1.188</td> <td>   -0.933</td>\n",
       "</tr>\n",
       "<tr>\n",
       "  <th>C(borough)[T.Unspecified]</th>                        <td>    4.4325</td> <td>    0.553</td> <td>    8.011</td> <td> 0.000</td> <td>    3.348</td> <td>    5.517</td>\n",
       "</tr>\n",
       "<tr>\n",
       "  <th>C(open_data_channel_type)[T.ONLINE]</th>              <td>    0.0770</td> <td>    0.033</td> <td>    2.350</td> <td> 0.019</td> <td>    0.013</td> <td>    0.141</td>\n",
       "</tr>\n",
       "<tr>\n",
       "  <th>C(open_data_channel_type)[T.OTHER]</th>               <td>   -4.0934</td> <td>    7.047</td> <td>   -0.581</td> <td> 0.561</td> <td>  -17.905</td> <td>    9.719</td>\n",
       "</tr>\n",
       "<tr>\n",
       "  <th>C(open_data_channel_type)[T.PHONE]</th>               <td>    0.0551</td> <td>    0.035</td> <td>    1.566</td> <td> 0.117</td> <td>   -0.014</td> <td>    0.124</td>\n",
       "</tr>\n",
       "<tr>\n",
       "  <th>C(open_data_channel_type)[T.UNKNOWN]</th>             <td>   -1.4238</td> <td>    1.287</td> <td>   -1.106</td> <td> 0.269</td> <td>   -3.947</td> <td>    1.100</td>\n",
       "</tr>\n",
       "<tr>\n",
       "  <th>C(cluster_predicted)[T.Noise Brooklyn]</th>           <td>    0.1835</td> <td>    0.071</td> <td>    2.576</td> <td> 0.010</td> <td>    0.044</td> <td>    0.323</td>\n",
       "</tr>\n",
       "<tr>\n",
       "  <th>C(cluster_predicted)[T.Noise Queens]</th>             <td>    0.0434</td> <td>    0.083</td> <td>    0.522</td> <td> 0.602</td> <td>   -0.120</td> <td>    0.206</td>\n",
       "</tr>\n",
       "<tr>\n",
       "  <th>C(cluster_predicted)[T.Parking Manhattan]</th>        <td>    0.1568</td> <td>    0.084</td> <td>    1.866</td> <td> 0.062</td> <td>   -0.008</td> <td>    0.321</td>\n",
       "</tr>\n",
       "<tr>\n",
       "  <th>C(cluster_predicted)[T.Parking Queens]</th>           <td>    0.1656</td> <td>    0.079</td> <td>    2.098</td> <td> 0.036</td> <td>    0.011</td> <td>    0.320</td>\n",
       "</tr>\n",
       "</table>"
      ],
      "text/plain": [
       "<class 'statsmodels.iolib.summary.Summary'>\n",
       "\"\"\"\n",
       "                 Generalized Linear Model Regression Results                  \n",
       "==============================================================================\n",
       "Dep. Variable:               waittime   No. Observations:               404988\n",
       "Model:                            GLM   Df Residuals:                   404891\n",
       "Model Family:                   Gamma   Df Model:                           96\n",
       "Link Function:                    log   Scale:                          49.656\n",
       "Method:                          IRLS   Log-Likelihood:            -7.7600e+05\n",
       "Date:                Tue, 02 Jun 2020   Deviance:                   8.7874e+05\n",
       "Time:                        13:51:19   Pearson chi2:                 2.00e+07\n",
       "No. Iterations:                   100                                         \n",
       "Covariance Type:            nonrobust                                         \n",
       "====================================================================================================================\n",
       "                                                       coef    std err          z      P>|z|      [0.025      0.975]\n",
       "--------------------------------------------------------------------------------------------------------------------\n",
       "Intercept                                         4.101e+11   3.72e+11      1.102      0.271    -3.2e+11    1.14e+12\n",
       "C(complaint_type)[T.Animal Abuse]                -1.756e+10   7.79e+11     -0.023      0.982   -1.54e+12    1.51e+12\n",
       "C(complaint_type)[T.Animal-Abuse]                -1.756e+10   7.79e+11     -0.023      0.982   -1.54e+12    1.51e+12\n",
       "C(complaint_type)[T.Bike/Roller/Skate Chronic]   -1.295e+09   7.08e+11     -0.002      0.999   -1.39e+12    1.39e+12\n",
       "C(complaint_type)[T.Blocked Driveway]            -1.555e+09      8e+10     -0.019      0.984   -1.58e+11    1.55e+11\n",
       "C(complaint_type)[T.Derelict Vehicle]               -1.5412      0.219     -7.025      0.000      -1.971      -1.111\n",
       "C(complaint_type)[T.Disorderly Youth]            -2.716e+11   2.44e+11     -1.111      0.267   -7.51e+11    2.08e+11\n",
       "C(complaint_type)[T.Drinking]                    -4.101e+11   3.72e+11     -1.102      0.271   -1.14e+12     3.2e+11\n",
       "C(complaint_type)[T.Drug Activity]               -3.955e+10   4.34e+11     -0.091      0.927   -8.89e+11     8.1e+11\n",
       "C(complaint_type)[T.Graffiti]                    -2.728e+11   2.44e+11     -1.118      0.264   -7.51e+11    2.05e+11\n",
       "C(complaint_type)[T.Homeless Encampment]         -1.295e+09   7.08e+11     -0.002      0.999   -1.39e+12    1.39e+12\n",
       "C(complaint_type)[T.Homeless Street Condition]   -1.295e+09   7.08e+11     -0.002      0.999   -1.39e+12    1.39e+12\n",
       "C(complaint_type)[T.Illegal Fireworks]           -1.295e+09   7.08e+11     -0.002      0.999   -1.39e+12    1.39e+12\n",
       "C(complaint_type)[T.Illegal Parking]              9.007e+10   2.05e+11      0.439      0.660   -3.12e+11    4.92e+11\n",
       "C(complaint_type)[T.Noise - Commercial]          -9.657e+10   3.09e+11     -0.312      0.755   -7.03e+11    5.09e+11\n",
       "C(complaint_type)[T.Noise - House of Worship]    -9.657e+10   3.09e+11     -0.312      0.755   -7.03e+11    5.09e+11\n",
       "C(complaint_type)[T.Noise - Park]                -9.657e+10   3.09e+11     -0.312      0.755   -7.03e+11    5.09e+11\n",
       "C(complaint_type)[T.Noise - Residential]         -9.657e+10   3.09e+11     -0.312      0.755   -7.03e+11    5.09e+11\n",
       "C(complaint_type)[T.Noise - Street/Sidewalk]     -9.657e+10   3.09e+11     -0.312      0.755   -7.03e+11    5.09e+11\n",
       "C(complaint_type)[T.Noise - Vehicle]             -9.657e+10   3.09e+11     -0.312      0.755   -7.03e+11    5.09e+11\n",
       "C(complaint_type)[T.Non-Emergency Police Matter] -1.756e+10   7.79e+11     -0.023      0.982   -1.54e+12    1.51e+12\n",
       "C(complaint_type)[T.Panhandling]                 -1.295e+09   7.08e+11     -0.002      0.999   -1.39e+12    1.39e+12\n",
       "C(complaint_type)[T.Posting Advertisement]       -2.708e+11   2.65e+11     -1.020      0.308   -7.91e+11    2.49e+11\n",
       "C(complaint_type)[T.Squeegee]                    -1.295e+09   7.08e+11     -0.002      0.999   -1.39e+12    1.39e+12\n",
       "C(complaint_type)[T.Traffic]                     -3.023e+11   2.36e+12     -0.128      0.898   -4.93e+12    4.32e+12\n",
       "C(complaint_type)[T.Urinating in Public]         -1.295e+09   7.08e+11     -0.002      0.999   -1.39e+12    1.39e+12\n",
       "C(complaint_type)[T.Vending]                      5.675e+10   6.26e+11      0.091      0.928   -1.17e+12    1.28e+12\n",
       "C(descriptor)[T.Banging/Pounding]                -3.135e+11   4.37e+11     -0.718      0.473   -1.17e+12    5.42e+11\n",
       "C(descriptor)[T.Blocked Bike Lane]               -5.001e+11   3.89e+11     -1.286      0.198   -1.26e+12    2.62e+11\n",
       "C(descriptor)[T.Blocked Hydrant]                 -5.001e+11   3.89e+11     -1.286      0.198   -1.26e+12    2.62e+11\n",
       "C(descriptor)[T.Blocked Sidewalk]                -5.001e+11   3.89e+11     -1.286      0.198   -1.26e+12    2.62e+11\n",
       "C(descriptor)[T.Building]                        -1.393e+11   2.19e+11     -0.638      0.524   -5.68e+11    2.89e+11\n",
       "C(descriptor)[T.Car/Truck Horn]                  -3.135e+11   4.37e+11     -0.718      0.473   -1.17e+12    5.42e+11\n",
       "C(descriptor)[T.Car/Truck Music]                 -3.135e+11   4.37e+11     -0.718      0.473   -1.17e+12    5.42e+11\n",
       "C(descriptor)[T.Chained]                         -3.925e+11   7.48e+11     -0.524      0.600   -1.86e+12    1.07e+12\n",
       "C(descriptor)[T.Chronic Speeding]                -1.078e+11   2.42e+12     -0.045      0.964   -4.84e+12    4.63e+12\n",
       "C(descriptor)[T.Chronic Stoplight Violation]     -1.078e+11   2.42e+12     -0.045      0.964   -4.84e+12    4.63e+12\n",
       "C(descriptor)[T.Commercial Overnight Parking]    -5.001e+11   3.89e+11     -1.286      0.198   -1.26e+12    2.62e+11\n",
       "C(descriptor)[T.Congestion/Gridlock]             -1.078e+11   2.42e+12     -0.045      0.964   -4.84e+12    4.63e+12\n",
       "C(descriptor)[T.Detached Trailer]                -5.001e+11   3.89e+11     -1.286      0.198   -1.26e+12    2.62e+11\n",
       "C(descriptor)[T.Double Parked Blocking Traffic]  -5.001e+11   3.89e+11     -1.286      0.198   -1.26e+12    2.62e+11\n",
       "C(descriptor)[T.Double Parked Blocking Vehicle]  -5.001e+11   3.89e+11     -1.286      0.198   -1.26e+12    2.62e+11\n",
       "C(descriptor)[T.Drag Racing]                     -1.078e+11   2.42e+12     -0.045      0.964   -4.84e+12    4.63e+12\n",
       "C(descriptor)[T.Engine Idling]                   -3.135e+11   4.37e+11     -0.718      0.473   -1.17e+12    5.42e+11\n",
       "C(descriptor)[T.In Car]                          -3.925e+11   7.48e+11     -0.524      0.600   -1.86e+12    1.07e+12\n",
       "C(descriptor)[T.In Prohibited Area]              -4.668e+11   6.87e+11     -0.680      0.497   -1.81e+12    8.79e+11\n",
       "C(descriptor)[T.In Public]                          -0.9040      0.826     -1.094      0.274      -2.524       0.715\n",
       "C(descriptor)[T.Loud Music/Party]                -3.135e+11   4.37e+11     -0.718      0.473   -1.17e+12    5.42e+11\n",
       "C(descriptor)[T.Loud Talking]                    -3.135e+11   4.37e+11     -0.718      0.473   -1.17e+12    5.42e+11\n",
       "C(descriptor)[T.Loud Television]                 -3.135e+11   4.37e+11     -0.718      0.473   -1.17e+12    5.42e+11\n",
       "C(descriptor)[T.Neglected]                       -3.925e+11   7.48e+11     -0.524      0.600   -1.86e+12    1.07e+12\n",
       "C(descriptor)[T.No Access]                       -4.085e+11   3.87e+11     -1.056      0.291   -1.17e+12     3.5e+11\n",
       "C(descriptor)[T.No Shelter]                      -3.925e+11   7.48e+11     -0.524      0.600   -1.86e+12    1.07e+12\n",
       "C(descriptor)[T.Nuisance/Truant]                 -1.385e+11   1.59e+11     -0.874      0.382   -4.49e+11    1.72e+11\n",
       "C(descriptor)[T.Other (complaint details)]       -3.925e+11   7.48e+11     -0.524      0.600   -1.86e+12    1.07e+12\n",
       "C(descriptor)[T.Overnight Commercial Storage]    -5.001e+11   3.89e+11     -1.286      0.198   -1.26e+12    2.62e+11\n",
       "C(descriptor)[T.Parking Permit Improper Use]     -5.001e+11   3.89e+11     -1.286      0.198   -1.26e+12    2.62e+11\n",
       "C(descriptor)[T.Partial Access]                  -4.085e+11   3.87e+11     -1.056      0.291   -1.17e+12     3.5e+11\n",
       "C(descriptor)[T.Playing in Unsuitable Place]     -1.385e+11   1.59e+11     -0.874      0.382   -4.49e+11    1.72e+11\n",
       "C(descriptor)[T.Police Report Not Requested]     -1.373e+11   1.33e+11     -1.035      0.301   -3.97e+11    1.23e+11\n",
       "C(descriptor)[T.Police Report Requested]         -1.373e+11   1.33e+11     -1.035      0.301   -3.97e+11    1.23e+11\n",
       "C(descriptor)[T.Posted Parking Sign Violation]   -5.001e+11   3.89e+11     -1.286      0.198   -1.26e+12    2.62e+11\n",
       "C(descriptor)[T.Street Con Game]                 -3.925e+11   7.48e+11     -0.524      0.600   -1.86e+12    1.07e+12\n",
       "C(descriptor)[T.Ticket Scalping]                 -3.925e+11   7.48e+11     -0.524      0.600   -1.86e+12    1.07e+12\n",
       "C(descriptor)[T.Tortured]                        -3.925e+11   7.48e+11     -0.524      0.600   -1.86e+12    1.07e+12\n",
       "C(descriptor)[T.Trespassing]                     -3.925e+11   7.48e+11     -0.524      0.600   -1.86e+12    1.07e+12\n",
       "C(descriptor)[T.Truck Route Violation]           -1.078e+11   2.42e+12     -0.045      0.964   -4.84e+12    4.63e+12\n",
       "C(descriptor)[T.Unauthorized Bus Layover]        -5.001e+11   3.89e+11     -1.286      0.198   -1.26e+12    2.62e+11\n",
       "C(descriptor)[T.Underage - Licensed Est]            -0.0941      0.943     -0.100      0.921      -1.942       1.754\n",
       "C(descriptor)[T.Unlicensed]                      -4.668e+11   6.87e+11     -0.680      0.497   -1.81e+12    8.79e+11\n",
       "C(descriptor)[T.Use Indoor]                      -3.705e+11    5.7e+11     -0.650      0.516   -1.49e+12    7.47e+11\n",
       "C(descriptor)[T.Use Outside]                     -3.705e+11    5.7e+11     -0.650      0.516   -1.49e+12    7.47e+11\n",
       "C(descriptor)[T.Vehicle]                         -1.393e+11   2.19e+11     -0.638      0.524   -5.68e+11    2.89e+11\n",
       "C(descriptor)[T.With License Plate]              -4.101e+11   3.72e+11     -1.102      0.271   -1.14e+12     3.2e+11\n",
       "C(descriptor)[T.none]                            -4.088e+11   7.79e+11     -0.525      0.600   -1.93e+12    1.12e+12\n",
       "C(location_type)[T.Club/Bar/Restaurant]             -0.0444      2.048     -0.022      0.983      -4.058       3.969\n",
       "C(location_type)[T.Commercial]                      -0.6852      2.696     -0.254      0.799      -5.969       4.599\n",
       "C(location_type)[T.Common Area]                     -0.0497      2.404     -0.021      0.984      -4.761       4.662\n",
       "C(location_type)[T.Hallway]                         -0.6012      2.232     -0.269      0.788      -4.976       3.773\n",
       "C(location_type)[T.Highway]                         -0.2940      2.173     -0.135      0.892      -4.552       3.964\n",
       "C(location_type)[T.House and Store]                 -0.9522      2.298     -0.414      0.679      -5.456       3.551\n",
       "C(location_type)[T.House of Worship]                -0.8757      2.344     -0.374      0.709      -5.470       3.718\n",
       "C(location_type)[T.Lobby]                           -0.7411      2.307     -0.321      0.748      -5.263       3.781\n",
       "C(location_type)[T.Other]                            0.1835      2.158      0.085      0.932      -4.046       4.413\n",
       "C(location_type)[T.Park/Playground]                 -0.0700      2.055     -0.034      0.973      -4.098       3.958\n",
       "C(location_type)[T.Parking Lot]                      0.1320      2.528      0.052      0.958      -4.824       5.088\n",
       "C(location_type)[T.Residential Building]            -0.4182      2.252     -0.186      0.853      -4.832       3.995\n",
       "C(location_type)[T.Residential Building/House]       0.0734      2.043      0.036      0.971      -3.931       4.077\n",
       "C(location_type)[T.Roadway Tunnel]                  -0.3853      2.424     -0.159      0.874      -5.137       4.366\n",
       "C(location_type)[T.Stairwell]                       -0.2790      2.218     -0.126      0.900      -4.626       4.068\n",
       "C(location_type)[T.Store/Commercial]                -0.0481      2.045     -0.024      0.981      -4.056       3.960\n",
       "C(location_type)[T.Street/Sidewalk]                 -0.2136      2.042     -0.105      0.917      -4.216       3.789\n",
       "C(location_type)[T.Subway]                          -0.0953      2.205     -0.043      0.966      -4.416       4.226\n",
       "C(location_type)[T.Subway Station]                  -0.9534      2.542     -0.375      0.708      -5.936       4.029\n",
       "C(location_type)[T.Vacant Lot]                      -0.2533      2.219     -0.114      0.909      -4.603       4.096\n",
       "C(location_type)[T.unknown]                         -0.1487      2.042     -0.073      0.942      -4.151       3.854\n",
       "C(borough)[T.BROOKLYN]                              -0.5450      0.035    -15.562      0.000      -0.614      -0.476\n",
       "C(borough)[T.MANHATTAN]                             -0.8990      0.039    -23.065      0.000      -0.975      -0.823\n",
       "C(borough)[T.QUEENS]                                -0.0272      0.036     -0.749      0.454      -0.098       0.044\n",
       "C(borough)[T.STATEN ISLAND]                         -1.0607      0.065    -16.271      0.000      -1.188      -0.933\n",
       "C(borough)[T.Unspecified]                            4.4325      0.553      8.011      0.000       3.348       5.517\n",
       "C(open_data_channel_type)[T.ONLINE]                  0.0770      0.033      2.350      0.019       0.013       0.141\n",
       "C(open_data_channel_type)[T.OTHER]                  -4.0934      7.047     -0.581      0.561     -17.905       9.719\n",
       "C(open_data_channel_type)[T.PHONE]                   0.0551      0.035      1.566      0.117      -0.014       0.124\n",
       "C(open_data_channel_type)[T.UNKNOWN]                -1.4238      1.287     -1.106      0.269      -3.947       1.100\n",
       "C(cluster_predicted)[T.Noise Brooklyn]               0.1835      0.071      2.576      0.010       0.044       0.323\n",
       "C(cluster_predicted)[T.Noise Queens]                 0.0434      0.083      0.522      0.602      -0.120       0.206\n",
       "C(cluster_predicted)[T.Parking Manhattan]            0.1568      0.084      1.866      0.062      -0.008       0.321\n",
       "C(cluster_predicted)[T.Parking Queens]               0.1656      0.079      2.098      0.036       0.011       0.320\n",
       "====================================================================================================================\n",
       "\"\"\""
      ]
     },
     "execution_count": 124,
     "metadata": {},
     "output_type": "execute_result"
    }
   ],
   "source": [
    "glm_gamma_log.summary()"
   ]
  },
  {
   "cell_type": "code",
   "execution_count": 125,
   "metadata": {},
   "outputs": [],
   "source": [
    "gamma_log_tr_preds = glm_gamma_log.predict(r_train)\n",
    "gamma_log_te_preds = glm_gamma_log.predict(r_test)"
   ]
  },
  {
   "cell_type": "code",
   "execution_count": 126,
   "metadata": {},
   "outputs": [
    {
     "name": "stdout",
     "output_type": "stream",
     "text": [
      "Train: 3.3756884154963034\n",
      "Test: 3.5912634700457358\n",
      "Difference: 0.21557505454943238\n"
     ]
    }
   ],
   "source": [
    "print(f'Train:', rmse(y_train, gamma_log_tr_preds))\n",
    "print(f'Test:', rmse(y_test, gamma_log_te_preds))\n",
    "#print(f'Cross Val:', cross_val_score(SMWrapper(gamma_id), r_sr[new_features], r_sr['waittime'], scoring=make_scorer(rmse), cv=5).mean())\n",
    "print(f'Difference: {rmse(y_test, gamma_log_te_preds) - rmse(y_train, gamma_log_tr_preds)}')"
   ]
  },
  {
   "cell_type": "code",
   "execution_count": 50,
   "metadata": {},
   "outputs": [],
   "source": [
    "test_data = list(range(10))"
   ]
  },
  {
   "cell_type": "code",
   "execution_count": 51,
   "metadata": {},
   "outputs": [
    {
     "data": {
      "text/plain": [
       "[11, 12, 13, 14, 15, 16, 17, 18, 19, 20]"
      ]
     },
     "execution_count": 51,
     "metadata": {},
     "output_type": "execute_result"
    }
   ],
   "source": [
    "list(range(11,21))"
   ]
  },
  {
   "cell_type": "code",
   "execution_count": 76,
   "metadata": {},
   "outputs": [],
   "source": [
    "test_df = pd.DataFrame({'col1':test_data, 'col2':list(range(11,21)), 'col3': list(range(1,50,5))})"
   ]
  },
  {
   "cell_type": "code",
   "execution_count": 77,
   "metadata": {},
   "outputs": [
    {
     "data": {
      "text/html": [
       "<div>\n",
       "<style scoped>\n",
       "    .dataframe tbody tr th:only-of-type {\n",
       "        vertical-align: middle;\n",
       "    }\n",
       "\n",
       "    .dataframe tbody tr th {\n",
       "        vertical-align: top;\n",
       "    }\n",
       "\n",
       "    .dataframe thead th {\n",
       "        text-align: right;\n",
       "    }\n",
       "</style>\n",
       "<table border=\"1\" class=\"dataframe\">\n",
       "  <thead>\n",
       "    <tr style=\"text-align: right;\">\n",
       "      <th></th>\n",
       "      <th>col1</th>\n",
       "      <th>col2</th>\n",
       "      <th>col3</th>\n",
       "    </tr>\n",
       "  </thead>\n",
       "  <tbody>\n",
       "    <tr>\n",
       "      <th>0</th>\n",
       "      <td>0</td>\n",
       "      <td>11</td>\n",
       "      <td>1</td>\n",
       "    </tr>\n",
       "    <tr>\n",
       "      <th>1</th>\n",
       "      <td>1</td>\n",
       "      <td>12</td>\n",
       "      <td>6</td>\n",
       "    </tr>\n",
       "    <tr>\n",
       "      <th>2</th>\n",
       "      <td>2</td>\n",
       "      <td>13</td>\n",
       "      <td>11</td>\n",
       "    </tr>\n",
       "    <tr>\n",
       "      <th>3</th>\n",
       "      <td>3</td>\n",
       "      <td>14</td>\n",
       "      <td>16</td>\n",
       "    </tr>\n",
       "    <tr>\n",
       "      <th>4</th>\n",
       "      <td>4</td>\n",
       "      <td>15</td>\n",
       "      <td>21</td>\n",
       "    </tr>\n",
       "    <tr>\n",
       "      <th>5</th>\n",
       "      <td>5</td>\n",
       "      <td>16</td>\n",
       "      <td>26</td>\n",
       "    </tr>\n",
       "    <tr>\n",
       "      <th>6</th>\n",
       "      <td>6</td>\n",
       "      <td>17</td>\n",
       "      <td>31</td>\n",
       "    </tr>\n",
       "    <tr>\n",
       "      <th>7</th>\n",
       "      <td>7</td>\n",
       "      <td>18</td>\n",
       "      <td>36</td>\n",
       "    </tr>\n",
       "    <tr>\n",
       "      <th>8</th>\n",
       "      <td>8</td>\n",
       "      <td>19</td>\n",
       "      <td>41</td>\n",
       "    </tr>\n",
       "    <tr>\n",
       "      <th>9</th>\n",
       "      <td>9</td>\n",
       "      <td>20</td>\n",
       "      <td>46</td>\n",
       "    </tr>\n",
       "  </tbody>\n",
       "</table>\n",
       "</div>"
      ],
      "text/plain": [
       "   col1  col2  col3\n",
       "0     0    11     1\n",
       "1     1    12     6\n",
       "2     2    13    11\n",
       "3     3    14    16\n",
       "4     4    15    21\n",
       "5     5    16    26\n",
       "6     6    17    31\n",
       "7     7    18    36\n",
       "8     8    19    41\n",
       "9     9    20    46"
      ]
     },
     "execution_count": 77,
     "metadata": {},
     "output_type": "execute_result"
    }
   ],
   "source": [
    "test_df"
   ]
  },
  {
   "cell_type": "code",
   "execution_count": 60,
   "metadata": {},
   "outputs": [
    {
     "data": {
      "text/html": [
       "<div>\n",
       "<style scoped>\n",
       "    .dataframe tbody tr th:only-of-type {\n",
       "        vertical-align: middle;\n",
       "    }\n",
       "\n",
       "    .dataframe tbody tr th {\n",
       "        vertical-align: top;\n",
       "    }\n",
       "\n",
       "    .dataframe thead th {\n",
       "        text-align: right;\n",
       "    }\n",
       "</style>\n",
       "<table border=\"1\" class=\"dataframe\">\n",
       "  <thead>\n",
       "    <tr style=\"text-align: right;\">\n",
       "      <th></th>\n",
       "      <th>col1</th>\n",
       "      <th>col2</th>\n",
       "    </tr>\n",
       "  </thead>\n",
       "  <tbody>\n",
       "    <tr>\n",
       "      <th>0</th>\n",
       "      <td>0</td>\n",
       "      <td>11</td>\n",
       "    </tr>\n",
       "    <tr>\n",
       "      <th>1</th>\n",
       "      <td>1</td>\n",
       "      <td>12</td>\n",
       "    </tr>\n",
       "  </tbody>\n",
       "</table>\n",
       "</div>"
      ],
      "text/plain": [
       "   col1  col2\n",
       "0     0    11\n",
       "1     1    12"
      ]
     },
     "execution_count": 60,
     "metadata": {},
     "output_type": "execute_result"
    }
   ],
   "source": [
    "test_df.iloc[0:2]"
   ]
  },
  {
   "cell_type": "code",
   "execution_count": 64,
   "metadata": {},
   "outputs": [
    {
     "data": {
      "text/html": [
       "<div>\n",
       "<style scoped>\n",
       "    .dataframe tbody tr th:only-of-type {\n",
       "        vertical-align: middle;\n",
       "    }\n",
       "\n",
       "    .dataframe tbody tr th {\n",
       "        vertical-align: top;\n",
       "    }\n",
       "\n",
       "    .dataframe thead th {\n",
       "        text-align: right;\n",
       "    }\n",
       "</style>\n",
       "<table border=\"1\" class=\"dataframe\">\n",
       "  <thead>\n",
       "    <tr style=\"text-align: right;\">\n",
       "      <th></th>\n",
       "      <th>col1</th>\n",
       "      <th>col2</th>\n",
       "    </tr>\n",
       "  </thead>\n",
       "  <tbody>\n",
       "    <tr>\n",
       "      <th>2</th>\n",
       "      <td>2</td>\n",
       "      <td>13</td>\n",
       "    </tr>\n",
       "    <tr>\n",
       "      <th>3</th>\n",
       "      <td>3</td>\n",
       "      <td>14</td>\n",
       "    </tr>\n",
       "    <tr>\n",
       "      <th>4</th>\n",
       "      <td>4</td>\n",
       "      <td>15</td>\n",
       "    </tr>\n",
       "    <tr>\n",
       "      <th>5</th>\n",
       "      <td>5</td>\n",
       "      <td>16</td>\n",
       "    </tr>\n",
       "    <tr>\n",
       "      <th>6</th>\n",
       "      <td>6</td>\n",
       "      <td>17</td>\n",
       "    </tr>\n",
       "    <tr>\n",
       "      <th>7</th>\n",
       "      <td>7</td>\n",
       "      <td>18</td>\n",
       "    </tr>\n",
       "    <tr>\n",
       "      <th>8</th>\n",
       "      <td>8</td>\n",
       "      <td>19</td>\n",
       "    </tr>\n",
       "    <tr>\n",
       "      <th>9</th>\n",
       "      <td>9</td>\n",
       "      <td>20</td>\n",
       "    </tr>\n",
       "  </tbody>\n",
       "</table>\n",
       "</div>"
      ],
      "text/plain": [
       "   col1  col2\n",
       "2     2    13\n",
       "3     3    14\n",
       "4     4    15\n",
       "5     5    16\n",
       "6     6    17\n",
       "7     7    18\n",
       "8     8    19\n",
       "9     9    20"
      ]
     },
     "execution_count": 64,
     "metadata": {},
     "output_type": "execute_result"
    }
   ],
   "source": [
    "test_df.drop(index=list(range(0,2)))"
   ]
  },
  {
   "cell_type": "code",
   "execution_count": 80,
   "metadata": {},
   "outputs": [
    {
     "data": {
      "text/plain": [
       "1.160311428702309e-14"
      ]
     },
     "execution_count": 80,
     "metadata": {},
     "output_type": "execute_result"
    }
   ],
   "source": [
    "lr_test = LinearRegression()\n",
    "lr_test.fit(test_df.iloc[0:7,0:2], test_df.iloc[0:7,2])\n",
    "preds = lr_test.predict(test_df.iloc[7:,0:2])\n",
    "rmse(test_df.iloc[7:,2], preds)"
   ]
  },
  {
   "cell_type": "code",
   "execution_count": null,
   "metadata": {},
   "outputs": [],
   "source": []
  },
  {
   "cell_type": "code",
   "execution_count": null,
   "metadata": {},
   "outputs": [],
   "source": [
    "test_glm = smf.glm(\n",
    "    formula = \"waittime ~ C(complaint_type) + C(descriptor) + C(location_type) + C(borough) + C(open_data_channel_type) + C(cluster_predicted)\",\n",
    "    data = r_train,\n",
    "    family = sm.families.Gamma(link = sm.families.links.log)\n",
    ")"
   ]
  },
  {
   "cell_type": "code",
   "execution_count": 42,
   "metadata": {},
   "outputs": [],
   "source": [
    "log_link = sm.families.links.log\n",
    "identity_link = sm.families.links.identity\n",
    "inverse_power_link = sm.families.links.inverse_power"
   ]
  },
  {
   "cell_type": "code",
   "execution_count": 38,
   "metadata": {},
   "outputs": [],
   "source": [
    "def glm_cross_val(link, data):\n",
    "    step = round(data.shape[0] / 5)\n",
    "    scores = []\n",
    "    for i in range(0, data.shape[0], step):\n",
    "        fold = data.iloc[i:(i+step)]\n",
    "        remainder = data.drop(index=list(range(i,i+step)))\n",
    "        model = smf.glm(formula = \"waittime ~ C(complaint_type) + C(descriptor) + C(cluster_predicted)\",\n",
    "                data = remainder,\n",
    "                family = sm.families.Gamma(link=link)).fit()\n",
    "        preds = model.predict(fold)\n",
    "        score = rmse(fold['waittime'], preds)\n",
    "        scores.append(score)\n",
    "        print(score)\n",
    "    return np.mean(scores)\n",
    "        "
   ]
  },
  {
   "cell_type": "code",
   "execution_count": 99,
   "metadata": {},
   "outputs": [],
   "source": [
    "test_r_sr = r_sr.iloc[0:100000]"
   ]
  },
  {
   "cell_type": "code",
   "execution_count": null,
   "metadata": {},
   "outputs": [
    {
     "name": "stderr",
     "output_type": "stream",
     "text": [
      "/opt/anaconda3/envs/dsi/lib/python3.7/site-packages/ipykernel_launcher.py:9: DeprecationWarning: Calling Family(..) with a link class as argument is deprecated.\n",
      "Use an instance of a link class instead.\n",
      "  if __name__ == '__main__':\n"
     ]
    },
    {
     "name": "stdout",
     "output_type": "stream",
     "text": [
      "3.0746935918412452\n"
     ]
    },
    {
     "name": "stderr",
     "output_type": "stream",
     "text": [
      "/opt/anaconda3/envs/dsi/lib/python3.7/site-packages/ipykernel_launcher.py:9: DeprecationWarning: Calling Family(..) with a link class as argument is deprecated.\n",
      "Use an instance of a link class instead.\n",
      "  if __name__ == '__main__':\n"
     ]
    },
    {
     "name": "stdout",
     "output_type": "stream",
     "text": [
      "3.5883441474303237\n"
     ]
    },
    {
     "name": "stderr",
     "output_type": "stream",
     "text": [
      "/opt/anaconda3/envs/dsi/lib/python3.7/site-packages/ipykernel_launcher.py:9: DeprecationWarning: Calling Family(..) with a link class as argument is deprecated.\n",
      "Use an instance of a link class instead.\n",
      "  if __name__ == '__main__':\n"
     ]
    }
   ],
   "source": [
    "%%time\n",
    "log_cv = glm_cross_val(log_link, r_sr)"
   ]
  },
  {
   "cell_type": "markdown",
   "metadata": {},
   "source": [
    "## SVR"
   ]
  },
  {
   "cell_type": "code",
   "execution_count": null,
   "metadata": {},
   "outputs": [],
   "source": [
    "svr = SVR()\n",
    "\n",
    "svr_params = {'kernel': ['linear'],\n",
    "              'C' : [.1, 1, 5]}\n",
    "\n",
    " # Perform Grid Search\n",
    "#gs = GridSearchCV(svr, # pipeline object replaces what we usually had as empty model class\n",
    "                 param_grid=svr_params,\n",
    "                 cv = 5,\n",
    "                 scoring = make_scorer(rmse))\n",
    "#svr = gs.fit(X_train, y_train)"
   ]
  },
  {
   "cell_type": "code",
   "execution_count": null,
   "metadata": {},
   "outputs": [],
   "source": [
    "svr.best_params_"
   ]
  },
  {
   "cell_type": "code",
   "execution_count": null,
   "metadata": {},
   "outputs": [],
   "source": [
    "svr_tr_preds = svr.predict(X_train)\n",
    "svr_te_preds = svr.predict(X_test)"
   ]
  },
  {
   "cell_type": "code",
   "execution_count": null,
   "metadata": {},
   "outputs": [],
   "source": [
    "print(f'Train:', rmse(y_train, svr_tr_preds))\n",
    "print(f'Test:', rmse(y_test, svr_te_preds))\n",
    "print(f'Cross Val:', cross_val_score(svr, X, y, scoring=make_scorer(rmse), cv=5).mean())\n",
    "print(f'Difference: {rmse(y_test, svr_te_preds) - rmse(y_train, svr_tr_preds)}')"
   ]
  }
 ],
 "metadata": {
  "kernelspec": {
   "display_name": "Python 3",
   "language": "python",
   "name": "python3"
  },
  "language_info": {
   "codemirror_mode": {
    "name": "ipython",
    "version": 3
   },
   "file_extension": ".py",
   "mimetype": "text/x-python",
   "name": "python",
   "nbconvert_exporter": "python",
   "pygments_lexer": "ipython3",
   "version": "3.7.7"
  }
 },
 "nbformat": 4,
 "nbformat_minor": 4
}
